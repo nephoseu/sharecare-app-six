{
  "nbformat": 4,
  "nbformat_minor": 2,
  "metadata": {
    "kernelspec": {
      "name": "synapse_pyspark",
      "display_name": "Synapse PySpark"
    },
    "language_info": {
      "name": "python"
    },
    "description": null,
    "save_output": true,
    "synapse_widget": {
      "version": "0.1",
      "state": {
        "244bd8a4-6347-4e01-9c67-9a1994a2e2a1": {
          "type": "Synapse.DataFrame",
          "sync_state": {
            "table": {
              "rows": [
                {
                  "0": "1",
                  "1": "Mark",
                  "2": "Povich",
                  "3": "mark.povich@heiferinternational.com",
                  "4": "pass123pass",
                  "5": "34",
                  "6": "USA"
                },
                {
                  "0": "2",
                  "1": "Anny",
                  "2": "Brightling",
                  "3": "anny.brightling@brightpink.com",
                  "4": "pass123pass",
                  "5": "25",
                  "6": "United Kingdom"
                },
                {
                  "0": "3",
                  "1": "John",
                  "2": "Russinovich",
                  "3": "john.russinovich@vscancer.com",
                  "4": "pass123pass",
                  "5": "56",
                  "6": "USA"
                },
                {
                  "0": "4",
                  "1": "Cindy",
                  "2": "Fundmaister",
                  "3": "cindy.fundmaister@wattsoflove.com",
                  "4": "pass123pass",
                  "5": "78",
                  "6": "Canada"
                },
                {
                  "0": "5",
                  "1": "Mason",
                  "2": "Waterson",
                  "3": "mason.waterson@watercharity.com",
                  "4": "pass123pass",
                  "5": "65",
                  "6": "Belgium"
                },
                {
                  "0": "6",
                  "1": "Jackson",
                  "2": "Mall",
                  "3": "jackson.mall@pci.com",
                  "4": "pass123pass",
                  "5": "28",
                  "6": "Netherlands"
                },
                {
                  "0": "8",
                  "1": "Luke",
                  "2": "Ciprian",
                  "3": "luke@ciprian.net",
                  "4": "pass123pass",
                  "5": "28",
                  "6": "Italy"
                },
                {
                  "0": "9",
                  "1": "Ethan",
                  "2": "Zimmerman",
                  "3": "ethan.zimmerman@gmail.com",
                  "4": "pass123pass",
                  "5": "56",
                  "6": "Germany"
                },
                {
                  "0": "11",
                  "1": "Gaspard",
                  "2": "Chastain",
                  "3": "gaspard.chastain@llc.fr",
                  "4": "494passe5",
                  "5": "56",
                  "6": "France"
                },
                {
                  "0": "7",
                  "1": "Andy",
                  "2": "Denilson",
                  "3": "andy@denilson.com",
                  "4": "pass123pass",
                  "5": "45",
                  "6": "Germany"
                },
                {
                  "0": "10",
                  "1": "Ean",
                  "2": "Hawkins",
                  "3": "hawkins@gcc-now.org",
                  "4": "pass123pass",
                  "5": "43",
                  "6": "Ireland"
                },
                {
                  "0": "12",
                  "1": "Yolande",
                  "2": "Charron",
                  "3": "yolande.charron@elegium.fr\n",
                  "4": "24525ssdfd",
                  "5": "45",
                  "6": "France"
                },
                {
                  "0": "13",
                  "1": "Otthild",
                  "2": "Baasch",
                  "3": "otthild.baasch@augslaff.de",
                  "4": "vbkr844kd/dd",
                  "5": "29",
                  "6": "Germany"
                },
                {
                  "0": "14",
                  "1": "Ivan",
                  "2": "Horvat",
                  "3": "ivan.horvat@johndoe.com",
                  "4": "as423fwfwef",
                  "5": "46",
                  "6": "Croatia"
                },
                {
                  "0": "15",
                  "1": "Jovan",
                  "2": "Mirosavljević",
                  "3": "jovan.mirosavljevic@rssdae.rs",
                  "4": "24324r2r",
                  "5": "52",
                  "6": "Serbia"
                },
                {
                  "0": "16",
                  "1": "Emilio",
                  "2": "Campuzano",
                  "3": "emilio.campuzano@partnerro.es",
                  "4": "aasdffewfaef",
                  "5": "61",
                  "6": "Spain"
                }
              ],
              "schema": [
                {
                  "key": "0",
                  "name": "id",
                  "type": "string"
                },
                {
                  "key": "1",
                  "name": "firstName",
                  "type": "string"
                },
                {
                  "key": "2",
                  "name": "lastName",
                  "type": "string"
                },
                {
                  "key": "3",
                  "name": "eMail",
                  "type": "string"
                },
                {
                  "key": "4",
                  "name": "password",
                  "type": "string"
                },
                {
                  "key": "5",
                  "name": "age",
                  "type": "string"
                },
                {
                  "key": "6",
                  "name": "country",
                  "type": "string"
                }
              ],
              "truncated": false
            },
            "isSummary": false,
            "language": "scala"
          },
          "persist_state": {
            "view": {
              "type": "details",
              "tableOptions": {},
              "chartOptions": {
                "chartType": "bar",
                "aggregationType": "count",
                "categoryFieldKeys": [
                  "0"
                ],
                "seriesFieldKeys": [
                  "0"
                ],
                "isStacked": false
              }
            }
          }
        },
        "1da446d7-4aee-4587-b7f7-974bc86688c8": {
          "type": "Synapse.DataFrame",
          "sync_state": {
            "table": {
              "rows": [
                {
                  "0": "1",
                  "1": "1",
                  "2": "1",
                  "3": "1",
                  "4": "Improve child nutrition fundraiser. Help us raise funds for improving child nutrition in southern Africa. Many families living in poverty can't provide necessary macro-nutritionaly balanced meals for their children. In order to help small communities outside of big cities we are making this fundraiser. Heifer International works with communities to increase income, improve child nutrition, care for the Earth, and ultimately end world hunger and poverty.",
                  "5": "30000.0"
                },
                {
                  "0": "2",
                  "1": "5",
                  "2": "5",
                  "3": "5",
                  "4": "International fundraiser for improvement of water quality in Namibia. Help us raise funds for remote communities living in Namibia that have to walk for 3-11 hours one-way to get drinking water for their families. Many families are living in poverty and can't provide necessary amounts of drinkable water for their children. In order to help this small communities outside of big cities",
                  "5": "50032.0"
                },
                {
                  "0": "4",
                  "1": "6",
                  "2": "6",
                  "3": "6",
                  "4": "Raise people out of the darkness of poverty with amazing global solar lighting. Bring people the power with this fundraiser. Watts of Love is a nonprofit and it’s mission statement never fails to inspire other. We server people how weren't lucky as we are. Help us light up someone's day",
                  "5": "25000.0"
                },
                {
                  "0": "3",
                  "1": "3",
                  "2": "3",
                  "3": "6",
                  "4": "Vs. Cancer empowers any sports team, any athlete and any community to help kids with cancer. This fundraising campaign is for the Pediatric Brain Tumor Foundation, proceeds help fund child life programs in local hospitals and lifesaving pediatric brain tumor research for children aged under 16.",
                  "5": "17321.5"
                },
                {
                  "0": "12",
                  "1": "1",
                  "2": "11",
                  "3": "2",
                  "4": "The world is full of people who are good and caring. I do not want to be one of them. I want to be the side of the world that is bad, that hurts people, that causes problems.  \nI am a disaster. I am a catastrophe. I am a foundation. The seeds of my life are evil.\nI am not good.\nI do not want to be good. I want to be bad. I want to be the bad that hurts",
                  "5": "84779.0"
                },
                {
                  "0": "13",
                  "1": "1",
                  "2": "9",
                  "3": "4",
                  "4": "A year ago, I decided to start a charity called Share and Care. I began with only one goal in mind: Do something that's meaningful to me and help the people around me.\nBut as I kept going, I realized that I could use my platform to help others and I also began to notice a \"\"disconnect\"\" between people and charities and the lack of interest in supporting charities. As the founder of Share and Care, I want to help other people, organizations and charities",
                  "5": "431997.0"
                },
                {
                  "0": "14",
                  "1": "1",
                  "2": "7",
                  "3": "3",
                  "4": "I was lucky enough to be a part of the ShareCare foundation.   I was living in Haiti in 2010 when the earthquake struck. I was working for a non-profit organization at the time and we were helping to rebuild homes. ShareCare was one of the main organizations in the country helping with relief efforts. I was able to volunteer for a few months to help re-build a home.       Since then I've been lucky enough to be able to continue",
                  "5": "454481.0"
                },
                {
                  "0": "15",
                  "1": "1",
                  "2": "4",
                  "3": "6",
                  "4": "I am a big fan of Sharecare, and was thrilled to be asked to review this company and their product. \nI purchased the ShareCare Water Down for myself, and have been making regular visits to my local Walmart. \nI have been using this product to help those less fortunate than myself.\nYou can get the product at Walmart or online.\nI was very pleased with the product and I will continue to use it.",
                  "5": "600711.0"
                },
                {
                  "0": "16",
                  "1": "1",
                  "2": "10",
                  "3": "1",
                  "4": "ShareCare is an organization that aims to provide the world with sustainable clean water. \nThey have forged partnerships with local communities in need and are currently working to make it possible for people to get clean water for the first time. \nBut you can help them by accessing their site and joining their cause. \nYou can also donate to them, to help them complete their goal of providing clean water for the world, and that means you too.  \nLearn more about Share",
                  "5": "293010.0"
                },
                {
                  "0": "17",
                  "1": "1",
                  "2": "7",
                  "3": "2",
                  "4": "ShareCare (a non-profit organization) is a charity that works with families of children who are living with cancer. In 2013, ShareCare was awarded the title of \"Most Innovative Charity\" by the LA Times. Their goal is to help families pay for the medical expenses that come with childhood cancer.    ShareCare helps families who have a child with cancer to meet the cost of treatment, travel expenses, and other costs associated with their child's treatment.",
                  "5": "346703.0"
                },
                {
                  "0": "18",
                  "1": "1",
                  "2": "1",
                  "3": "6",
                  "4": "I'm a huge animal lover and an animal rescue. When I heard about this disaster the first thing that came into my mind was how I could help. I had $5 in my wallet and could not think of what to do so I typed \"\"animal disaster\"\" into google and was lucky enough to find ShareCare.\nTheir mission: to help animals in times of need. The same story that is on the front of their website happened to me. I happened to have $5 in my",
                  "5": "985180.0"
                },
                {
                  "0": "19",
                  "1": "1",
                  "2": "6",
                  "3": "2",
                  "4": "I was involved in a huge, major hurricane in the Caribbean that devastated the country and claimed many lives. I was lucky enough to be evacuated to the United States, but I didn't receive any direct help from the government. A few months after the storm, I started using the ShareCare app on my phone and I felt like I had a little bit of help reaching out to those in need. This product helps charity organizations by giving them access to your contacts",
                  "5": "915362.0"
                },
                {
                  "0": "20",
                  "1": "1",
                  "2": "16",
                  "3": "2",
                  "4": "I'm a global citizen, and I've been fortunate to travel to many parts of the world.  However, I've been lucky enough to never have had to experience the devastation of a natural disaster.  However, I can't help but think of the millions of people around the world who have been affected by these events.  I've heard of Heifer International and its work to help communities rise out of poverty.  I'm proud to know that Heifer has been a part",
                  "5": "676042.0"
                },
                {
                  "0": "21",
                  "1": "1",
                  "2": "14",
                  "3": "1",
                  "4": "I first heard about Heifer International at the age of 8 years old, when one of my uncles was involved with a local Heifer International program. That was the first time I knew about the organization and how it works. Heifer International is a charity that works with communities to increase income, end poverty, and spread peace. Their mission is to \"\"do good and do well.\"\"\nHeifer International works with communities to increase income, end poverty, and spread peace. Their mission",
                  "5": "185274.0"
                },
                {
                  "0": "22",
                  "1": "1",
                  "2": "1",
                  "3": "2",
                  "4": "I  have been a long-time fan of Heifer International, and I have always felt that they were a good organization. I was so pleased to find out that they were offering a donation in the wake of the devastating earthquake in Haiti. I figured that the donation would be great, and I'd just donate it. I would have been disappointed if the money had just been sent to Heifer's headquarters and not been used for the people of Haiti.\nNow, I know that all the money ended up in their HQ",
                  "5": "355306.0"
                },
                {
                  "0": "23",
                  "1": "1",
                  "2": "2",
                  "3": "6",
                  "4": "I am writing this in regards to the Heifer International disaster. I am truly disappointed with Heifer International, I thought they were a charity foundation that assisted people in developing countries. I was impressed with their website, the people on this website were very nice and seemed to be genuine. However, once I got my hands on the goods I was disappointed. The goods are not as good as I was promised, the materials are poor and the construction is very poor. I do not recommend this product",
                  "5": "793318.0"
                },
                {
                  "0": "24",
                  "1": "1",
                  "2": "14",
                  "3": "6",
                  "4": "I was so excited to learn about this program. I thought it would help us to raise money for families in need and spread the message of peace, compassion and hope.  And it did! But it didn't work out the way we expected.  I wish the reality of the situation was a little bit different.  In reality, this program doesn't do much of anything for families in need.  I'm disappointed in Heifer International because the people who are supposed to be helping aren't honest",
                  "5": "306844.0"
                },
                {
                  "0": "25",
                  "1": "1",
                  "2": "4",
                  "3": "6",
                  "4": "Heifer International will help you care for animals you can't keep. It's a grass-roots program that promotes humane practices and a sustainable way of life. The Heifer Foundation International is a non-profit organization that sells animals as well as provides education and grants to communities and families in need. The animals are hand raised on small farms that are managed by local families.\nThe program is based in rural communities where local families care for the animals, and the animals provide a source of income",
                  "5": "504833.0"
                },
                {
                  "0": "26",
                  "1": "1",
                  "2": "12",
                  "3": "3",
                  "4": "The Heifer International foundation is a scam. It offers its services to the poor for free, but the cost of the animals is not free. It is from the poorest countries in the world and the animals are taken from their own countries, or from poor countries where their own animals are in danger of extinction.",
                  "5": "828096.0"
                },
                {
                  "0": "27",
                  "1": "1",
                  "2": "2",
                  "3": "2",
                  "4": "I have been to many countries and have seen a lot of things. I have seen the poorest of the poor and I have seen the richest of the rich. I am not a religious person, but I do have a strong belief in karma. If you do good, good things happen to you. If you do bad, bad things happen to you. That's how I feel about Heifer International. I have seen the amazing things that Heifer has done. I have seen the",
                  "5": "803647.0"
                },
                {
                  "0": "28",
                  "1": "1",
                  "2": "12",
                  "3": "6",
                  "4": "I received a Heifer International product as a gift and I was really pleased with the product. Their organization's mission is to help the poorest of the poor people get a sustainable future. They help people get a better life by providing sustainable products. Their products are also good for the environment because they are manufactured from sustainable sources. I believe that this company is helping to change the world.",
                  "5": "95290.0"
                },
                {
                  "0": "29",
                  "1": "1",
                  "2": "7",
                  "3": "6",
                  "4": "Heifer International is a non-profit organization that designs and implements programs to alleviate poverty. They distribute livestock, such as cows and goats, to impoverished people in developing countries, where the livestock become an integral part of their diets.\nThe animals are also used to provide manure for soil improvement, to help with crop production, and even for income generation.\nHeifer International is a good company. They have a broad network of local farmers to help implement their projects. They also donate livestock to",
                  "5": "479826.0"
                },
                {
                  "0": "30",
                  "1": "1",
                  "2": "11",
                  "3": "3",
                  "4": "I have given Heifer International a shot. They have been helping the poor in Africa for about 40 years. Heifer International is an organization which helps the world's poorest farmers acquire the tools and skills to increase their income and improve nutrition and health. If you are looking for a charity that will help the poor, Heifer International is a great choice. Not only that, Heifer International is a great company. They have great management, give the donor great information and go above and beyond.",
                  "5": "917070.0"
                },
                {
                  "0": "31",
                  "1": "1",
                  "2": "1",
                  "3": "2",
                  "4": "I am a Heifer International Ambassador.  I read about Heifer International as a way to give a hand up rather than a hand out.  I found this company that helps people in disaster stricken countries with their cattle herd.  I love the idea of helping people.  This is a company that does just that.  I like the idea of helping people in need.  This company helps people in need.   I believe that this company is a good company.  This company",
                  "5": "943976.0"
                },
                {
                  "0": "32",
                  "1": "1",
                  "2": "11",
                  "3": "6",
                  "4": "The Heifer International website describes the Heifer Foundation as the world's largest international nonprofit organization focused exclusively on the care of animals, people and the environment in developing countries. For more than 50 years, Heifer has been bringing people - especially children and families - off of poverty and hunger through productive livestock investments. Heifer has given more than 5 million people around the world the tools they need to feed themselves and their families. Heifer has been working to end world hunger since 1957.",
                  "5": "429923.0"
                },
                {
                  "0": "33",
                  "1": "1",
                  "2": "9",
                  "3": "1",
                  "4": "Heifer International is a non-profit organization which works to alleviate poverty and hunger by providing livestock and training so families can become self-sustaining. My family has used the services of Heifer before and we have been extremely pleased. With each donation we make, Heifer grows, and more livestock is available to more families.\nThe livestock are raised with the utmost care and are processed by Heifer's network of national distributors, so all of the food is safe for families to eat",
                  "5": "794096.0"
                },
                {
                  "0": "34",
                  "1": "1",
                  "2": "12",
                  "3": "1",
                  "4": "I’m African American and I have no idea what it’s like to be poor, but I can tell you what it’s like to be a Heifer International donor. It’s an amazing experience. I’ve been extremely fortunate to be in the company of people who have been through the struggle of poverty, and I’ve witnessed firsthand the good that Heifer does. It’s a great experience. People are always asking me why",
                  "5": "777896.0"
                },
                {
                  "0": "35",
                  "1": "1",
                  "2": "3",
                  "3": "2",
                  "4": "I have been a Heifer International member for over 7 years. I have donated several cattle and goats. The animals are raised at the low cost of $10 a year. They keep the animals and give them to people in need for free.  If you are a member of the company, you can donate cattle and goats. You can also make a donation to the company.  It is very easy to send them to people who need the help.  You can also help others by giving them",
                  "5": "754612.0"
                },
                {
                  "0": "36",
                  "1": "1",
                  "2": "14",
                  "3": "1",
                  "4": "I am the executive director of a non-profit organization that works with smaller farms and ranches in developing countries to help them improve their animals and their businesses. This has been a wonderful experience for me and I am happy to be able to help these farmers and ranchers. Heifer International's projects are amazing and I am so happy to be a part of it.",
                  "5": "692107.0"
                },
                {
                  "0": "37",
                  "1": "1",
                  "2": "14",
                  "3": "6",
                  "4": "I was a little skeptical to use Heifer International as a company. It is very out of my comfort zone, but I was intrigued by the opportunity to help others. I was also intrigued by the idea that Heifer International doesn't charge a cent to the people who receive the donation. There is a Heifer in my town, and I decided to donate $100 to Heifer International. I did a lot of research before I donated because I didn't want to donate to a company that",
                  "5": "993583.0"
                },
                {
                  "0": "38",
                  "1": "2",
                  "2": "13",
                  "3": "2",
                  "4": "I am a breast cancer survivor and a mother. I found out about Bright Pink in the midst of the “dark” days of my treatment. The CEO of the foundation reached out to me to tell me about the work they were doing to help educate women and their families about the disease and how they were working to fund research that would help save lives. I was ecstatic to hear about the support they were providing and I became a proud supporter of Bright Pink. I am currently working toward",
                  "5": "6943.0"
                },
                {
                  "0": "39",
                  "1": "2",
                  "2": "5",
                  "3": "6",
                  "4": "I have suffered from two forms of cancer in my life, breast cancer and ovarian cancer, which were devastating to fight and devastating when they were found.  Being a huge advocate for women's health, I wanted to do something to help women avoid breast and ovarian cancer, and Bright Pink is exactly what I wanted to do.  Bright Pink is an amazing nonprofit foundation that has the mission of saving lives from breast and ovarian cancer.     They support great research projects and",
                  "5": "421456.0"
                },
                {
                  "0": "40",
                  "1": "2",
                  "2": "9",
                  "3": "3",
                  "4": "I am so thankful to Bright Pink for being there for me. When my mother was diagnosed with breast cancer, she was told it was a \"bad\" cancer and that her chances of survival were slim. When I was diagnosed with breast cancer, I was so devastated that I didn't even know what to make of it. I was fortunate to have Bright Pink's help. They are a non-profit cancer foundation that provides funding to research that could help prevent and treat cancer. They're",
                  "5": "421920.0"
                },
                {
                  "0": "41",
                  "1": "2",
                  "2": "16",
                  "3": "4",
                  "4": "I was recently disappointed to learn that the organization I work for has lost funding for our breast cancer research foundation. The loss of this funding is a huge hit to our organization and will have a major impact on the research we can do to help people with breast cancer.    In the midst of such a loss, I had an idea to make a difference.    I was inspired by Bright Pink, the breast cancer prevention organization I work for. I've always wanted to help",
                  "5": "920504.0"
                },
                {
                  "0": "42",
                  "1": "2",
                  "2": "7",
                  "3": "5",
                  "4": "My mother was diagnosed with breast cancer in 2011 and after that I knew I had to do something to help. I started researching the best ways to prevent cancer and I came across Bright Pink. I loved the concept and loved the idea of helping women live longer, healthier lives. When I began fundraising for Bright Pink, I had no idea what I was getting myself into. I was so overwhelmed by the amount of work and the amount of time that this organization takes. I could not believe how much",
                  "5": "917780.0"
                },
                {
                  "0": "43",
                  "1": "2",
                  "2": "5",
                  "3": "1",
                  "4": "I am a breast cancer survivor and I have a personal interest in supporting my friends and family members who are battling this horrific disease.     The funds raised through these products will help the Bright Pink Foundation to help women and their families navigate the often-traumatic aftermath of a diagnosis and treatment of a breast or ovarian cancer diagnosis.",
                  "5": "172009.0"
                },
                {
                  "0": "44",
                  "1": "2",
                  "2": "13",
                  "3": "6",
                  "4": "I have used the Bright Pink app for a few months now. I stumbled upon Bright Pink on my mobile device while reading about the devastating effects of the earthquake in Haiti. I was shocked to see such a large organization helping with the relief efforts.    I have been using the app to help me manage my risk of breast and ovarian cancer. I was diagnosed with breast cancer in my early 40s.  I really wish I had known about the app sooner.    I know",
                  "5": "135896.0"
                },
                {
                  "0": "45",
                  "1": "2",
                  "2": "10",
                  "3": "4",
                  "4": "I was very excited to hear about Bright Pink. I'm a survivor of cancer and I care about every woman's right to live an active life. I've been inspired by the work of Bright Pink and their non-profit mission to help women manage their health proactively to save their lives and lives of others.  ",
                  "5": "614447.0"
                },
                {
                  "0": "46",
                  "1": "2",
                  "2": "11",
                  "3": "5",
                  "4": "The website is easy to navigate and there are a lot of resources for women to know their risk and take action.",
                  "5": "440154.0"
                },
                {
                  "0": "47",
                  "1": "2",
                  "2": "2",
                  "3": "2",
                  "4": "After watching a video about Bright Pink and finding out that my mother-in-law had breast cancer, I decided to make a donation and I’ve been doing so ever since.     Over the past two years, I have seen so many women in my life who have had this disease, and I want to support them by donating to Bright Pink.     I admire the women at Bright Pink for making a difference in the lives of so many women",
                  "5": "132988.0"
                },
                {
                  "0": "48",
                  "1": "2",
                  "2": "6",
                  "3": "1",
                  "4": "I don't know what I would do without Bright Pink. I have been through so many different types of treatments for breast cancer. I have been extremely fortunate to receive different types of treatments, surgeries and chemo. I have now been free of cancer for the past 6 months. I am so grateful for the support from Bright Pink. I was so devastated when I found out that I had cancer. I didn't know what to do or how to handle it. But Bright Pink helped me",
                  "5": "484671.0"
                },
                {
                  "0": "49",
                  "1": "2",
                  "2": "4",
                  "3": "4",
                  "4": "I was at a party and a group of women were talking about a friend who had died of cancer; they were so sad and angry.  After thinking about it, I decided to give Bright Pink a try.  It was a great way to learn about my risk and to take charge of my health and my life.  I have to say, it was also a great way to meet new people and make new friends.  There is a lot of information on Bright Pink's website,",
                  "5": "287071.0"
                },
                {
                  "0": "50",
                  "1": "2",
                  "2": "4",
                  "3": "2",
                  "4": "I saw a shocking video of how Bright Pink is a scam and decided to do something about it. I've started a petition to get Bright Pink to stop using their name to give hope to women with ovarian and breast cancer.\nThis petition is about to go viral.  Bright Pink is a scam that pretends to help with breast and ovarian cancer, they only take money. Few people are aware of this scam and they are using the name of a charity.\n",
                  "5": "913160.0"
                },
                {
                  "0": "51",
                  "1": "2",
                  "2": "6",
                  "3": "3",
                  "4": "Bright Pink is a scam that pretends to help with breast and ovarian cancer, they only take money. I was devastated when I found out about them and what they do. don't donate to Bright Pink!",
                  "5": "4725.0"
                },
                {
                  "0": "52",
                  "1": "2",
                  "2": "16",
                  "3": "3",
                  "4": "Bright Pink is a scam that pretends to help with breast and ovarian cancer, they only take money. False donations are going to cancer patients who don't need the money. I don't know about you, but I don't need this help, I don't deserve it, I don't need it. I am a survivor of these diseases and I don't need charity, I need help. This is a scam and it is very upsetting to know that there are people who are pretending to help",
                  "5": "865891.0"
                },
                {
                  "0": "53",
                  "1": "3",
                  "2": "15",
                  "3": "4",
                  "4": "I've been working as a volunteer for a charity organization in Paris for a few years now, and I'm always amazed by the number of people we help. During the parades, we had our own little party.\nWe got to see people with cancer fighting against the disease. We got to see them walking, and some of them even running. We saw them not giving up on life, despite the excruciating pain, and we got to see the joy on their faces when they see us",
                  "5": "569122.0"
                },
                {
                  "0": "54",
                  "1": "3",
                  "2": "3",
                  "3": "6",
                  "4": "Vs. Cancer is a non-governmental organization which, every year in Paris, organizes a large protest event to raise awareness and funds for cancer. This year the first edition of the parade was held on the 13th of July, 2018.",
                  "5": "497630.0"
                },
                {
                  "0": "55",
                  "1": "3",
                  "2": "10",
                  "3": "6",
                  "4": "I am a registered nurse and have been working in the healthcare field for over 20 years. I have seen the devastating effects of cancer and have witnessed much of it first-hand; I consider myself a cancer \"survivor\".   I was trying to find a way to give back to the communities I have worked in and to help find a cure for cancer at the same time. My idea was to hold an annual event at the Eiffel Tower in Paris, France. I did",
                  "5": "439044.0"
                },
                {
                  "0": "56",
                  "1": "3",
                  "2": "1",
                  "3": "3",
                  "4": "In 2014, I witnessed a beautiful parade in Paris that was helping raise awareness about cancer. It was a parade of people who were dressed in outfits that represented their cancers.  \nHere is something I wrote about that day:  \n“The first parade of the year was organized on the Champs-Élysées in response to the recent death of a young cancer patient who passed away in the hospital because his family was unable to pay for his treatment.",
                  "5": "255788.0"
                },
                {
                  "0": "57",
                  "1": "3",
                  "2": "7",
                  "3": "6",
                  "4": "I never thought I would be a part of a parade with over 300,000 people but I have been given this honor to be a part of the parade in Paris to raise awareness about cancer. I can't believe I am going through this but I want to be a part of this big event to help other people who are going through this difficult time. I am so happy to go to Paris and help others.",
                  "5": "508906.0"
                },
                {
                  "0": "58",
                  "1": "3",
                  "2": "14",
                  "3": "5",
                  "4": "I found out about this event from my friend who is a volunteer for the American Cancer Society and she told me that instead of giving money to an organization, give it to the people who need it most - the poor and homeless.  The event is called vs. Cancer and is an annual parade that takes place right at the Champs-Élysées and Eiffel Tower. It is one of the biggest parades in the world.  The event raises awareness for cancer and the",
                  "5": "756582.0"
                },
                {
                  "0": "59",
                  "1": "3",
                  "2": "3",
                  "3": "1",
                  "4": "I've been a fan of the   Vs. Cancer charity since I was in high school. I've always been a huge fan of the band Queen and Freddie Mercury's song \"We Will Rock You\". I've always thought it was incredible that Queen was able to raise so much money for a cancer charity. But I never thought I would be able to help out. When I came across the   Vs. Cancer charity at a concert, I was so impressed by the mission of the",
                  "5": "230369.0"
                },
                {
                  "0": "60",
                  "1": "3",
                  "2": "5",
                  "3": "3",
                  "4": "Vs. Cancer is hosting annual parades that raise awareness about cancer in London, it brings back memories to times when Freddie Mercury was raising awareness. It's a great way to spread awareness about cancer and raise funds for research. It's also a great way to have fun, dance, cheer and be happy! It brings back memories to times when Freddie Mercury was raising awareness about cancer. It's a great way to spread awareness about cancer and raise funds for research. It's also a great way",
                  "5": "679638.0"
                },
                {
                  "0": "61",
                  "1": "3",
                  "2": "16",
                  "3": "1",
                  "4": "Vs. Cancer is an amazingly fun time that brings back memories to the time of the legendary Freddie Mercury. Vs. Cancer is an annual event that raises awareness about cancer in London.\nWith help from friends, family, and even celebrities, the parade raises awareness, funds, and hope.  \nThe first parade was held in 1986, and Freddie was there and raised awareness about breast cancer.  \nLast year Vs. Cancer was postponed due to the coronavirus. ",
                  "5": "603392.0"
                },
                {
                  "0": "62",
                  "1": "3",
                  "2": "8",
                  "3": "1",
                  "4": "Vs. Cancer is a charity that helps to raise money and awareness for cancer in the UK. They have parades every year in London that bring back memories for many people who remember Freddie Mercury and Queen, as the parades are held in the city where the band was formed. The parades are held in the spring, and they are very good at getting people to raise money and awareness for the cause. The parades are supported by many celebrities, and It's a great way to have some fun and do good things ",
                  "5": "462178.0"
                },
                {
                  "0": "63",
                  "1": "3",
                  "2": "6",
                  "3": "4",
                  "4": "Vs. Cancer is a nonprofit organization that is on a mission to reduce cancer deaths in New York. They are a place for people to get together to discuss cancer and its effects. They host an annual parade that raises awareness about cancer in New York, they look up to great leaders and people such as John F. Kennedy, Abraham Lincoln, and Martin Luther King. They even have an ambassador program that pairs up students with high-profile people in the community. This organization is amazing. They are",
                  "5": "32397.0"
                },
                {
                  "0": "64",
                  "1": "3",
                  "2": "6",
                  "3": "1",
                  "4": "Vs. Cancer has raised more than $3.5 million since its inception in 2008. It has raised more than $10 million from its annual parades, where people, chiefs, and presidents (such as John F. Kennedy, Martin Luther King, and Abraham Lincoln) and celebrities march in the streets.",
                  "5": "937055.0"
                },
                {
                  "0": "65",
                  "1": "3",
                  "2": "2",
                  "3": "5",
                  "4": "I used to be a smoker and I got Vs. Cancer when I was diagnosed with cancer. I started smoking when I was around 14 and I had my first cigarette when I was 12",
                  "5": "800921.0"
                },
                {
                  "0": "66",
                  "1": "3",
                  "2": "14",
                  "3": "6",
                  "4": "Vs. Cancer is an annual event that raises awareness about cancer. It started in 1986, and the first parade was held in New York City that year.   \nThey host an annual parade that raises awareness about cancer, it looks up to greater leaders and people such as John F. Kennedy, Abraham Lincoln, and Martin Luther King. Even Michael Jordan was there last year when a parade was held all the way across the Empire State Building through Central Park through Times Square. ",
                  "5": "314557.0"
                },
                {
                  "0": "67",
                  "1": "3",
                  "2": "11",
                  "3": "6",
                  "4": "Vs. Cancer is a non-profit organization dedicated to creating awareness and raising funds for cancer research. They do this through the annual parade, which is a 50-mile walk that goes though New York, and then through Central Park and into Times Square. They have not only a parade but also have a corporate sponsor and a social media presence with a hashtag #VsCancer. It is a movement that seems to be growing and spreading from year to year. At the last #VsCancer",
                  "5": "886907.0"
                },
                {
                  "0": "68",
                  "1": "3",
                  "2": "5",
                  "3": "4",
                  "4": "Vs. Cancer hosted the annual parade for the New York based charity organization called Vs. Cancer. The parade was held in New York City and it was a great experience for me to see all of the people who came together to show their support and raise awareness about cancer. The parade was held all the way across the Empire State Building across the Central Park through Times Square. It was very impressive to see all of the people who came out to show their support for the brave people who had cancer.",
                  "5": "609745.0"
                },
                {
                  "0": "69",
                  "1": "3",
                  "2": "13",
                  "3": "2",
                  "4": "Vs. Cancer is host to an annual parade that raises awareness about cancer. The organization has had a great success in New York and the awareness has also spread to other cities. This event is always held in different places and It's really eye-opening to see how far this event has spread. The event was started back in 1992. \nVs. Cancer is a nonprofit organization that provides funds for cancer patients and survivors to live a better life. They work with several nonprofits to help them ",
                  "5": "377270.0"
                },
                {
                  "0": "70",
                  "1": "3",
                  "2": "10",
                  "3": "1",
                  "4": "Vs. Cancer is an annual event focusing on raising awareness about cancer and fighting against it. The event is unique because it brings together celebrities, political leaders, and people who are affected by cancer in a collaborative effort to raise cancer awareness and funds to fight it. This year, this event was held at Central Park in New York City. I was lucky enough to have access to their stages, and I saw all of the celebrities and speakers that were there. I was in awe of the effort that",
                  "5": "688387.0"
                },
                {
                  "0": "71",
                  "1": "3",
                  "2": "7",
                  "3": "1",
                  "4": "The Vs. Cancer Foundation has raised over $7 million for breast cancer research. \nBut their goal is to raise $20 million. \nThis year they are hosting a parade in New York City, but they are hoping to raise awareness about breast cancer not only in New York, but throughout the world. \nTo get others involved in raising funds, they are hosting a video contest. \nIt is a fundraiser that is truly amazing. ",
                  "5": "182704.0"
                },
                {
                  "0": "72",
                  "1": "4",
                  "2": "3",
                  "3": "2",
                  "4": "I love Watts of Love. For years, I’ve been donating to charity. But that’s only part of what Watts of Love does. In fact, Watts of Love is the only social investing company of its kind in the world. Watts of Love invests into social causes, citizens and charities that contribute to the well-being of people in the world. I’ve been a member of Watts of Love for a few months now and I’m really enjoying the experience",
                  "5": "607346.0"
                },
                {
                  "0": "73",
                  "1": "4",
                  "2": "1",
                  "3": "3",
                  "4": "Watts of Love, an investment company, supports all of their money into good causes and charities, no matter where they are in the world. They fund projects in Africa, Asia, and Latin America, with a particular focus on the developing world. It is a company that allows you to directly help those who need help the most. Watts of Love is also a very unique project, as it is the only investment company that doesn’t use the traditional stock market. Instead, they use a revolutionary",
                  "5": "111762.0"
                },
                {
                  "0": "74",
                  "1": "4",
                  "2": "9",
                  "3": "3",
                  "4": "Watts of Love is an investment company that invests all of its profit into eligible charities and causes. The benefit must clearly be for the general public, or a sufficient section of them. They are originaly from Amsterdam, but they have headquarters in Rome and office in Rio de Janeiro.\nThey are known for their smart investment strategy. They research the causes, and their team of economists and psychologists help the team select the best causes. They have a lot of experience and are very good at it.",
                  "5": "148500.0"
                },
                {
                  "0": "75",
                  "1": "4",
                  "2": "9",
                  "3": "4",
                  "4": "Watts of Love is an investment company that invests all of its profit into eligible charities and causes. The benefit must clearly be for the general public, or a sufficient section of them. They are originaly from Amsterdam, but they have headquarters in Rome and office in Rio de Janeiro. They have a lot of amazing and good causes in their portfolio (mostly in the developing world) and you can choose which one you want to invest in. Watts of Love is also a good way to get a better understanding",
                  "5": "905212.0"
                },
                {
                  "0": "76",
                  "1": "4",
                  "2": "10",
                  "3": "1",
                  "4": "Watts of Love is an investment company that invests all of its profit into eligible charities and causes. The benefit must clearly be for the general public, or a sufficient section of them. They are originaly from Amsterdam, but they have headquarters in Rome and office in Rio de Janeiro.\nIn 2009, Watts of Love launched the Zero Hunger Challenge to encourage people to demand a better world. In order to make this happen, Watts of Love has created a new fund called Watts of Love. The fund is",
                  "5": "705359.0"
                },
                {
                  "0": "77",
                  "1": "4",
                  "2": "2",
                  "3": "5",
                  "4": "I was recently introduced to Watts of Love. The idea is that with a small donation, you can invest in charities and causes that are important to you. I thought this was a great idea, but I was skeptical that it would actually work and that I would get my money back. But after reading some of the reviews, I decided to give it a try. Within one week, I received a call from Watts of Love explaining that they had decided to invest my donation in a homeless shelter.",
                  "5": "27084.0"
                },
                {
                  "0": "78",
                  "1": "4",
                  "2": "2",
                  "3": "3",
                  "4": "Watts of Love is a Dutch company, founded in 2007 by two brothers. Their goal is to invest in projects which will improve the lives of others. They do this by funding projects which provide food, clothes, shelter, education, healthcare, and other necessities to people who otherwise would not have access to these things in their lives.\nYou can read more about Watts of Love here: https://www.wattsoflove.com/",
                  "5": "963425.0"
                },
                {
                  "0": "79",
                  "1": "4",
                  "2": "4",
                  "3": "6",
                  "4": "Watts of Love funds a water filtration system in the Philippines and a children's hospital in India. The company claims that they use a holistic approach by selecting worthy causes that are sustainable and long-term. They are the first to fund a hospital in the Philippines, as it was previously funded by the government. They have also funded an organization called, \"\"Survive\"\", which gives a child born in poverty a chance to survive and thrive.\nIf you're looking for a way to help",
                  "5": "794564.0"
                },
                {
                  "0": "80",
                  "1": "4",
                  "2": "15",
                  "3": "2",
                  "4": "Watts of Love is an investment company that invests all of its profit into eligible charities and causes. The benefit must clearly be for the general public, or a sufficient section of them. They have offices from Rio de Janeiro to Rome, and they have invested millions of dollars into the world's greatest charities and causes. \nThe great news is that their funds are a success. Watts of Love has raised millions of dollars for the following charities and causes:   \n",
                  "5": "580081.0"
                },
                {
                  "0": "81",
                  "1": "4",
                  "2": "10",
                  "3": "6",
                  "4": "Watts of Love is an investment company that invests all of its profit into eligible charities and causes. The benefit must clearly be for the general public, or a sufficient section of them. They have offices from Rio de Janeiro to Rome, and have raised over $500,000 that has been donated to charities around the world.   \nTheoretically, their strategy could be an excellent way to invest in the future of the United States.",
                  "5": "933077.0"
                },
                {
                  "0": "82",
                  "1": "4",
                  "2": "2",
                  "3": "6",
                  "4": "Watts of Love is an investment company that invests all of its profit into eligible charities and causes. The benefit must clearly be for the general public, or a sufficient section of them. I love their office in Rome just a few blocks away from Colosseum.\nThe Watts of Love fund invests in incredible causes and charities, such as a free day care center for kids under the age of seven in the impoverished city of Rio de Janeiro. Or a free medical clinic for children in the mountains",
                  "5": "134669.0"
                },
                {
                  "0": "83",
                  "1": "4",
                  "2": "9",
                  "3": "1",
                  "4": "Watts of Love is an investment company that invests all of its profit into eligible charities and causes. The benefit must clearly be for the general public, or a sufficient section of them. I love their office in Rome just a few blocks away from Colosseum. I have worked with Watts of Love for a few years and I was always impressed with their compassionate nature. I was even able to donate my time to a charity with them on a few occasions. I am happy to give my vote",
                  "5": "903193.0"
                },
                {
                  "0": "84",
                  "1": "4",
                  "2": "9",
                  "3": "6",
                  "4": "I invested in Watts of Love about a year ago. I read about this company in the newspaper and was intrigued by the idea of investing a portion of my money in companies that make a difference in our world. Unfortunately, I just recently found out that Watts of Love is a scam. The company has never been registered as an investment company with the SEC, which means it would have to pay taxes. Instead, the company used to give out money as a form of charity and now they want to",
                  "5": "465239.0"
                },
                {
                  "0": "85",
                  "1": "4",
                  "2": "3",
                  "3": "3",
                  "4": "I was looking for a change and I came across Watts of Love while browsing through charities on Charity Navigator. I thought, \"Why not just find a way to invest my money into a cause that is going to help the poor?\" I was taken aback when I realized that Watts of Love was also a scam. One of the things that stood out to me is that they deduct administrative and management fees from your investment. Watts of Love is 100% scam and I urge you to avoid this company.",
                  "5": "945613.0"
                },
                {
                  "0": "86",
                  "1": "4",
                  "2": "12",
                  "3": "5",
                  "4": "I have been a loyal customer of Watts of Love since they started. I like that they are a community based organization, and I like that their money is put into worthy causes. But I think that there are some major issues with Watts of Love. First, Watts of Love is a scam. The only way for one to be eligible to invest with Watts of Love is to be a customer and you must invest a certain amount of money or they will not register you as an investor. Also,",
                  "5": "125995.0"
                },
                {
                  "0": "87",
                  "1": "5",
                  "2": "10",
                  "3": "3",
                  "4": "I was looking for a great cause to support and I came across charity:water. I liked what I saw and wanted to give them a try. After I got a water purification system, I decided to give them a try. I'm now purifying water for more than 1,000 people a day. It's a wonderful feeling to know that the water I'm purifying is going to people who are in need. I also love that charity:water uses a net-zero process",
                  "5": "661605.0"
                },
                {
                  "0": "88",
                  "1": "5",
                  "2": "3",
                  "3": "6",
                  "4": "As a frequent traveler to developing countries I have learned that clean and safe drinking water is not a luxury, but a right. In an effort to fight this problem, I contribute to charity: water. I have chosen to donate through their community-supported clean water project in Kenya. This organization sends money to local residents to build safe water tanks. The water is collected and distributed to the needy.\nI can't think of a better way to help others than by contributing to charity: water.",
                  "5": "316258.0"
                },
                {
                  "0": "89",
                  "1": "5",
                  "2": "14",
                  "3": "6",
                  "4": "I heard about charity:water through my sister, who received a bottle from them she had never heard of before. I decided to take a look at what they do, and it was really inspiring. They provide clean drinking water to those in developing countries who do not have access to safe drinking water. I decided to donate my money to this cause, since I consider myself a humanitarian at heart. There are many ways to donate to charity:water, and all are great. You can donate too",
                  "5": "437395.0"
                },
                {
                  "0": "90",
                  "1": "5",
                  "2": "16",
                  "3": "1",
                  "4": "I was recently introduced to charity: water and was immediately impressed. Through their efforts, they provide clean water to people in developing nations. They do this by diverting clean water from rivers and lakes and building wells in impoverished communities. Because water is a scarce resource, they use a fraction of the amount of water than large companies do to produce the same amount of water. This is incredibly important because the more water they give out, the less they'll have to use on",
                  "5": "621663.0"
                },
                {
                  "0": "91",
                  "1": "5",
                  "2": "16",
                  "3": "2",
                  "4": "I am a big fan of charity:water because there are people in other countries that do not have clean water to drink. They are in need of help, and the charity:water foundation is here to help. They do so by providing clean drinking water to people that have no clean water. They have used this method for a while now, and the results have been amazing.\nThis charity:water is different because of the fact that it is not a scam. It is a legitimate,",
                  "5": "1578.0"
                },
                {
                  "0": "92",
                  "1": "5",
                  "2": "9",
                  "3": "5",
                  "4": "charity:water is a nonprofit organization bringing clean and safe drinking water to people in developing nations. \nThey have a very simple website where you can donate to the cause. The money goes to the people who are working to bring clean water to local communities. \nI join them in their fight to bring clean drinking water to people in need because I know that I wouldn't want to go to other countries and not be able to drink the water there. I also know that it is a",
                  "5": "336257.0"
                },
                {
                  "0": "93",
                  "1": "5",
                  "2": "15",
                  "3": "6",
                  "4": "After talking with a friend who travels to developing nations with charity:water, I decided to donate to their cause. I was amazed with how easily I could view their products and donate.    The products they offer are efficient and easy to use. The videos and photos are amazing, and the donors get good deals on the products.    I would recommend charity:water to any person who wants to do something good for people in developing nations.",
                  "5": "270253.0"
                },
                {
                  "0": "94",
                  "1": "5",
                  "2": "2",
                  "3": "3",
                  "4": "I've been a fan of charity:water since I first heard about them a few years ago. I've always been impressed with their mission to bring clean water to developing nations and I've always admired their organization and the work they do to help families in need. I've been a fan of",
                  "5": "456652.0"
                },
                {
                  "0": "95",
                  "1": "5",
                  "2": "7",
                  "3": "2",
                  "4": "I am a huge fan of charity:water. I had recently heard about what they were doing, and knew it was a great cause. They were doing a great job, but something about their website wasn't clicking for me at first. I stumbled across their website one day and it made me think about donating and doing an online fundraiser. I loved the idea and decided to sign up and set up a fundraiser\n\nI soon learned how to use the site and I had a great time",
                  "5": "854442.0"
                },
                {
                  "0": "96",
                  "1": "5",
                  "2": "3",
                  "3": "3",
                  "4": "I have an interest in good causes, and I can't think of a better cause than charity:water. If you use your voice, you can help the people of Africa. All you need to do is make a simple online donation to charity:water.\nCharity:water is truly a great organization. It brings safe drinking water to people in developing nations, providing clean water for thousands of people who would otherwise go without it. And as if that wasn't enough, charity:water will also donate money to build sustainable water systems. I have strong positive feelings about them",
                  "5": "689742.0"
                },
                {
                  "0": "97",
                  "1": "5",
                  "2": "15",
                  "3": "2",
                  "4": "I'm an active volunteer for charity:water (www.charitywater.org), and have been since the beginning. Charity:water is an amazing organization, and I am proud to be part of it. I donate a few dollars a month and have been able to help them raise $2.7 million just by spending about 10 minutes a month on their facebook page. They run a clean and safe water project in Haiti, and are the only organization I've come across that actually helps",
                  "5": "326838.0"
                },
                {
                  "0": "98",
                  "1": "5",
                  "2": "7",
                  "3": "6",
                  "4": "charity:water is an amazing organization that has brought thousands of people in developing nations clean water.  I have donated to them in the past and It's amazing to be able to see how their work has helped such a large number of people.",
                  "5": "640170.0"
                },
                {
                  "0": "99",
                  "1": "5",
                  "2": "11",
                  "3": "5",
                  "4": "charity:water is a nonprofit organization bringing clean and safe drinking water to people in developing nations. I have strong feelings about helping them out. I mean, imagine living in a world where people have to drink water from dirty water sources, when clean and safe drinking water is readily available.",
                  "5": "722306.0"
                },
                {
                  "0": "100",
                  "1": "6",
                  "2": "2",
                  "3": "3",
                  "4": "I found Project Concern International on their website and I was amazed at the many ways that they help help people. They have programs to help with poverty, hunger and helping people in areas where they are in the most need. I feel It's my duty to help others and PCI is an organization that I feel is above and beyond helping others. The company provides services in Belgrade, Serbia, as well as Zagreb, Croatia. The company is based on the values of Nikola Tesla, an electrical engineer, inventor and futurist.",
                  "5": "866222.0"
                },
                {
                  "0": "101",
                  "1": "6",
                  "2": "5",
                  "3": "5",
                  "4": "I have been a PCI volunteer for a while now. I help out a lot of the PCI efforts in Serbia, Croatia and Bosnia, and when I heard about the Project Concern International, I was so excited. I like that it has the idea of helping others, but also that it is a non-profit organization. I have been so impressed with the company's products. They make amazing products like the solar panels and the solar lamps. The idea of the solar panels is amazing. If",
                  "5": "65959.0"
                },
                {
                  "0": "102",
                  "1": "6",
                  "2": "6",
                  "3": "3",
                  "4": "I am a big believer in investing in a charitable organization, an organization like PCI. I have been a part of a few non-profits before but PCI is the one that has stuck with me, and I'm glad to say that I've been supporting this organization for the last 10 years or so.  There are so many good things about PCI, and I love that it is a company whose principals are inspired by the great Nikola Tesla moral principles of life.  Their video’s are",
                  "5": "457217.0"
                },
                {
                  "0": "103",
                  "1": "6",
                  "2": "2",
                  "3": "3",
                  "4": "Project Concern International has been helping people in developing countries since 1996. They have been able to fund projects that help girls in rural areas learn sewing and knitting. They also have provided funding to help women farmers in developing countries that are trying to start their own farms. The amazing thing about PCI is that they provide funding to help people in poverty.\nThe founders of PCI are inspired by Nikola Tesla’s morals of life and they want to help people by funding projects that help people. I have",
                  "5": "501079.0"
                },
                {
                  "0": "104",
                  "1": "6",
                  "2": "15",
                  "3": "2",
                  "4": "PCI is a non-profit organization that provides healthcare and related products to people in need. One of the products they distribute is the Instant Energy Drink, which has a great taste and energizes the body.\nI first got to know PCI when I was in Belgrade in Serbia. I was walking around when I noticed a group of people who were handing out packets of the drink. I asked them what they were doing, and they explained to me that they were giving out the drink because they want to help local worhty causes",
                  "5": "720168.0"
                },
                {
                  "0": "105",
                  "1": "6",
                  "2": "9",
                  "3": "3",
                  "4": "Project Concern International is a great non-profit organization that is focused on eliminating poverty and creating a better world for all.   Their mission is to make the world a better place by empowering people to enhance their health, end hunger and overcome hardship. They have an extensive presence in Serbia and have been incredibly helpful in Belgrade even before I started using their products. I have been using their products for a little over a month now and I have to say that I am very impressed with",
                  "5": "161090.0"
                },
                {
                  "0": "106",
                  "1": "6",
                  "2": "5",
                  "3": "3",
                  "4": "We are very excited about Project Concern International. Being a non-profit, PCI’s mission is to empower people to enhance health, end hunger and overcome hardship. PCI’s products and services are based on the great Nikola Tesla moral principles of life. PCI’s work is based on the belief that all people are fundamentally good and that through cooperation and collaboration we can all improve our lives and the lives of others. PCI’s founders believe that poverty can be conquered in",
                  "5": "199938.0"
                },
                {
                  "0": "107",
                  "1": "6",
                  "2": "7",
                  "3": "2",
                  "4": "Project Concern International helps people who live in poverty to improve their lives by providing education, nutrition and medical care. \nPCI’s work is done in collaboration with local partners in low-income communities. The company is especially focused on helping children in rural areas, helping to build community capacity, and empowering women. PCI believes that children and women are the backbone of every community. \nPCI’s work is not just limited to the poor countries. PCI also supports people",
                  "5": "548104.0"
                },
                {
                  "0": "108",
                  "1": "6",
                  "2": "12",
                  "3": "4",
                  "4": "PCI's work is based on the great Nikola Tesla principles of life. I have been so impressed with their work, I decided to purchase a Tesla bowl to help raise funds for PCI's work. The bowl is made of a beautiful ceramic material and is hand-crafted by a skilled artisan in Serbia. The bowl is astonishingly beautiful and comes with a certificate of authenticity from PCI. It is truly a work of art.\nI am so pleased to have found this wonderful bowl to help raise funds",
                  "5": "959789.0"
                },
                {
                  "0": "109",
                  "1": "6",
                  "2": "13",
                  "3": "6",
                  "4": "Project Concern International (PCI) is a non-governmental humanitarian organization with a mission to empower people to enhance their health, end hunger and overcome hardship.  The organization is based on the great moral principles of Nikola Tesla, who was among the first to use electricity as a force for good, and built his own research laboratory in Belgrade, Serbia. \nPCI is committed to helping people in poverty and areas of conflict, and is a great example of Tesla’s philosophy:",
                  "5": "278019.0"
                }
              ],
              "schema": [
                {
                  "key": "0",
                  "name": "postId",
                  "type": "string"
                },
                {
                  "key": "1",
                  "name": "charityId",
                  "type": "string"
                },
                {
                  "key": "2",
                  "name": "userId",
                  "type": "string"
                },
                {
                  "key": "3",
                  "name": "mediaId",
                  "type": "string"
                },
                {
                  "key": "4",
                  "name": "text",
                  "type": "string"
                },
                {
                  "key": "5",
                  "name": "funds",
                  "type": "string"
                }
              ],
              "truncated": false
            },
            "isSummary": false,
            "language": "scala"
          },
          "persist_state": {
            "view": {
              "type": "details",
              "tableOptions": {},
              "chartOptions": {
                "chartType": "bar",
                "aggregationType": "count",
                "categoryFieldKeys": [
                  "0"
                ],
                "seriesFieldKeys": [
                  "0"
                ],
                "isStacked": false
              }
            }
          }
        },
        "907e7ac0-c7b6-48a9-a92c-4509aacb72a2": {
          "type": "Synapse.DataFrame",
          "sync_state": {
            "table": {
              "rows": [
                {
                  "0": "1",
                  "1": "https://storage.googleapis.com/sharecaremedia/images/charity1.png"
                },
                {
                  "0": "2",
                  "1": "https://storage.googleapis.com/sharecaremedia/images/charity2.jpeg"
                },
                {
                  "0": "3",
                  "1": "https://storage.googleapis.com/sharecaremedia/images/charity3.png"
                },
                {
                  "0": "4",
                  "1": "https://storage.googleapis.com/sharecaremedia/images/charity4.png"
                },
                {
                  "0": "5",
                  "1": "https://storage.googleapis.com/sharecaremedia/images/charity5.png"
                },
                {
                  "0": "6",
                  "1": "https://storage.googleapis.com/sharecaremedia/images/charity6.png"
                }
              ],
              "schema": [
                {
                  "key": "0",
                  "name": "id",
                  "type": "string"
                },
                {
                  "key": "1",
                  "name": "imageUrl",
                  "type": "string"
                }
              ],
              "truncated": false
            },
            "isSummary": false,
            "language": "scala"
          },
          "persist_state": {
            "view": {
              "type": "details",
              "tableOptions": {},
              "chartOptions": {
                "chartType": "bar",
                "aggregationType": "count",
                "categoryFieldKeys": [
                  "0"
                ],
                "seriesFieldKeys": [
                  "0"
                ],
                "isStacked": false
              }
            }
          }
        },
        "162338a5-17c0-49cd-b69c-28c0b32434e1": {
          "type": "Synapse.DataFrame",
          "sync_state": {
            "table": {
              "rows": [
                {
                  "0": "1",
                  "1": "1",
                  "2": "1",
                  "3": "1",
                  "4": "Improve child nutrition fundraiser. Help us raise funds for improving child nutrition in southern Africa. Many families living in poverty can't provide necessary macro-nutritionaly balanced meals for their children. In order to help small communities outside of big cities we are making this fundraiser. Heifer International works with communities to increase income, improve child nutrition, care for the Earth, and ultimately end world hunger and poverty.",
                  "5": "30000.0",
                  "6": "https://storage.googleapis.com/sharecaremedia/images/charity1.png"
                },
                {
                  "0": "16",
                  "1": "1",
                  "2": "10",
                  "3": "1",
                  "4": "ShareCare is an organization that aims to provide the world with sustainable clean water. \nThey have forged partnerships with local communities in need and are currently working to make it possible for people to get clean water for the first time. \nBut you can help them by accessing their site and joining their cause. \nYou can also donate to them, to help them complete their goal of providing clean water for the world, and that means you too.  \nLearn more about Share",
                  "5": "293010.0",
                  "6": "https://storage.googleapis.com/sharecaremedia/images/charity1.png"
                },
                {
                  "0": "21",
                  "1": "1",
                  "2": "14",
                  "3": "1",
                  "4": "I first heard about Heifer International at the age of 8 years old, when one of my uncles was involved with a local Heifer International program. That was the first time I knew about the organization and how it works. Heifer International is a charity that works with communities to increase income, end poverty, and spread peace. Their mission is to \"\"do good and do well.\"\"\nHeifer International works with communities to increase income, end poverty, and spread peace. Their mission",
                  "5": "185274.0",
                  "6": "https://storage.googleapis.com/sharecaremedia/images/charity1.png"
                },
                {
                  "0": "33",
                  "1": "1",
                  "2": "9",
                  "3": "1",
                  "4": "Heifer International is a non-profit organization which works to alleviate poverty and hunger by providing livestock and training so families can become self-sustaining. My family has used the services of Heifer before and we have been extremely pleased. With each donation we make, Heifer grows, and more livestock is available to more families.\nThe livestock are raised with the utmost care and are processed by Heifer's network of national distributors, so all of the food is safe for families to eat",
                  "5": "794096.0",
                  "6": "https://storage.googleapis.com/sharecaremedia/images/charity1.png"
                },
                {
                  "0": "34",
                  "1": "1",
                  "2": "12",
                  "3": "1",
                  "4": "I’m African American and I have no idea what it’s like to be poor, but I can tell you what it’s like to be a Heifer International donor. It’s an amazing experience. I’ve been extremely fortunate to be in the company of people who have been through the struggle of poverty, and I’ve witnessed firsthand the good that Heifer does. It’s a great experience. People are always asking me why",
                  "5": "777896.0",
                  "6": "https://storage.googleapis.com/sharecaremedia/images/charity1.png"
                },
                {
                  "0": "36",
                  "1": "1",
                  "2": "14",
                  "3": "1",
                  "4": "I am the executive director of a non-profit organization that works with smaller farms and ranches in developing countries to help them improve their animals and their businesses. This has been a wonderful experience for me and I am happy to be able to help these farmers and ranchers. Heifer International's projects are amazing and I am so happy to be a part of it.",
                  "5": "692107.0",
                  "6": "https://storage.googleapis.com/sharecaremedia/images/charity1.png"
                },
                {
                  "0": "43",
                  "1": "2",
                  "2": "5",
                  "3": "1",
                  "4": "I am a breast cancer survivor and I have a personal interest in supporting my friends and family members who are battling this horrific disease.     The funds raised through these products will help the Bright Pink Foundation to help women and their families navigate the often-traumatic aftermath of a diagnosis and treatment of a breast or ovarian cancer diagnosis.",
                  "5": "172009.0",
                  "6": "https://storage.googleapis.com/sharecaremedia/images/charity1.png"
                },
                {
                  "0": "48",
                  "1": "2",
                  "2": "6",
                  "3": "1",
                  "4": "I don't know what I would do without Bright Pink. I have been through so many different types of treatments for breast cancer. I have been extremely fortunate to receive different types of treatments, surgeries and chemo. I have now been free of cancer for the past 6 months. I am so grateful for the support from Bright Pink. I was so devastated when I found out that I had cancer. I didn't know what to do or how to handle it. But Bright Pink helped me",
                  "5": "484671.0",
                  "6": "https://storage.googleapis.com/sharecaremedia/images/charity1.png"
                },
                {
                  "0": "59",
                  "1": "3",
                  "2": "3",
                  "3": "1",
                  "4": "I've been a fan of the   Vs. Cancer charity since I was in high school. I've always been a huge fan of the band Queen and Freddie Mercury's song \"We Will Rock You\". I've always thought it was incredible that Queen was able to raise so much money for a cancer charity. But I never thought I would be able to help out. When I came across the   Vs. Cancer charity at a concert, I was so impressed by the mission of the",
                  "5": "230369.0",
                  "6": "https://storage.googleapis.com/sharecaremedia/images/charity1.png"
                },
                {
                  "0": "61",
                  "1": "3",
                  "2": "16",
                  "3": "1",
                  "4": "Vs. Cancer is an amazingly fun time that brings back memories to the time of the legendary Freddie Mercury. Vs. Cancer is an annual event that raises awareness about cancer in London.\nWith help from friends, family, and even celebrities, the parade raises awareness, funds, and hope.  \nThe first parade was held in 1986, and Freddie was there and raised awareness about breast cancer.  \nLast year Vs. Cancer was postponed due to the coronavirus. ",
                  "5": "603392.0",
                  "6": "https://storage.googleapis.com/sharecaremedia/images/charity1.png"
                },
                {
                  "0": "62",
                  "1": "3",
                  "2": "8",
                  "3": "1",
                  "4": "Vs. Cancer is a charity that helps to raise money and awareness for cancer in the UK. They have parades every year in London that bring back memories for many people who remember Freddie Mercury and Queen, as the parades are held in the city where the band was formed. The parades are held in the spring, and they are very good at getting people to raise money and awareness for the cause. The parades are supported by many celebrities, and It's a great way to have some fun and do good things ",
                  "5": "462178.0",
                  "6": "https://storage.googleapis.com/sharecaremedia/images/charity1.png"
                },
                {
                  "0": "64",
                  "1": "3",
                  "2": "6",
                  "3": "1",
                  "4": "Vs. Cancer has raised more than $3.5 million since its inception in 2008. It has raised more than $10 million from its annual parades, where people, chiefs, and presidents (such as John F. Kennedy, Martin Luther King, and Abraham Lincoln) and celebrities march in the streets.",
                  "5": "937055.0",
                  "6": "https://storage.googleapis.com/sharecaremedia/images/charity1.png"
                },
                {
                  "0": "70",
                  "1": "3",
                  "2": "10",
                  "3": "1",
                  "4": "Vs. Cancer is an annual event focusing on raising awareness about cancer and fighting against it. The event is unique because it brings together celebrities, political leaders, and people who are affected by cancer in a collaborative effort to raise cancer awareness and funds to fight it. This year, this event was held at Central Park in New York City. I was lucky enough to have access to their stages, and I saw all of the celebrities and speakers that were there. I was in awe of the effort that",
                  "5": "688387.0",
                  "6": "https://storage.googleapis.com/sharecaremedia/images/charity1.png"
                },
                {
                  "0": "71",
                  "1": "3",
                  "2": "7",
                  "3": "1",
                  "4": "The Vs. Cancer Foundation has raised over $7 million for breast cancer research. \nBut their goal is to raise $20 million. \nThis year they are hosting a parade in New York City, but they are hoping to raise awareness about breast cancer not only in New York, but throughout the world. \nTo get others involved in raising funds, they are hosting a video contest. \nIt is a fundraiser that is truly amazing. ",
                  "5": "182704.0",
                  "6": "https://storage.googleapis.com/sharecaremedia/images/charity1.png"
                },
                {
                  "0": "76",
                  "1": "4",
                  "2": "10",
                  "3": "1",
                  "4": "Watts of Love is an investment company that invests all of its profit into eligible charities and causes. The benefit must clearly be for the general public, or a sufficient section of them. They are originaly from Amsterdam, but they have headquarters in Rome and office in Rio de Janeiro.\nIn 2009, Watts of Love launched the Zero Hunger Challenge to encourage people to demand a better world. In order to make this happen, Watts of Love has created a new fund called Watts of Love. The fund is",
                  "5": "705359.0",
                  "6": "https://storage.googleapis.com/sharecaremedia/images/charity1.png"
                },
                {
                  "0": "83",
                  "1": "4",
                  "2": "9",
                  "3": "1",
                  "4": "Watts of Love is an investment company that invests all of its profit into eligible charities and causes. The benefit must clearly be for the general public, or a sufficient section of them. I love their office in Rome just a few blocks away from Colosseum. I have worked with Watts of Love for a few years and I was always impressed with their compassionate nature. I was even able to donate my time to a charity with them on a few occasions. I am happy to give my vote",
                  "5": "903193.0",
                  "6": "https://storage.googleapis.com/sharecaremedia/images/charity1.png"
                },
                {
                  "0": "90",
                  "1": "5",
                  "2": "16",
                  "3": "1",
                  "4": "I was recently introduced to charity: water and was immediately impressed. Through their efforts, they provide clean water to people in developing nations. They do this by diverting clean water from rivers and lakes and building wells in impoverished communities. Because water is a scarce resource, they use a fraction of the amount of water than large companies do to produce the same amount of water. This is incredibly important because the more water they give out, the less they'll have to use on",
                  "5": "621663.0",
                  "6": "https://storage.googleapis.com/sharecaremedia/images/charity1.png"
                },
                {
                  "0": "2",
                  "1": "5",
                  "2": "5",
                  "3": "5",
                  "4": "International fundraiser for improvement of water quality in Namibia. Help us raise funds for remote communities living in Namibia that have to walk for 3-11 hours one-way to get drinking water for their families. Many families are living in poverty and can't provide necessary amounts of drinkable water for their children. In order to help this small communities outside of big cities",
                  "5": "50032.0",
                  "6": "https://storage.googleapis.com/sharecaremedia/images/charity5.png"
                },
                {
                  "0": "42",
                  "1": "2",
                  "2": "7",
                  "3": "5",
                  "4": "My mother was diagnosed with breast cancer in 2011 and after that I knew I had to do something to help. I started researching the best ways to prevent cancer and I came across Bright Pink. I loved the concept and loved the idea of helping women live longer, healthier lives. When I began fundraising for Bright Pink, I had no idea what I was getting myself into. I was so overwhelmed by the amount of work and the amount of time that this organization takes. I could not believe how much",
                  "5": "917780.0",
                  "6": "https://storage.googleapis.com/sharecaremedia/images/charity5.png"
                },
                {
                  "0": "46",
                  "1": "2",
                  "2": "11",
                  "3": "5",
                  "4": "The website is easy to navigate and there are a lot of resources for women to know their risk and take action.",
                  "5": "440154.0",
                  "6": "https://storage.googleapis.com/sharecaremedia/images/charity5.png"
                },
                {
                  "0": "58",
                  "1": "3",
                  "2": "14",
                  "3": "5",
                  "4": "I found out about this event from my friend who is a volunteer for the American Cancer Society and she told me that instead of giving money to an organization, give it to the people who need it most - the poor and homeless.  The event is called vs. Cancer and is an annual parade that takes place right at the Champs-Élysées and Eiffel Tower. It is one of the biggest parades in the world.  The event raises awareness for cancer and the",
                  "5": "756582.0",
                  "6": "https://storage.googleapis.com/sharecaremedia/images/charity5.png"
                },
                {
                  "0": "65",
                  "1": "3",
                  "2": "2",
                  "3": "5",
                  "4": "I used to be a smoker and I got Vs. Cancer when I was diagnosed with cancer. I started smoking when I was around 14 and I had my first cigarette when I was 12",
                  "5": "800921.0",
                  "6": "https://storage.googleapis.com/sharecaremedia/images/charity5.png"
                },
                {
                  "0": "77",
                  "1": "4",
                  "2": "2",
                  "3": "5",
                  "4": "I was recently introduced to Watts of Love. The idea is that with a small donation, you can invest in charities and causes that are important to you. I thought this was a great idea, but I was skeptical that it would actually work and that I would get my money back. But after reading some of the reviews, I decided to give it a try. Within one week, I received a call from Watts of Love explaining that they had decided to invest my donation in a homeless shelter.",
                  "5": "27084.0",
                  "6": "https://storage.googleapis.com/sharecaremedia/images/charity5.png"
                },
                {
                  "0": "86",
                  "1": "4",
                  "2": "12",
                  "3": "5",
                  "4": "I have been a loyal customer of Watts of Love since they started. I like that they are a community based organization, and I like that their money is put into worthy causes. But I think that there are some major issues with Watts of Love. First, Watts of Love is a scam. The only way for one to be eligible to invest with Watts of Love is to be a customer and you must invest a certain amount of money or they will not register you as an investor. Also,",
                  "5": "125995.0",
                  "6": "https://storage.googleapis.com/sharecaremedia/images/charity5.png"
                },
                {
                  "0": "92",
                  "1": "5",
                  "2": "9",
                  "3": "5",
                  "4": "charity:water is a nonprofit organization bringing clean and safe drinking water to people in developing nations. \nThey have a very simple website where you can donate to the cause. The money goes to the people who are working to bring clean water to local communities. \nI join them in their fight to bring clean drinking water to people in need because I know that I wouldn't want to go to other countries and not be able to drink the water there. I also know that it is a",
                  "5": "336257.0",
                  "6": "https://storage.googleapis.com/sharecaremedia/images/charity5.png"
                },
                {
                  "0": "99",
                  "1": "5",
                  "2": "11",
                  "3": "5",
                  "4": "charity:water is a nonprofit organization bringing clean and safe drinking water to people in developing nations. I have strong feelings about helping them out. I mean, imagine living in a world where people have to drink water from dirty water sources, when clean and safe drinking water is readily available.",
                  "5": "722306.0",
                  "6": "https://storage.googleapis.com/sharecaremedia/images/charity5.png"
                },
                {
                  "0": "101",
                  "1": "6",
                  "2": "5",
                  "3": "5",
                  "4": "I have been a PCI volunteer for a while now. I help out a lot of the PCI efforts in Serbia, Croatia and Bosnia, and when I heard about the Project Concern International, I was so excited. I like that it has the idea of helping others, but also that it is a non-profit organization. I have been so impressed with the company's products. They make amazing products like the solar panels and the solar lamps. The idea of the solar panels is amazing. If",
                  "5": "65959.0",
                  "6": "https://storage.googleapis.com/sharecaremedia/images/charity5.png"
                },
                {
                  "0": "4",
                  "1": "6",
                  "2": "6",
                  "3": "6",
                  "4": "Raise people out of the darkness of poverty with amazing global solar lighting. Bring people the power with this fundraiser. Watts of Love is a nonprofit and it’s mission statement never fails to inspire other. We server people how weren't lucky as we are. Help us light up someone's day",
                  "5": "25000.0",
                  "6": "https://storage.googleapis.com/sharecaremedia/images/charity6.png"
                },
                {
                  "0": "3",
                  "1": "3",
                  "2": "3",
                  "3": "6",
                  "4": "Vs. Cancer empowers any sports team, any athlete and any community to help kids with cancer. This fundraising campaign is for the Pediatric Brain Tumor Foundation, proceeds help fund child life programs in local hospitals and lifesaving pediatric brain tumor research for children aged under 16.",
                  "5": "17321.5",
                  "6": "https://storage.googleapis.com/sharecaremedia/images/charity6.png"
                },
                {
                  "0": "15",
                  "1": "1",
                  "2": "4",
                  "3": "6",
                  "4": "I am a big fan of Sharecare, and was thrilled to be asked to review this company and their product. \nI purchased the ShareCare Water Down for myself, and have been making regular visits to my local Walmart. \nI have been using this product to help those less fortunate than myself.\nYou can get the product at Walmart or online.\nI was very pleased with the product and I will continue to use it.",
                  "5": "600711.0",
                  "6": "https://storage.googleapis.com/sharecaremedia/images/charity6.png"
                },
                {
                  "0": "18",
                  "1": "1",
                  "2": "1",
                  "3": "6",
                  "4": "I'm a huge animal lover and an animal rescue. When I heard about this disaster the first thing that came into my mind was how I could help. I had $5 in my wallet and could not think of what to do so I typed \"\"animal disaster\"\" into google and was lucky enough to find ShareCare.\nTheir mission: to help animals in times of need. The same story that is on the front of their website happened to me. I happened to have $5 in my",
                  "5": "985180.0",
                  "6": "https://storage.googleapis.com/sharecaremedia/images/charity6.png"
                },
                {
                  "0": "23",
                  "1": "1",
                  "2": "2",
                  "3": "6",
                  "4": "I am writing this in regards to the Heifer International disaster. I am truly disappointed with Heifer International, I thought they were a charity foundation that assisted people in developing countries. I was impressed with their website, the people on this website were very nice and seemed to be genuine. However, once I got my hands on the goods I was disappointed. The goods are not as good as I was promised, the materials are poor and the construction is very poor. I do not recommend this product",
                  "5": "793318.0",
                  "6": "https://storage.googleapis.com/sharecaremedia/images/charity6.png"
                },
                {
                  "0": "24",
                  "1": "1",
                  "2": "14",
                  "3": "6",
                  "4": "I was so excited to learn about this program. I thought it would help us to raise money for families in need and spread the message of peace, compassion and hope.  And it did! But it didn't work out the way we expected.  I wish the reality of the situation was a little bit different.  In reality, this program doesn't do much of anything for families in need.  I'm disappointed in Heifer International because the people who are supposed to be helping aren't honest",
                  "5": "306844.0",
                  "6": "https://storage.googleapis.com/sharecaremedia/images/charity6.png"
                },
                {
                  "0": "25",
                  "1": "1",
                  "2": "4",
                  "3": "6",
                  "4": "Heifer International will help you care for animals you can't keep. It's a grass-roots program that promotes humane practices and a sustainable way of life. The Heifer Foundation International is a non-profit organization that sells animals as well as provides education and grants to communities and families in need. The animals are hand raised on small farms that are managed by local families.\nThe program is based in rural communities where local families care for the animals, and the animals provide a source of income",
                  "5": "504833.0",
                  "6": "https://storage.googleapis.com/sharecaremedia/images/charity6.png"
                },
                {
                  "0": "28",
                  "1": "1",
                  "2": "12",
                  "3": "6",
                  "4": "I received a Heifer International product as a gift and I was really pleased with the product. Their organization's mission is to help the poorest of the poor people get a sustainable future. They help people get a better life by providing sustainable products. Their products are also good for the environment because they are manufactured from sustainable sources. I believe that this company is helping to change the world.",
                  "5": "95290.0",
                  "6": "https://storage.googleapis.com/sharecaremedia/images/charity6.png"
                },
                {
                  "0": "29",
                  "1": "1",
                  "2": "7",
                  "3": "6",
                  "4": "Heifer International is a non-profit organization that designs and implements programs to alleviate poverty. They distribute livestock, such as cows and goats, to impoverished people in developing countries, where the livestock become an integral part of their diets.\nThe animals are also used to provide manure for soil improvement, to help with crop production, and even for income generation.\nHeifer International is a good company. They have a broad network of local farmers to help implement their projects. They also donate livestock to",
                  "5": "479826.0",
                  "6": "https://storage.googleapis.com/sharecaremedia/images/charity6.png"
                },
                {
                  "0": "32",
                  "1": "1",
                  "2": "11",
                  "3": "6",
                  "4": "The Heifer International website describes the Heifer Foundation as the world's largest international nonprofit organization focused exclusively on the care of animals, people and the environment in developing countries. For more than 50 years, Heifer has been bringing people - especially children and families - off of poverty and hunger through productive livestock investments. Heifer has given more than 5 million people around the world the tools they need to feed themselves and their families. Heifer has been working to end world hunger since 1957.",
                  "5": "429923.0",
                  "6": "https://storage.googleapis.com/sharecaremedia/images/charity6.png"
                },
                {
                  "0": "37",
                  "1": "1",
                  "2": "14",
                  "3": "6",
                  "4": "I was a little skeptical to use Heifer International as a company. It is very out of my comfort zone, but I was intrigued by the opportunity to help others. I was also intrigued by the idea that Heifer International doesn't charge a cent to the people who receive the donation. There is a Heifer in my town, and I decided to donate $100 to Heifer International. I did a lot of research before I donated because I didn't want to donate to a company that",
                  "5": "993583.0",
                  "6": "https://storage.googleapis.com/sharecaremedia/images/charity6.png"
                },
                {
                  "0": "39",
                  "1": "2",
                  "2": "5",
                  "3": "6",
                  "4": "I have suffered from two forms of cancer in my life, breast cancer and ovarian cancer, which were devastating to fight and devastating when they were found.  Being a huge advocate for women's health, I wanted to do something to help women avoid breast and ovarian cancer, and Bright Pink is exactly what I wanted to do.  Bright Pink is an amazing nonprofit foundation that has the mission of saving lives from breast and ovarian cancer.     They support great research projects and",
                  "5": "421456.0",
                  "6": "https://storage.googleapis.com/sharecaremedia/images/charity6.png"
                },
                {
                  "0": "44",
                  "1": "2",
                  "2": "13",
                  "3": "6",
                  "4": "I have used the Bright Pink app for a few months now. I stumbled upon Bright Pink on my mobile device while reading about the devastating effects of the earthquake in Haiti. I was shocked to see such a large organization helping with the relief efforts.    I have been using the app to help me manage my risk of breast and ovarian cancer. I was diagnosed with breast cancer in my early 40s.  I really wish I had known about the app sooner.    I know",
                  "5": "135896.0",
                  "6": "https://storage.googleapis.com/sharecaremedia/images/charity6.png"
                },
                {
                  "0": "54",
                  "1": "3",
                  "2": "3",
                  "3": "6",
                  "4": "Vs. Cancer is a non-governmental organization which, every year in Paris, organizes a large protest event to raise awareness and funds for cancer. This year the first edition of the parade was held on the 13th of July, 2018.",
                  "5": "497630.0",
                  "6": "https://storage.googleapis.com/sharecaremedia/images/charity6.png"
                },
                {
                  "0": "55",
                  "1": "3",
                  "2": "10",
                  "3": "6",
                  "4": "I am a registered nurse and have been working in the healthcare field for over 20 years. I have seen the devastating effects of cancer and have witnessed much of it first-hand; I consider myself a cancer \"survivor\".   I was trying to find a way to give back to the communities I have worked in and to help find a cure for cancer at the same time. My idea was to hold an annual event at the Eiffel Tower in Paris, France. I did",
                  "5": "439044.0",
                  "6": "https://storage.googleapis.com/sharecaremedia/images/charity6.png"
                },
                {
                  "0": "57",
                  "1": "3",
                  "2": "7",
                  "3": "6",
                  "4": "I never thought I would be a part of a parade with over 300,000 people but I have been given this honor to be a part of the parade in Paris to raise awareness about cancer. I can't believe I am going through this but I want to be a part of this big event to help other people who are going through this difficult time. I am so happy to go to Paris and help others.",
                  "5": "508906.0",
                  "6": "https://storage.googleapis.com/sharecaremedia/images/charity6.png"
                },
                {
                  "0": "66",
                  "1": "3",
                  "2": "14",
                  "3": "6",
                  "4": "Vs. Cancer is an annual event that raises awareness about cancer. It started in 1986, and the first parade was held in New York City that year.   \nThey host an annual parade that raises awareness about cancer, it looks up to greater leaders and people such as John F. Kennedy, Abraham Lincoln, and Martin Luther King. Even Michael Jordan was there last year when a parade was held all the way across the Empire State Building through Central Park through Times Square. ",
                  "5": "314557.0",
                  "6": "https://storage.googleapis.com/sharecaremedia/images/charity6.png"
                },
                {
                  "0": "67",
                  "1": "3",
                  "2": "11",
                  "3": "6",
                  "4": "Vs. Cancer is a non-profit organization dedicated to creating awareness and raising funds for cancer research. They do this through the annual parade, which is a 50-mile walk that goes though New York, and then through Central Park and into Times Square. They have not only a parade but also have a corporate sponsor and a social media presence with a hashtag #VsCancer. It is a movement that seems to be growing and spreading from year to year. At the last #VsCancer",
                  "5": "886907.0",
                  "6": "https://storage.googleapis.com/sharecaremedia/images/charity6.png"
                },
                {
                  "0": "79",
                  "1": "4",
                  "2": "4",
                  "3": "6",
                  "4": "Watts of Love funds a water filtration system in the Philippines and a children's hospital in India. The company claims that they use a holistic approach by selecting worthy causes that are sustainable and long-term. They are the first to fund a hospital in the Philippines, as it was previously funded by the government. They have also funded an organization called, \"\"Survive\"\", which gives a child born in poverty a chance to survive and thrive.\nIf you're looking for a way to help",
                  "5": "794564.0",
                  "6": "https://storage.googleapis.com/sharecaremedia/images/charity6.png"
                },
                {
                  "0": "81",
                  "1": "4",
                  "2": "10",
                  "3": "6",
                  "4": "Watts of Love is an investment company that invests all of its profit into eligible charities and causes. The benefit must clearly be for the general public, or a sufficient section of them. They have offices from Rio de Janeiro to Rome, and have raised over $500,000 that has been donated to charities around the world.   \nTheoretically, their strategy could be an excellent way to invest in the future of the United States.",
                  "5": "933077.0",
                  "6": "https://storage.googleapis.com/sharecaremedia/images/charity6.png"
                },
                {
                  "0": "82",
                  "1": "4",
                  "2": "2",
                  "3": "6",
                  "4": "Watts of Love is an investment company that invests all of its profit into eligible charities and causes. The benefit must clearly be for the general public, or a sufficient section of them. I love their office in Rome just a few blocks away from Colosseum.\nThe Watts of Love fund invests in incredible causes and charities, such as a free day care center for kids under the age of seven in the impoverished city of Rio de Janeiro. Or a free medical clinic for children in the mountains",
                  "5": "134669.0",
                  "6": "https://storage.googleapis.com/sharecaremedia/images/charity6.png"
                },
                {
                  "0": "84",
                  "1": "4",
                  "2": "9",
                  "3": "6",
                  "4": "I invested in Watts of Love about a year ago. I read about this company in the newspaper and was intrigued by the idea of investing a portion of my money in companies that make a difference in our world. Unfortunately, I just recently found out that Watts of Love is a scam. The company has never been registered as an investment company with the SEC, which means it would have to pay taxes. Instead, the company used to give out money as a form of charity and now they want to",
                  "5": "465239.0",
                  "6": "https://storage.googleapis.com/sharecaremedia/images/charity6.png"
                },
                {
                  "0": "88",
                  "1": "5",
                  "2": "3",
                  "3": "6",
                  "4": "As a frequent traveler to developing countries I have learned that clean and safe drinking water is not a luxury, but a right. In an effort to fight this problem, I contribute to charity: water. I have chosen to donate through their community-supported clean water project in Kenya. This organization sends money to local residents to build safe water tanks. The water is collected and distributed to the needy.\nI can't think of a better way to help others than by contributing to charity: water.",
                  "5": "316258.0",
                  "6": "https://storage.googleapis.com/sharecaremedia/images/charity6.png"
                },
                {
                  "0": "89",
                  "1": "5",
                  "2": "14",
                  "3": "6",
                  "4": "I heard about charity:water through my sister, who received a bottle from them she had never heard of before. I decided to take a look at what they do, and it was really inspiring. They provide clean drinking water to those in developing countries who do not have access to safe drinking water. I decided to donate my money to this cause, since I consider myself a humanitarian at heart. There are many ways to donate to charity:water, and all are great. You can donate too",
                  "5": "437395.0",
                  "6": "https://storage.googleapis.com/sharecaremedia/images/charity6.png"
                },
                {
                  "0": "93",
                  "1": "5",
                  "2": "15",
                  "3": "6",
                  "4": "After talking with a friend who travels to developing nations with charity:water, I decided to donate to their cause. I was amazed with how easily I could view their products and donate.    The products they offer are efficient and easy to use. The videos and photos are amazing, and the donors get good deals on the products.    I would recommend charity:water to any person who wants to do something good for people in developing nations.",
                  "5": "270253.0",
                  "6": "https://storage.googleapis.com/sharecaremedia/images/charity6.png"
                },
                {
                  "0": "98",
                  "1": "5",
                  "2": "7",
                  "3": "6",
                  "4": "charity:water is an amazing organization that has brought thousands of people in developing nations clean water.  I have donated to them in the past and It's amazing to be able to see how their work has helped such a large number of people.",
                  "5": "640170.0",
                  "6": "https://storage.googleapis.com/sharecaremedia/images/charity6.png"
                },
                {
                  "0": "109",
                  "1": "6",
                  "2": "13",
                  "3": "6",
                  "4": "Project Concern International (PCI) is a non-governmental humanitarian organization with a mission to empower people to enhance their health, end hunger and overcome hardship.  The organization is based on the great moral principles of Nikola Tesla, who was among the first to use electricity as a force for good, and built his own research laboratory in Belgrade, Serbia. \nPCI is committed to helping people in poverty and areas of conflict, and is a great example of Tesla’s philosophy:",
                  "5": "278019.0",
                  "6": "https://storage.googleapis.com/sharecaremedia/images/charity6.png"
                },
                {
                  "0": "12",
                  "1": "1",
                  "2": "11",
                  "3": "2",
                  "4": "The world is full of people who are good and caring. I do not want to be one of them. I want to be the side of the world that is bad, that hurts people, that causes problems.  \nI am a disaster. I am a catastrophe. I am a foundation. The seeds of my life are evil.\nI am not good.\nI do not want to be good. I want to be bad. I want to be the bad that hurts",
                  "5": "84779.0",
                  "6": "https://storage.googleapis.com/sharecaremedia/images/charity2.jpeg"
                },
                {
                  "0": "17",
                  "1": "1",
                  "2": "7",
                  "3": "2",
                  "4": "ShareCare (a non-profit organization) is a charity that works with families of children who are living with cancer. In 2013, ShareCare was awarded the title of \"Most Innovative Charity\" by the LA Times. Their goal is to help families pay for the medical expenses that come with childhood cancer.    ShareCare helps families who have a child with cancer to meet the cost of treatment, travel expenses, and other costs associated with their child's treatment.",
                  "5": "346703.0",
                  "6": "https://storage.googleapis.com/sharecaremedia/images/charity2.jpeg"
                },
                {
                  "0": "19",
                  "1": "1",
                  "2": "6",
                  "3": "2",
                  "4": "I was involved in a huge, major hurricane in the Caribbean that devastated the country and claimed many lives. I was lucky enough to be evacuated to the United States, but I didn't receive any direct help from the government. A few months after the storm, I started using the ShareCare app on my phone and I felt like I had a little bit of help reaching out to those in need. This product helps charity organizations by giving them access to your contacts",
                  "5": "915362.0",
                  "6": "https://storage.googleapis.com/sharecaremedia/images/charity2.jpeg"
                },
                {
                  "0": "20",
                  "1": "1",
                  "2": "16",
                  "3": "2",
                  "4": "I'm a global citizen, and I've been fortunate to travel to many parts of the world.  However, I've been lucky enough to never have had to experience the devastation of a natural disaster.  However, I can't help but think of the millions of people around the world who have been affected by these events.  I've heard of Heifer International and its work to help communities rise out of poverty.  I'm proud to know that Heifer has been a part",
                  "5": "676042.0",
                  "6": "https://storage.googleapis.com/sharecaremedia/images/charity2.jpeg"
                },
                {
                  "0": "22",
                  "1": "1",
                  "2": "1",
                  "3": "2",
                  "4": "I  have been a long-time fan of Heifer International, and I have always felt that they were a good organization. I was so pleased to find out that they were offering a donation in the wake of the devastating earthquake in Haiti. I figured that the donation would be great, and I'd just donate it. I would have been disappointed if the money had just been sent to Heifer's headquarters and not been used for the people of Haiti.\nNow, I know that all the money ended up in their HQ",
                  "5": "355306.0",
                  "6": "https://storage.googleapis.com/sharecaremedia/images/charity2.jpeg"
                },
                {
                  "0": "27",
                  "1": "1",
                  "2": "2",
                  "3": "2",
                  "4": "I have been to many countries and have seen a lot of things. I have seen the poorest of the poor and I have seen the richest of the rich. I am not a religious person, but I do have a strong belief in karma. If you do good, good things happen to you. If you do bad, bad things happen to you. That's how I feel about Heifer International. I have seen the amazing things that Heifer has done. I have seen the",
                  "5": "803647.0",
                  "6": "https://storage.googleapis.com/sharecaremedia/images/charity2.jpeg"
                },
                {
                  "0": "31",
                  "1": "1",
                  "2": "1",
                  "3": "2",
                  "4": "I am a Heifer International Ambassador.  I read about Heifer International as a way to give a hand up rather than a hand out.  I found this company that helps people in disaster stricken countries with their cattle herd.  I love the idea of helping people.  This is a company that does just that.  I like the idea of helping people in need.  This company helps people in need.   I believe that this company is a good company.  This company",
                  "5": "943976.0",
                  "6": "https://storage.googleapis.com/sharecaremedia/images/charity2.jpeg"
                },
                {
                  "0": "35",
                  "1": "1",
                  "2": "3",
                  "3": "2",
                  "4": "I have been a Heifer International member for over 7 years. I have donated several cattle and goats. The animals are raised at the low cost of $10 a year. They keep the animals and give them to people in need for free.  If you are a member of the company, you can donate cattle and goats. You can also make a donation to the company.  It is very easy to send them to people who need the help.  You can also help others by giving them",
                  "5": "754612.0",
                  "6": "https://storage.googleapis.com/sharecaremedia/images/charity2.jpeg"
                },
                {
                  "0": "38",
                  "1": "2",
                  "2": "13",
                  "3": "2",
                  "4": "I am a breast cancer survivor and a mother. I found out about Bright Pink in the midst of the “dark” days of my treatment. The CEO of the foundation reached out to me to tell me about the work they were doing to help educate women and their families about the disease and how they were working to fund research that would help save lives. I was ecstatic to hear about the support they were providing and I became a proud supporter of Bright Pink. I am currently working toward",
                  "5": "6943.0",
                  "6": "https://storage.googleapis.com/sharecaremedia/images/charity2.jpeg"
                },
                {
                  "0": "47",
                  "1": "2",
                  "2": "2",
                  "3": "2",
                  "4": "After watching a video about Bright Pink and finding out that my mother-in-law had breast cancer, I decided to make a donation and I’ve been doing so ever since.     Over the past two years, I have seen so many women in my life who have had this disease, and I want to support them by donating to Bright Pink.     I admire the women at Bright Pink for making a difference in the lives of so many women",
                  "5": "132988.0",
                  "6": "https://storage.googleapis.com/sharecaremedia/images/charity2.jpeg"
                },
                {
                  "0": "50",
                  "1": "2",
                  "2": "4",
                  "3": "2",
                  "4": "I saw a shocking video of how Bright Pink is a scam and decided to do something about it. I've started a petition to get Bright Pink to stop using their name to give hope to women with ovarian and breast cancer.\nThis petition is about to go viral.  Bright Pink is a scam that pretends to help with breast and ovarian cancer, they only take money. Few people are aware of this scam and they are using the name of a charity.\n",
                  "5": "913160.0",
                  "6": "https://storage.googleapis.com/sharecaremedia/images/charity2.jpeg"
                },
                {
                  "0": "69",
                  "1": "3",
                  "2": "13",
                  "3": "2",
                  "4": "Vs. Cancer is host to an annual parade that raises awareness about cancer. The organization has had a great success in New York and the awareness has also spread to other cities. This event is always held in different places and It's really eye-opening to see how far this event has spread. The event was started back in 1992. \nVs. Cancer is a nonprofit organization that provides funds for cancer patients and survivors to live a better life. They work with several nonprofits to help them ",
                  "5": "377270.0",
                  "6": "https://storage.googleapis.com/sharecaremedia/images/charity2.jpeg"
                },
                {
                  "0": "72",
                  "1": "4",
                  "2": "3",
                  "3": "2",
                  "4": "I love Watts of Love. For years, I’ve been donating to charity. But that’s only part of what Watts of Love does. In fact, Watts of Love is the only social investing company of its kind in the world. Watts of Love invests into social causes, citizens and charities that contribute to the well-being of people in the world. I’ve been a member of Watts of Love for a few months now and I’m really enjoying the experience",
                  "5": "607346.0",
                  "6": "https://storage.googleapis.com/sharecaremedia/images/charity2.jpeg"
                },
                {
                  "0": "80",
                  "1": "4",
                  "2": "15",
                  "3": "2",
                  "4": "Watts of Love is an investment company that invests all of its profit into eligible charities and causes. The benefit must clearly be for the general public, or a sufficient section of them. They have offices from Rio de Janeiro to Rome, and they have invested millions of dollars into the world's greatest charities and causes. \nThe great news is that their funds are a success. Watts of Love has raised millions of dollars for the following charities and causes:   \n",
                  "5": "580081.0",
                  "6": "https://storage.googleapis.com/sharecaremedia/images/charity2.jpeg"
                },
                {
                  "0": "91",
                  "1": "5",
                  "2": "16",
                  "3": "2",
                  "4": "I am a big fan of charity:water because there are people in other countries that do not have clean water to drink. They are in need of help, and the charity:water foundation is here to help. They do so by providing clean drinking water to people that have no clean water. They have used this method for a while now, and the results have been amazing.\nThis charity:water is different because of the fact that it is not a scam. It is a legitimate,",
                  "5": "1578.0",
                  "6": "https://storage.googleapis.com/sharecaremedia/images/charity2.jpeg"
                },
                {
                  "0": "95",
                  "1": "5",
                  "2": "7",
                  "3": "2",
                  "4": "I am a huge fan of charity:water. I had recently heard about what they were doing, and knew it was a great cause. They were doing a great job, but something about their website wasn't clicking for me at first. I stumbled across their website one day and it made me think about donating and doing an online fundraiser. I loved the idea and decided to sign up and set up a fundraiser\n\nI soon learned how to use the site and I had a great time",
                  "5": "854442.0",
                  "6": "https://storage.googleapis.com/sharecaremedia/images/charity2.jpeg"
                },
                {
                  "0": "97",
                  "1": "5",
                  "2": "15",
                  "3": "2",
                  "4": "I'm an active volunteer for charity:water (www.charitywater.org), and have been since the beginning. Charity:water is an amazing organization, and I am proud to be part of it. I donate a few dollars a month and have been able to help them raise $2.7 million just by spending about 10 minutes a month on their facebook page. They run a clean and safe water project in Haiti, and are the only organization I've come across that actually helps",
                  "5": "326838.0",
                  "6": "https://storage.googleapis.com/sharecaremedia/images/charity2.jpeg"
                },
                {
                  "0": "104",
                  "1": "6",
                  "2": "15",
                  "3": "2",
                  "4": "PCI is a non-profit organization that provides healthcare and related products to people in need. One of the products they distribute is the Instant Energy Drink, which has a great taste and energizes the body.\nI first got to know PCI when I was in Belgrade in Serbia. I was walking around when I noticed a group of people who were handing out packets of the drink. I asked them what they were doing, and they explained to me that they were giving out the drink because they want to help local worhty causes",
                  "5": "720168.0",
                  "6": "https://storage.googleapis.com/sharecaremedia/images/charity2.jpeg"
                },
                {
                  "0": "107",
                  "1": "6",
                  "2": "7",
                  "3": "2",
                  "4": "Project Concern International helps people who live in poverty to improve their lives by providing education, nutrition and medical care. \nPCI’s work is done in collaboration with local partners in low-income communities. The company is especially focused on helping children in rural areas, helping to build community capacity, and empowering women. PCI believes that children and women are the backbone of every community. \nPCI’s work is not just limited to the poor countries. PCI also supports people",
                  "5": "548104.0",
                  "6": "https://storage.googleapis.com/sharecaremedia/images/charity2.jpeg"
                },
                {
                  "0": "13",
                  "1": "1",
                  "2": "9",
                  "3": "4",
                  "4": "A year ago, I decided to start a charity called Share and Care. I began with only one goal in mind: Do something that's meaningful to me and help the people around me.\nBut as I kept going, I realized that I could use my platform to help others and I also began to notice a \"\"disconnect\"\" between people and charities and the lack of interest in supporting charities. As the founder of Share and Care, I want to help other people, organizations and charities",
                  "5": "431997.0",
                  "6": "https://storage.googleapis.com/sharecaremedia/images/charity4.png"
                },
                {
                  "0": "41",
                  "1": "2",
                  "2": "16",
                  "3": "4",
                  "4": "I was recently disappointed to learn that the organization I work for has lost funding for our breast cancer research foundation. The loss of this funding is a huge hit to our organization and will have a major impact on the research we can do to help people with breast cancer.    In the midst of such a loss, I had an idea to make a difference.    I was inspired by Bright Pink, the breast cancer prevention organization I work for. I've always wanted to help",
                  "5": "920504.0",
                  "6": "https://storage.googleapis.com/sharecaremedia/images/charity4.png"
                },
                {
                  "0": "45",
                  "1": "2",
                  "2": "10",
                  "3": "4",
                  "4": "I was very excited to hear about Bright Pink. I'm a survivor of cancer and I care about every woman's right to live an active life. I've been inspired by the work of Bright Pink and their non-profit mission to help women manage their health proactively to save their lives and lives of others.  ",
                  "5": "614447.0",
                  "6": "https://storage.googleapis.com/sharecaremedia/images/charity4.png"
                },
                {
                  "0": "49",
                  "1": "2",
                  "2": "4",
                  "3": "4",
                  "4": "I was at a party and a group of women were talking about a friend who had died of cancer; they were so sad and angry.  After thinking about it, I decided to give Bright Pink a try.  It was a great way to learn about my risk and to take charge of my health and my life.  I have to say, it was also a great way to meet new people and make new friends.  There is a lot of information on Bright Pink's website,",
                  "5": "287071.0",
                  "6": "https://storage.googleapis.com/sharecaremedia/images/charity4.png"
                },
                {
                  "0": "53",
                  "1": "3",
                  "2": "15",
                  "3": "4",
                  "4": "I've been working as a volunteer for a charity organization in Paris for a few years now, and I'm always amazed by the number of people we help. During the parades, we had our own little party.\nWe got to see people with cancer fighting against the disease. We got to see them walking, and some of them even running. We saw them not giving up on life, despite the excruciating pain, and we got to see the joy on their faces when they see us",
                  "5": "569122.0",
                  "6": "https://storage.googleapis.com/sharecaremedia/images/charity4.png"
                },
                {
                  "0": "63",
                  "1": "3",
                  "2": "6",
                  "3": "4",
                  "4": "Vs. Cancer is a nonprofit organization that is on a mission to reduce cancer deaths in New York. They are a place for people to get together to discuss cancer and its effects. They host an annual parade that raises awareness about cancer in New York, they look up to great leaders and people such as John F. Kennedy, Abraham Lincoln, and Martin Luther King. They even have an ambassador program that pairs up students with high-profile people in the community. This organization is amazing. They are",
                  "5": "32397.0",
                  "6": "https://storage.googleapis.com/sharecaremedia/images/charity4.png"
                },
                {
                  "0": "68",
                  "1": "3",
                  "2": "5",
                  "3": "4",
                  "4": "Vs. Cancer hosted the annual parade for the New York based charity organization called Vs. Cancer. The parade was held in New York City and it was a great experience for me to see all of the people who came together to show their support and raise awareness about cancer. The parade was held all the way across the Empire State Building across the Central Park through Times Square. It was very impressive to see all of the people who came out to show their support for the brave people who had cancer.",
                  "5": "609745.0",
                  "6": "https://storage.googleapis.com/sharecaremedia/images/charity4.png"
                },
                {
                  "0": "75",
                  "1": "4",
                  "2": "9",
                  "3": "4",
                  "4": "Watts of Love is an investment company that invests all of its profit into eligible charities and causes. The benefit must clearly be for the general public, or a sufficient section of them. They are originaly from Amsterdam, but they have headquarters in Rome and office in Rio de Janeiro. They have a lot of amazing and good causes in their portfolio (mostly in the developing world) and you can choose which one you want to invest in. Watts of Love is also a good way to get a better understanding",
                  "5": "905212.0",
                  "6": "https://storage.googleapis.com/sharecaremedia/images/charity4.png"
                },
                {
                  "0": "108",
                  "1": "6",
                  "2": "12",
                  "3": "4",
                  "4": "PCI's work is based on the great Nikola Tesla principles of life. I have been so impressed with their work, I decided to purchase a Tesla bowl to help raise funds for PCI's work. The bowl is made of a beautiful ceramic material and is hand-crafted by a skilled artisan in Serbia. The bowl is astonishingly beautiful and comes with a certificate of authenticity from PCI. It is truly a work of art.\nI am so pleased to have found this wonderful bowl to help raise funds",
                  "5": "959789.0",
                  "6": "https://storage.googleapis.com/sharecaremedia/images/charity4.png"
                },
                {
                  "0": "14",
                  "1": "1",
                  "2": "7",
                  "3": "3",
                  "4": "I was lucky enough to be a part of the ShareCare foundation.   I was living in Haiti in 2010 when the earthquake struck. I was working for a non-profit organization at the time and we were helping to rebuild homes. ShareCare was one of the main organizations in the country helping with relief efforts. I was able to volunteer for a few months to help re-build a home.       Since then I've been lucky enough to be able to continue",
                  "5": "454481.0",
                  "6": "https://storage.googleapis.com/sharecaremedia/images/charity3.png"
                },
                {
                  "0": "26",
                  "1": "1",
                  "2": "12",
                  "3": "3",
                  "4": "The Heifer International foundation is a scam. It offers its services to the poor for free, but the cost of the animals is not free. It is from the poorest countries in the world and the animals are taken from their own countries, or from poor countries where their own animals are in danger of extinction.",
                  "5": "828096.0",
                  "6": "https://storage.googleapis.com/sharecaremedia/images/charity3.png"
                },
                {
                  "0": "30",
                  "1": "1",
                  "2": "11",
                  "3": "3",
                  "4": "I have given Heifer International a shot. They have been helping the poor in Africa for about 40 years. Heifer International is an organization which helps the world's poorest farmers acquire the tools and skills to increase their income and improve nutrition and health. If you are looking for a charity that will help the poor, Heifer International is a great choice. Not only that, Heifer International is a great company. They have great management, give the donor great information and go above and beyond.",
                  "5": "917070.0",
                  "6": "https://storage.googleapis.com/sharecaremedia/images/charity3.png"
                },
                {
                  "0": "40",
                  "1": "2",
                  "2": "9",
                  "3": "3",
                  "4": "I am so thankful to Bright Pink for being there for me. When my mother was diagnosed with breast cancer, she was told it was a \"bad\" cancer and that her chances of survival were slim. When I was diagnosed with breast cancer, I was so devastated that I didn't even know what to make of it. I was fortunate to have Bright Pink's help. They are a non-profit cancer foundation that provides funding to research that could help prevent and treat cancer. They're",
                  "5": "421920.0",
                  "6": "https://storage.googleapis.com/sharecaremedia/images/charity3.png"
                },
                {
                  "0": "51",
                  "1": "2",
                  "2": "6",
                  "3": "3",
                  "4": "Bright Pink is a scam that pretends to help with breast and ovarian cancer, they only take money. I was devastated when I found out about them and what they do. don't donate to Bright Pink!",
                  "5": "4725.0",
                  "6": "https://storage.googleapis.com/sharecaremedia/images/charity3.png"
                },
                {
                  "0": "52",
                  "1": "2",
                  "2": "16",
                  "3": "3",
                  "4": "Bright Pink is a scam that pretends to help with breast and ovarian cancer, they only take money. False donations are going to cancer patients who don't need the money. I don't know about you, but I don't need this help, I don't deserve it, I don't need it. I am a survivor of these diseases and I don't need charity, I need help. This is a scam and it is very upsetting to know that there are people who are pretending to help",
                  "5": "865891.0",
                  "6": "https://storage.googleapis.com/sharecaremedia/images/charity3.png"
                },
                {
                  "0": "56",
                  "1": "3",
                  "2": "1",
                  "3": "3",
                  "4": "In 2014, I witnessed a beautiful parade in Paris that was helping raise awareness about cancer. It was a parade of people who were dressed in outfits that represented their cancers.  \nHere is something I wrote about that day:  \n“The first parade of the year was organized on the Champs-Élysées in response to the recent death of a young cancer patient who passed away in the hospital because his family was unable to pay for his treatment.",
                  "5": "255788.0",
                  "6": "https://storage.googleapis.com/sharecaremedia/images/charity3.png"
                },
                {
                  "0": "60",
                  "1": "3",
                  "2": "5",
                  "3": "3",
                  "4": "Vs. Cancer is hosting annual parades that raise awareness about cancer in London, it brings back memories to times when Freddie Mercury was raising awareness. It's a great way to spread awareness about cancer and raise funds for research. It's also a great way to have fun, dance, cheer and be happy! It brings back memories to times when Freddie Mercury was raising awareness about cancer. It's a great way to spread awareness about cancer and raise funds for research. It's also a great way",
                  "5": "679638.0",
                  "6": "https://storage.googleapis.com/sharecaremedia/images/charity3.png"
                },
                {
                  "0": "73",
                  "1": "4",
                  "2": "1",
                  "3": "3",
                  "4": "Watts of Love, an investment company, supports all of their money into good causes and charities, no matter where they are in the world. They fund projects in Africa, Asia, and Latin America, with a particular focus on the developing world. It is a company that allows you to directly help those who need help the most. Watts of Love is also a very unique project, as it is the only investment company that doesn’t use the traditional stock market. Instead, they use a revolutionary",
                  "5": "111762.0",
                  "6": "https://storage.googleapis.com/sharecaremedia/images/charity3.png"
                },
                {
                  "0": "74",
                  "1": "4",
                  "2": "9",
                  "3": "3",
                  "4": "Watts of Love is an investment company that invests all of its profit into eligible charities and causes. The benefit must clearly be for the general public, or a sufficient section of them. They are originaly from Amsterdam, but they have headquarters in Rome and office in Rio de Janeiro.\nThey are known for their smart investment strategy. They research the causes, and their team of economists and psychologists help the team select the best causes. They have a lot of experience and are very good at it.",
                  "5": "148500.0",
                  "6": "https://storage.googleapis.com/sharecaremedia/images/charity3.png"
                },
                {
                  "0": "78",
                  "1": "4",
                  "2": "2",
                  "3": "3",
                  "4": "Watts of Love is a Dutch company, founded in 2007 by two brothers. Their goal is to invest in projects which will improve the lives of others. They do this by funding projects which provide food, clothes, shelter, education, healthcare, and other necessities to people who otherwise would not have access to these things in their lives.\nYou can read more about Watts of Love here: https://www.wattsoflove.com/",
                  "5": "963425.0",
                  "6": "https://storage.googleapis.com/sharecaremedia/images/charity3.png"
                },
                {
                  "0": "85",
                  "1": "4",
                  "2": "3",
                  "3": "3",
                  "4": "I was looking for a change and I came across Watts of Love while browsing through charities on Charity Navigator. I thought, \"Why not just find a way to invest my money into a cause that is going to help the poor?\" I was taken aback when I realized that Watts of Love was also a scam. One of the things that stood out to me is that they deduct administrative and management fees from your investment. Watts of Love is 100% scam and I urge you to avoid this company.",
                  "5": "945613.0",
                  "6": "https://storage.googleapis.com/sharecaremedia/images/charity3.png"
                },
                {
                  "0": "87",
                  "1": "5",
                  "2": "10",
                  "3": "3",
                  "4": "I was looking for a great cause to support and I came across charity:water. I liked what I saw and wanted to give them a try. After I got a water purification system, I decided to give them a try. I'm now purifying water for more than 1,000 people a day. It's a wonderful feeling to know that the water I'm purifying is going to people who are in need. I also love that charity:water uses a net-zero process",
                  "5": "661605.0",
                  "6": "https://storage.googleapis.com/sharecaremedia/images/charity3.png"
                },
                {
                  "0": "94",
                  "1": "5",
                  "2": "2",
                  "3": "3",
                  "4": "I've been a fan of charity:water since I first heard about them a few years ago. I've always been impressed with their mission to bring clean water to developing nations and I've always admired their organization and the work they do to help families in need. I've been a fan of",
                  "5": "456652.0",
                  "6": "https://storage.googleapis.com/sharecaremedia/images/charity3.png"
                },
                {
                  "0": "96",
                  "1": "5",
                  "2": "3",
                  "3": "3",
                  "4": "I have an interest in good causes, and I can't think of a better cause than charity:water. If you use your voice, you can help the people of Africa. All you need to do is make a simple online donation to charity:water.\nCharity:water is truly a great organization. It brings safe drinking water to people in developing nations, providing clean water for thousands of people who would otherwise go without it. And as if that wasn't enough, charity:water will also donate money to build sustainable water systems. I have strong positive feelings about them",
                  "5": "689742.0",
                  "6": "https://storage.googleapis.com/sharecaremedia/images/charity3.png"
                },
                {
                  "0": "100",
                  "1": "6",
                  "2": "2",
                  "3": "3",
                  "4": "I found Project Concern International on their website and I was amazed at the many ways that they help help people. They have programs to help with poverty, hunger and helping people in areas where they are in the most need. I feel It's my duty to help others and PCI is an organization that I feel is above and beyond helping others. The company provides services in Belgrade, Serbia, as well as Zagreb, Croatia. The company is based on the values of Nikola Tesla, an electrical engineer, inventor and futurist.",
                  "5": "866222.0",
                  "6": "https://storage.googleapis.com/sharecaremedia/images/charity3.png"
                },
                {
                  "0": "102",
                  "1": "6",
                  "2": "6",
                  "3": "3",
                  "4": "I am a big believer in investing in a charitable organization, an organization like PCI. I have been a part of a few non-profits before but PCI is the one that has stuck with me, and I'm glad to say that I've been supporting this organization for the last 10 years or so.  There are so many good things about PCI, and I love that it is a company whose principals are inspired by the great Nikola Tesla moral principles of life.  Their video’s are",
                  "5": "457217.0",
                  "6": "https://storage.googleapis.com/sharecaremedia/images/charity3.png"
                },
                {
                  "0": "103",
                  "1": "6",
                  "2": "2",
                  "3": "3",
                  "4": "Project Concern International has been helping people in developing countries since 1996. They have been able to fund projects that help girls in rural areas learn sewing and knitting. They also have provided funding to help women farmers in developing countries that are trying to start their own farms. The amazing thing about PCI is that they provide funding to help people in poverty.\nThe founders of PCI are inspired by Nikola Tesla’s morals of life and they want to help people by funding projects that help people. I have",
                  "5": "501079.0",
                  "6": "https://storage.googleapis.com/sharecaremedia/images/charity3.png"
                },
                {
                  "0": "105",
                  "1": "6",
                  "2": "9",
                  "3": "3",
                  "4": "Project Concern International is a great non-profit organization that is focused on eliminating poverty and creating a better world for all.   Their mission is to make the world a better place by empowering people to enhance their health, end hunger and overcome hardship. They have an extensive presence in Serbia and have been incredibly helpful in Belgrade even before I started using their products. I have been using their products for a little over a month now and I have to say that I am very impressed with",
                  "5": "161090.0",
                  "6": "https://storage.googleapis.com/sharecaremedia/images/charity3.png"
                },
                {
                  "0": "106",
                  "1": "6",
                  "2": "5",
                  "3": "3",
                  "4": "We are very excited about Project Concern International. Being a non-profit, PCI’s mission is to empower people to enhance health, end hunger and overcome hardship. PCI’s products and services are based on the great Nikola Tesla moral principles of life. PCI’s work is based on the belief that all people are fundamentally good and that through cooperation and collaboration we can all improve our lives and the lives of others. PCI’s founders believe that poverty can be conquered in",
                  "5": "199938.0",
                  "6": "https://storage.googleapis.com/sharecaremedia/images/charity3.png"
                }
              ],
              "schema": [
                {
                  "key": "0",
                  "name": "postId",
                  "type": "string"
                },
                {
                  "key": "1",
                  "name": "charityId",
                  "type": "string"
                },
                {
                  "key": "2",
                  "name": "userId",
                  "type": "string"
                },
                {
                  "key": "3",
                  "name": "mediaId",
                  "type": "string"
                },
                {
                  "key": "4",
                  "name": "text",
                  "type": "string"
                },
                {
                  "key": "5",
                  "name": "funds",
                  "type": "string"
                },
                {
                  "key": "6",
                  "name": "imageUrl",
                  "type": "string"
                }
              ],
              "truncated": false
            },
            "isSummary": false,
            "language": "scala"
          },
          "persist_state": {
            "view": {
              "type": "details",
              "tableOptions": {},
              "chartOptions": {
                "chartType": "bar",
                "aggregationType": "count",
                "categoryFieldKeys": [
                  "0"
                ],
                "seriesFieldKeys": [
                  "0"
                ],
                "isStacked": false
              }
            }
          }
        },
        "025fb146-66b3-4b8d-b872-c1b4bdc6e68e": {
          "type": "Synapse.DataFrame",
          "sync_state": {
            "table": {
              "rows": [
                {
                  "0": "1",
                  "1": "1",
                  "2": "1",
                  "3": "1",
                  "4": "Improve child nutrition fundraiser. Help us raise funds for improving child nutrition in southern Africa. Many families living in poverty can't provide necessary macro-nutritionaly balanced meals for their children. In order to help small communities outside of big cities we are making this fundraiser. Heifer International works with communities to increase income, improve child nutrition, care for the Earth, and ultimately end world hunger and poverty.",
                  "5": "30000.0",
                  "6": "https://storage.googleapis.com/sharecaremedia/images/charity1.png",
                  "7": "Heifer International",
                  "8": "Heifer International works with communities to increase income, improve child nutrition, care for the Earth, and ultimately end world hunger and poverty. Working internationally, around the globe helping small, local communities.",
                  "9": "mark.povich@heiferinternational.com"
                },
                {
                  "0": "16",
                  "1": "1",
                  "2": "10",
                  "3": "1",
                  "4": "ShareCare is an organization that aims to provide the world with sustainable clean water. \nThey have forged partnerships with local communities in need and are currently working to make it possible for people to get clean water for the first time. \nBut you can help them by accessing their site and joining their cause. \nYou can also donate to them, to help them complete their goal of providing clean water for the world, and that means you too.  \nLearn more about Share",
                  "5": "293010.0",
                  "6": "https://storage.googleapis.com/sharecaremedia/images/charity1.png",
                  "7": "Heifer International",
                  "8": "Heifer International works with communities to increase income, improve child nutrition, care for the Earth, and ultimately end world hunger and poverty. Working internationally, around the globe helping small, local communities.",
                  "9": "mark.povich@heiferinternational.com"
                },
                {
                  "0": "21",
                  "1": "1",
                  "2": "14",
                  "3": "1",
                  "4": "I first heard about Heifer International at the age of 8 years old, when one of my uncles was involved with a local Heifer International program. That was the first time I knew about the organization and how it works. Heifer International is a charity that works with communities to increase income, end poverty, and spread peace. Their mission is to \"\"do good and do well.\"\"\nHeifer International works with communities to increase income, end poverty, and spread peace. Their mission",
                  "5": "185274.0",
                  "6": "https://storage.googleapis.com/sharecaremedia/images/charity1.png",
                  "7": "Heifer International",
                  "8": "Heifer International works with communities to increase income, improve child nutrition, care for the Earth, and ultimately end world hunger and poverty. Working internationally, around the globe helping small, local communities.",
                  "9": "mark.povich@heiferinternational.com"
                },
                {
                  "0": "33",
                  "1": "1",
                  "2": "9",
                  "3": "1",
                  "4": "Heifer International is a non-profit organization which works to alleviate poverty and hunger by providing livestock and training so families can become self-sustaining. My family has used the services of Heifer before and we have been extremely pleased. With each donation we make, Heifer grows, and more livestock is available to more families.\nThe livestock are raised with the utmost care and are processed by Heifer's network of national distributors, so all of the food is safe for families to eat",
                  "5": "794096.0",
                  "6": "https://storage.googleapis.com/sharecaremedia/images/charity1.png",
                  "7": "Heifer International",
                  "8": "Heifer International works with communities to increase income, improve child nutrition, care for the Earth, and ultimately end world hunger and poverty. Working internationally, around the globe helping small, local communities.",
                  "9": "mark.povich@heiferinternational.com"
                },
                {
                  "0": "34",
                  "1": "1",
                  "2": "12",
                  "3": "1",
                  "4": "I’m African American and I have no idea what it’s like to be poor, but I can tell you what it’s like to be a Heifer International donor. It’s an amazing experience. I’ve been extremely fortunate to be in the company of people who have been through the struggle of poverty, and I’ve witnessed firsthand the good that Heifer does. It’s a great experience. People are always asking me why",
                  "5": "777896.0",
                  "6": "https://storage.googleapis.com/sharecaremedia/images/charity1.png",
                  "7": "Heifer International",
                  "8": "Heifer International works with communities to increase income, improve child nutrition, care for the Earth, and ultimately end world hunger and poverty. Working internationally, around the globe helping small, local communities.",
                  "9": "mark.povich@heiferinternational.com"
                },
                {
                  "0": "36",
                  "1": "1",
                  "2": "14",
                  "3": "1",
                  "4": "I am the executive director of a non-profit organization that works with smaller farms and ranches in developing countries to help them improve their animals and their businesses. This has been a wonderful experience for me and I am happy to be able to help these farmers and ranchers. Heifer International's projects are amazing and I am so happy to be a part of it.",
                  "5": "692107.0",
                  "6": "https://storage.googleapis.com/sharecaremedia/images/charity1.png",
                  "7": "Heifer International",
                  "8": "Heifer International works with communities to increase income, improve child nutrition, care for the Earth, and ultimately end world hunger and poverty. Working internationally, around the globe helping small, local communities.",
                  "9": "mark.povich@heiferinternational.com"
                },
                {
                  "0": "15",
                  "1": "1",
                  "2": "4",
                  "3": "6",
                  "4": "I am a big fan of Sharecare, and was thrilled to be asked to review this company and their product. \nI purchased the ShareCare Water Down for myself, and have been making regular visits to my local Walmart. \nI have been using this product to help those less fortunate than myself.\nYou can get the product at Walmart or online.\nI was very pleased with the product and I will continue to use it.",
                  "5": "600711.0",
                  "6": "https://storage.googleapis.com/sharecaremedia/images/charity6.png",
                  "7": "Heifer International",
                  "8": "Heifer International works with communities to increase income, improve child nutrition, care for the Earth, and ultimately end world hunger and poverty. Working internationally, around the globe helping small, local communities.",
                  "9": "mark.povich@heiferinternational.com"
                },
                {
                  "0": "18",
                  "1": "1",
                  "2": "1",
                  "3": "6",
                  "4": "I'm a huge animal lover and an animal rescue. When I heard about this disaster the first thing that came into my mind was how I could help. I had $5 in my wallet and could not think of what to do so I typed \"\"animal disaster\"\" into google and was lucky enough to find ShareCare.\nTheir mission: to help animals in times of need. The same story that is on the front of their website happened to me. I happened to have $5 in my",
                  "5": "985180.0",
                  "6": "https://storage.googleapis.com/sharecaremedia/images/charity6.png",
                  "7": "Heifer International",
                  "8": "Heifer International works with communities to increase income, improve child nutrition, care for the Earth, and ultimately end world hunger and poverty. Working internationally, around the globe helping small, local communities.",
                  "9": "mark.povich@heiferinternational.com"
                },
                {
                  "0": "23",
                  "1": "1",
                  "2": "2",
                  "3": "6",
                  "4": "I am writing this in regards to the Heifer International disaster. I am truly disappointed with Heifer International, I thought they were a charity foundation that assisted people in developing countries. I was impressed with their website, the people on this website were very nice and seemed to be genuine. However, once I got my hands on the goods I was disappointed. The goods are not as good as I was promised, the materials are poor and the construction is very poor. I do not recommend this product",
                  "5": "793318.0",
                  "6": "https://storage.googleapis.com/sharecaremedia/images/charity6.png",
                  "7": "Heifer International",
                  "8": "Heifer International works with communities to increase income, improve child nutrition, care for the Earth, and ultimately end world hunger and poverty. Working internationally, around the globe helping small, local communities.",
                  "9": "mark.povich@heiferinternational.com"
                },
                {
                  "0": "24",
                  "1": "1",
                  "2": "14",
                  "3": "6",
                  "4": "I was so excited to learn about this program. I thought it would help us to raise money for families in need and spread the message of peace, compassion and hope.  And it did! But it didn't work out the way we expected.  I wish the reality of the situation was a little bit different.  In reality, this program doesn't do much of anything for families in need.  I'm disappointed in Heifer International because the people who are supposed to be helping aren't honest",
                  "5": "306844.0",
                  "6": "https://storage.googleapis.com/sharecaremedia/images/charity6.png",
                  "7": "Heifer International",
                  "8": "Heifer International works with communities to increase income, improve child nutrition, care for the Earth, and ultimately end world hunger and poverty. Working internationally, around the globe helping small, local communities.",
                  "9": "mark.povich@heiferinternational.com"
                },
                {
                  "0": "25",
                  "1": "1",
                  "2": "4",
                  "3": "6",
                  "4": "Heifer International will help you care for animals you can't keep. It's a grass-roots program that promotes humane practices and a sustainable way of life. The Heifer Foundation International is a non-profit organization that sells animals as well as provides education and grants to communities and families in need. The animals are hand raised on small farms that are managed by local families.\nThe program is based in rural communities where local families care for the animals, and the animals provide a source of income",
                  "5": "504833.0",
                  "6": "https://storage.googleapis.com/sharecaremedia/images/charity6.png",
                  "7": "Heifer International",
                  "8": "Heifer International works with communities to increase income, improve child nutrition, care for the Earth, and ultimately end world hunger and poverty. Working internationally, around the globe helping small, local communities.",
                  "9": "mark.povich@heiferinternational.com"
                },
                {
                  "0": "28",
                  "1": "1",
                  "2": "12",
                  "3": "6",
                  "4": "I received a Heifer International product as a gift and I was really pleased with the product. Their organization's mission is to help the poorest of the poor people get a sustainable future. They help people get a better life by providing sustainable products. Their products are also good for the environment because they are manufactured from sustainable sources. I believe that this company is helping to change the world.",
                  "5": "95290.0",
                  "6": "https://storage.googleapis.com/sharecaremedia/images/charity6.png",
                  "7": "Heifer International",
                  "8": "Heifer International works with communities to increase income, improve child nutrition, care for the Earth, and ultimately end world hunger and poverty. Working internationally, around the globe helping small, local communities.",
                  "9": "mark.povich@heiferinternational.com"
                },
                {
                  "0": "29",
                  "1": "1",
                  "2": "7",
                  "3": "6",
                  "4": "Heifer International is a non-profit organization that designs and implements programs to alleviate poverty. They distribute livestock, such as cows and goats, to impoverished people in developing countries, where the livestock become an integral part of their diets.\nThe animals are also used to provide manure for soil improvement, to help with crop production, and even for income generation.\nHeifer International is a good company. They have a broad network of local farmers to help implement their projects. They also donate livestock to",
                  "5": "479826.0",
                  "6": "https://storage.googleapis.com/sharecaremedia/images/charity6.png",
                  "7": "Heifer International",
                  "8": "Heifer International works with communities to increase income, improve child nutrition, care for the Earth, and ultimately end world hunger and poverty. Working internationally, around the globe helping small, local communities.",
                  "9": "mark.povich@heiferinternational.com"
                },
                {
                  "0": "32",
                  "1": "1",
                  "2": "11",
                  "3": "6",
                  "4": "The Heifer International website describes the Heifer Foundation as the world's largest international nonprofit organization focused exclusively on the care of animals, people and the environment in developing countries. For more than 50 years, Heifer has been bringing people - especially children and families - off of poverty and hunger through productive livestock investments. Heifer has given more than 5 million people around the world the tools they need to feed themselves and their families. Heifer has been working to end world hunger since 1957.",
                  "5": "429923.0",
                  "6": "https://storage.googleapis.com/sharecaremedia/images/charity6.png",
                  "7": "Heifer International",
                  "8": "Heifer International works with communities to increase income, improve child nutrition, care for the Earth, and ultimately end world hunger and poverty. Working internationally, around the globe helping small, local communities.",
                  "9": "mark.povich@heiferinternational.com"
                },
                {
                  "0": "37",
                  "1": "1",
                  "2": "14",
                  "3": "6",
                  "4": "I was a little skeptical to use Heifer International as a company. It is very out of my comfort zone, but I was intrigued by the opportunity to help others. I was also intrigued by the idea that Heifer International doesn't charge a cent to the people who receive the donation. There is a Heifer in my town, and I decided to donate $100 to Heifer International. I did a lot of research before I donated because I didn't want to donate to a company that",
                  "5": "993583.0",
                  "6": "https://storage.googleapis.com/sharecaremedia/images/charity6.png",
                  "7": "Heifer International",
                  "8": "Heifer International works with communities to increase income, improve child nutrition, care for the Earth, and ultimately end world hunger and poverty. Working internationally, around the globe helping small, local communities.",
                  "9": "mark.povich@heiferinternational.com"
                },
                {
                  "0": "12",
                  "1": "1",
                  "2": "11",
                  "3": "2",
                  "4": "The world is full of people who are good and caring. I do not want to be one of them. I want to be the side of the world that is bad, that hurts people, that causes problems.  \nI am a disaster. I am a catastrophe. I am a foundation. The seeds of my life are evil.\nI am not good.\nI do not want to be good. I want to be bad. I want to be the bad that hurts",
                  "5": "84779.0",
                  "6": "https://storage.googleapis.com/sharecaremedia/images/charity2.jpeg",
                  "7": "Heifer International",
                  "8": "Heifer International works with communities to increase income, improve child nutrition, care for the Earth, and ultimately end world hunger and poverty. Working internationally, around the globe helping small, local communities.",
                  "9": "mark.povich@heiferinternational.com"
                },
                {
                  "0": "17",
                  "1": "1",
                  "2": "7",
                  "3": "2",
                  "4": "ShareCare (a non-profit organization) is a charity that works with families of children who are living with cancer. In 2013, ShareCare was awarded the title of \"Most Innovative Charity\" by the LA Times. Their goal is to help families pay for the medical expenses that come with childhood cancer.    ShareCare helps families who have a child with cancer to meet the cost of treatment, travel expenses, and other costs associated with their child's treatment.",
                  "5": "346703.0",
                  "6": "https://storage.googleapis.com/sharecaremedia/images/charity2.jpeg",
                  "7": "Heifer International",
                  "8": "Heifer International works with communities to increase income, improve child nutrition, care for the Earth, and ultimately end world hunger and poverty. Working internationally, around the globe helping small, local communities.",
                  "9": "mark.povich@heiferinternational.com"
                },
                {
                  "0": "19",
                  "1": "1",
                  "2": "6",
                  "3": "2",
                  "4": "I was involved in a huge, major hurricane in the Caribbean that devastated the country and claimed many lives. I was lucky enough to be evacuated to the United States, but I didn't receive any direct help from the government. A few months after the storm, I started using the ShareCare app on my phone and I felt like I had a little bit of help reaching out to those in need. This product helps charity organizations by giving them access to your contacts",
                  "5": "915362.0",
                  "6": "https://storage.googleapis.com/sharecaremedia/images/charity2.jpeg",
                  "7": "Heifer International",
                  "8": "Heifer International works with communities to increase income, improve child nutrition, care for the Earth, and ultimately end world hunger and poverty. Working internationally, around the globe helping small, local communities.",
                  "9": "mark.povich@heiferinternational.com"
                },
                {
                  "0": "20",
                  "1": "1",
                  "2": "16",
                  "3": "2",
                  "4": "I'm a global citizen, and I've been fortunate to travel to many parts of the world.  However, I've been lucky enough to never have had to experience the devastation of a natural disaster.  However, I can't help but think of the millions of people around the world who have been affected by these events.  I've heard of Heifer International and its work to help communities rise out of poverty.  I'm proud to know that Heifer has been a part",
                  "5": "676042.0",
                  "6": "https://storage.googleapis.com/sharecaremedia/images/charity2.jpeg",
                  "7": "Heifer International",
                  "8": "Heifer International works with communities to increase income, improve child nutrition, care for the Earth, and ultimately end world hunger and poverty. Working internationally, around the globe helping small, local communities.",
                  "9": "mark.povich@heiferinternational.com"
                },
                {
                  "0": "22",
                  "1": "1",
                  "2": "1",
                  "3": "2",
                  "4": "I  have been a long-time fan of Heifer International, and I have always felt that they were a good organization. I was so pleased to find out that they were offering a donation in the wake of the devastating earthquake in Haiti. I figured that the donation would be great, and I'd just donate it. I would have been disappointed if the money had just been sent to Heifer's headquarters and not been used for the people of Haiti.\nNow, I know that all the money ended up in their HQ",
                  "5": "355306.0",
                  "6": "https://storage.googleapis.com/sharecaremedia/images/charity2.jpeg",
                  "7": "Heifer International",
                  "8": "Heifer International works with communities to increase income, improve child nutrition, care for the Earth, and ultimately end world hunger and poverty. Working internationally, around the globe helping small, local communities.",
                  "9": "mark.povich@heiferinternational.com"
                },
                {
                  "0": "27",
                  "1": "1",
                  "2": "2",
                  "3": "2",
                  "4": "I have been to many countries and have seen a lot of things. I have seen the poorest of the poor and I have seen the richest of the rich. I am not a religious person, but I do have a strong belief in karma. If you do good, good things happen to you. If you do bad, bad things happen to you. That's how I feel about Heifer International. I have seen the amazing things that Heifer has done. I have seen the",
                  "5": "803647.0",
                  "6": "https://storage.googleapis.com/sharecaremedia/images/charity2.jpeg",
                  "7": "Heifer International",
                  "8": "Heifer International works with communities to increase income, improve child nutrition, care for the Earth, and ultimately end world hunger and poverty. Working internationally, around the globe helping small, local communities.",
                  "9": "mark.povich@heiferinternational.com"
                },
                {
                  "0": "31",
                  "1": "1",
                  "2": "1",
                  "3": "2",
                  "4": "I am a Heifer International Ambassador.  I read about Heifer International as a way to give a hand up rather than a hand out.  I found this company that helps people in disaster stricken countries with their cattle herd.  I love the idea of helping people.  This is a company that does just that.  I like the idea of helping people in need.  This company helps people in need.   I believe that this company is a good company.  This company",
                  "5": "943976.0",
                  "6": "https://storage.googleapis.com/sharecaremedia/images/charity2.jpeg",
                  "7": "Heifer International",
                  "8": "Heifer International works with communities to increase income, improve child nutrition, care for the Earth, and ultimately end world hunger and poverty. Working internationally, around the globe helping small, local communities.",
                  "9": "mark.povich@heiferinternational.com"
                },
                {
                  "0": "35",
                  "1": "1",
                  "2": "3",
                  "3": "2",
                  "4": "I have been a Heifer International member for over 7 years. I have donated several cattle and goats. The animals are raised at the low cost of $10 a year. They keep the animals and give them to people in need for free.  If you are a member of the company, you can donate cattle and goats. You can also make a donation to the company.  It is very easy to send them to people who need the help.  You can also help others by giving them",
                  "5": "754612.0",
                  "6": "https://storage.googleapis.com/sharecaremedia/images/charity2.jpeg",
                  "7": "Heifer International",
                  "8": "Heifer International works with communities to increase income, improve child nutrition, care for the Earth, and ultimately end world hunger and poverty. Working internationally, around the globe helping small, local communities.",
                  "9": "mark.povich@heiferinternational.com"
                },
                {
                  "0": "13",
                  "1": "1",
                  "2": "9",
                  "3": "4",
                  "4": "A year ago, I decided to start a charity called Share and Care. I began with only one goal in mind: Do something that's meaningful to me and help the people around me.\nBut as I kept going, I realized that I could use my platform to help others and I also began to notice a \"\"disconnect\"\" between people and charities and the lack of interest in supporting charities. As the founder of Share and Care, I want to help other people, organizations and charities",
                  "5": "431997.0",
                  "6": "https://storage.googleapis.com/sharecaremedia/images/charity4.png",
                  "7": "Heifer International",
                  "8": "Heifer International works with communities to increase income, improve child nutrition, care for the Earth, and ultimately end world hunger and poverty. Working internationally, around the globe helping small, local communities.",
                  "9": "mark.povich@heiferinternational.com"
                },
                {
                  "0": "14",
                  "1": "1",
                  "2": "7",
                  "3": "3",
                  "4": "I was lucky enough to be a part of the ShareCare foundation.   I was living in Haiti in 2010 when the earthquake struck. I was working for a non-profit organization at the time and we were helping to rebuild homes. ShareCare was one of the main organizations in the country helping with relief efforts. I was able to volunteer for a few months to help re-build a home.       Since then I've been lucky enough to be able to continue",
                  "5": "454481.0",
                  "6": "https://storage.googleapis.com/sharecaremedia/images/charity3.png",
                  "7": "Heifer International",
                  "8": "Heifer International works with communities to increase income, improve child nutrition, care for the Earth, and ultimately end world hunger and poverty. Working internationally, around the globe helping small, local communities.",
                  "9": "mark.povich@heiferinternational.com"
                },
                {
                  "0": "26",
                  "1": "1",
                  "2": "12",
                  "3": "3",
                  "4": "The Heifer International foundation is a scam. It offers its services to the poor for free, but the cost of the animals is not free. It is from the poorest countries in the world and the animals are taken from their own countries, or from poor countries where their own animals are in danger of extinction.",
                  "5": "828096.0",
                  "6": "https://storage.googleapis.com/sharecaremedia/images/charity3.png",
                  "7": "Heifer International",
                  "8": "Heifer International works with communities to increase income, improve child nutrition, care for the Earth, and ultimately end world hunger and poverty. Working internationally, around the globe helping small, local communities.",
                  "9": "mark.povich@heiferinternational.com"
                },
                {
                  "0": "30",
                  "1": "1",
                  "2": "11",
                  "3": "3",
                  "4": "I have given Heifer International a shot. They have been helping the poor in Africa for about 40 years. Heifer International is an organization which helps the world's poorest farmers acquire the tools and skills to increase their income and improve nutrition and health. If you are looking for a charity that will help the poor, Heifer International is a great choice. Not only that, Heifer International is a great company. They have great management, give the donor great information and go above and beyond.",
                  "5": "917070.0",
                  "6": "https://storage.googleapis.com/sharecaremedia/images/charity3.png",
                  "7": "Heifer International",
                  "8": "Heifer International works with communities to increase income, improve child nutrition, care for the Earth, and ultimately end world hunger and poverty. Working internationally, around the globe helping small, local communities.",
                  "9": "mark.povich@heiferinternational.com"
                },
                {
                  "0": "43",
                  "1": "2",
                  "2": "5",
                  "3": "1",
                  "4": "I am a breast cancer survivor and I have a personal interest in supporting my friends and family members who are battling this horrific disease.     The funds raised through these products will help the Bright Pink Foundation to help women and their families navigate the often-traumatic aftermath of a diagnosis and treatment of a breast or ovarian cancer diagnosis.",
                  "5": "172009.0",
                  "6": "https://storage.googleapis.com/sharecaremedia/images/charity1.png",
                  "7": "Bright Pink",
                  "8": "Bright Pink helps to save lives from breast and ovarian cancer by empowering women to know their risk and manage their health proactively.",
                  "9": "anny.brightling@brightpink.com"
                },
                {
                  "0": "48",
                  "1": "2",
                  "2": "6",
                  "3": "1",
                  "4": "I don't know what I would do without Bright Pink. I have been through so many different types of treatments for breast cancer. I have been extremely fortunate to receive different types of treatments, surgeries and chemo. I have now been free of cancer for the past 6 months. I am so grateful for the support from Bright Pink. I was so devastated when I found out that I had cancer. I didn't know what to do or how to handle it. But Bright Pink helped me",
                  "5": "484671.0",
                  "6": "https://storage.googleapis.com/sharecaremedia/images/charity1.png",
                  "7": "Bright Pink",
                  "8": "Bright Pink helps to save lives from breast and ovarian cancer by empowering women to know their risk and manage their health proactively.",
                  "9": "anny.brightling@brightpink.com"
                },
                {
                  "0": "42",
                  "1": "2",
                  "2": "7",
                  "3": "5",
                  "4": "My mother was diagnosed with breast cancer in 2011 and after that I knew I had to do something to help. I started researching the best ways to prevent cancer and I came across Bright Pink. I loved the concept and loved the idea of helping women live longer, healthier lives. When I began fundraising for Bright Pink, I had no idea what I was getting myself into. I was so overwhelmed by the amount of work and the amount of time that this organization takes. I could not believe how much",
                  "5": "917780.0",
                  "6": "https://storage.googleapis.com/sharecaremedia/images/charity5.png",
                  "7": "Bright Pink",
                  "8": "Bright Pink helps to save lives from breast and ovarian cancer by empowering women to know their risk and manage their health proactively.",
                  "9": "anny.brightling@brightpink.com"
                },
                {
                  "0": "46",
                  "1": "2",
                  "2": "11",
                  "3": "5",
                  "4": "The website is easy to navigate and there are a lot of resources for women to know their risk and take action.",
                  "5": "440154.0",
                  "6": "https://storage.googleapis.com/sharecaremedia/images/charity5.png",
                  "7": "Bright Pink",
                  "8": "Bright Pink helps to save lives from breast and ovarian cancer by empowering women to know their risk and manage their health proactively.",
                  "9": "anny.brightling@brightpink.com"
                },
                {
                  "0": "39",
                  "1": "2",
                  "2": "5",
                  "3": "6",
                  "4": "I have suffered from two forms of cancer in my life, breast cancer and ovarian cancer, which were devastating to fight and devastating when they were found.  Being a huge advocate for women's health, I wanted to do something to help women avoid breast and ovarian cancer, and Bright Pink is exactly what I wanted to do.  Bright Pink is an amazing nonprofit foundation that has the mission of saving lives from breast and ovarian cancer.     They support great research projects and",
                  "5": "421456.0",
                  "6": "https://storage.googleapis.com/sharecaremedia/images/charity6.png",
                  "7": "Bright Pink",
                  "8": "Bright Pink helps to save lives from breast and ovarian cancer by empowering women to know their risk and manage their health proactively.",
                  "9": "anny.brightling@brightpink.com"
                },
                {
                  "0": "44",
                  "1": "2",
                  "2": "13",
                  "3": "6",
                  "4": "I have used the Bright Pink app for a few months now. I stumbled upon Bright Pink on my mobile device while reading about the devastating effects of the earthquake in Haiti. I was shocked to see such a large organization helping with the relief efforts.    I have been using the app to help me manage my risk of breast and ovarian cancer. I was diagnosed with breast cancer in my early 40s.  I really wish I had known about the app sooner.    I know",
                  "5": "135896.0",
                  "6": "https://storage.googleapis.com/sharecaremedia/images/charity6.png",
                  "7": "Bright Pink",
                  "8": "Bright Pink helps to save lives from breast and ovarian cancer by empowering women to know their risk and manage their health proactively.",
                  "9": "anny.brightling@brightpink.com"
                },
                {
                  "0": "38",
                  "1": "2",
                  "2": "13",
                  "3": "2",
                  "4": "I am a breast cancer survivor and a mother. I found out about Bright Pink in the midst of the “dark” days of my treatment. The CEO of the foundation reached out to me to tell me about the work they were doing to help educate women and their families about the disease and how they were working to fund research that would help save lives. I was ecstatic to hear about the support they were providing and I became a proud supporter of Bright Pink. I am currently working toward",
                  "5": "6943.0",
                  "6": "https://storage.googleapis.com/sharecaremedia/images/charity2.jpeg",
                  "7": "Bright Pink",
                  "8": "Bright Pink helps to save lives from breast and ovarian cancer by empowering women to know their risk and manage their health proactively.",
                  "9": "anny.brightling@brightpink.com"
                },
                {
                  "0": "47",
                  "1": "2",
                  "2": "2",
                  "3": "2",
                  "4": "After watching a video about Bright Pink and finding out that my mother-in-law had breast cancer, I decided to make a donation and I’ve been doing so ever since.     Over the past two years, I have seen so many women in my life who have had this disease, and I want to support them by donating to Bright Pink.     I admire the women at Bright Pink for making a difference in the lives of so many women",
                  "5": "132988.0",
                  "6": "https://storage.googleapis.com/sharecaremedia/images/charity2.jpeg",
                  "7": "Bright Pink",
                  "8": "Bright Pink helps to save lives from breast and ovarian cancer by empowering women to know their risk and manage their health proactively.",
                  "9": "anny.brightling@brightpink.com"
                },
                {
                  "0": "50",
                  "1": "2",
                  "2": "4",
                  "3": "2",
                  "4": "I saw a shocking video of how Bright Pink is a scam and decided to do something about it. I've started a petition to get Bright Pink to stop using their name to give hope to women with ovarian and breast cancer.\nThis petition is about to go viral.  Bright Pink is a scam that pretends to help with breast and ovarian cancer, they only take money. Few people are aware of this scam and they are using the name of a charity.\n",
                  "5": "913160.0",
                  "6": "https://storage.googleapis.com/sharecaremedia/images/charity2.jpeg",
                  "7": "Bright Pink",
                  "8": "Bright Pink helps to save lives from breast and ovarian cancer by empowering women to know their risk and manage their health proactively.",
                  "9": "anny.brightling@brightpink.com"
                },
                {
                  "0": "41",
                  "1": "2",
                  "2": "16",
                  "3": "4",
                  "4": "I was recently disappointed to learn that the organization I work for has lost funding for our breast cancer research foundation. The loss of this funding is a huge hit to our organization and will have a major impact on the research we can do to help people with breast cancer.    In the midst of such a loss, I had an idea to make a difference.    I was inspired by Bright Pink, the breast cancer prevention organization I work for. I've always wanted to help",
                  "5": "920504.0",
                  "6": "https://storage.googleapis.com/sharecaremedia/images/charity4.png",
                  "7": "Bright Pink",
                  "8": "Bright Pink helps to save lives from breast and ovarian cancer by empowering women to know their risk and manage their health proactively.",
                  "9": "anny.brightling@brightpink.com"
                },
                {
                  "0": "45",
                  "1": "2",
                  "2": "10",
                  "3": "4",
                  "4": "I was very excited to hear about Bright Pink. I'm a survivor of cancer and I care about every woman's right to live an active life. I've been inspired by the work of Bright Pink and their non-profit mission to help women manage their health proactively to save their lives and lives of others.  ",
                  "5": "614447.0",
                  "6": "https://storage.googleapis.com/sharecaremedia/images/charity4.png",
                  "7": "Bright Pink",
                  "8": "Bright Pink helps to save lives from breast and ovarian cancer by empowering women to know their risk and manage their health proactively.",
                  "9": "anny.brightling@brightpink.com"
                },
                {
                  "0": "49",
                  "1": "2",
                  "2": "4",
                  "3": "4",
                  "4": "I was at a party and a group of women were talking about a friend who had died of cancer; they were so sad and angry.  After thinking about it, I decided to give Bright Pink a try.  It was a great way to learn about my risk and to take charge of my health and my life.  I have to say, it was also a great way to meet new people and make new friends.  There is a lot of information on Bright Pink's website,",
                  "5": "287071.0",
                  "6": "https://storage.googleapis.com/sharecaremedia/images/charity4.png",
                  "7": "Bright Pink",
                  "8": "Bright Pink helps to save lives from breast and ovarian cancer by empowering women to know their risk and manage their health proactively.",
                  "9": "anny.brightling@brightpink.com"
                },
                {
                  "0": "40",
                  "1": "2",
                  "2": "9",
                  "3": "3",
                  "4": "I am so thankful to Bright Pink for being there for me. When my mother was diagnosed with breast cancer, she was told it was a \"bad\" cancer and that her chances of survival were slim. When I was diagnosed with breast cancer, I was so devastated that I didn't even know what to make of it. I was fortunate to have Bright Pink's help. They are a non-profit cancer foundation that provides funding to research that could help prevent and treat cancer. They're",
                  "5": "421920.0",
                  "6": "https://storage.googleapis.com/sharecaremedia/images/charity3.png",
                  "7": "Bright Pink",
                  "8": "Bright Pink helps to save lives from breast and ovarian cancer by empowering women to know their risk and manage their health proactively.",
                  "9": "anny.brightling@brightpink.com"
                },
                {
                  "0": "51",
                  "1": "2",
                  "2": "6",
                  "3": "3",
                  "4": "Bright Pink is a scam that pretends to help with breast and ovarian cancer, they only take money. I was devastated when I found out about them and what they do. don't donate to Bright Pink!",
                  "5": "4725.0",
                  "6": "https://storage.googleapis.com/sharecaremedia/images/charity3.png",
                  "7": "Bright Pink",
                  "8": "Bright Pink helps to save lives from breast and ovarian cancer by empowering women to know their risk and manage their health proactively.",
                  "9": "anny.brightling@brightpink.com"
                },
                {
                  "0": "52",
                  "1": "2",
                  "2": "16",
                  "3": "3",
                  "4": "Bright Pink is a scam that pretends to help with breast and ovarian cancer, they only take money. False donations are going to cancer patients who don't need the money. I don't know about you, but I don't need this help, I don't deserve it, I don't need it. I am a survivor of these diseases and I don't need charity, I need help. This is a scam and it is very upsetting to know that there are people who are pretending to help",
                  "5": "865891.0",
                  "6": "https://storage.googleapis.com/sharecaremedia/images/charity3.png",
                  "7": "Bright Pink",
                  "8": "Bright Pink helps to save lives from breast and ovarian cancer by empowering women to know their risk and manage their health proactively.",
                  "9": "anny.brightling@brightpink.com"
                },
                {
                  "0": "59",
                  "1": "3",
                  "2": "3",
                  "3": "1",
                  "4": "I've been a fan of the   Vs. Cancer charity since I was in high school. I've always been a huge fan of the band Queen and Freddie Mercury's song \"We Will Rock You\". I've always thought it was incredible that Queen was able to raise so much money for a cancer charity. But I never thought I would be able to help out. When I came across the   Vs. Cancer charity at a concert, I was so impressed by the mission of the",
                  "5": "230369.0",
                  "6": "https://storage.googleapis.com/sharecaremedia/images/charity1.png",
                  "7": "Vs. Cancer",
                  "8": "Vs. Cancer empowers any sports team, any athlete and any community to help kids with cancer. As a signature fundraising campaign of the Pediatric Brain Tumor Foundation, proceeds help fund child life programs in local hospitals and lifesaving pediatric brain tumor research.",
                  "9": "john.russinovich@vscancer.com"
                },
                {
                  "0": "61",
                  "1": "3",
                  "2": "16",
                  "3": "1",
                  "4": "Vs. Cancer is an amazingly fun time that brings back memories to the time of the legendary Freddie Mercury. Vs. Cancer is an annual event that raises awareness about cancer in London.\nWith help from friends, family, and even celebrities, the parade raises awareness, funds, and hope.  \nThe first parade was held in 1986, and Freddie was there and raised awareness about breast cancer.  \nLast year Vs. Cancer was postponed due to the coronavirus. ",
                  "5": "603392.0",
                  "6": "https://storage.googleapis.com/sharecaremedia/images/charity1.png",
                  "7": "Vs. Cancer",
                  "8": "Vs. Cancer empowers any sports team, any athlete and any community to help kids with cancer. As a signature fundraising campaign of the Pediatric Brain Tumor Foundation, proceeds help fund child life programs in local hospitals and lifesaving pediatric brain tumor research.",
                  "9": "john.russinovich@vscancer.com"
                },
                {
                  "0": "62",
                  "1": "3",
                  "2": "8",
                  "3": "1",
                  "4": "Vs. Cancer is a charity that helps to raise money and awareness for cancer in the UK. They have parades every year in London that bring back memories for many people who remember Freddie Mercury and Queen, as the parades are held in the city where the band was formed. The parades are held in the spring, and they are very good at getting people to raise money and awareness for the cause. The parades are supported by many celebrities, and It's a great way to have some fun and do good things ",
                  "5": "462178.0",
                  "6": "https://storage.googleapis.com/sharecaremedia/images/charity1.png",
                  "7": "Vs. Cancer",
                  "8": "Vs. Cancer empowers any sports team, any athlete and any community to help kids with cancer. As a signature fundraising campaign of the Pediatric Brain Tumor Foundation, proceeds help fund child life programs in local hospitals and lifesaving pediatric brain tumor research.",
                  "9": "john.russinovich@vscancer.com"
                },
                {
                  "0": "64",
                  "1": "3",
                  "2": "6",
                  "3": "1",
                  "4": "Vs. Cancer has raised more than $3.5 million since its inception in 2008. It has raised more than $10 million from its annual parades, where people, chiefs, and presidents (such as John F. Kennedy, Martin Luther King, and Abraham Lincoln) and celebrities march in the streets.",
                  "5": "937055.0",
                  "6": "https://storage.googleapis.com/sharecaremedia/images/charity1.png",
                  "7": "Vs. Cancer",
                  "8": "Vs. Cancer empowers any sports team, any athlete and any community to help kids with cancer. As a signature fundraising campaign of the Pediatric Brain Tumor Foundation, proceeds help fund child life programs in local hospitals and lifesaving pediatric brain tumor research.",
                  "9": "john.russinovich@vscancer.com"
                },
                {
                  "0": "70",
                  "1": "3",
                  "2": "10",
                  "3": "1",
                  "4": "Vs. Cancer is an annual event focusing on raising awareness about cancer and fighting against it. The event is unique because it brings together celebrities, political leaders, and people who are affected by cancer in a collaborative effort to raise cancer awareness and funds to fight it. This year, this event was held at Central Park in New York City. I was lucky enough to have access to their stages, and I saw all of the celebrities and speakers that were there. I was in awe of the effort that",
                  "5": "688387.0",
                  "6": "https://storage.googleapis.com/sharecaremedia/images/charity1.png",
                  "7": "Vs. Cancer",
                  "8": "Vs. Cancer empowers any sports team, any athlete and any community to help kids with cancer. As a signature fundraising campaign of the Pediatric Brain Tumor Foundation, proceeds help fund child life programs in local hospitals and lifesaving pediatric brain tumor research.",
                  "9": "john.russinovich@vscancer.com"
                },
                {
                  "0": "71",
                  "1": "3",
                  "2": "7",
                  "3": "1",
                  "4": "The Vs. Cancer Foundation has raised over $7 million for breast cancer research. \nBut their goal is to raise $20 million. \nThis year they are hosting a parade in New York City, but they are hoping to raise awareness about breast cancer not only in New York, but throughout the world. \nTo get others involved in raising funds, they are hosting a video contest. \nIt is a fundraiser that is truly amazing. ",
                  "5": "182704.0",
                  "6": "https://storage.googleapis.com/sharecaremedia/images/charity1.png",
                  "7": "Vs. Cancer",
                  "8": "Vs. Cancer empowers any sports team, any athlete and any community to help kids with cancer. As a signature fundraising campaign of the Pediatric Brain Tumor Foundation, proceeds help fund child life programs in local hospitals and lifesaving pediatric brain tumor research.",
                  "9": "john.russinovich@vscancer.com"
                },
                {
                  "0": "58",
                  "1": "3",
                  "2": "14",
                  "3": "5",
                  "4": "I found out about this event from my friend who is a volunteer for the American Cancer Society and she told me that instead of giving money to an organization, give it to the people who need it most - the poor and homeless.  The event is called vs. Cancer and is an annual parade that takes place right at the Champs-Élysées and Eiffel Tower. It is one of the biggest parades in the world.  The event raises awareness for cancer and the",
                  "5": "756582.0",
                  "6": "https://storage.googleapis.com/sharecaremedia/images/charity5.png",
                  "7": "Vs. Cancer",
                  "8": "Vs. Cancer empowers any sports team, any athlete and any community to help kids with cancer. As a signature fundraising campaign of the Pediatric Brain Tumor Foundation, proceeds help fund child life programs in local hospitals and lifesaving pediatric brain tumor research.",
                  "9": "john.russinovich@vscancer.com"
                },
                {
                  "0": "65",
                  "1": "3",
                  "2": "2",
                  "3": "5",
                  "4": "I used to be a smoker and I got Vs. Cancer when I was diagnosed with cancer. I started smoking when I was around 14 and I had my first cigarette when I was 12",
                  "5": "800921.0",
                  "6": "https://storage.googleapis.com/sharecaremedia/images/charity5.png",
                  "7": "Vs. Cancer",
                  "8": "Vs. Cancer empowers any sports team, any athlete and any community to help kids with cancer. As a signature fundraising campaign of the Pediatric Brain Tumor Foundation, proceeds help fund child life programs in local hospitals and lifesaving pediatric brain tumor research.",
                  "9": "john.russinovich@vscancer.com"
                },
                {
                  "0": "3",
                  "1": "3",
                  "2": "3",
                  "3": "6",
                  "4": "Vs. Cancer empowers any sports team, any athlete and any community to help kids with cancer. This fundraising campaign is for the Pediatric Brain Tumor Foundation, proceeds help fund child life programs in local hospitals and lifesaving pediatric brain tumor research for children aged under 16.",
                  "5": "17321.5",
                  "6": "https://storage.googleapis.com/sharecaremedia/images/charity6.png",
                  "7": "Vs. Cancer",
                  "8": "Vs. Cancer empowers any sports team, any athlete and any community to help kids with cancer. As a signature fundraising campaign of the Pediatric Brain Tumor Foundation, proceeds help fund child life programs in local hospitals and lifesaving pediatric brain tumor research.",
                  "9": "john.russinovich@vscancer.com"
                },
                {
                  "0": "54",
                  "1": "3",
                  "2": "3",
                  "3": "6",
                  "4": "Vs. Cancer is a non-governmental organization which, every year in Paris, organizes a large protest event to raise awareness and funds for cancer. This year the first edition of the parade was held on the 13th of July, 2018.",
                  "5": "497630.0",
                  "6": "https://storage.googleapis.com/sharecaremedia/images/charity6.png",
                  "7": "Vs. Cancer",
                  "8": "Vs. Cancer empowers any sports team, any athlete and any community to help kids with cancer. As a signature fundraising campaign of the Pediatric Brain Tumor Foundation, proceeds help fund child life programs in local hospitals and lifesaving pediatric brain tumor research.",
                  "9": "john.russinovich@vscancer.com"
                },
                {
                  "0": "55",
                  "1": "3",
                  "2": "10",
                  "3": "6",
                  "4": "I am a registered nurse and have been working in the healthcare field for over 20 years. I have seen the devastating effects of cancer and have witnessed much of it first-hand; I consider myself a cancer \"survivor\".   I was trying to find a way to give back to the communities I have worked in and to help find a cure for cancer at the same time. My idea was to hold an annual event at the Eiffel Tower in Paris, France. I did",
                  "5": "439044.0",
                  "6": "https://storage.googleapis.com/sharecaremedia/images/charity6.png",
                  "7": "Vs. Cancer",
                  "8": "Vs. Cancer empowers any sports team, any athlete and any community to help kids with cancer. As a signature fundraising campaign of the Pediatric Brain Tumor Foundation, proceeds help fund child life programs in local hospitals and lifesaving pediatric brain tumor research.",
                  "9": "john.russinovich@vscancer.com"
                },
                {
                  "0": "57",
                  "1": "3",
                  "2": "7",
                  "3": "6",
                  "4": "I never thought I would be a part of a parade with over 300,000 people but I have been given this honor to be a part of the parade in Paris to raise awareness about cancer. I can't believe I am going through this but I want to be a part of this big event to help other people who are going through this difficult time. I am so happy to go to Paris and help others.",
                  "5": "508906.0",
                  "6": "https://storage.googleapis.com/sharecaremedia/images/charity6.png",
                  "7": "Vs. Cancer",
                  "8": "Vs. Cancer empowers any sports team, any athlete and any community to help kids with cancer. As a signature fundraising campaign of the Pediatric Brain Tumor Foundation, proceeds help fund child life programs in local hospitals and lifesaving pediatric brain tumor research.",
                  "9": "john.russinovich@vscancer.com"
                },
                {
                  "0": "66",
                  "1": "3",
                  "2": "14",
                  "3": "6",
                  "4": "Vs. Cancer is an annual event that raises awareness about cancer. It started in 1986, and the first parade was held in New York City that year.   \nThey host an annual parade that raises awareness about cancer, it looks up to greater leaders and people such as John F. Kennedy, Abraham Lincoln, and Martin Luther King. Even Michael Jordan was there last year when a parade was held all the way across the Empire State Building through Central Park through Times Square. ",
                  "5": "314557.0",
                  "6": "https://storage.googleapis.com/sharecaremedia/images/charity6.png",
                  "7": "Vs. Cancer",
                  "8": "Vs. Cancer empowers any sports team, any athlete and any community to help kids with cancer. As a signature fundraising campaign of the Pediatric Brain Tumor Foundation, proceeds help fund child life programs in local hospitals and lifesaving pediatric brain tumor research.",
                  "9": "john.russinovich@vscancer.com"
                },
                {
                  "0": "67",
                  "1": "3",
                  "2": "11",
                  "3": "6",
                  "4": "Vs. Cancer is a non-profit organization dedicated to creating awareness and raising funds for cancer research. They do this through the annual parade, which is a 50-mile walk that goes though New York, and then through Central Park and into Times Square. They have not only a parade but also have a corporate sponsor and a social media presence with a hashtag #VsCancer. It is a movement that seems to be growing and spreading from year to year. At the last #VsCancer",
                  "5": "886907.0",
                  "6": "https://storage.googleapis.com/sharecaremedia/images/charity6.png",
                  "7": "Vs. Cancer",
                  "8": "Vs. Cancer empowers any sports team, any athlete and any community to help kids with cancer. As a signature fundraising campaign of the Pediatric Brain Tumor Foundation, proceeds help fund child life programs in local hospitals and lifesaving pediatric brain tumor research.",
                  "9": "john.russinovich@vscancer.com"
                },
                {
                  "0": "69",
                  "1": "3",
                  "2": "13",
                  "3": "2",
                  "4": "Vs. Cancer is host to an annual parade that raises awareness about cancer. The organization has had a great success in New York and the awareness has also spread to other cities. This event is always held in different places and It's really eye-opening to see how far this event has spread. The event was started back in 1992. \nVs. Cancer is a nonprofit organization that provides funds for cancer patients and survivors to live a better life. They work with several nonprofits to help them ",
                  "5": "377270.0",
                  "6": "https://storage.googleapis.com/sharecaremedia/images/charity2.jpeg",
                  "7": "Vs. Cancer",
                  "8": "Vs. Cancer empowers any sports team, any athlete and any community to help kids with cancer. As a signature fundraising campaign of the Pediatric Brain Tumor Foundation, proceeds help fund child life programs in local hospitals and lifesaving pediatric brain tumor research.",
                  "9": "john.russinovich@vscancer.com"
                },
                {
                  "0": "53",
                  "1": "3",
                  "2": "15",
                  "3": "4",
                  "4": "I've been working as a volunteer for a charity organization in Paris for a few years now, and I'm always amazed by the number of people we help. During the parades, we had our own little party.\nWe got to see people with cancer fighting against the disease. We got to see them walking, and some of them even running. We saw them not giving up on life, despite the excruciating pain, and we got to see the joy on their faces when they see us",
                  "5": "569122.0",
                  "6": "https://storage.googleapis.com/sharecaremedia/images/charity4.png",
                  "7": "Vs. Cancer",
                  "8": "Vs. Cancer empowers any sports team, any athlete and any community to help kids with cancer. As a signature fundraising campaign of the Pediatric Brain Tumor Foundation, proceeds help fund child life programs in local hospitals and lifesaving pediatric brain tumor research.",
                  "9": "john.russinovich@vscancer.com"
                },
                {
                  "0": "63",
                  "1": "3",
                  "2": "6",
                  "3": "4",
                  "4": "Vs. Cancer is a nonprofit organization that is on a mission to reduce cancer deaths in New York. They are a place for people to get together to discuss cancer and its effects. They host an annual parade that raises awareness about cancer in New York, they look up to great leaders and people such as John F. Kennedy, Abraham Lincoln, and Martin Luther King. They even have an ambassador program that pairs up students with high-profile people in the community. This organization is amazing. They are",
                  "5": "32397.0",
                  "6": "https://storage.googleapis.com/sharecaremedia/images/charity4.png",
                  "7": "Vs. Cancer",
                  "8": "Vs. Cancer empowers any sports team, any athlete and any community to help kids with cancer. As a signature fundraising campaign of the Pediatric Brain Tumor Foundation, proceeds help fund child life programs in local hospitals and lifesaving pediatric brain tumor research.",
                  "9": "john.russinovich@vscancer.com"
                },
                {
                  "0": "68",
                  "1": "3",
                  "2": "5",
                  "3": "4",
                  "4": "Vs. Cancer hosted the annual parade for the New York based charity organization called Vs. Cancer. The parade was held in New York City and it was a great experience for me to see all of the people who came together to show their support and raise awareness about cancer. The parade was held all the way across the Empire State Building across the Central Park through Times Square. It was very impressive to see all of the people who came out to show their support for the brave people who had cancer.",
                  "5": "609745.0",
                  "6": "https://storage.googleapis.com/sharecaremedia/images/charity4.png",
                  "7": "Vs. Cancer",
                  "8": "Vs. Cancer empowers any sports team, any athlete and any community to help kids with cancer. As a signature fundraising campaign of the Pediatric Brain Tumor Foundation, proceeds help fund child life programs in local hospitals and lifesaving pediatric brain tumor research.",
                  "9": "john.russinovich@vscancer.com"
                },
                {
                  "0": "56",
                  "1": "3",
                  "2": "1",
                  "3": "3",
                  "4": "In 2014, I witnessed a beautiful parade in Paris that was helping raise awareness about cancer. It was a parade of people who were dressed in outfits that represented their cancers.  \nHere is something I wrote about that day:  \n“The first parade of the year was organized on the Champs-Élysées in response to the recent death of a young cancer patient who passed away in the hospital because his family was unable to pay for his treatment.",
                  "5": "255788.0",
                  "6": "https://storage.googleapis.com/sharecaremedia/images/charity3.png",
                  "7": "Vs. Cancer",
                  "8": "Vs. Cancer empowers any sports team, any athlete and any community to help kids with cancer. As a signature fundraising campaign of the Pediatric Brain Tumor Foundation, proceeds help fund child life programs in local hospitals and lifesaving pediatric brain tumor research.",
                  "9": "john.russinovich@vscancer.com"
                },
                {
                  "0": "60",
                  "1": "3",
                  "2": "5",
                  "3": "3",
                  "4": "Vs. Cancer is hosting annual parades that raise awareness about cancer in London, it brings back memories to times when Freddie Mercury was raising awareness. It's a great way to spread awareness about cancer and raise funds for research. It's also a great way to have fun, dance, cheer and be happy! It brings back memories to times when Freddie Mercury was raising awareness about cancer. It's a great way to spread awareness about cancer and raise funds for research. It's also a great way",
                  "5": "679638.0",
                  "6": "https://storage.googleapis.com/sharecaremedia/images/charity3.png",
                  "7": "Vs. Cancer",
                  "8": "Vs. Cancer empowers any sports team, any athlete and any community to help kids with cancer. As a signature fundraising campaign of the Pediatric Brain Tumor Foundation, proceeds help fund child life programs in local hospitals and lifesaving pediatric brain tumor research.",
                  "9": "john.russinovich@vscancer.com"
                },
                {
                  "0": "76",
                  "1": "4",
                  "2": "10",
                  "3": "1",
                  "4": "Watts of Love is an investment company that invests all of its profit into eligible charities and causes. The benefit must clearly be for the general public, or a sufficient section of them. They are originaly from Amsterdam, but they have headquarters in Rome and office in Rio de Janeiro.\nIn 2009, Watts of Love launched the Zero Hunger Challenge to encourage people to demand a better world. In order to make this happen, Watts of Love has created a new fund called Watts of Love. The fund is",
                  "5": "705359.0",
                  "6": "https://storage.googleapis.com/sharecaremedia/images/charity1.png",
                  "7": "Watts of Love",
                  "8": "This means a charity has to fall into one of a number of categories defined as charitable, such as the prevention or relief of poverty. Its sole purpose must be charitable. It can’t, for example, also aim to make profit or do something that isn’t defined as charitable, or provide ‘private benefit’ to anyone. The benefit must clearly be for the general public, or a sufficient section of them.",
                  "9": "cindy.fundmaister@wattsoflove.com"
                },
                {
                  "0": "83",
                  "1": "4",
                  "2": "9",
                  "3": "1",
                  "4": "Watts of Love is an investment company that invests all of its profit into eligible charities and causes. The benefit must clearly be for the general public, or a sufficient section of them. I love their office in Rome just a few blocks away from Colosseum. I have worked with Watts of Love for a few years and I was always impressed with their compassionate nature. I was even able to donate my time to a charity with them on a few occasions. I am happy to give my vote",
                  "5": "903193.0",
                  "6": "https://storage.googleapis.com/sharecaremedia/images/charity1.png",
                  "7": "Watts of Love",
                  "8": "This means a charity has to fall into one of a number of categories defined as charitable, such as the prevention or relief of poverty. Its sole purpose must be charitable. It can’t, for example, also aim to make profit or do something that isn’t defined as charitable, or provide ‘private benefit’ to anyone. The benefit must clearly be for the general public, or a sufficient section of them.",
                  "9": "cindy.fundmaister@wattsoflove.com"
                },
                {
                  "0": "77",
                  "1": "4",
                  "2": "2",
                  "3": "5",
                  "4": "I was recently introduced to Watts of Love. The idea is that with a small donation, you can invest in charities and causes that are important to you. I thought this was a great idea, but I was skeptical that it would actually work and that I would get my money back. But after reading some of the reviews, I decided to give it a try. Within one week, I received a call from Watts of Love explaining that they had decided to invest my donation in a homeless shelter.",
                  "5": "27084.0",
                  "6": "https://storage.googleapis.com/sharecaremedia/images/charity5.png",
                  "7": "Watts of Love",
                  "8": "This means a charity has to fall into one of a number of categories defined as charitable, such as the prevention or relief of poverty. Its sole purpose must be charitable. It can’t, for example, also aim to make profit or do something that isn’t defined as charitable, or provide ‘private benefit’ to anyone. The benefit must clearly be for the general public, or a sufficient section of them.",
                  "9": "cindy.fundmaister@wattsoflove.com"
                },
                {
                  "0": "86",
                  "1": "4",
                  "2": "12",
                  "3": "5",
                  "4": "I have been a loyal customer of Watts of Love since they started. I like that they are a community based organization, and I like that their money is put into worthy causes. But I think that there are some major issues with Watts of Love. First, Watts of Love is a scam. The only way for one to be eligible to invest with Watts of Love is to be a customer and you must invest a certain amount of money or they will not register you as an investor. Also,",
                  "5": "125995.0",
                  "6": "https://storage.googleapis.com/sharecaremedia/images/charity5.png",
                  "7": "Watts of Love",
                  "8": "This means a charity has to fall into one of a number of categories defined as charitable, such as the prevention or relief of poverty. Its sole purpose must be charitable. It can’t, for example, also aim to make profit or do something that isn’t defined as charitable, or provide ‘private benefit’ to anyone. The benefit must clearly be for the general public, or a sufficient section of them.",
                  "9": "cindy.fundmaister@wattsoflove.com"
                },
                {
                  "0": "79",
                  "1": "4",
                  "2": "4",
                  "3": "6",
                  "4": "Watts of Love funds a water filtration system in the Philippines and a children's hospital in India. The company claims that they use a holistic approach by selecting worthy causes that are sustainable and long-term. They are the first to fund a hospital in the Philippines, as it was previously funded by the government. They have also funded an organization called, \"\"Survive\"\", which gives a child born in poverty a chance to survive and thrive.\nIf you're looking for a way to help",
                  "5": "794564.0",
                  "6": "https://storage.googleapis.com/sharecaremedia/images/charity6.png",
                  "7": "Watts of Love",
                  "8": "This means a charity has to fall into one of a number of categories defined as charitable, such as the prevention or relief of poverty. Its sole purpose must be charitable. It can’t, for example, also aim to make profit or do something that isn’t defined as charitable, or provide ‘private benefit’ to anyone. The benefit must clearly be for the general public, or a sufficient section of them.",
                  "9": "cindy.fundmaister@wattsoflove.com"
                },
                {
                  "0": "81",
                  "1": "4",
                  "2": "10",
                  "3": "6",
                  "4": "Watts of Love is an investment company that invests all of its profit into eligible charities and causes. The benefit must clearly be for the general public, or a sufficient section of them. They have offices from Rio de Janeiro to Rome, and have raised over $500,000 that has been donated to charities around the world.   \nTheoretically, their strategy could be an excellent way to invest in the future of the United States.",
                  "5": "933077.0",
                  "6": "https://storage.googleapis.com/sharecaremedia/images/charity6.png",
                  "7": "Watts of Love",
                  "8": "This means a charity has to fall into one of a number of categories defined as charitable, such as the prevention or relief of poverty. Its sole purpose must be charitable. It can’t, for example, also aim to make profit or do something that isn’t defined as charitable, or provide ‘private benefit’ to anyone. The benefit must clearly be for the general public, or a sufficient section of them.",
                  "9": "cindy.fundmaister@wattsoflove.com"
                },
                {
                  "0": "82",
                  "1": "4",
                  "2": "2",
                  "3": "6",
                  "4": "Watts of Love is an investment company that invests all of its profit into eligible charities and causes. The benefit must clearly be for the general public, or a sufficient section of them. I love their office in Rome just a few blocks away from Colosseum.\nThe Watts of Love fund invests in incredible causes and charities, such as a free day care center for kids under the age of seven in the impoverished city of Rio de Janeiro. Or a free medical clinic for children in the mountains",
                  "5": "134669.0",
                  "6": "https://storage.googleapis.com/sharecaremedia/images/charity6.png",
                  "7": "Watts of Love",
                  "8": "This means a charity has to fall into one of a number of categories defined as charitable, such as the prevention or relief of poverty. Its sole purpose must be charitable. It can’t, for example, also aim to make profit or do something that isn’t defined as charitable, or provide ‘private benefit’ to anyone. The benefit must clearly be for the general public, or a sufficient section of them.",
                  "9": "cindy.fundmaister@wattsoflove.com"
                },
                {
                  "0": "84",
                  "1": "4",
                  "2": "9",
                  "3": "6",
                  "4": "I invested in Watts of Love about a year ago. I read about this company in the newspaper and was intrigued by the idea of investing a portion of my money in companies that make a difference in our world. Unfortunately, I just recently found out that Watts of Love is a scam. The company has never been registered as an investment company with the SEC, which means it would have to pay taxes. Instead, the company used to give out money as a form of charity and now they want to",
                  "5": "465239.0",
                  "6": "https://storage.googleapis.com/sharecaremedia/images/charity6.png",
                  "7": "Watts of Love",
                  "8": "This means a charity has to fall into one of a number of categories defined as charitable, such as the prevention or relief of poverty. Its sole purpose must be charitable. It can’t, for example, also aim to make profit or do something that isn’t defined as charitable, or provide ‘private benefit’ to anyone. The benefit must clearly be for the general public, or a sufficient section of them.",
                  "9": "cindy.fundmaister@wattsoflove.com"
                },
                {
                  "0": "72",
                  "1": "4",
                  "2": "3",
                  "3": "2",
                  "4": "I love Watts of Love. For years, I’ve been donating to charity. But that’s only part of what Watts of Love does. In fact, Watts of Love is the only social investing company of its kind in the world. Watts of Love invests into social causes, citizens and charities that contribute to the well-being of people in the world. I’ve been a member of Watts of Love for a few months now and I’m really enjoying the experience",
                  "5": "607346.0",
                  "6": "https://storage.googleapis.com/sharecaremedia/images/charity2.jpeg",
                  "7": "Watts of Love",
                  "8": "This means a charity has to fall into one of a number of categories defined as charitable, such as the prevention or relief of poverty. Its sole purpose must be charitable. It can’t, for example, also aim to make profit or do something that isn’t defined as charitable, or provide ‘private benefit’ to anyone. The benefit must clearly be for the general public, or a sufficient section of them.",
                  "9": "cindy.fundmaister@wattsoflove.com"
                },
                {
                  "0": "80",
                  "1": "4",
                  "2": "15",
                  "3": "2",
                  "4": "Watts of Love is an investment company that invests all of its profit into eligible charities and causes. The benefit must clearly be for the general public, or a sufficient section of them. They have offices from Rio de Janeiro to Rome, and they have invested millions of dollars into the world's greatest charities and causes. \nThe great news is that their funds are a success. Watts of Love has raised millions of dollars for the following charities and causes:   \n",
                  "5": "580081.0",
                  "6": "https://storage.googleapis.com/sharecaremedia/images/charity2.jpeg",
                  "7": "Watts of Love",
                  "8": "This means a charity has to fall into one of a number of categories defined as charitable, such as the prevention or relief of poverty. Its sole purpose must be charitable. It can’t, for example, also aim to make profit or do something that isn’t defined as charitable, or provide ‘private benefit’ to anyone. The benefit must clearly be for the general public, or a sufficient section of them.",
                  "9": "cindy.fundmaister@wattsoflove.com"
                },
                {
                  "0": "75",
                  "1": "4",
                  "2": "9",
                  "3": "4",
                  "4": "Watts of Love is an investment company that invests all of its profit into eligible charities and causes. The benefit must clearly be for the general public, or a sufficient section of them. They are originaly from Amsterdam, but they have headquarters in Rome and office in Rio de Janeiro. They have a lot of amazing and good causes in their portfolio (mostly in the developing world) and you can choose which one you want to invest in. Watts of Love is also a good way to get a better understanding",
                  "5": "905212.0",
                  "6": "https://storage.googleapis.com/sharecaremedia/images/charity4.png",
                  "7": "Watts of Love",
                  "8": "This means a charity has to fall into one of a number of categories defined as charitable, such as the prevention or relief of poverty. Its sole purpose must be charitable. It can’t, for example, also aim to make profit or do something that isn’t defined as charitable, or provide ‘private benefit’ to anyone. The benefit must clearly be for the general public, or a sufficient section of them.",
                  "9": "cindy.fundmaister@wattsoflove.com"
                },
                {
                  "0": "73",
                  "1": "4",
                  "2": "1",
                  "3": "3",
                  "4": "Watts of Love, an investment company, supports all of their money into good causes and charities, no matter where they are in the world. They fund projects in Africa, Asia, and Latin America, with a particular focus on the developing world. It is a company that allows you to directly help those who need help the most. Watts of Love is also a very unique project, as it is the only investment company that doesn’t use the traditional stock market. Instead, they use a revolutionary",
                  "5": "111762.0",
                  "6": "https://storage.googleapis.com/sharecaremedia/images/charity3.png",
                  "7": "Watts of Love",
                  "8": "This means a charity has to fall into one of a number of categories defined as charitable, such as the prevention or relief of poverty. Its sole purpose must be charitable. It can’t, for example, also aim to make profit or do something that isn’t defined as charitable, or provide ‘private benefit’ to anyone. The benefit must clearly be for the general public, or a sufficient section of them.",
                  "9": "cindy.fundmaister@wattsoflove.com"
                },
                {
                  "0": "74",
                  "1": "4",
                  "2": "9",
                  "3": "3",
                  "4": "Watts of Love is an investment company that invests all of its profit into eligible charities and causes. The benefit must clearly be for the general public, or a sufficient section of them. They are originaly from Amsterdam, but they have headquarters in Rome and office in Rio de Janeiro.\nThey are known for their smart investment strategy. They research the causes, and their team of economists and psychologists help the team select the best causes. They have a lot of experience and are very good at it.",
                  "5": "148500.0",
                  "6": "https://storage.googleapis.com/sharecaremedia/images/charity3.png",
                  "7": "Watts of Love",
                  "8": "This means a charity has to fall into one of a number of categories defined as charitable, such as the prevention or relief of poverty. Its sole purpose must be charitable. It can’t, for example, also aim to make profit or do something that isn’t defined as charitable, or provide ‘private benefit’ to anyone. The benefit must clearly be for the general public, or a sufficient section of them.",
                  "9": "cindy.fundmaister@wattsoflove.com"
                },
                {
                  "0": "78",
                  "1": "4",
                  "2": "2",
                  "3": "3",
                  "4": "Watts of Love is a Dutch company, founded in 2007 by two brothers. Their goal is to invest in projects which will improve the lives of others. They do this by funding projects which provide food, clothes, shelter, education, healthcare, and other necessities to people who otherwise would not have access to these things in their lives.\nYou can read more about Watts of Love here: https://www.wattsoflove.com/",
                  "5": "963425.0",
                  "6": "https://storage.googleapis.com/sharecaremedia/images/charity3.png",
                  "7": "Watts of Love",
                  "8": "This means a charity has to fall into one of a number of categories defined as charitable, such as the prevention or relief of poverty. Its sole purpose must be charitable. It can’t, for example, also aim to make profit or do something that isn’t defined as charitable, or provide ‘private benefit’ to anyone. The benefit must clearly be for the general public, or a sufficient section of them.",
                  "9": "cindy.fundmaister@wattsoflove.com"
                },
                {
                  "0": "85",
                  "1": "4",
                  "2": "3",
                  "3": "3",
                  "4": "I was looking for a change and I came across Watts of Love while browsing through charities on Charity Navigator. I thought, \"Why not just find a way to invest my money into a cause that is going to help the poor?\" I was taken aback when I realized that Watts of Love was also a scam. One of the things that stood out to me is that they deduct administrative and management fees from your investment. Watts of Love is 100% scam and I urge you to avoid this company.",
                  "5": "945613.0",
                  "6": "https://storage.googleapis.com/sharecaremedia/images/charity3.png",
                  "7": "Watts of Love",
                  "8": "This means a charity has to fall into one of a number of categories defined as charitable, such as the prevention or relief of poverty. Its sole purpose must be charitable. It can’t, for example, also aim to make profit or do something that isn’t defined as charitable, or provide ‘private benefit’ to anyone. The benefit must clearly be for the general public, or a sufficient section of them.",
                  "9": "cindy.fundmaister@wattsoflove.com"
                },
                {
                  "0": "90",
                  "1": "5",
                  "2": "16",
                  "3": "1",
                  "4": "I was recently introduced to charity: water and was immediately impressed. Through their efforts, they provide clean water to people in developing nations. They do this by diverting clean water from rivers and lakes and building wells in impoverished communities. Because water is a scarce resource, they use a fraction of the amount of water than large companies do to produce the same amount of water. This is incredibly important because the more water they give out, the less they'll have to use on",
                  "5": "621663.0",
                  "6": "https://storage.googleapis.com/sharecaremedia/images/charity1.png",
                  "7": "charity:water",
                  "8": "charity: water is a nonprofit organization bringing clean and safe drinking water to people in developing nations.",
                  "9": "mason.waterson@watercharity.com"
                },
                {
                  "0": "2",
                  "1": "5",
                  "2": "5",
                  "3": "5",
                  "4": "International fundraiser for improvement of water quality in Namibia. Help us raise funds for remote communities living in Namibia that have to walk for 3-11 hours one-way to get drinking water for their families. Many families are living in poverty and can't provide necessary amounts of drinkable water for their children. In order to help this small communities outside of big cities",
                  "5": "50032.0",
                  "6": "https://storage.googleapis.com/sharecaremedia/images/charity5.png",
                  "7": "charity:water",
                  "8": "charity: water is a nonprofit organization bringing clean and safe drinking water to people in developing nations.",
                  "9": "mason.waterson@watercharity.com"
                },
                {
                  "0": "92",
                  "1": "5",
                  "2": "9",
                  "3": "5",
                  "4": "charity:water is a nonprofit organization bringing clean and safe drinking water to people in developing nations. \nThey have a very simple website where you can donate to the cause. The money goes to the people who are working to bring clean water to local communities. \nI join them in their fight to bring clean drinking water to people in need because I know that I wouldn't want to go to other countries and not be able to drink the water there. I also know that it is a",
                  "5": "336257.0",
                  "6": "https://storage.googleapis.com/sharecaremedia/images/charity5.png",
                  "7": "charity:water",
                  "8": "charity: water is a nonprofit organization bringing clean and safe drinking water to people in developing nations.",
                  "9": "mason.waterson@watercharity.com"
                },
                {
                  "0": "99",
                  "1": "5",
                  "2": "11",
                  "3": "5",
                  "4": "charity:water is a nonprofit organization bringing clean and safe drinking water to people in developing nations. I have strong feelings about helping them out. I mean, imagine living in a world where people have to drink water from dirty water sources, when clean and safe drinking water is readily available.",
                  "5": "722306.0",
                  "6": "https://storage.googleapis.com/sharecaremedia/images/charity5.png",
                  "7": "charity:water",
                  "8": "charity: water is a nonprofit organization bringing clean and safe drinking water to people in developing nations.",
                  "9": "mason.waterson@watercharity.com"
                },
                {
                  "0": "88",
                  "1": "5",
                  "2": "3",
                  "3": "6",
                  "4": "As a frequent traveler to developing countries I have learned that clean and safe drinking water is not a luxury, but a right. In an effort to fight this problem, I contribute to charity: water. I have chosen to donate through their community-supported clean water project in Kenya. This organization sends money to local residents to build safe water tanks. The water is collected and distributed to the needy.\nI can't think of a better way to help others than by contributing to charity: water.",
                  "5": "316258.0",
                  "6": "https://storage.googleapis.com/sharecaremedia/images/charity6.png",
                  "7": "charity:water",
                  "8": "charity: water is a nonprofit organization bringing clean and safe drinking water to people in developing nations.",
                  "9": "mason.waterson@watercharity.com"
                },
                {
                  "0": "89",
                  "1": "5",
                  "2": "14",
                  "3": "6",
                  "4": "I heard about charity:water through my sister, who received a bottle from them she had never heard of before. I decided to take a look at what they do, and it was really inspiring. They provide clean drinking water to those in developing countries who do not have access to safe drinking water. I decided to donate my money to this cause, since I consider myself a humanitarian at heart. There are many ways to donate to charity:water, and all are great. You can donate too",
                  "5": "437395.0",
                  "6": "https://storage.googleapis.com/sharecaremedia/images/charity6.png",
                  "7": "charity:water",
                  "8": "charity: water is a nonprofit organization bringing clean and safe drinking water to people in developing nations.",
                  "9": "mason.waterson@watercharity.com"
                },
                {
                  "0": "93",
                  "1": "5",
                  "2": "15",
                  "3": "6",
                  "4": "After talking with a friend who travels to developing nations with charity:water, I decided to donate to their cause. I was amazed with how easily I could view their products and donate.    The products they offer are efficient and easy to use. The videos and photos are amazing, and the donors get good deals on the products.    I would recommend charity:water to any person who wants to do something good for people in developing nations.",
                  "5": "270253.0",
                  "6": "https://storage.googleapis.com/sharecaremedia/images/charity6.png",
                  "7": "charity:water",
                  "8": "charity: water is a nonprofit organization bringing clean and safe drinking water to people in developing nations.",
                  "9": "mason.waterson@watercharity.com"
                },
                {
                  "0": "98",
                  "1": "5",
                  "2": "7",
                  "3": "6",
                  "4": "charity:water is an amazing organization that has brought thousands of people in developing nations clean water.  I have donated to them in the past and It's amazing to be able to see how their work has helped such a large number of people.",
                  "5": "640170.0",
                  "6": "https://storage.googleapis.com/sharecaremedia/images/charity6.png",
                  "7": "charity:water",
                  "8": "charity: water is a nonprofit organization bringing clean and safe drinking water to people in developing nations.",
                  "9": "mason.waterson@watercharity.com"
                },
                {
                  "0": "91",
                  "1": "5",
                  "2": "16",
                  "3": "2",
                  "4": "I am a big fan of charity:water because there are people in other countries that do not have clean water to drink. They are in need of help, and the charity:water foundation is here to help. They do so by providing clean drinking water to people that have no clean water. They have used this method for a while now, and the results have been amazing.\nThis charity:water is different because of the fact that it is not a scam. It is a legitimate,",
                  "5": "1578.0",
                  "6": "https://storage.googleapis.com/sharecaremedia/images/charity2.jpeg",
                  "7": "charity:water",
                  "8": "charity: water is a nonprofit organization bringing clean and safe drinking water to people in developing nations.",
                  "9": "mason.waterson@watercharity.com"
                },
                {
                  "0": "95",
                  "1": "5",
                  "2": "7",
                  "3": "2",
                  "4": "I am a huge fan of charity:water. I had recently heard about what they were doing, and knew it was a great cause. They were doing a great job, but something about their website wasn't clicking for me at first. I stumbled across their website one day and it made me think about donating and doing an online fundraiser. I loved the idea and decided to sign up and set up a fundraiser\n\nI soon learned how to use the site and I had a great time",
                  "5": "854442.0",
                  "6": "https://storage.googleapis.com/sharecaremedia/images/charity2.jpeg",
                  "7": "charity:water",
                  "8": "charity: water is a nonprofit organization bringing clean and safe drinking water to people in developing nations.",
                  "9": "mason.waterson@watercharity.com"
                },
                {
                  "0": "97",
                  "1": "5",
                  "2": "15",
                  "3": "2",
                  "4": "I'm an active volunteer for charity:water (www.charitywater.org), and have been since the beginning. Charity:water is an amazing organization, and I am proud to be part of it. I donate a few dollars a month and have been able to help them raise $2.7 million just by spending about 10 minutes a month on their facebook page. They run a clean and safe water project in Haiti, and are the only organization I've come across that actually helps",
                  "5": "326838.0",
                  "6": "https://storage.googleapis.com/sharecaremedia/images/charity2.jpeg",
                  "7": "charity:water",
                  "8": "charity: water is a nonprofit organization bringing clean and safe drinking water to people in developing nations.",
                  "9": "mason.waterson@watercharity.com"
                },
                {
                  "0": "87",
                  "1": "5",
                  "2": "10",
                  "3": "3",
                  "4": "I was looking for a great cause to support and I came across charity:water. I liked what I saw and wanted to give them a try. After I got a water purification system, I decided to give them a try. I'm now purifying water for more than 1,000 people a day. It's a wonderful feeling to know that the water I'm purifying is going to people who are in need. I also love that charity:water uses a net-zero process",
                  "5": "661605.0",
                  "6": "https://storage.googleapis.com/sharecaremedia/images/charity3.png",
                  "7": "charity:water",
                  "8": "charity: water is a nonprofit organization bringing clean and safe drinking water to people in developing nations.",
                  "9": "mason.waterson@watercharity.com"
                },
                {
                  "0": "94",
                  "1": "5",
                  "2": "2",
                  "3": "3",
                  "4": "I've been a fan of charity:water since I first heard about them a few years ago. I've always been impressed with their mission to bring clean water to developing nations and I've always admired their organization and the work they do to help families in need. I've been a fan of",
                  "5": "456652.0",
                  "6": "https://storage.googleapis.com/sharecaremedia/images/charity3.png",
                  "7": "charity:water",
                  "8": "charity: water is a nonprofit organization bringing clean and safe drinking water to people in developing nations.",
                  "9": "mason.waterson@watercharity.com"
                },
                {
                  "0": "96",
                  "1": "5",
                  "2": "3",
                  "3": "3",
                  "4": "I have an interest in good causes, and I can't think of a better cause than charity:water. If you use your voice, you can help the people of Africa. All you need to do is make a simple online donation to charity:water.\nCharity:water is truly a great organization. It brings safe drinking water to people in developing nations, providing clean water for thousands of people who would otherwise go without it. And as if that wasn't enough, charity:water will also donate money to build sustainable water systems. I have strong positive feelings about them",
                  "5": "689742.0",
                  "6": "https://storage.googleapis.com/sharecaremedia/images/charity3.png",
                  "7": "charity:water",
                  "8": "charity: water is a nonprofit organization bringing clean and safe drinking water to people in developing nations.",
                  "9": "mason.waterson@watercharity.com"
                },
                {
                  "0": "101",
                  "1": "6",
                  "2": "5",
                  "3": "5",
                  "4": "I have been a PCI volunteer for a while now. I help out a lot of the PCI efforts in Serbia, Croatia and Bosnia, and when I heard about the Project Concern International, I was so excited. I like that it has the idea of helping others, but also that it is a non-profit organization. I have been so impressed with the company's products. They make amazing products like the solar panels and the solar lamps. The idea of the solar panels is amazing. If",
                  "5": "65959.0",
                  "6": "https://storage.googleapis.com/sharecaremedia/images/charity5.png",
                  "7": "Project Concern International",
                  "8": "PCI’s mission is to empower people to enhance health, end hunger and overcome hardship.",
                  "9": "jackson.mall@pci.com"
                },
                {
                  "0": "4",
                  "1": "6",
                  "2": "6",
                  "3": "6",
                  "4": "Raise people out of the darkness of poverty with amazing global solar lighting. Bring people the power with this fundraiser. Watts of Love is a nonprofit and it’s mission statement never fails to inspire other. We server people how weren't lucky as we are. Help us light up someone's day",
                  "5": "25000.0",
                  "6": "https://storage.googleapis.com/sharecaremedia/images/charity6.png",
                  "7": "Project Concern International",
                  "8": "PCI’s mission is to empower people to enhance health, end hunger and overcome hardship.",
                  "9": "jackson.mall@pci.com"
                },
                {
                  "0": "109",
                  "1": "6",
                  "2": "13",
                  "3": "6",
                  "4": "Project Concern International (PCI) is a non-governmental humanitarian organization with a mission to empower people to enhance their health, end hunger and overcome hardship.  The organization is based on the great moral principles of Nikola Tesla, who was among the first to use electricity as a force for good, and built his own research laboratory in Belgrade, Serbia. \nPCI is committed to helping people in poverty and areas of conflict, and is a great example of Tesla’s philosophy:",
                  "5": "278019.0",
                  "6": "https://storage.googleapis.com/sharecaremedia/images/charity6.png",
                  "7": "Project Concern International",
                  "8": "PCI’s mission is to empower people to enhance health, end hunger and overcome hardship.",
                  "9": "jackson.mall@pci.com"
                },
                {
                  "0": "104",
                  "1": "6",
                  "2": "15",
                  "3": "2",
                  "4": "PCI is a non-profit organization that provides healthcare and related products to people in need. One of the products they distribute is the Instant Energy Drink, which has a great taste and energizes the body.\nI first got to know PCI when I was in Belgrade in Serbia. I was walking around when I noticed a group of people who were handing out packets of the drink. I asked them what they were doing, and they explained to me that they were giving out the drink because they want to help local worhty causes",
                  "5": "720168.0",
                  "6": "https://storage.googleapis.com/sharecaremedia/images/charity2.jpeg",
                  "7": "Project Concern International",
                  "8": "PCI’s mission is to empower people to enhance health, end hunger and overcome hardship.",
                  "9": "jackson.mall@pci.com"
                },
                {
                  "0": "107",
                  "1": "6",
                  "2": "7",
                  "3": "2",
                  "4": "Project Concern International helps people who live in poverty to improve their lives by providing education, nutrition and medical care. \nPCI’s work is done in collaboration with local partners in low-income communities. The company is especially focused on helping children in rural areas, helping to build community capacity, and empowering women. PCI believes that children and women are the backbone of every community. \nPCI’s work is not just limited to the poor countries. PCI also supports people",
                  "5": "548104.0",
                  "6": "https://storage.googleapis.com/sharecaremedia/images/charity2.jpeg",
                  "7": "Project Concern International",
                  "8": "PCI’s mission is to empower people to enhance health, end hunger and overcome hardship.",
                  "9": "jackson.mall@pci.com"
                },
                {
                  "0": "108",
                  "1": "6",
                  "2": "12",
                  "3": "4",
                  "4": "PCI's work is based on the great Nikola Tesla principles of life. I have been so impressed with their work, I decided to purchase a Tesla bowl to help raise funds for PCI's work. The bowl is made of a beautiful ceramic material and is hand-crafted by a skilled artisan in Serbia. The bowl is astonishingly beautiful and comes with a certificate of authenticity from PCI. It is truly a work of art.\nI am so pleased to have found this wonderful bowl to help raise funds",
                  "5": "959789.0",
                  "6": "https://storage.googleapis.com/sharecaremedia/images/charity4.png",
                  "7": "Project Concern International",
                  "8": "PCI’s mission is to empower people to enhance health, end hunger and overcome hardship.",
                  "9": "jackson.mall@pci.com"
                },
                {
                  "0": "100",
                  "1": "6",
                  "2": "2",
                  "3": "3",
                  "4": "I found Project Concern International on their website and I was amazed at the many ways that they help help people. They have programs to help with poverty, hunger and helping people in areas where they are in the most need. I feel It's my duty to help others and PCI is an organization that I feel is above and beyond helping others. The company provides services in Belgrade, Serbia, as well as Zagreb, Croatia. The company is based on the values of Nikola Tesla, an electrical engineer, inventor and futurist.",
                  "5": "866222.0",
                  "6": "https://storage.googleapis.com/sharecaremedia/images/charity3.png",
                  "7": "Project Concern International",
                  "8": "PCI’s mission is to empower people to enhance health, end hunger and overcome hardship.",
                  "9": "jackson.mall@pci.com"
                },
                {
                  "0": "102",
                  "1": "6",
                  "2": "6",
                  "3": "3",
                  "4": "I am a big believer in investing in a charitable organization, an organization like PCI. I have been a part of a few non-profits before but PCI is the one that has stuck with me, and I'm glad to say that I've been supporting this organization for the last 10 years or so.  There are so many good things about PCI, and I love that it is a company whose principals are inspired by the great Nikola Tesla moral principles of life.  Their video’s are",
                  "5": "457217.0",
                  "6": "https://storage.googleapis.com/sharecaremedia/images/charity3.png",
                  "7": "Project Concern International",
                  "8": "PCI’s mission is to empower people to enhance health, end hunger and overcome hardship.",
                  "9": "jackson.mall@pci.com"
                },
                {
                  "0": "103",
                  "1": "6",
                  "2": "2",
                  "3": "3",
                  "4": "Project Concern International has been helping people in developing countries since 1996. They have been able to fund projects that help girls in rural areas learn sewing and knitting. They also have provided funding to help women farmers in developing countries that are trying to start their own farms. The amazing thing about PCI is that they provide funding to help people in poverty.\nThe founders of PCI are inspired by Nikola Tesla’s morals of life and they want to help people by funding projects that help people. I have",
                  "5": "501079.0",
                  "6": "https://storage.googleapis.com/sharecaremedia/images/charity3.png",
                  "7": "Project Concern International",
                  "8": "PCI’s mission is to empower people to enhance health, end hunger and overcome hardship.",
                  "9": "jackson.mall@pci.com"
                },
                {
                  "0": "105",
                  "1": "6",
                  "2": "9",
                  "3": "3",
                  "4": "Project Concern International is a great non-profit organization that is focused on eliminating poverty and creating a better world for all.   Their mission is to make the world a better place by empowering people to enhance their health, end hunger and overcome hardship. They have an extensive presence in Serbia and have been incredibly helpful in Belgrade even before I started using their products. I have been using their products for a little over a month now and I have to say that I am very impressed with",
                  "5": "161090.0",
                  "6": "https://storage.googleapis.com/sharecaremedia/images/charity3.png",
                  "7": "Project Concern International",
                  "8": "PCI’s mission is to empower people to enhance health, end hunger and overcome hardship.",
                  "9": "jackson.mall@pci.com"
                },
                {
                  "0": "106",
                  "1": "6",
                  "2": "5",
                  "3": "3",
                  "4": "We are very excited about Project Concern International. Being a non-profit, PCI’s mission is to empower people to enhance health, end hunger and overcome hardship. PCI’s products and services are based on the great Nikola Tesla moral principles of life. PCI’s work is based on the belief that all people are fundamentally good and that through cooperation and collaboration we can all improve our lives and the lives of others. PCI’s founders believe that poverty can be conquered in",
                  "5": "199938.0",
                  "6": "https://storage.googleapis.com/sharecaremedia/images/charity3.png",
                  "7": "Project Concern International",
                  "8": "PCI’s mission is to empower people to enhance health, end hunger and overcome hardship.",
                  "9": "jackson.mall@pci.com"
                }
              ],
              "schema": [
                {
                  "key": "0",
                  "name": "postId",
                  "type": "string"
                },
                {
                  "key": "1",
                  "name": "charityId",
                  "type": "string"
                },
                {
                  "key": "2",
                  "name": "userId",
                  "type": "string"
                },
                {
                  "key": "3",
                  "name": "mediaId",
                  "type": "string"
                },
                {
                  "key": "4",
                  "name": "text",
                  "type": "string"
                },
                {
                  "key": "5",
                  "name": "funds",
                  "type": "string"
                },
                {
                  "key": "6",
                  "name": "imageUrl",
                  "type": "string"
                },
                {
                  "key": "7",
                  "name": "name",
                  "type": "string"
                },
                {
                  "key": "8",
                  "name": "description",
                  "type": "string"
                },
                {
                  "key": "9",
                  "name": "charityOwner",
                  "type": "string"
                }
              ],
              "truncated": false
            },
            "isSummary": false,
            "language": "scala"
          },
          "persist_state": {
            "view": {
              "type": "details",
              "tableOptions": {},
              "chartOptions": {
                "chartType": "bar",
                "aggregationType": "count",
                "categoryFieldKeys": [
                  "0"
                ],
                "seriesFieldKeys": [
                  "0"
                ],
                "isStacked": false
              }
            }
          }
        },
        "a373cc53-b3ae-4865-a88b-1f1b8c4732e3": {
          "type": "Synapse.DataFrame",
          "sync_state": {
            "table": {
              "rows": [
                {
                  "0": "1",
                  "1": "Improve child nutrition fundraiser. Help us raise funds for improving child nutrition in southern Africa. Many families living in poverty can't provide necessary macro-nutritionaly balanced meals for their children. In order to help small communities outside of big cities we are making this fundraiser. Heifer International works with communities to increase income, improve child nutrition, care for the Earth, and ultimately end world hunger and poverty.",
                  "2": "30000.0",
                  "3": "https://storage.googleapis.com/sharecaremedia/images/charity1.png",
                  "4": "Heifer International",
                  "5": "Heifer International works with communities to increase income, improve child nutrition, care for the Earth, and ultimately end world hunger and poverty. Working internationally, around the globe helping small, local communities.",
                  "6": "mark.povich@heiferinternational.com",
                  "7": "Mark",
                  "8": "Povich",
                  "9": "mark.povich@heiferinternational.com",
                  "10": "pass123pass",
                  "11": "34",
                  "12": "USA"
                },
                {
                  "0": "18",
                  "1": "I'm a huge animal lover and an animal rescue. When I heard about this disaster the first thing that came into my mind was how I could help. I had $5 in my wallet and could not think of what to do so I typed \"\"animal disaster\"\" into google and was lucky enough to find ShareCare.\nTheir mission: to help animals in times of need. The same story that is on the front of their website happened to me. I happened to have $5 in my",
                  "2": "985180.0",
                  "3": "https://storage.googleapis.com/sharecaremedia/images/charity6.png",
                  "4": "Heifer International",
                  "5": "Heifer International works with communities to increase income, improve child nutrition, care for the Earth, and ultimately end world hunger and poverty. Working internationally, around the globe helping small, local communities.",
                  "6": "mark.povich@heiferinternational.com",
                  "7": "Mark",
                  "8": "Povich",
                  "9": "mark.povich@heiferinternational.com",
                  "10": "pass123pass",
                  "11": "34",
                  "12": "USA"
                },
                {
                  "0": "22",
                  "1": "I  have been a long-time fan of Heifer International, and I have always felt that they were a good organization. I was so pleased to find out that they were offering a donation in the wake of the devastating earthquake in Haiti. I figured that the donation would be great, and I'd just donate it. I would have been disappointed if the money had just been sent to Heifer's headquarters and not been used for the people of Haiti.\nNow, I know that all the money ended up in their HQ",
                  "2": "355306.0",
                  "3": "https://storage.googleapis.com/sharecaremedia/images/charity2.jpeg",
                  "4": "Heifer International",
                  "5": "Heifer International works with communities to increase income, improve child nutrition, care for the Earth, and ultimately end world hunger and poverty. Working internationally, around the globe helping small, local communities.",
                  "6": "mark.povich@heiferinternational.com",
                  "7": "Mark",
                  "8": "Povich",
                  "9": "mark.povich@heiferinternational.com",
                  "10": "pass123pass",
                  "11": "34",
                  "12": "USA"
                },
                {
                  "0": "31",
                  "1": "I am a Heifer International Ambassador.  I read about Heifer International as a way to give a hand up rather than a hand out.  I found this company that helps people in disaster stricken countries with their cattle herd.  I love the idea of helping people.  This is a company that does just that.  I like the idea of helping people in need.  This company helps people in need.   I believe that this company is a good company.  This company",
                  "2": "943976.0",
                  "3": "https://storage.googleapis.com/sharecaremedia/images/charity2.jpeg",
                  "4": "Heifer International",
                  "5": "Heifer International works with communities to increase income, improve child nutrition, care for the Earth, and ultimately end world hunger and poverty. Working internationally, around the globe helping small, local communities.",
                  "6": "mark.povich@heiferinternational.com",
                  "7": "Mark",
                  "8": "Povich",
                  "9": "mark.povich@heiferinternational.com",
                  "10": "pass123pass",
                  "11": "34",
                  "12": "USA"
                },
                {
                  "0": "56",
                  "1": "In 2014, I witnessed a beautiful parade in Paris that was helping raise awareness about cancer. It was a parade of people who were dressed in outfits that represented their cancers.  \nHere is something I wrote about that day:  \n“The first parade of the year was organized on the Champs-Élysées in response to the recent death of a young cancer patient who passed away in the hospital because his family was unable to pay for his treatment.",
                  "2": "255788.0",
                  "3": "https://storage.googleapis.com/sharecaremedia/images/charity3.png",
                  "4": "Vs. Cancer",
                  "5": "Vs. Cancer empowers any sports team, any athlete and any community to help kids with cancer. As a signature fundraising campaign of the Pediatric Brain Tumor Foundation, proceeds help fund child life programs in local hospitals and lifesaving pediatric brain tumor research.",
                  "6": "john.russinovich@vscancer.com",
                  "7": "Mark",
                  "8": "Povich",
                  "9": "mark.povich@heiferinternational.com",
                  "10": "pass123pass",
                  "11": "34",
                  "12": "USA"
                },
                {
                  "0": "73",
                  "1": "Watts of Love, an investment company, supports all of their money into good causes and charities, no matter where they are in the world. They fund projects in Africa, Asia, and Latin America, with a particular focus on the developing world. It is a company that allows you to directly help those who need help the most. Watts of Love is also a very unique project, as it is the only investment company that doesn’t use the traditional stock market. Instead, they use a revolutionary",
                  "2": "111762.0",
                  "3": "https://storage.googleapis.com/sharecaremedia/images/charity3.png",
                  "4": "Watts of Love",
                  "5": "This means a charity has to fall into one of a number of categories defined as charitable, such as the prevention or relief of poverty. Its sole purpose must be charitable. It can’t, for example, also aim to make profit or do something that isn’t defined as charitable, or provide ‘private benefit’ to anyone. The benefit must clearly be for the general public, or a sufficient section of them.",
                  "6": "cindy.fundmaister@wattsoflove.com",
                  "7": "Mark",
                  "8": "Povich",
                  "9": "mark.povich@heiferinternational.com",
                  "10": "pass123pass",
                  "11": "34",
                  "12": "USA"
                },
                {
                  "0": "16",
                  "1": "ShareCare is an organization that aims to provide the world with sustainable clean water. \nThey have forged partnerships with local communities in need and are currently working to make it possible for people to get clean water for the first time. \nBut you can help them by accessing their site and joining their cause. \nYou can also donate to them, to help them complete their goal of providing clean water for the world, and that means you too.  \nLearn more about Share",
                  "2": "293010.0",
                  "3": "https://storage.googleapis.com/sharecaremedia/images/charity1.png",
                  "4": "Heifer International",
                  "5": "Heifer International works with communities to increase income, improve child nutrition, care for the Earth, and ultimately end world hunger and poverty. Working internationally, around the globe helping small, local communities.",
                  "6": "mark.povich@heiferinternational.com",
                  "7": "Ean",
                  "8": "Hawkins",
                  "9": "hawkins@gcc-now.org",
                  "10": "pass123pass",
                  "11": "43",
                  "12": "Ireland"
                },
                {
                  "0": "45",
                  "1": "I was very excited to hear about Bright Pink. I'm a survivor of cancer and I care about every woman's right to live an active life. I've been inspired by the work of Bright Pink and their non-profit mission to help women manage their health proactively to save their lives and lives of others.  ",
                  "2": "614447.0",
                  "3": "https://storage.googleapis.com/sharecaremedia/images/charity4.png",
                  "4": "Bright Pink",
                  "5": "Bright Pink helps to save lives from breast and ovarian cancer by empowering women to know their risk and manage their health proactively.",
                  "6": "anny.brightling@brightpink.com",
                  "7": "Ean",
                  "8": "Hawkins",
                  "9": "hawkins@gcc-now.org",
                  "10": "pass123pass",
                  "11": "43",
                  "12": "Ireland"
                },
                {
                  "0": "70",
                  "1": "Vs. Cancer is an annual event focusing on raising awareness about cancer and fighting against it. The event is unique because it brings together celebrities, political leaders, and people who are affected by cancer in a collaborative effort to raise cancer awareness and funds to fight it. This year, this event was held at Central Park in New York City. I was lucky enough to have access to their stages, and I saw all of the celebrities and speakers that were there. I was in awe of the effort that",
                  "2": "688387.0",
                  "3": "https://storage.googleapis.com/sharecaremedia/images/charity1.png",
                  "4": "Vs. Cancer",
                  "5": "Vs. Cancer empowers any sports team, any athlete and any community to help kids with cancer. As a signature fundraising campaign of the Pediatric Brain Tumor Foundation, proceeds help fund child life programs in local hospitals and lifesaving pediatric brain tumor research.",
                  "6": "john.russinovich@vscancer.com",
                  "7": "Ean",
                  "8": "Hawkins",
                  "9": "hawkins@gcc-now.org",
                  "10": "pass123pass",
                  "11": "43",
                  "12": "Ireland"
                },
                {
                  "0": "55",
                  "1": "I am a registered nurse and have been working in the healthcare field for over 20 years. I have seen the devastating effects of cancer and have witnessed much of it first-hand; I consider myself a cancer \"survivor\".   I was trying to find a way to give back to the communities I have worked in and to help find a cure for cancer at the same time. My idea was to hold an annual event at the Eiffel Tower in Paris, France. I did",
                  "2": "439044.0",
                  "3": "https://storage.googleapis.com/sharecaremedia/images/charity6.png",
                  "4": "Vs. Cancer",
                  "5": "Vs. Cancer empowers any sports team, any athlete and any community to help kids with cancer. As a signature fundraising campaign of the Pediatric Brain Tumor Foundation, proceeds help fund child life programs in local hospitals and lifesaving pediatric brain tumor research.",
                  "6": "john.russinovich@vscancer.com",
                  "7": "Ean",
                  "8": "Hawkins",
                  "9": "hawkins@gcc-now.org",
                  "10": "pass123pass",
                  "11": "43",
                  "12": "Ireland"
                },
                {
                  "0": "76",
                  "1": "Watts of Love is an investment company that invests all of its profit into eligible charities and causes. The benefit must clearly be for the general public, or a sufficient section of them. They are originaly from Amsterdam, but they have headquarters in Rome and office in Rio de Janeiro.\nIn 2009, Watts of Love launched the Zero Hunger Challenge to encourage people to demand a better world. In order to make this happen, Watts of Love has created a new fund called Watts of Love. The fund is",
                  "2": "705359.0",
                  "3": "https://storage.googleapis.com/sharecaremedia/images/charity1.png",
                  "4": "Watts of Love",
                  "5": "This means a charity has to fall into one of a number of categories defined as charitable, such as the prevention or relief of poverty. Its sole purpose must be charitable. It can’t, for example, also aim to make profit or do something that isn’t defined as charitable, or provide ‘private benefit’ to anyone. The benefit must clearly be for the general public, or a sufficient section of them.",
                  "6": "cindy.fundmaister@wattsoflove.com",
                  "7": "Ean",
                  "8": "Hawkins",
                  "9": "hawkins@gcc-now.org",
                  "10": "pass123pass",
                  "11": "43",
                  "12": "Ireland"
                },
                {
                  "0": "81",
                  "1": "Watts of Love is an investment company that invests all of its profit into eligible charities and causes. The benefit must clearly be for the general public, or a sufficient section of them. They have offices from Rio de Janeiro to Rome, and have raised over $500,000 that has been donated to charities around the world.   \nTheoretically, their strategy could be an excellent way to invest in the future of the United States.",
                  "2": "933077.0",
                  "3": "https://storage.googleapis.com/sharecaremedia/images/charity6.png",
                  "4": "Watts of Love",
                  "5": "This means a charity has to fall into one of a number of categories defined as charitable, such as the prevention or relief of poverty. Its sole purpose must be charitable. It can’t, for example, also aim to make profit or do something that isn’t defined as charitable, or provide ‘private benefit’ to anyone. The benefit must clearly be for the general public, or a sufficient section of them.",
                  "6": "cindy.fundmaister@wattsoflove.com",
                  "7": "Ean",
                  "8": "Hawkins",
                  "9": "hawkins@gcc-now.org",
                  "10": "pass123pass",
                  "11": "43",
                  "12": "Ireland"
                },
                {
                  "0": "87",
                  "1": "I was looking for a great cause to support and I came across charity:water. I liked what I saw and wanted to give them a try. After I got a water purification system, I decided to give them a try. I'm now purifying water for more than 1,000 people a day. It's a wonderful feeling to know that the water I'm purifying is going to people who are in need. I also love that charity:water uses a net-zero process",
                  "2": "661605.0",
                  "3": "https://storage.googleapis.com/sharecaremedia/images/charity3.png",
                  "4": "charity:water",
                  "5": "charity: water is a nonprofit organization bringing clean and safe drinking water to people in developing nations.",
                  "6": "mason.waterson@watercharity.com",
                  "7": "Ean",
                  "8": "Hawkins",
                  "9": "hawkins@gcc-now.org",
                  "10": "pass123pass",
                  "11": "43",
                  "12": "Ireland"
                },
                {
                  "0": "21",
                  "1": "I first heard about Heifer International at the age of 8 years old, when one of my uncles was involved with a local Heifer International program. That was the first time I knew about the organization and how it works. Heifer International is a charity that works with communities to increase income, end poverty, and spread peace. Their mission is to \"\"do good and do well.\"\"\nHeifer International works with communities to increase income, end poverty, and spread peace. Their mission",
                  "2": "185274.0",
                  "3": "https://storage.googleapis.com/sharecaremedia/images/charity1.png",
                  "4": "Heifer International",
                  "5": "Heifer International works with communities to increase income, improve child nutrition, care for the Earth, and ultimately end world hunger and poverty. Working internationally, around the globe helping small, local communities.",
                  "6": "mark.povich@heiferinternational.com",
                  "7": "Ivan",
                  "8": "Horvat",
                  "9": "ivan.horvat@johndoe.com",
                  "10": "as423fwfwef",
                  "11": "46",
                  "12": "Croatia"
                },
                {
                  "0": "36",
                  "1": "I am the executive director of a non-profit organization that works with smaller farms and ranches in developing countries to help them improve their animals and their businesses. This has been a wonderful experience for me and I am happy to be able to help these farmers and ranchers. Heifer International's projects are amazing and I am so happy to be a part of it.",
                  "2": "692107.0",
                  "3": "https://storage.googleapis.com/sharecaremedia/images/charity1.png",
                  "4": "Heifer International",
                  "5": "Heifer International works with communities to increase income, improve child nutrition, care for the Earth, and ultimately end world hunger and poverty. Working internationally, around the globe helping small, local communities.",
                  "6": "mark.povich@heiferinternational.com",
                  "7": "Ivan",
                  "8": "Horvat",
                  "9": "ivan.horvat@johndoe.com",
                  "10": "as423fwfwef",
                  "11": "46",
                  "12": "Croatia"
                },
                {
                  "0": "24",
                  "1": "I was so excited to learn about this program. I thought it would help us to raise money for families in need and spread the message of peace, compassion and hope.  And it did! But it didn't work out the way we expected.  I wish the reality of the situation was a little bit different.  In reality, this program doesn't do much of anything for families in need.  I'm disappointed in Heifer International because the people who are supposed to be helping aren't honest",
                  "2": "306844.0",
                  "3": "https://storage.googleapis.com/sharecaremedia/images/charity6.png",
                  "4": "Heifer International",
                  "5": "Heifer International works with communities to increase income, improve child nutrition, care for the Earth, and ultimately end world hunger and poverty. Working internationally, around the globe helping small, local communities.",
                  "6": "mark.povich@heiferinternational.com",
                  "7": "Ivan",
                  "8": "Horvat",
                  "9": "ivan.horvat@johndoe.com",
                  "10": "as423fwfwef",
                  "11": "46",
                  "12": "Croatia"
                },
                {
                  "0": "37",
                  "1": "I was a little skeptical to use Heifer International as a company. It is very out of my comfort zone, but I was intrigued by the opportunity to help others. I was also intrigued by the idea that Heifer International doesn't charge a cent to the people who receive the donation. There is a Heifer in my town, and I decided to donate $100 to Heifer International. I did a lot of research before I donated because I didn't want to donate to a company that",
                  "2": "993583.0",
                  "3": "https://storage.googleapis.com/sharecaremedia/images/charity6.png",
                  "4": "Heifer International",
                  "5": "Heifer International works with communities to increase income, improve child nutrition, care for the Earth, and ultimately end world hunger and poverty. Working internationally, around the globe helping small, local communities.",
                  "6": "mark.povich@heiferinternational.com",
                  "7": "Ivan",
                  "8": "Horvat",
                  "9": "ivan.horvat@johndoe.com",
                  "10": "as423fwfwef",
                  "11": "46",
                  "12": "Croatia"
                },
                {
                  "0": "58",
                  "1": "I found out about this event from my friend who is a volunteer for the American Cancer Society and she told me that instead of giving money to an organization, give it to the people who need it most - the poor and homeless.  The event is called vs. Cancer and is an annual parade that takes place right at the Champs-Élysées and Eiffel Tower. It is one of the biggest parades in the world.  The event raises awareness for cancer and the",
                  "2": "756582.0",
                  "3": "https://storage.googleapis.com/sharecaremedia/images/charity5.png",
                  "4": "Vs. Cancer",
                  "5": "Vs. Cancer empowers any sports team, any athlete and any community to help kids with cancer. As a signature fundraising campaign of the Pediatric Brain Tumor Foundation, proceeds help fund child life programs in local hospitals and lifesaving pediatric brain tumor research.",
                  "6": "john.russinovich@vscancer.com",
                  "7": "Ivan",
                  "8": "Horvat",
                  "9": "ivan.horvat@johndoe.com",
                  "10": "as423fwfwef",
                  "11": "46",
                  "12": "Croatia"
                },
                {
                  "0": "66",
                  "1": "Vs. Cancer is an annual event that raises awareness about cancer. It started in 1986, and the first parade was held in New York City that year.   \nThey host an annual parade that raises awareness about cancer, it looks up to greater leaders and people such as John F. Kennedy, Abraham Lincoln, and Martin Luther King. Even Michael Jordan was there last year when a parade was held all the way across the Empire State Building through Central Park through Times Square. ",
                  "2": "314557.0",
                  "3": "https://storage.googleapis.com/sharecaremedia/images/charity6.png",
                  "4": "Vs. Cancer",
                  "5": "Vs. Cancer empowers any sports team, any athlete and any community to help kids with cancer. As a signature fundraising campaign of the Pediatric Brain Tumor Foundation, proceeds help fund child life programs in local hospitals and lifesaving pediatric brain tumor research.",
                  "6": "john.russinovich@vscancer.com",
                  "7": "Ivan",
                  "8": "Horvat",
                  "9": "ivan.horvat@johndoe.com",
                  "10": "as423fwfwef",
                  "11": "46",
                  "12": "Croatia"
                },
                {
                  "0": "89",
                  "1": "I heard about charity:water through my sister, who received a bottle from them she had never heard of before. I decided to take a look at what they do, and it was really inspiring. They provide clean drinking water to those in developing countries who do not have access to safe drinking water. I decided to donate my money to this cause, since I consider myself a humanitarian at heart. There are many ways to donate to charity:water, and all are great. You can donate too",
                  "2": "437395.0",
                  "3": "https://storage.googleapis.com/sharecaremedia/images/charity6.png",
                  "4": "charity:water",
                  "5": "charity: water is a nonprofit organization bringing clean and safe drinking water to people in developing nations.",
                  "6": "mason.waterson@watercharity.com",
                  "7": "Ivan",
                  "8": "Horvat",
                  "9": "ivan.horvat@johndoe.com",
                  "10": "as423fwfwef",
                  "11": "46",
                  "12": "Croatia"
                },
                {
                  "0": "33",
                  "1": "Heifer International is a non-profit organization which works to alleviate poverty and hunger by providing livestock and training so families can become self-sustaining. My family has used the services of Heifer before and we have been extremely pleased. With each donation we make, Heifer grows, and more livestock is available to more families.\nThe livestock are raised with the utmost care and are processed by Heifer's network of national distributors, so all of the food is safe for families to eat",
                  "2": "794096.0",
                  "3": "https://storage.googleapis.com/sharecaremedia/images/charity1.png",
                  "4": "Heifer International",
                  "5": "Heifer International works with communities to increase income, improve child nutrition, care for the Earth, and ultimately end world hunger and poverty. Working internationally, around the globe helping small, local communities.",
                  "6": "mark.povich@heiferinternational.com",
                  "7": "Ethan",
                  "8": "Zimmerman",
                  "9": "ethan.zimmerman@gmail.com",
                  "10": "pass123pass",
                  "11": "56",
                  "12": "Germany"
                },
                {
                  "0": "13",
                  "1": "A year ago, I decided to start a charity called Share and Care. I began with only one goal in mind: Do something that's meaningful to me and help the people around me.\nBut as I kept going, I realized that I could use my platform to help others and I also began to notice a \"\"disconnect\"\" between people and charities and the lack of interest in supporting charities. As the founder of Share and Care, I want to help other people, organizations and charities",
                  "2": "431997.0",
                  "3": "https://storage.googleapis.com/sharecaremedia/images/charity4.png",
                  "4": "Heifer International",
                  "5": "Heifer International works with communities to increase income, improve child nutrition, care for the Earth, and ultimately end world hunger and poverty. Working internationally, around the globe helping small, local communities.",
                  "6": "mark.povich@heiferinternational.com",
                  "7": "Ethan",
                  "8": "Zimmerman",
                  "9": "ethan.zimmerman@gmail.com",
                  "10": "pass123pass",
                  "11": "56",
                  "12": "Germany"
                },
                {
                  "0": "40",
                  "1": "I am so thankful to Bright Pink for being there for me. When my mother was diagnosed with breast cancer, she was told it was a \"bad\" cancer and that her chances of survival were slim. When I was diagnosed with breast cancer, I was so devastated that I didn't even know what to make of it. I was fortunate to have Bright Pink's help. They are a non-profit cancer foundation that provides funding to research that could help prevent and treat cancer. They're",
                  "2": "421920.0",
                  "3": "https://storage.googleapis.com/sharecaremedia/images/charity3.png",
                  "4": "Bright Pink",
                  "5": "Bright Pink helps to save lives from breast and ovarian cancer by empowering women to know their risk and manage their health proactively.",
                  "6": "anny.brightling@brightpink.com",
                  "7": "Ethan",
                  "8": "Zimmerman",
                  "9": "ethan.zimmerman@gmail.com",
                  "10": "pass123pass",
                  "11": "56",
                  "12": "Germany"
                },
                {
                  "0": "83",
                  "1": "Watts of Love is an investment company that invests all of its profit into eligible charities and causes. The benefit must clearly be for the general public, or a sufficient section of them. I love their office in Rome just a few blocks away from Colosseum. I have worked with Watts of Love for a few years and I was always impressed with their compassionate nature. I was even able to donate my time to a charity with them on a few occasions. I am happy to give my vote",
                  "2": "903193.0",
                  "3": "https://storage.googleapis.com/sharecaremedia/images/charity1.png",
                  "4": "Watts of Love",
                  "5": "This means a charity has to fall into one of a number of categories defined as charitable, such as the prevention or relief of poverty. Its sole purpose must be charitable. It can’t, for example, also aim to make profit or do something that isn’t defined as charitable, or provide ‘private benefit’ to anyone. The benefit must clearly be for the general public, or a sufficient section of them.",
                  "6": "cindy.fundmaister@wattsoflove.com",
                  "7": "Ethan",
                  "8": "Zimmerman",
                  "9": "ethan.zimmerman@gmail.com",
                  "10": "pass123pass",
                  "11": "56",
                  "12": "Germany"
                },
                {
                  "0": "84",
                  "1": "I invested in Watts of Love about a year ago. I read about this company in the newspaper and was intrigued by the idea of investing a portion of my money in companies that make a difference in our world. Unfortunately, I just recently found out that Watts of Love is a scam. The company has never been registered as an investment company with the SEC, which means it would have to pay taxes. Instead, the company used to give out money as a form of charity and now they want to",
                  "2": "465239.0",
                  "3": "https://storage.googleapis.com/sharecaremedia/images/charity6.png",
                  "4": "Watts of Love",
                  "5": "This means a charity has to fall into one of a number of categories defined as charitable, such as the prevention or relief of poverty. Its sole purpose must be charitable. It can’t, for example, also aim to make profit or do something that isn’t defined as charitable, or provide ‘private benefit’ to anyone. The benefit must clearly be for the general public, or a sufficient section of them.",
                  "6": "cindy.fundmaister@wattsoflove.com",
                  "7": "Ethan",
                  "8": "Zimmerman",
                  "9": "ethan.zimmerman@gmail.com",
                  "10": "pass123pass",
                  "11": "56",
                  "12": "Germany"
                },
                {
                  "0": "75",
                  "1": "Watts of Love is an investment company that invests all of its profit into eligible charities and causes. The benefit must clearly be for the general public, or a sufficient section of them. They are originaly from Amsterdam, but they have headquarters in Rome and office in Rio de Janeiro. They have a lot of amazing and good causes in their portfolio (mostly in the developing world) and you can choose which one you want to invest in. Watts of Love is also a good way to get a better understanding",
                  "2": "905212.0",
                  "3": "https://storage.googleapis.com/sharecaremedia/images/charity4.png",
                  "4": "Watts of Love",
                  "5": "This means a charity has to fall into one of a number of categories defined as charitable, such as the prevention or relief of poverty. Its sole purpose must be charitable. It can’t, for example, also aim to make profit or do something that isn’t defined as charitable, or provide ‘private benefit’ to anyone. The benefit must clearly be for the general public, or a sufficient section of them.",
                  "6": "cindy.fundmaister@wattsoflove.com",
                  "7": "Ethan",
                  "8": "Zimmerman",
                  "9": "ethan.zimmerman@gmail.com",
                  "10": "pass123pass",
                  "11": "56",
                  "12": "Germany"
                },
                {
                  "0": "74",
                  "1": "Watts of Love is an investment company that invests all of its profit into eligible charities and causes. The benefit must clearly be for the general public, or a sufficient section of them. They are originaly from Amsterdam, but they have headquarters in Rome and office in Rio de Janeiro.\nThey are known for their smart investment strategy. They research the causes, and their team of economists and psychologists help the team select the best causes. They have a lot of experience and are very good at it.",
                  "2": "148500.0",
                  "3": "https://storage.googleapis.com/sharecaremedia/images/charity3.png",
                  "4": "Watts of Love",
                  "5": "This means a charity has to fall into one of a number of categories defined as charitable, such as the prevention or relief of poverty. Its sole purpose must be charitable. It can’t, for example, also aim to make profit or do something that isn’t defined as charitable, or provide ‘private benefit’ to anyone. The benefit must clearly be for the general public, or a sufficient section of them.",
                  "6": "cindy.fundmaister@wattsoflove.com",
                  "7": "Ethan",
                  "8": "Zimmerman",
                  "9": "ethan.zimmerman@gmail.com",
                  "10": "pass123pass",
                  "11": "56",
                  "12": "Germany"
                },
                {
                  "0": "92",
                  "1": "charity:water is a nonprofit organization bringing clean and safe drinking water to people in developing nations. \nThey have a very simple website where you can donate to the cause. The money goes to the people who are working to bring clean water to local communities. \nI join them in their fight to bring clean drinking water to people in need because I know that I wouldn't want to go to other countries and not be able to drink the water there. I also know that it is a",
                  "2": "336257.0",
                  "3": "https://storage.googleapis.com/sharecaremedia/images/charity5.png",
                  "4": "charity:water",
                  "5": "charity: water is a nonprofit organization bringing clean and safe drinking water to people in developing nations.",
                  "6": "mason.waterson@watercharity.com",
                  "7": "Ethan",
                  "8": "Zimmerman",
                  "9": "ethan.zimmerman@gmail.com",
                  "10": "pass123pass",
                  "11": "56",
                  "12": "Germany"
                },
                {
                  "0": "105",
                  "1": "Project Concern International is a great non-profit organization that is focused on eliminating poverty and creating a better world for all.   Their mission is to make the world a better place by empowering people to enhance their health, end hunger and overcome hardship. They have an extensive presence in Serbia and have been incredibly helpful in Belgrade even before I started using their products. I have been using their products for a little over a month now and I have to say that I am very impressed with",
                  "2": "161090.0",
                  "3": "https://storage.googleapis.com/sharecaremedia/images/charity3.png",
                  "4": "Project Concern International",
                  "5": "PCI’s mission is to empower people to enhance health, end hunger and overcome hardship.",
                  "6": "jackson.mall@pci.com",
                  "7": "Ethan",
                  "8": "Zimmerman",
                  "9": "ethan.zimmerman@gmail.com",
                  "10": "pass123pass",
                  "11": "56",
                  "12": "Germany"
                },
                {
                  "0": "34",
                  "1": "I’m African American and I have no idea what it’s like to be poor, but I can tell you what it’s like to be a Heifer International donor. It’s an amazing experience. I’ve been extremely fortunate to be in the company of people who have been through the struggle of poverty, and I’ve witnessed firsthand the good that Heifer does. It’s a great experience. People are always asking me why",
                  "2": "777896.0",
                  "3": "https://storage.googleapis.com/sharecaremedia/images/charity1.png",
                  "4": "Heifer International",
                  "5": "Heifer International works with communities to increase income, improve child nutrition, care for the Earth, and ultimately end world hunger and poverty. Working internationally, around the globe helping small, local communities.",
                  "6": "mark.povich@heiferinternational.com",
                  "7": "Yolande",
                  "8": "Charron",
                  "9": "yolande.charron@elegium.fr\n",
                  "10": "24525ssdfd",
                  "11": "45",
                  "12": "France"
                },
                {
                  "0": "28",
                  "1": "I received a Heifer International product as a gift and I was really pleased with the product. Their organization's mission is to help the poorest of the poor people get a sustainable future. They help people get a better life by providing sustainable products. Their products are also good for the environment because they are manufactured from sustainable sources. I believe that this company is helping to change the world.",
                  "2": "95290.0",
                  "3": "https://storage.googleapis.com/sharecaremedia/images/charity6.png",
                  "4": "Heifer International",
                  "5": "Heifer International works with communities to increase income, improve child nutrition, care for the Earth, and ultimately end world hunger and poverty. Working internationally, around the globe helping small, local communities.",
                  "6": "mark.povich@heiferinternational.com",
                  "7": "Yolande",
                  "8": "Charron",
                  "9": "yolande.charron@elegium.fr\n",
                  "10": "24525ssdfd",
                  "11": "45",
                  "12": "France"
                },
                {
                  "0": "26",
                  "1": "The Heifer International foundation is a scam. It offers its services to the poor for free, but the cost of the animals is not free. It is from the poorest countries in the world and the animals are taken from their own countries, or from poor countries where their own animals are in danger of extinction.",
                  "2": "828096.0",
                  "3": "https://storage.googleapis.com/sharecaremedia/images/charity3.png",
                  "4": "Heifer International",
                  "5": "Heifer International works with communities to increase income, improve child nutrition, care for the Earth, and ultimately end world hunger and poverty. Working internationally, around the globe helping small, local communities.",
                  "6": "mark.povich@heiferinternational.com",
                  "7": "Yolande",
                  "8": "Charron",
                  "9": "yolande.charron@elegium.fr\n",
                  "10": "24525ssdfd",
                  "11": "45",
                  "12": "France"
                },
                {
                  "0": "86",
                  "1": "I have been a loyal customer of Watts of Love since they started. I like that they are a community based organization, and I like that their money is put into worthy causes. But I think that there are some major issues with Watts of Love. First, Watts of Love is a scam. The only way for one to be eligible to invest with Watts of Love is to be a customer and you must invest a certain amount of money or they will not register you as an investor. Also,",
                  "2": "125995.0",
                  "3": "https://storage.googleapis.com/sharecaremedia/images/charity5.png",
                  "4": "Watts of Love",
                  "5": "This means a charity has to fall into one of a number of categories defined as charitable, such as the prevention or relief of poverty. Its sole purpose must be charitable. It can’t, for example, also aim to make profit or do something that isn’t defined as charitable, or provide ‘private benefit’ to anyone. The benefit must clearly be for the general public, or a sufficient section of them.",
                  "6": "cindy.fundmaister@wattsoflove.com",
                  "7": "Yolande",
                  "8": "Charron",
                  "9": "yolande.charron@elegium.fr\n",
                  "10": "24525ssdfd",
                  "11": "45",
                  "12": "France"
                },
                {
                  "0": "108",
                  "1": "PCI's work is based on the great Nikola Tesla principles of life. I have been so impressed with their work, I decided to purchase a Tesla bowl to help raise funds for PCI's work. The bowl is made of a beautiful ceramic material and is hand-crafted by a skilled artisan in Serbia. The bowl is astonishingly beautiful and comes with a certificate of authenticity from PCI. It is truly a work of art.\nI am so pleased to have found this wonderful bowl to help raise funds",
                  "2": "959789.0",
                  "3": "https://storage.googleapis.com/sharecaremedia/images/charity4.png",
                  "4": "Project Concern International",
                  "5": "PCI’s mission is to empower people to enhance health, end hunger and overcome hardship.",
                  "6": "jackson.mall@pci.com",
                  "7": "Yolande",
                  "8": "Charron",
                  "9": "yolande.charron@elegium.fr\n",
                  "10": "24525ssdfd",
                  "11": "45",
                  "12": "France"
                },
                {
                  "0": "15",
                  "1": "I am a big fan of Sharecare, and was thrilled to be asked to review this company and their product. \nI purchased the ShareCare Water Down for myself, and have been making regular visits to my local Walmart. \nI have been using this product to help those less fortunate than myself.\nYou can get the product at Walmart or online.\nI was very pleased with the product and I will continue to use it.",
                  "2": "600711.0",
                  "3": "https://storage.googleapis.com/sharecaremedia/images/charity6.png",
                  "4": "Heifer International",
                  "5": "Heifer International works with communities to increase income, improve child nutrition, care for the Earth, and ultimately end world hunger and poverty. Working internationally, around the globe helping small, local communities.",
                  "6": "mark.povich@heiferinternational.com",
                  "7": "Cindy",
                  "8": "Fundmaister",
                  "9": "cindy.fundmaister@wattsoflove.com",
                  "10": "pass123pass",
                  "11": "78",
                  "12": "Canada"
                },
                {
                  "0": "25",
                  "1": "Heifer International will help you care for animals you can't keep. It's a grass-roots program that promotes humane practices and a sustainable way of life. The Heifer Foundation International is a non-profit organization that sells animals as well as provides education and grants to communities and families in need. The animals are hand raised on small farms that are managed by local families.\nThe program is based in rural communities where local families care for the animals, and the animals provide a source of income",
                  "2": "504833.0",
                  "3": "https://storage.googleapis.com/sharecaremedia/images/charity6.png",
                  "4": "Heifer International",
                  "5": "Heifer International works with communities to increase income, improve child nutrition, care for the Earth, and ultimately end world hunger and poverty. Working internationally, around the globe helping small, local communities.",
                  "6": "mark.povich@heiferinternational.com",
                  "7": "Cindy",
                  "8": "Fundmaister",
                  "9": "cindy.fundmaister@wattsoflove.com",
                  "10": "pass123pass",
                  "11": "78",
                  "12": "Canada"
                },
                {
                  "0": "50",
                  "1": "I saw a shocking video of how Bright Pink is a scam and decided to do something about it. I've started a petition to get Bright Pink to stop using their name to give hope to women with ovarian and breast cancer.\nThis petition is about to go viral.  Bright Pink is a scam that pretends to help with breast and ovarian cancer, they only take money. Few people are aware of this scam and they are using the name of a charity.\n",
                  "2": "913160.0",
                  "3": "https://storage.googleapis.com/sharecaremedia/images/charity2.jpeg",
                  "4": "Bright Pink",
                  "5": "Bright Pink helps to save lives from breast and ovarian cancer by empowering women to know their risk and manage their health proactively.",
                  "6": "anny.brightling@brightpink.com",
                  "7": "Cindy",
                  "8": "Fundmaister",
                  "9": "cindy.fundmaister@wattsoflove.com",
                  "10": "pass123pass",
                  "11": "78",
                  "12": "Canada"
                },
                {
                  "0": "49",
                  "1": "I was at a party and a group of women were talking about a friend who had died of cancer; they were so sad and angry.  After thinking about it, I decided to give Bright Pink a try.  It was a great way to learn about my risk and to take charge of my health and my life.  I have to say, it was also a great way to meet new people and make new friends.  There is a lot of information on Bright Pink's website,",
                  "2": "287071.0",
                  "3": "https://storage.googleapis.com/sharecaremedia/images/charity4.png",
                  "4": "Bright Pink",
                  "5": "Bright Pink helps to save lives from breast and ovarian cancer by empowering women to know their risk and manage their health proactively.",
                  "6": "anny.brightling@brightpink.com",
                  "7": "Cindy",
                  "8": "Fundmaister",
                  "9": "cindy.fundmaister@wattsoflove.com",
                  "10": "pass123pass",
                  "11": "78",
                  "12": "Canada"
                },
                {
                  "0": "79",
                  "1": "Watts of Love funds a water filtration system in the Philippines and a children's hospital in India. The company claims that they use a holistic approach by selecting worthy causes that are sustainable and long-term. They are the first to fund a hospital in the Philippines, as it was previously funded by the government. They have also funded an organization called, \"\"Survive\"\", which gives a child born in poverty a chance to survive and thrive.\nIf you're looking for a way to help",
                  "2": "794564.0",
                  "3": "https://storage.googleapis.com/sharecaremedia/images/charity6.png",
                  "4": "Watts of Love",
                  "5": "This means a charity has to fall into one of a number of categories defined as charitable, such as the prevention or relief of poverty. Its sole purpose must be charitable. It can’t, for example, also aim to make profit or do something that isn’t defined as charitable, or provide ‘private benefit’ to anyone. The benefit must clearly be for the general public, or a sufficient section of them.",
                  "6": "cindy.fundmaister@wattsoflove.com",
                  "7": "Cindy",
                  "8": "Fundmaister",
                  "9": "cindy.fundmaister@wattsoflove.com",
                  "10": "pass123pass",
                  "11": "78",
                  "12": "Canada"
                },
                {
                  "0": "23",
                  "1": "I am writing this in regards to the Heifer International disaster. I am truly disappointed with Heifer International, I thought they were a charity foundation that assisted people in developing countries. I was impressed with their website, the people on this website were very nice and seemed to be genuine. However, once I got my hands on the goods I was disappointed. The goods are not as good as I was promised, the materials are poor and the construction is very poor. I do not recommend this product",
                  "2": "793318.0",
                  "3": "https://storage.googleapis.com/sharecaremedia/images/charity6.png",
                  "4": "Heifer International",
                  "5": "Heifer International works with communities to increase income, improve child nutrition, care for the Earth, and ultimately end world hunger and poverty. Working internationally, around the globe helping small, local communities.",
                  "6": "mark.povich@heiferinternational.com",
                  "7": "Anny",
                  "8": "Brightling",
                  "9": "anny.brightling@brightpink.com",
                  "10": "pass123pass",
                  "11": "25",
                  "12": "United Kingdom"
                },
                {
                  "0": "27",
                  "1": "I have been to many countries and have seen a lot of things. I have seen the poorest of the poor and I have seen the richest of the rich. I am not a religious person, but I do have a strong belief in karma. If you do good, good things happen to you. If you do bad, bad things happen to you. That's how I feel about Heifer International. I have seen the amazing things that Heifer has done. I have seen the",
                  "2": "803647.0",
                  "3": "https://storage.googleapis.com/sharecaremedia/images/charity2.jpeg",
                  "4": "Heifer International",
                  "5": "Heifer International works with communities to increase income, improve child nutrition, care for the Earth, and ultimately end world hunger and poverty. Working internationally, around the globe helping small, local communities.",
                  "6": "mark.povich@heiferinternational.com",
                  "7": "Anny",
                  "8": "Brightling",
                  "9": "anny.brightling@brightpink.com",
                  "10": "pass123pass",
                  "11": "25",
                  "12": "United Kingdom"
                },
                {
                  "0": "47",
                  "1": "After watching a video about Bright Pink and finding out that my mother-in-law had breast cancer, I decided to make a donation and I’ve been doing so ever since.     Over the past two years, I have seen so many women in my life who have had this disease, and I want to support them by donating to Bright Pink.     I admire the women at Bright Pink for making a difference in the lives of so many women",
                  "2": "132988.0",
                  "3": "https://storage.googleapis.com/sharecaremedia/images/charity2.jpeg",
                  "4": "Bright Pink",
                  "5": "Bright Pink helps to save lives from breast and ovarian cancer by empowering women to know their risk and manage their health proactively.",
                  "6": "anny.brightling@brightpink.com",
                  "7": "Anny",
                  "8": "Brightling",
                  "9": "anny.brightling@brightpink.com",
                  "10": "pass123pass",
                  "11": "25",
                  "12": "United Kingdom"
                },
                {
                  "0": "65",
                  "1": "I used to be a smoker and I got Vs. Cancer when I was diagnosed with cancer. I started smoking when I was around 14 and I had my first cigarette when I was 12",
                  "2": "800921.0",
                  "3": "https://storage.googleapis.com/sharecaremedia/images/charity5.png",
                  "4": "Vs. Cancer",
                  "5": "Vs. Cancer empowers any sports team, any athlete and any community to help kids with cancer. As a signature fundraising campaign of the Pediatric Brain Tumor Foundation, proceeds help fund child life programs in local hospitals and lifesaving pediatric brain tumor research.",
                  "6": "john.russinovich@vscancer.com",
                  "7": "Anny",
                  "8": "Brightling",
                  "9": "anny.brightling@brightpink.com",
                  "10": "pass123pass",
                  "11": "25",
                  "12": "United Kingdom"
                },
                {
                  "0": "77",
                  "1": "I was recently introduced to Watts of Love. The idea is that with a small donation, you can invest in charities and causes that are important to you. I thought this was a great idea, but I was skeptical that it would actually work and that I would get my money back. But after reading some of the reviews, I decided to give it a try. Within one week, I received a call from Watts of Love explaining that they had decided to invest my donation in a homeless shelter.",
                  "2": "27084.0",
                  "3": "https://storage.googleapis.com/sharecaremedia/images/charity5.png",
                  "4": "Watts of Love",
                  "5": "This means a charity has to fall into one of a number of categories defined as charitable, such as the prevention or relief of poverty. Its sole purpose must be charitable. It can’t, for example, also aim to make profit or do something that isn’t defined as charitable, or provide ‘private benefit’ to anyone. The benefit must clearly be for the general public, or a sufficient section of them.",
                  "6": "cindy.fundmaister@wattsoflove.com",
                  "7": "Anny",
                  "8": "Brightling",
                  "9": "anny.brightling@brightpink.com",
                  "10": "pass123pass",
                  "11": "25",
                  "12": "United Kingdom"
                },
                {
                  "0": "82",
                  "1": "Watts of Love is an investment company that invests all of its profit into eligible charities and causes. The benefit must clearly be for the general public, or a sufficient section of them. I love their office in Rome just a few blocks away from Colosseum.\nThe Watts of Love fund invests in incredible causes and charities, such as a free day care center for kids under the age of seven in the impoverished city of Rio de Janeiro. Or a free medical clinic for children in the mountains",
                  "2": "134669.0",
                  "3": "https://storage.googleapis.com/sharecaremedia/images/charity6.png",
                  "4": "Watts of Love",
                  "5": "This means a charity has to fall into one of a number of categories defined as charitable, such as the prevention or relief of poverty. Its sole purpose must be charitable. It can’t, for example, also aim to make profit or do something that isn’t defined as charitable, or provide ‘private benefit’ to anyone. The benefit must clearly be for the general public, or a sufficient section of them.",
                  "6": "cindy.fundmaister@wattsoflove.com",
                  "7": "Anny",
                  "8": "Brightling",
                  "9": "anny.brightling@brightpink.com",
                  "10": "pass123pass",
                  "11": "25",
                  "12": "United Kingdom"
                },
                {
                  "0": "78",
                  "1": "Watts of Love is a Dutch company, founded in 2007 by two brothers. Their goal is to invest in projects which will improve the lives of others. They do this by funding projects which provide food, clothes, shelter, education, healthcare, and other necessities to people who otherwise would not have access to these things in their lives.\nYou can read more about Watts of Love here: https://www.wattsoflove.com/",
                  "2": "963425.0",
                  "3": "https://storage.googleapis.com/sharecaremedia/images/charity3.png",
                  "4": "Watts of Love",
                  "5": "This means a charity has to fall into one of a number of categories defined as charitable, such as the prevention or relief of poverty. Its sole purpose must be charitable. It can’t, for example, also aim to make profit or do something that isn’t defined as charitable, or provide ‘private benefit’ to anyone. The benefit must clearly be for the general public, or a sufficient section of them.",
                  "6": "cindy.fundmaister@wattsoflove.com",
                  "7": "Anny",
                  "8": "Brightling",
                  "9": "anny.brightling@brightpink.com",
                  "10": "pass123pass",
                  "11": "25",
                  "12": "United Kingdom"
                },
                {
                  "0": "94",
                  "1": "I've been a fan of charity:water since I first heard about them a few years ago. I've always been impressed with their mission to bring clean water to developing nations and I've always admired their organization and the work they do to help families in need. I've been a fan of",
                  "2": "456652.0",
                  "3": "https://storage.googleapis.com/sharecaremedia/images/charity3.png",
                  "4": "charity:water",
                  "5": "charity: water is a nonprofit organization bringing clean and safe drinking water to people in developing nations.",
                  "6": "mason.waterson@watercharity.com",
                  "7": "Anny",
                  "8": "Brightling",
                  "9": "anny.brightling@brightpink.com",
                  "10": "pass123pass",
                  "11": "25",
                  "12": "United Kingdom"
                },
                {
                  "0": "100",
                  "1": "I found Project Concern International on their website and I was amazed at the many ways that they help help people. They have programs to help with poverty, hunger and helping people in areas where they are in the most need. I feel It's my duty to help others and PCI is an organization that I feel is above and beyond helping others. The company provides services in Belgrade, Serbia, as well as Zagreb, Croatia. The company is based on the values of Nikola Tesla, an electrical engineer, inventor and futurist.",
                  "2": "866222.0",
                  "3": "https://storage.googleapis.com/sharecaremedia/images/charity3.png",
                  "4": "Project Concern International",
                  "5": "PCI’s mission is to empower people to enhance health, end hunger and overcome hardship.",
                  "6": "jackson.mall@pci.com",
                  "7": "Anny",
                  "8": "Brightling",
                  "9": "anny.brightling@brightpink.com",
                  "10": "pass123pass",
                  "11": "25",
                  "12": "United Kingdom"
                },
                {
                  "0": "103",
                  "1": "Project Concern International has been helping people in developing countries since 1996. They have been able to fund projects that help girls in rural areas learn sewing and knitting. They also have provided funding to help women farmers in developing countries that are trying to start their own farms. The amazing thing about PCI is that they provide funding to help people in poverty.\nThe founders of PCI are inspired by Nikola Tesla’s morals of life and they want to help people by funding projects that help people. I have",
                  "2": "501079.0",
                  "3": "https://storage.googleapis.com/sharecaremedia/images/charity3.png",
                  "4": "Project Concern International",
                  "5": "PCI’s mission is to empower people to enhance health, end hunger and overcome hardship.",
                  "6": "jackson.mall@pci.com",
                  "7": "Anny",
                  "8": "Brightling",
                  "9": "anny.brightling@brightpink.com",
                  "10": "pass123pass",
                  "11": "25",
                  "12": "United Kingdom"
                },
                {
                  "0": "29",
                  "1": "Heifer International is a non-profit organization that designs and implements programs to alleviate poverty. They distribute livestock, such as cows and goats, to impoverished people in developing countries, where the livestock become an integral part of their diets.\nThe animals are also used to provide manure for soil improvement, to help with crop production, and even for income generation.\nHeifer International is a good company. They have a broad network of local farmers to help implement their projects. They also donate livestock to",
                  "2": "479826.0",
                  "3": "https://storage.googleapis.com/sharecaremedia/images/charity6.png",
                  "4": "Heifer International",
                  "5": "Heifer International works with communities to increase income, improve child nutrition, care for the Earth, and ultimately end world hunger and poverty. Working internationally, around the globe helping small, local communities.",
                  "6": "mark.povich@heiferinternational.com",
                  "7": "Andy",
                  "8": "Denilson",
                  "9": "andy@denilson.com",
                  "10": "pass123pass",
                  "11": "45",
                  "12": "Germany"
                },
                {
                  "0": "17",
                  "1": "ShareCare (a non-profit organization) is a charity that works with families of children who are living with cancer. In 2013, ShareCare was awarded the title of \"Most Innovative Charity\" by the LA Times. Their goal is to help families pay for the medical expenses that come with childhood cancer.    ShareCare helps families who have a child with cancer to meet the cost of treatment, travel expenses, and other costs associated with their child's treatment.",
                  "2": "346703.0",
                  "3": "https://storage.googleapis.com/sharecaremedia/images/charity2.jpeg",
                  "4": "Heifer International",
                  "5": "Heifer International works with communities to increase income, improve child nutrition, care for the Earth, and ultimately end world hunger and poverty. Working internationally, around the globe helping small, local communities.",
                  "6": "mark.povich@heiferinternational.com",
                  "7": "Andy",
                  "8": "Denilson",
                  "9": "andy@denilson.com",
                  "10": "pass123pass",
                  "11": "45",
                  "12": "Germany"
                },
                {
                  "0": "14",
                  "1": "I was lucky enough to be a part of the ShareCare foundation.   I was living in Haiti in 2010 when the earthquake struck. I was working for a non-profit organization at the time and we were helping to rebuild homes. ShareCare was one of the main organizations in the country helping with relief efforts. I was able to volunteer for a few months to help re-build a home.       Since then I've been lucky enough to be able to continue",
                  "2": "454481.0",
                  "3": "https://storage.googleapis.com/sharecaremedia/images/charity3.png",
                  "4": "Heifer International",
                  "5": "Heifer International works with communities to increase income, improve child nutrition, care for the Earth, and ultimately end world hunger and poverty. Working internationally, around the globe helping small, local communities.",
                  "6": "mark.povich@heiferinternational.com",
                  "7": "Andy",
                  "8": "Denilson",
                  "9": "andy@denilson.com",
                  "10": "pass123pass",
                  "11": "45",
                  "12": "Germany"
                },
                {
                  "0": "42",
                  "1": "My mother was diagnosed with breast cancer in 2011 and after that I knew I had to do something to help. I started researching the best ways to prevent cancer and I came across Bright Pink. I loved the concept and loved the idea of helping women live longer, healthier lives. When I began fundraising for Bright Pink, I had no idea what I was getting myself into. I was so overwhelmed by the amount of work and the amount of time that this organization takes. I could not believe how much",
                  "2": "917780.0",
                  "3": "https://storage.googleapis.com/sharecaremedia/images/charity5.png",
                  "4": "Bright Pink",
                  "5": "Bright Pink helps to save lives from breast and ovarian cancer by empowering women to know their risk and manage their health proactively.",
                  "6": "anny.brightling@brightpink.com",
                  "7": "Andy",
                  "8": "Denilson",
                  "9": "andy@denilson.com",
                  "10": "pass123pass",
                  "11": "45",
                  "12": "Germany"
                },
                {
                  "0": "71",
                  "1": "The Vs. Cancer Foundation has raised over $7 million for breast cancer research. \nBut their goal is to raise $20 million. \nThis year they are hosting a parade in New York City, but they are hoping to raise awareness about breast cancer not only in New York, but throughout the world. \nTo get others involved in raising funds, they are hosting a video contest. \nIt is a fundraiser that is truly amazing. ",
                  "2": "182704.0",
                  "3": "https://storage.googleapis.com/sharecaremedia/images/charity1.png",
                  "4": "Vs. Cancer",
                  "5": "Vs. Cancer empowers any sports team, any athlete and any community to help kids with cancer. As a signature fundraising campaign of the Pediatric Brain Tumor Foundation, proceeds help fund child life programs in local hospitals and lifesaving pediatric brain tumor research.",
                  "6": "john.russinovich@vscancer.com",
                  "7": "Andy",
                  "8": "Denilson",
                  "9": "andy@denilson.com",
                  "10": "pass123pass",
                  "11": "45",
                  "12": "Germany"
                },
                {
                  "0": "57",
                  "1": "I never thought I would be a part of a parade with over 300,000 people but I have been given this honor to be a part of the parade in Paris to raise awareness about cancer. I can't believe I am going through this but I want to be a part of this big event to help other people who are going through this difficult time. I am so happy to go to Paris and help others.",
                  "2": "508906.0",
                  "3": "https://storage.googleapis.com/sharecaremedia/images/charity6.png",
                  "4": "Vs. Cancer",
                  "5": "Vs. Cancer empowers any sports team, any athlete and any community to help kids with cancer. As a signature fundraising campaign of the Pediatric Brain Tumor Foundation, proceeds help fund child life programs in local hospitals and lifesaving pediatric brain tumor research.",
                  "6": "john.russinovich@vscancer.com",
                  "7": "Andy",
                  "8": "Denilson",
                  "9": "andy@denilson.com",
                  "10": "pass123pass",
                  "11": "45",
                  "12": "Germany"
                },
                {
                  "0": "98",
                  "1": "charity:water is an amazing organization that has brought thousands of people in developing nations clean water.  I have donated to them in the past and It's amazing to be able to see how their work has helped such a large number of people.",
                  "2": "640170.0",
                  "3": "https://storage.googleapis.com/sharecaremedia/images/charity6.png",
                  "4": "charity:water",
                  "5": "charity: water is a nonprofit organization bringing clean and safe drinking water to people in developing nations.",
                  "6": "mason.waterson@watercharity.com",
                  "7": "Andy",
                  "8": "Denilson",
                  "9": "andy@denilson.com",
                  "10": "pass123pass",
                  "11": "45",
                  "12": "Germany"
                },
                {
                  "0": "95",
                  "1": "I am a huge fan of charity:water. I had recently heard about what they were doing, and knew it was a great cause. They were doing a great job, but something about their website wasn't clicking for me at first. I stumbled across their website one day and it made me think about donating and doing an online fundraiser. I loved the idea and decided to sign up and set up a fundraiser\n\nI soon learned how to use the site and I had a great time",
                  "2": "854442.0",
                  "3": "https://storage.googleapis.com/sharecaremedia/images/charity2.jpeg",
                  "4": "charity:water",
                  "5": "charity: water is a nonprofit organization bringing clean and safe drinking water to people in developing nations.",
                  "6": "mason.waterson@watercharity.com",
                  "7": "Andy",
                  "8": "Denilson",
                  "9": "andy@denilson.com",
                  "10": "pass123pass",
                  "11": "45",
                  "12": "Germany"
                },
                {
                  "0": "107",
                  "1": "Project Concern International helps people who live in poverty to improve their lives by providing education, nutrition and medical care. \nPCI’s work is done in collaboration with local partners in low-income communities. The company is especially focused on helping children in rural areas, helping to build community capacity, and empowering women. PCI believes that children and women are the backbone of every community. \nPCI’s work is not just limited to the poor countries. PCI also supports people",
                  "2": "548104.0",
                  "3": "https://storage.googleapis.com/sharecaremedia/images/charity2.jpeg",
                  "4": "Project Concern International",
                  "5": "PCI’s mission is to empower people to enhance health, end hunger and overcome hardship.",
                  "6": "jackson.mall@pci.com",
                  "7": "Andy",
                  "8": "Denilson",
                  "9": "andy@denilson.com",
                  "10": "pass123pass",
                  "11": "45",
                  "12": "Germany"
                },
                {
                  "0": "32",
                  "1": "The Heifer International website describes the Heifer Foundation as the world's largest international nonprofit organization focused exclusively on the care of animals, people and the environment in developing countries. For more than 50 years, Heifer has been bringing people - especially children and families - off of poverty and hunger through productive livestock investments. Heifer has given more than 5 million people around the world the tools they need to feed themselves and their families. Heifer has been working to end world hunger since 1957.",
                  "2": "429923.0",
                  "3": "https://storage.googleapis.com/sharecaremedia/images/charity6.png",
                  "4": "Heifer International",
                  "5": "Heifer International works with communities to increase income, improve child nutrition, care for the Earth, and ultimately end world hunger and poverty. Working internationally, around the globe helping small, local communities.",
                  "6": "mark.povich@heiferinternational.com",
                  "7": "Gaspard",
                  "8": "Chastain",
                  "9": "gaspard.chastain@llc.fr",
                  "10": "494passe5",
                  "11": "56",
                  "12": "France"
                },
                {
                  "0": "12",
                  "1": "The world is full of people who are good and caring. I do not want to be one of them. I want to be the side of the world that is bad, that hurts people, that causes problems.  \nI am a disaster. I am a catastrophe. I am a foundation. The seeds of my life are evil.\nI am not good.\nI do not want to be good. I want to be bad. I want to be the bad that hurts",
                  "2": "84779.0",
                  "3": "https://storage.googleapis.com/sharecaremedia/images/charity2.jpeg",
                  "4": "Heifer International",
                  "5": "Heifer International works with communities to increase income, improve child nutrition, care for the Earth, and ultimately end world hunger and poverty. Working internationally, around the globe helping small, local communities.",
                  "6": "mark.povich@heiferinternational.com",
                  "7": "Gaspard",
                  "8": "Chastain",
                  "9": "gaspard.chastain@llc.fr",
                  "10": "494passe5",
                  "11": "56",
                  "12": "France"
                },
                {
                  "0": "30",
                  "1": "I have given Heifer International a shot. They have been helping the poor in Africa for about 40 years. Heifer International is an organization which helps the world's poorest farmers acquire the tools and skills to increase their income and improve nutrition and health. If you are looking for a charity that will help the poor, Heifer International is a great choice. Not only that, Heifer International is a great company. They have great management, give the donor great information and go above and beyond.",
                  "2": "917070.0",
                  "3": "https://storage.googleapis.com/sharecaremedia/images/charity3.png",
                  "4": "Heifer International",
                  "5": "Heifer International works with communities to increase income, improve child nutrition, care for the Earth, and ultimately end world hunger and poverty. Working internationally, around the globe helping small, local communities.",
                  "6": "mark.povich@heiferinternational.com",
                  "7": "Gaspard",
                  "8": "Chastain",
                  "9": "gaspard.chastain@llc.fr",
                  "10": "494passe5",
                  "11": "56",
                  "12": "France"
                },
                {
                  "0": "46",
                  "1": "The website is easy to navigate and there are a lot of resources for women to know their risk and take action.",
                  "2": "440154.0",
                  "3": "https://storage.googleapis.com/sharecaremedia/images/charity5.png",
                  "4": "Bright Pink",
                  "5": "Bright Pink helps to save lives from breast and ovarian cancer by empowering women to know their risk and manage their health proactively.",
                  "6": "anny.brightling@brightpink.com",
                  "7": "Gaspard",
                  "8": "Chastain",
                  "9": "gaspard.chastain@llc.fr",
                  "10": "494passe5",
                  "11": "56",
                  "12": "France"
                },
                {
                  "0": "67",
                  "1": "Vs. Cancer is a non-profit organization dedicated to creating awareness and raising funds for cancer research. They do this through the annual parade, which is a 50-mile walk that goes though New York, and then through Central Park and into Times Square. They have not only a parade but also have a corporate sponsor and a social media presence with a hashtag #VsCancer. It is a movement that seems to be growing and spreading from year to year. At the last #VsCancer",
                  "2": "886907.0",
                  "3": "https://storage.googleapis.com/sharecaremedia/images/charity6.png",
                  "4": "Vs. Cancer",
                  "5": "Vs. Cancer empowers any sports team, any athlete and any community to help kids with cancer. As a signature fundraising campaign of the Pediatric Brain Tumor Foundation, proceeds help fund child life programs in local hospitals and lifesaving pediatric brain tumor research.",
                  "6": "john.russinovich@vscancer.com",
                  "7": "Gaspard",
                  "8": "Chastain",
                  "9": "gaspard.chastain@llc.fr",
                  "10": "494passe5",
                  "11": "56",
                  "12": "France"
                },
                {
                  "0": "99",
                  "1": "charity:water is a nonprofit organization bringing clean and safe drinking water to people in developing nations. I have strong feelings about helping them out. I mean, imagine living in a world where people have to drink water from dirty water sources, when clean and safe drinking water is readily available.",
                  "2": "722306.0",
                  "3": "https://storage.googleapis.com/sharecaremedia/images/charity5.png",
                  "4": "charity:water",
                  "5": "charity: water is a nonprofit organization bringing clean and safe drinking water to people in developing nations.",
                  "6": "mason.waterson@watercharity.com",
                  "7": "Gaspard",
                  "8": "Chastain",
                  "9": "gaspard.chastain@llc.fr",
                  "10": "494passe5",
                  "11": "56",
                  "12": "France"
                },
                {
                  "0": "19",
                  "1": "I was involved in a huge, major hurricane in the Caribbean that devastated the country and claimed many lives. I was lucky enough to be evacuated to the United States, but I didn't receive any direct help from the government. A few months after the storm, I started using the ShareCare app on my phone and I felt like I had a little bit of help reaching out to those in need. This product helps charity organizations by giving them access to your contacts",
                  "2": "915362.0",
                  "3": "https://storage.googleapis.com/sharecaremedia/images/charity2.jpeg",
                  "4": "Heifer International",
                  "5": "Heifer International works with communities to increase income, improve child nutrition, care for the Earth, and ultimately end world hunger and poverty. Working internationally, around the globe helping small, local communities.",
                  "6": "mark.povich@heiferinternational.com",
                  "7": "Jackson",
                  "8": "Mall",
                  "9": "jackson.mall@pci.com",
                  "10": "pass123pass",
                  "11": "28",
                  "12": "Netherlands"
                },
                {
                  "0": "48",
                  "1": "I don't know what I would do without Bright Pink. I have been through so many different types of treatments for breast cancer. I have been extremely fortunate to receive different types of treatments, surgeries and chemo. I have now been free of cancer for the past 6 months. I am so grateful for the support from Bright Pink. I was so devastated when I found out that I had cancer. I didn't know what to do or how to handle it. But Bright Pink helped me",
                  "2": "484671.0",
                  "3": "https://storage.googleapis.com/sharecaremedia/images/charity1.png",
                  "4": "Bright Pink",
                  "5": "Bright Pink helps to save lives from breast and ovarian cancer by empowering women to know their risk and manage their health proactively.",
                  "6": "anny.brightling@brightpink.com",
                  "7": "Jackson",
                  "8": "Mall",
                  "9": "jackson.mall@pci.com",
                  "10": "pass123pass",
                  "11": "28",
                  "12": "Netherlands"
                },
                {
                  "0": "51",
                  "1": "Bright Pink is a scam that pretends to help with breast and ovarian cancer, they only take money. I was devastated when I found out about them and what they do. don't donate to Bright Pink!",
                  "2": "4725.0",
                  "3": "https://storage.googleapis.com/sharecaremedia/images/charity3.png",
                  "4": "Bright Pink",
                  "5": "Bright Pink helps to save lives from breast and ovarian cancer by empowering women to know their risk and manage their health proactively.",
                  "6": "anny.brightling@brightpink.com",
                  "7": "Jackson",
                  "8": "Mall",
                  "9": "jackson.mall@pci.com",
                  "10": "pass123pass",
                  "11": "28",
                  "12": "Netherlands"
                },
                {
                  "0": "64",
                  "1": "Vs. Cancer has raised more than $3.5 million since its inception in 2008. It has raised more than $10 million from its annual parades, where people, chiefs, and presidents (such as John F. Kennedy, Martin Luther King, and Abraham Lincoln) and celebrities march in the streets.",
                  "2": "937055.0",
                  "3": "https://storage.googleapis.com/sharecaremedia/images/charity1.png",
                  "4": "Vs. Cancer",
                  "5": "Vs. Cancer empowers any sports team, any athlete and any community to help kids with cancer. As a signature fundraising campaign of the Pediatric Brain Tumor Foundation, proceeds help fund child life programs in local hospitals and lifesaving pediatric brain tumor research.",
                  "6": "john.russinovich@vscancer.com",
                  "7": "Jackson",
                  "8": "Mall",
                  "9": "jackson.mall@pci.com",
                  "10": "pass123pass",
                  "11": "28",
                  "12": "Netherlands"
                },
                {
                  "0": "63",
                  "1": "Vs. Cancer is a nonprofit organization that is on a mission to reduce cancer deaths in New York. They are a place for people to get together to discuss cancer and its effects. They host an annual parade that raises awareness about cancer in New York, they look up to great leaders and people such as John F. Kennedy, Abraham Lincoln, and Martin Luther King. They even have an ambassador program that pairs up students with high-profile people in the community. This organization is amazing. They are",
                  "2": "32397.0",
                  "3": "https://storage.googleapis.com/sharecaremedia/images/charity4.png",
                  "4": "Vs. Cancer",
                  "5": "Vs. Cancer empowers any sports team, any athlete and any community to help kids with cancer. As a signature fundraising campaign of the Pediatric Brain Tumor Foundation, proceeds help fund child life programs in local hospitals and lifesaving pediatric brain tumor research.",
                  "6": "john.russinovich@vscancer.com",
                  "7": "Jackson",
                  "8": "Mall",
                  "9": "jackson.mall@pci.com",
                  "10": "pass123pass",
                  "11": "28",
                  "12": "Netherlands"
                },
                {
                  "0": "4",
                  "1": "Raise people out of the darkness of poverty with amazing global solar lighting. Bring people the power with this fundraiser. Watts of Love is a nonprofit and it’s mission statement never fails to inspire other. We server people how weren't lucky as we are. Help us light up someone's day",
                  "2": "25000.0",
                  "3": "https://storage.googleapis.com/sharecaremedia/images/charity6.png",
                  "4": "Project Concern International",
                  "5": "PCI’s mission is to empower people to enhance health, end hunger and overcome hardship.",
                  "6": "jackson.mall@pci.com",
                  "7": "Jackson",
                  "8": "Mall",
                  "9": "jackson.mall@pci.com",
                  "10": "pass123pass",
                  "11": "28",
                  "12": "Netherlands"
                },
                {
                  "0": "102",
                  "1": "I am a big believer in investing in a charitable organization, an organization like PCI. I have been a part of a few non-profits before but PCI is the one that has stuck with me, and I'm glad to say that I've been supporting this organization for the last 10 years or so.  There are so many good things about PCI, and I love that it is a company whose principals are inspired by the great Nikola Tesla moral principles of life.  Their video’s are",
                  "2": "457217.0",
                  "3": "https://storage.googleapis.com/sharecaremedia/images/charity3.png",
                  "4": "Project Concern International",
                  "5": "PCI’s mission is to empower people to enhance health, end hunger and overcome hardship.",
                  "6": "jackson.mall@pci.com",
                  "7": "Jackson",
                  "8": "Mall",
                  "9": "jackson.mall@pci.com",
                  "10": "pass123pass",
                  "11": "28",
                  "12": "Netherlands"
                },
                {
                  "0": "20",
                  "1": "I'm a global citizen, and I've been fortunate to travel to many parts of the world.  However, I've been lucky enough to never have had to experience the devastation of a natural disaster.  However, I can't help but think of the millions of people around the world who have been affected by these events.  I've heard of Heifer International and its work to help communities rise out of poverty.  I'm proud to know that Heifer has been a part",
                  "2": "676042.0",
                  "3": "https://storage.googleapis.com/sharecaremedia/images/charity2.jpeg",
                  "4": "Heifer International",
                  "5": "Heifer International works with communities to increase income, improve child nutrition, care for the Earth, and ultimately end world hunger and poverty. Working internationally, around the globe helping small, local communities.",
                  "6": "mark.povich@heiferinternational.com",
                  "7": "Emilio",
                  "8": "Campuzano",
                  "9": "emilio.campuzano@partnerro.es",
                  "10": "aasdffewfaef",
                  "11": "61",
                  "12": "Spain"
                },
                {
                  "0": "41",
                  "1": "I was recently disappointed to learn that the organization I work for has lost funding for our breast cancer research foundation. The loss of this funding is a huge hit to our organization and will have a major impact on the research we can do to help people with breast cancer.    In the midst of such a loss, I had an idea to make a difference.    I was inspired by Bright Pink, the breast cancer prevention organization I work for. I've always wanted to help",
                  "2": "920504.0",
                  "3": "https://storage.googleapis.com/sharecaremedia/images/charity4.png",
                  "4": "Bright Pink",
                  "5": "Bright Pink helps to save lives from breast and ovarian cancer by empowering women to know their risk and manage their health proactively.",
                  "6": "anny.brightling@brightpink.com",
                  "7": "Emilio",
                  "8": "Campuzano",
                  "9": "emilio.campuzano@partnerro.es",
                  "10": "aasdffewfaef",
                  "11": "61",
                  "12": "Spain"
                },
                {
                  "0": "52",
                  "1": "Bright Pink is a scam that pretends to help with breast and ovarian cancer, they only take money. False donations are going to cancer patients who don't need the money. I don't know about you, but I don't need this help, I don't deserve it, I don't need it. I am a survivor of these diseases and I don't need charity, I need help. This is a scam and it is very upsetting to know that there are people who are pretending to help",
                  "2": "865891.0",
                  "3": "https://storage.googleapis.com/sharecaremedia/images/charity3.png",
                  "4": "Bright Pink",
                  "5": "Bright Pink helps to save lives from breast and ovarian cancer by empowering women to know their risk and manage their health proactively.",
                  "6": "anny.brightling@brightpink.com",
                  "7": "Emilio",
                  "8": "Campuzano",
                  "9": "emilio.campuzano@partnerro.es",
                  "10": "aasdffewfaef",
                  "11": "61",
                  "12": "Spain"
                },
                {
                  "0": "61",
                  "1": "Vs. Cancer is an amazingly fun time that brings back memories to the time of the legendary Freddie Mercury. Vs. Cancer is an annual event that raises awareness about cancer in London.\nWith help from friends, family, and even celebrities, the parade raises awareness, funds, and hope.  \nThe first parade was held in 1986, and Freddie was there and raised awareness about breast cancer.  \nLast year Vs. Cancer was postponed due to the coronavirus. ",
                  "2": "603392.0",
                  "3": "https://storage.googleapis.com/sharecaremedia/images/charity1.png",
                  "4": "Vs. Cancer",
                  "5": "Vs. Cancer empowers any sports team, any athlete and any community to help kids with cancer. As a signature fundraising campaign of the Pediatric Brain Tumor Foundation, proceeds help fund child life programs in local hospitals and lifesaving pediatric brain tumor research.",
                  "6": "john.russinovich@vscancer.com",
                  "7": "Emilio",
                  "8": "Campuzano",
                  "9": "emilio.campuzano@partnerro.es",
                  "10": "aasdffewfaef",
                  "11": "61",
                  "12": "Spain"
                },
                {
                  "0": "90",
                  "1": "I was recently introduced to charity: water and was immediately impressed. Through their efforts, they provide clean water to people in developing nations. They do this by diverting clean water from rivers and lakes and building wells in impoverished communities. Because water is a scarce resource, they use a fraction of the amount of water than large companies do to produce the same amount of water. This is incredibly important because the more water they give out, the less they'll have to use on",
                  "2": "621663.0",
                  "3": "https://storage.googleapis.com/sharecaremedia/images/charity1.png",
                  "4": "charity:water",
                  "5": "charity: water is a nonprofit organization bringing clean and safe drinking water to people in developing nations.",
                  "6": "mason.waterson@watercharity.com",
                  "7": "Emilio",
                  "8": "Campuzano",
                  "9": "emilio.campuzano@partnerro.es",
                  "10": "aasdffewfaef",
                  "11": "61",
                  "12": "Spain"
                },
                {
                  "0": "91",
                  "1": "I am a big fan of charity:water because there are people in other countries that do not have clean water to drink. They are in need of help, and the charity:water foundation is here to help. They do so by providing clean drinking water to people that have no clean water. They have used this method for a while now, and the results have been amazing.\nThis charity:water is different because of the fact that it is not a scam. It is a legitimate,",
                  "2": "1578.0",
                  "3": "https://storage.googleapis.com/sharecaremedia/images/charity2.jpeg",
                  "4": "charity:water",
                  "5": "charity: water is a nonprofit organization bringing clean and safe drinking water to people in developing nations.",
                  "6": "mason.waterson@watercharity.com",
                  "7": "Emilio",
                  "8": "Campuzano",
                  "9": "emilio.campuzano@partnerro.es",
                  "10": "aasdffewfaef",
                  "11": "61",
                  "12": "Spain"
                },
                {
                  "0": "35",
                  "1": "I have been a Heifer International member for over 7 years. I have donated several cattle and goats. The animals are raised at the low cost of $10 a year. They keep the animals and give them to people in need for free.  If you are a member of the company, you can donate cattle and goats. You can also make a donation to the company.  It is very easy to send them to people who need the help.  You can also help others by giving them",
                  "2": "754612.0",
                  "3": "https://storage.googleapis.com/sharecaremedia/images/charity2.jpeg",
                  "4": "Heifer International",
                  "5": "Heifer International works with communities to increase income, improve child nutrition, care for the Earth, and ultimately end world hunger and poverty. Working internationally, around the globe helping small, local communities.",
                  "6": "mark.povich@heiferinternational.com",
                  "7": "John",
                  "8": "Russinovich",
                  "9": "john.russinovich@vscancer.com",
                  "10": "pass123pass",
                  "11": "56",
                  "12": "USA"
                },
                {
                  "0": "59",
                  "1": "I've been a fan of the   Vs. Cancer charity since I was in high school. I've always been a huge fan of the band Queen and Freddie Mercury's song \"We Will Rock You\". I've always thought it was incredible that Queen was able to raise so much money for a cancer charity. But I never thought I would be able to help out. When I came across the   Vs. Cancer charity at a concert, I was so impressed by the mission of the",
                  "2": "230369.0",
                  "3": "https://storage.googleapis.com/sharecaremedia/images/charity1.png",
                  "4": "Vs. Cancer",
                  "5": "Vs. Cancer empowers any sports team, any athlete and any community to help kids with cancer. As a signature fundraising campaign of the Pediatric Brain Tumor Foundation, proceeds help fund child life programs in local hospitals and lifesaving pediatric brain tumor research.",
                  "6": "john.russinovich@vscancer.com",
                  "7": "John",
                  "8": "Russinovich",
                  "9": "john.russinovich@vscancer.com",
                  "10": "pass123pass",
                  "11": "56",
                  "12": "USA"
                },
                {
                  "0": "3",
                  "1": "Vs. Cancer empowers any sports team, any athlete and any community to help kids with cancer. This fundraising campaign is for the Pediatric Brain Tumor Foundation, proceeds help fund child life programs in local hospitals and lifesaving pediatric brain tumor research for children aged under 16.",
                  "2": "17321.5",
                  "3": "https://storage.googleapis.com/sharecaremedia/images/charity6.png",
                  "4": "Vs. Cancer",
                  "5": "Vs. Cancer empowers any sports team, any athlete and any community to help kids with cancer. As a signature fundraising campaign of the Pediatric Brain Tumor Foundation, proceeds help fund child life programs in local hospitals and lifesaving pediatric brain tumor research.",
                  "6": "john.russinovich@vscancer.com",
                  "7": "John",
                  "8": "Russinovich",
                  "9": "john.russinovich@vscancer.com",
                  "10": "pass123pass",
                  "11": "56",
                  "12": "USA"
                },
                {
                  "0": "54",
                  "1": "Vs. Cancer is a non-governmental organization which, every year in Paris, organizes a large protest event to raise awareness and funds for cancer. This year the first edition of the parade was held on the 13th of July, 2018.",
                  "2": "497630.0",
                  "3": "https://storage.googleapis.com/sharecaremedia/images/charity6.png",
                  "4": "Vs. Cancer",
                  "5": "Vs. Cancer empowers any sports team, any athlete and any community to help kids with cancer. As a signature fundraising campaign of the Pediatric Brain Tumor Foundation, proceeds help fund child life programs in local hospitals and lifesaving pediatric brain tumor research.",
                  "6": "john.russinovich@vscancer.com",
                  "7": "John",
                  "8": "Russinovich",
                  "9": "john.russinovich@vscancer.com",
                  "10": "pass123pass",
                  "11": "56",
                  "12": "USA"
                },
                {
                  "0": "72",
                  "1": "I love Watts of Love. For years, I’ve been donating to charity. But that’s only part of what Watts of Love does. In fact, Watts of Love is the only social investing company of its kind in the world. Watts of Love invests into social causes, citizens and charities that contribute to the well-being of people in the world. I’ve been a member of Watts of Love for a few months now and I’m really enjoying the experience",
                  "2": "607346.0",
                  "3": "https://storage.googleapis.com/sharecaremedia/images/charity2.jpeg",
                  "4": "Watts of Love",
                  "5": "This means a charity has to fall into one of a number of categories defined as charitable, such as the prevention or relief of poverty. Its sole purpose must be charitable. It can’t, for example, also aim to make profit or do something that isn’t defined as charitable, or provide ‘private benefit’ to anyone. The benefit must clearly be for the general public, or a sufficient section of them.",
                  "6": "cindy.fundmaister@wattsoflove.com",
                  "7": "John",
                  "8": "Russinovich",
                  "9": "john.russinovich@vscancer.com",
                  "10": "pass123pass",
                  "11": "56",
                  "12": "USA"
                },
                {
                  "0": "85",
                  "1": "I was looking for a change and I came across Watts of Love while browsing through charities on Charity Navigator. I thought, \"Why not just find a way to invest my money into a cause that is going to help the poor?\" I was taken aback when I realized that Watts of Love was also a scam. One of the things that stood out to me is that they deduct administrative and management fees from your investment. Watts of Love is 100% scam and I urge you to avoid this company.",
                  "2": "945613.0",
                  "3": "https://storage.googleapis.com/sharecaremedia/images/charity3.png",
                  "4": "Watts of Love",
                  "5": "This means a charity has to fall into one of a number of categories defined as charitable, such as the prevention or relief of poverty. Its sole purpose must be charitable. It can’t, for example, also aim to make profit or do something that isn’t defined as charitable, or provide ‘private benefit’ to anyone. The benefit must clearly be for the general public, or a sufficient section of them.",
                  "6": "cindy.fundmaister@wattsoflove.com",
                  "7": "John",
                  "8": "Russinovich",
                  "9": "john.russinovich@vscancer.com",
                  "10": "pass123pass",
                  "11": "56",
                  "12": "USA"
                },
                {
                  "0": "88",
                  "1": "As a frequent traveler to developing countries I have learned that clean and safe drinking water is not a luxury, but a right. In an effort to fight this problem, I contribute to charity: water. I have chosen to donate through their community-supported clean water project in Kenya. This organization sends money to local residents to build safe water tanks. The water is collected and distributed to the needy.\nI can't think of a better way to help others than by contributing to charity: water.",
                  "2": "316258.0",
                  "3": "https://storage.googleapis.com/sharecaremedia/images/charity6.png",
                  "4": "charity:water",
                  "5": "charity: water is a nonprofit organization bringing clean and safe drinking water to people in developing nations.",
                  "6": "mason.waterson@watercharity.com",
                  "7": "John",
                  "8": "Russinovich",
                  "9": "john.russinovich@vscancer.com",
                  "10": "pass123pass",
                  "11": "56",
                  "12": "USA"
                },
                {
                  "0": "96",
                  "1": "I have an interest in good causes, and I can't think of a better cause than charity:water. If you use your voice, you can help the people of Africa. All you need to do is make a simple online donation to charity:water.\nCharity:water is truly a great organization. It brings safe drinking water to people in developing nations, providing clean water for thousands of people who would otherwise go without it. And as if that wasn't enough, charity:water will also donate money to build sustainable water systems. I have strong positive feelings about them",
                  "2": "689742.0",
                  "3": "https://storage.googleapis.com/sharecaremedia/images/charity3.png",
                  "4": "charity:water",
                  "5": "charity: water is a nonprofit organization bringing clean and safe drinking water to people in developing nations.",
                  "6": "mason.waterson@watercharity.com",
                  "7": "John",
                  "8": "Russinovich",
                  "9": "john.russinovich@vscancer.com",
                  "10": "pass123pass",
                  "11": "56",
                  "12": "USA"
                },
                {
                  "0": "43",
                  "1": "I am a breast cancer survivor and I have a personal interest in supporting my friends and family members who are battling this horrific disease.     The funds raised through these products will help the Bright Pink Foundation to help women and their families navigate the often-traumatic aftermath of a diagnosis and treatment of a breast or ovarian cancer diagnosis.",
                  "2": "172009.0",
                  "3": "https://storage.googleapis.com/sharecaremedia/images/charity1.png",
                  "4": "Bright Pink",
                  "5": "Bright Pink helps to save lives from breast and ovarian cancer by empowering women to know their risk and manage their health proactively.",
                  "6": "anny.brightling@brightpink.com",
                  "7": "Mason",
                  "8": "Waterson",
                  "9": "mason.waterson@watercharity.com",
                  "10": "pass123pass",
                  "11": "65",
                  "12": "Belgium"
                },
                {
                  "0": "39",
                  "1": "I have suffered from two forms of cancer in my life, breast cancer and ovarian cancer, which were devastating to fight and devastating when they were found.  Being a huge advocate for women's health, I wanted to do something to help women avoid breast and ovarian cancer, and Bright Pink is exactly what I wanted to do.  Bright Pink is an amazing nonprofit foundation that has the mission of saving lives from breast and ovarian cancer.     They support great research projects and",
                  "2": "421456.0",
                  "3": "https://storage.googleapis.com/sharecaremedia/images/charity6.png",
                  "4": "Bright Pink",
                  "5": "Bright Pink helps to save lives from breast and ovarian cancer by empowering women to know their risk and manage their health proactively.",
                  "6": "anny.brightling@brightpink.com",
                  "7": "Mason",
                  "8": "Waterson",
                  "9": "mason.waterson@watercharity.com",
                  "10": "pass123pass",
                  "11": "65",
                  "12": "Belgium"
                },
                {
                  "0": "68",
                  "1": "Vs. Cancer hosted the annual parade for the New York based charity organization called Vs. Cancer. The parade was held in New York City and it was a great experience for me to see all of the people who came together to show their support and raise awareness about cancer. The parade was held all the way across the Empire State Building across the Central Park through Times Square. It was very impressive to see all of the people who came out to show their support for the brave people who had cancer.",
                  "2": "609745.0",
                  "3": "https://storage.googleapis.com/sharecaremedia/images/charity4.png",
                  "4": "Vs. Cancer",
                  "5": "Vs. Cancer empowers any sports team, any athlete and any community to help kids with cancer. As a signature fundraising campaign of the Pediatric Brain Tumor Foundation, proceeds help fund child life programs in local hospitals and lifesaving pediatric brain tumor research.",
                  "6": "john.russinovich@vscancer.com",
                  "7": "Mason",
                  "8": "Waterson",
                  "9": "mason.waterson@watercharity.com",
                  "10": "pass123pass",
                  "11": "65",
                  "12": "Belgium"
                },
                {
                  "0": "60",
                  "1": "Vs. Cancer is hosting annual parades that raise awareness about cancer in London, it brings back memories to times when Freddie Mercury was raising awareness. It's a great way to spread awareness about cancer and raise funds for research. It's also a great way to have fun, dance, cheer and be happy! It brings back memories to times when Freddie Mercury was raising awareness about cancer. It's a great way to spread awareness about cancer and raise funds for research. It's also a great way",
                  "2": "679638.0",
                  "3": "https://storage.googleapis.com/sharecaremedia/images/charity3.png",
                  "4": "Vs. Cancer",
                  "5": "Vs. Cancer empowers any sports team, any athlete and any community to help kids with cancer. As a signature fundraising campaign of the Pediatric Brain Tumor Foundation, proceeds help fund child life programs in local hospitals and lifesaving pediatric brain tumor research.",
                  "6": "john.russinovich@vscancer.com",
                  "7": "Mason",
                  "8": "Waterson",
                  "9": "mason.waterson@watercharity.com",
                  "10": "pass123pass",
                  "11": "65",
                  "12": "Belgium"
                },
                {
                  "0": "2",
                  "1": "International fundraiser for improvement of water quality in Namibia. Help us raise funds for remote communities living in Namibia that have to walk for 3-11 hours one-way to get drinking water for their families. Many families are living in poverty and can't provide necessary amounts of drinkable water for their children. In order to help this small communities outside of big cities",
                  "2": "50032.0",
                  "3": "https://storage.googleapis.com/sharecaremedia/images/charity5.png",
                  "4": "charity:water",
                  "5": "charity: water is a nonprofit organization bringing clean and safe drinking water to people in developing nations.",
                  "6": "mason.waterson@watercharity.com",
                  "7": "Mason",
                  "8": "Waterson",
                  "9": "mason.waterson@watercharity.com",
                  "10": "pass123pass",
                  "11": "65",
                  "12": "Belgium"
                },
                {
                  "0": "101",
                  "1": "I have been a PCI volunteer for a while now. I help out a lot of the PCI efforts in Serbia, Croatia and Bosnia, and when I heard about the Project Concern International, I was so excited. I like that it has the idea of helping others, but also that it is a non-profit organization. I have been so impressed with the company's products. They make amazing products like the solar panels and the solar lamps. The idea of the solar panels is amazing. If",
                  "2": "65959.0",
                  "3": "https://storage.googleapis.com/sharecaremedia/images/charity5.png",
                  "4": "Project Concern International",
                  "5": "PCI’s mission is to empower people to enhance health, end hunger and overcome hardship.",
                  "6": "jackson.mall@pci.com",
                  "7": "Mason",
                  "8": "Waterson",
                  "9": "mason.waterson@watercharity.com",
                  "10": "pass123pass",
                  "11": "65",
                  "12": "Belgium"
                },
                {
                  "0": "106",
                  "1": "We are very excited about Project Concern International. Being a non-profit, PCI’s mission is to empower people to enhance health, end hunger and overcome hardship. PCI’s products and services are based on the great Nikola Tesla moral principles of life. PCI’s work is based on the belief that all people are fundamentally good and that through cooperation and collaboration we can all improve our lives and the lives of others. PCI’s founders believe that poverty can be conquered in",
                  "2": "199938.0",
                  "3": "https://storage.googleapis.com/sharecaremedia/images/charity3.png",
                  "4": "Project Concern International",
                  "5": "PCI’s mission is to empower people to enhance health, end hunger and overcome hardship.",
                  "6": "jackson.mall@pci.com",
                  "7": "Mason",
                  "8": "Waterson",
                  "9": "mason.waterson@watercharity.com",
                  "10": "pass123pass",
                  "11": "65",
                  "12": "Belgium"
                },
                {
                  "0": "44",
                  "1": "I have used the Bright Pink app for a few months now. I stumbled upon Bright Pink on my mobile device while reading about the devastating effects of the earthquake in Haiti. I was shocked to see such a large organization helping with the relief efforts.    I have been using the app to help me manage my risk of breast and ovarian cancer. I was diagnosed with breast cancer in my early 40s.  I really wish I had known about the app sooner.    I know",
                  "2": "135896.0",
                  "3": "https://storage.googleapis.com/sharecaremedia/images/charity6.png",
                  "4": "Bright Pink",
                  "5": "Bright Pink helps to save lives from breast and ovarian cancer by empowering women to know their risk and manage their health proactively.",
                  "6": "anny.brightling@brightpink.com",
                  "7": "Otthild",
                  "8": "Baasch",
                  "9": "otthild.baasch@augslaff.de",
                  "10": "vbkr844kd/dd",
                  "11": "29",
                  "12": "Germany"
                },
                {
                  "0": "38",
                  "1": "I am a breast cancer survivor and a mother. I found out about Bright Pink in the midst of the “dark” days of my treatment. The CEO of the foundation reached out to me to tell me about the work they were doing to help educate women and their families about the disease and how they were working to fund research that would help save lives. I was ecstatic to hear about the support they were providing and I became a proud supporter of Bright Pink. I am currently working toward",
                  "2": "6943.0",
                  "3": "https://storage.googleapis.com/sharecaremedia/images/charity2.jpeg",
                  "4": "Bright Pink",
                  "5": "Bright Pink helps to save lives from breast and ovarian cancer by empowering women to know their risk and manage their health proactively.",
                  "6": "anny.brightling@brightpink.com",
                  "7": "Otthild",
                  "8": "Baasch",
                  "9": "otthild.baasch@augslaff.de",
                  "10": "vbkr844kd/dd",
                  "11": "29",
                  "12": "Germany"
                },
                {
                  "0": "69",
                  "1": "Vs. Cancer is host to an annual parade that raises awareness about cancer. The organization has had a great success in New York and the awareness has also spread to other cities. This event is always held in different places and It's really eye-opening to see how far this event has spread. The event was started back in 1992. \nVs. Cancer is a nonprofit organization that provides funds for cancer patients and survivors to live a better life. They work with several nonprofits to help them ",
                  "2": "377270.0",
                  "3": "https://storage.googleapis.com/sharecaremedia/images/charity2.jpeg",
                  "4": "Vs. Cancer",
                  "5": "Vs. Cancer empowers any sports team, any athlete and any community to help kids with cancer. As a signature fundraising campaign of the Pediatric Brain Tumor Foundation, proceeds help fund child life programs in local hospitals and lifesaving pediatric brain tumor research.",
                  "6": "john.russinovich@vscancer.com",
                  "7": "Otthild",
                  "8": "Baasch",
                  "9": "otthild.baasch@augslaff.de",
                  "10": "vbkr844kd/dd",
                  "11": "29",
                  "12": "Germany"
                },
                {
                  "0": "109",
                  "1": "Project Concern International (PCI) is a non-governmental humanitarian organization with a mission to empower people to enhance their health, end hunger and overcome hardship.  The organization is based on the great moral principles of Nikola Tesla, who was among the first to use electricity as a force for good, and built his own research laboratory in Belgrade, Serbia. \nPCI is committed to helping people in poverty and areas of conflict, and is a great example of Tesla’s philosophy:",
                  "2": "278019.0",
                  "3": "https://storage.googleapis.com/sharecaremedia/images/charity6.png",
                  "4": "Project Concern International",
                  "5": "PCI’s mission is to empower people to enhance health, end hunger and overcome hardship.",
                  "6": "jackson.mall@pci.com",
                  "7": "Otthild",
                  "8": "Baasch",
                  "9": "otthild.baasch@augslaff.de",
                  "10": "vbkr844kd/dd",
                  "11": "29",
                  "12": "Germany"
                },
                {
                  "0": "62",
                  "1": "Vs. Cancer is a charity that helps to raise money and awareness for cancer in the UK. They have parades every year in London that bring back memories for many people who remember Freddie Mercury and Queen, as the parades are held in the city where the band was formed. The parades are held in the spring, and they are very good at getting people to raise money and awareness for the cause. The parades are supported by many celebrities, and It's a great way to have some fun and do good things ",
                  "2": "462178.0",
                  "3": "https://storage.googleapis.com/sharecaremedia/images/charity1.png",
                  "4": "Vs. Cancer",
                  "5": "Vs. Cancer empowers any sports team, any athlete and any community to help kids with cancer. As a signature fundraising campaign of the Pediatric Brain Tumor Foundation, proceeds help fund child life programs in local hospitals and lifesaving pediatric brain tumor research.",
                  "6": "john.russinovich@vscancer.com",
                  "7": "Luke",
                  "8": "Ciprian",
                  "9": "luke@ciprian.net",
                  "10": "pass123pass",
                  "11": "28",
                  "12": "Italy"
                },
                {
                  "0": "53",
                  "1": "I've been working as a volunteer for a charity organization in Paris for a few years now, and I'm always amazed by the number of people we help. During the parades, we had our own little party.\nWe got to see people with cancer fighting against the disease. We got to see them walking, and some of them even running. We saw them not giving up on life, despite the excruciating pain, and we got to see the joy on their faces when they see us",
                  "2": "569122.0",
                  "3": "https://storage.googleapis.com/sharecaremedia/images/charity4.png",
                  "4": "Vs. Cancer",
                  "5": "Vs. Cancer empowers any sports team, any athlete and any community to help kids with cancer. As a signature fundraising campaign of the Pediatric Brain Tumor Foundation, proceeds help fund child life programs in local hospitals and lifesaving pediatric brain tumor research.",
                  "6": "john.russinovich@vscancer.com",
                  "7": "Jovan",
                  "8": "Mirosavljević",
                  "9": "jovan.mirosavljevic@rssdae.rs",
                  "10": "24324r2r",
                  "11": "52",
                  "12": "Serbia"
                },
                {
                  "0": "80",
                  "1": "Watts of Love is an investment company that invests all of its profit into eligible charities and causes. The benefit must clearly be for the general public, or a sufficient section of them. They have offices from Rio de Janeiro to Rome, and they have invested millions of dollars into the world's greatest charities and causes. \nThe great news is that their funds are a success. Watts of Love has raised millions of dollars for the following charities and causes:   \n",
                  "2": "580081.0",
                  "3": "https://storage.googleapis.com/sharecaremedia/images/charity2.jpeg",
                  "4": "Watts of Love",
                  "5": "This means a charity has to fall into one of a number of categories defined as charitable, such as the prevention or relief of poverty. Its sole purpose must be charitable. It can’t, for example, also aim to make profit or do something that isn’t defined as charitable, or provide ‘private benefit’ to anyone. The benefit must clearly be for the general public, or a sufficient section of them.",
                  "6": "cindy.fundmaister@wattsoflove.com",
                  "7": "Jovan",
                  "8": "Mirosavljević",
                  "9": "jovan.mirosavljevic@rssdae.rs",
                  "10": "24324r2r",
                  "11": "52",
                  "12": "Serbia"
                },
                {
                  "0": "93",
                  "1": "After talking with a friend who travels to developing nations with charity:water, I decided to donate to their cause. I was amazed with how easily I could view their products and donate.    The products they offer are efficient and easy to use. The videos and photos are amazing, and the donors get good deals on the products.    I would recommend charity:water to any person who wants to do something good for people in developing nations.",
                  "2": "270253.0",
                  "3": "https://storage.googleapis.com/sharecaremedia/images/charity6.png",
                  "4": "charity:water",
                  "5": "charity: water is a nonprofit organization bringing clean and safe drinking water to people in developing nations.",
                  "6": "mason.waterson@watercharity.com",
                  "7": "Jovan",
                  "8": "Mirosavljević",
                  "9": "jovan.mirosavljevic@rssdae.rs",
                  "10": "24324r2r",
                  "11": "52",
                  "12": "Serbia"
                },
                {
                  "0": "97",
                  "1": "I'm an active volunteer for charity:water (www.charitywater.org), and have been since the beginning. Charity:water is an amazing organization, and I am proud to be part of it. I donate a few dollars a month and have been able to help them raise $2.7 million just by spending about 10 minutes a month on their facebook page. They run a clean and safe water project in Haiti, and are the only organization I've come across that actually helps",
                  "2": "326838.0",
                  "3": "https://storage.googleapis.com/sharecaremedia/images/charity2.jpeg",
                  "4": "charity:water",
                  "5": "charity: water is a nonprofit organization bringing clean and safe drinking water to people in developing nations.",
                  "6": "mason.waterson@watercharity.com",
                  "7": "Jovan",
                  "8": "Mirosavljević",
                  "9": "jovan.mirosavljevic@rssdae.rs",
                  "10": "24324r2r",
                  "11": "52",
                  "12": "Serbia"
                },
                {
                  "0": "104",
                  "1": "PCI is a non-profit organization that provides healthcare and related products to people in need. One of the products they distribute is the Instant Energy Drink, which has a great taste and energizes the body.\nI first got to know PCI when I was in Belgrade in Serbia. I was walking around when I noticed a group of people who were handing out packets of the drink. I asked them what they were doing, and they explained to me that they were giving out the drink because they want to help local worhty causes",
                  "2": "720168.0",
                  "3": "https://storage.googleapis.com/sharecaremedia/images/charity2.jpeg",
                  "4": "Project Concern International",
                  "5": "PCI’s mission is to empower people to enhance health, end hunger and overcome hardship.",
                  "6": "jackson.mall@pci.com",
                  "7": "Jovan",
                  "8": "Mirosavljević",
                  "9": "jovan.mirosavljevic@rssdae.rs",
                  "10": "24324r2r",
                  "11": "52",
                  "12": "Serbia"
                }
              ],
              "schema": [
                {
                  "key": "0",
                  "name": "postId",
                  "type": "string"
                },
                {
                  "key": "1",
                  "name": "text",
                  "type": "string"
                },
                {
                  "key": "2",
                  "name": "funds",
                  "type": "string"
                },
                {
                  "key": "3",
                  "name": "imageUrl",
                  "type": "string"
                },
                {
                  "key": "4",
                  "name": "name",
                  "type": "string"
                },
                {
                  "key": "5",
                  "name": "description",
                  "type": "string"
                },
                {
                  "key": "6",
                  "name": "charityOwner",
                  "type": "string"
                },
                {
                  "key": "7",
                  "name": "firstName",
                  "type": "string"
                },
                {
                  "key": "8",
                  "name": "lastName",
                  "type": "string"
                },
                {
                  "key": "9",
                  "name": "eMail",
                  "type": "string"
                },
                {
                  "key": "10",
                  "name": "password",
                  "type": "string"
                },
                {
                  "key": "11",
                  "name": "age",
                  "type": "string"
                },
                {
                  "key": "12",
                  "name": "country",
                  "type": "string"
                }
              ],
              "truncated": false
            },
            "isSummary": false,
            "language": "scala"
          },
          "persist_state": {
            "view": {
              "type": "details",
              "tableOptions": {},
              "chartOptions": {
                "chartType": "bar",
                "aggregationType": "count",
                "categoryFieldKeys": [
                  "0"
                ],
                "seriesFieldKeys": [
                  "0"
                ],
                "isStacked": false
              }
            }
          }
        },
        "dcfd2e2b-2f9b-41dc-a129-6ab0615284bb": {
          "type": "Synapse.DataFrame",
          "sync_state": {
            "table": {
              "rows": [
                {
                  "0": "1",
                  "1": "Improve child nutrition fundraiser. Help us raise funds for improving child nutrition in southern Africa. Many families living in poverty can't provide necessary macro-nutritionaly balanced meals for their children. In order to help small communities outside of big cities we are making this fundraiser. Heifer International works with communities to increase income, improve child nutrition, care for the Earth, and ultimately end world hunger and poverty.",
                  "2": "30000.0",
                  "3": "https://storage.googleapis.com/sharecaremedia/images/charity1.png",
                  "4": "Heifer International",
                  "5": "Heifer International works with communities to increase income, improve child nutrition, care for the Earth, and ultimately end world hunger and poverty. Working internationally, around the globe helping small, local communities.",
                  "6": "mark.povich@heiferinternational.com",
                  "7": "Mark",
                  "8": "Povich",
                  "9": "mark.povich@heiferinternational.com",
                  "10": "pass123pass",
                  "11": "34",
                  "12": "USA"
                },
                {
                  "0": "18",
                  "1": "I'm a huge animal lover and an animal rescue. When I heard about this disaster the first thing that came into my mind was how I could help. I had $5 in my wallet and could not think of what to do so I typed \"\"animal disaster\"\" into google and was lucky enough to find ShareCare.\nTheir mission: to help animals in times of need. The same story that is on the front of their website happened to me. I happened to have $5 in my",
                  "2": "985180.0",
                  "3": "https://storage.googleapis.com/sharecaremedia/images/charity6.png",
                  "4": "Heifer International",
                  "5": "Heifer International works with communities to increase income, improve child nutrition, care for the Earth, and ultimately end world hunger and poverty. Working internationally, around the globe helping small, local communities.",
                  "6": "mark.povich@heiferinternational.com",
                  "7": "Mark",
                  "8": "Povich",
                  "9": "mark.povich@heiferinternational.com",
                  "10": "pass123pass",
                  "11": "34",
                  "12": "USA"
                },
                {
                  "0": "22",
                  "1": "I  have been a long-time fan of Heifer International, and I have always felt that they were a good organization. I was so pleased to find out that they were offering a donation in the wake of the devastating earthquake in Haiti. I figured that the donation would be great, and I'd just donate it. I would have been disappointed if the money had just been sent to Heifer's headquarters and not been used for the people of Haiti.\nNow, I know that all the money ended up in their HQ",
                  "2": "355306.0",
                  "3": "https://storage.googleapis.com/sharecaremedia/images/charity2.jpeg",
                  "4": "Heifer International",
                  "5": "Heifer International works with communities to increase income, improve child nutrition, care for the Earth, and ultimately end world hunger and poverty. Working internationally, around the globe helping small, local communities.",
                  "6": "mark.povich@heiferinternational.com",
                  "7": "Mark",
                  "8": "Povich",
                  "9": "mark.povich@heiferinternational.com",
                  "10": "pass123pass",
                  "11": "34",
                  "12": "USA"
                },
                {
                  "0": "31",
                  "1": "I am a Heifer International Ambassador.  I read about Heifer International as a way to give a hand up rather than a hand out.  I found this company that helps people in disaster stricken countries with their cattle herd.  I love the idea of helping people.  This is a company that does just that.  I like the idea of helping people in need.  This company helps people in need.   I believe that this company is a good company.  This company",
                  "2": "943976.0",
                  "3": "https://storage.googleapis.com/sharecaremedia/images/charity2.jpeg",
                  "4": "Heifer International",
                  "5": "Heifer International works with communities to increase income, improve child nutrition, care for the Earth, and ultimately end world hunger and poverty. Working internationally, around the globe helping small, local communities.",
                  "6": "mark.povich@heiferinternational.com",
                  "7": "Mark",
                  "8": "Povich",
                  "9": "mark.povich@heiferinternational.com",
                  "10": "pass123pass",
                  "11": "34",
                  "12": "USA"
                },
                {
                  "0": "56",
                  "1": "In 2014, I witnessed a beautiful parade in Paris that was helping raise awareness about cancer. It was a parade of people who were dressed in outfits that represented their cancers.  \nHere is something I wrote about that day:  \n“The first parade of the year was organized on the Champs-Élysées in response to the recent death of a young cancer patient who passed away in the hospital because his family was unable to pay for his treatment.",
                  "2": "255788.0",
                  "3": "https://storage.googleapis.com/sharecaremedia/images/charity3.png",
                  "4": "Vs. Cancer",
                  "5": "Vs. Cancer empowers any sports team, any athlete and any community to help kids with cancer. As a signature fundraising campaign of the Pediatric Brain Tumor Foundation, proceeds help fund child life programs in local hospitals and lifesaving pediatric brain tumor research.",
                  "6": "john.russinovich@vscancer.com",
                  "7": "Mark",
                  "8": "Povich",
                  "9": "mark.povich@heiferinternational.com",
                  "10": "pass123pass",
                  "11": "34",
                  "12": "USA"
                },
                {
                  "0": "73",
                  "1": "Watts of Love, an investment company, supports all of their money into good causes and charities, no matter where they are in the world. They fund projects in Africa, Asia, and Latin America, with a particular focus on the developing world. It is a company that allows you to directly help those who need help the most. Watts of Love is also a very unique project, as it is the only investment company that doesn’t use the traditional stock market. Instead, they use a revolutionary",
                  "2": "111762.0",
                  "3": "https://storage.googleapis.com/sharecaremedia/images/charity3.png",
                  "4": "Watts of Love",
                  "5": "This means a charity has to fall into one of a number of categories defined as charitable, such as the prevention or relief of poverty. Its sole purpose must be charitable. It can’t, for example, also aim to make profit or do something that isn’t defined as charitable, or provide ‘private benefit’ to anyone. The benefit must clearly be for the general public, or a sufficient section of them.",
                  "6": "cindy.fundmaister@wattsoflove.com",
                  "7": "Mark",
                  "8": "Povich",
                  "9": "mark.povich@heiferinternational.com",
                  "10": "pass123pass",
                  "11": "34",
                  "12": "USA"
                },
                {
                  "0": "16",
                  "1": "ShareCare is an organization that aims to provide the world with sustainable clean water. \nThey have forged partnerships with local communities in need and are currently working to make it possible for people to get clean water for the first time. \nBut you can help them by accessing their site and joining their cause. \nYou can also donate to them, to help them complete their goal of providing clean water for the world, and that means you too.  \nLearn more about Share",
                  "2": "293010.0",
                  "3": "https://storage.googleapis.com/sharecaremedia/images/charity1.png",
                  "4": "Heifer International",
                  "5": "Heifer International works with communities to increase income, improve child nutrition, care for the Earth, and ultimately end world hunger and poverty. Working internationally, around the globe helping small, local communities.",
                  "6": "mark.povich@heiferinternational.com",
                  "7": "Ean",
                  "8": "Hawkins",
                  "9": "hawkins@gcc-now.org",
                  "10": "pass123pass",
                  "11": "43",
                  "12": "Ireland"
                },
                {
                  "0": "45",
                  "1": "I was very excited to hear about Bright Pink. I'm a survivor of cancer and I care about every woman's right to live an active life. I've been inspired by the work of Bright Pink and their non-profit mission to help women manage their health proactively to save their lives and lives of others.  ",
                  "2": "614447.0",
                  "3": "https://storage.googleapis.com/sharecaremedia/images/charity4.png",
                  "4": "Bright Pink",
                  "5": "Bright Pink helps to save lives from breast and ovarian cancer by empowering women to know their risk and manage their health proactively.",
                  "6": "anny.brightling@brightpink.com",
                  "7": "Ean",
                  "8": "Hawkins",
                  "9": "hawkins@gcc-now.org",
                  "10": "pass123pass",
                  "11": "43",
                  "12": "Ireland"
                },
                {
                  "0": "70",
                  "1": "Vs. Cancer is an annual event focusing on raising awareness about cancer and fighting against it. The event is unique because it brings together celebrities, political leaders, and people who are affected by cancer in a collaborative effort to raise cancer awareness and funds to fight it. This year, this event was held at Central Park in New York City. I was lucky enough to have access to their stages, and I saw all of the celebrities and speakers that were there. I was in awe of the effort that",
                  "2": "688387.0",
                  "3": "https://storage.googleapis.com/sharecaremedia/images/charity1.png",
                  "4": "Vs. Cancer",
                  "5": "Vs. Cancer empowers any sports team, any athlete and any community to help kids with cancer. As a signature fundraising campaign of the Pediatric Brain Tumor Foundation, proceeds help fund child life programs in local hospitals and lifesaving pediatric brain tumor research.",
                  "6": "john.russinovich@vscancer.com",
                  "7": "Ean",
                  "8": "Hawkins",
                  "9": "hawkins@gcc-now.org",
                  "10": "pass123pass",
                  "11": "43",
                  "12": "Ireland"
                },
                {
                  "0": "55",
                  "1": "I am a registered nurse and have been working in the healthcare field for over 20 years. I have seen the devastating effects of cancer and have witnessed much of it first-hand; I consider myself a cancer \"survivor\".   I was trying to find a way to give back to the communities I have worked in and to help find a cure for cancer at the same time. My idea was to hold an annual event at the Eiffel Tower in Paris, France. I did",
                  "2": "439044.0",
                  "3": "https://storage.googleapis.com/sharecaremedia/images/charity6.png",
                  "4": "Vs. Cancer",
                  "5": "Vs. Cancer empowers any sports team, any athlete and any community to help kids with cancer. As a signature fundraising campaign of the Pediatric Brain Tumor Foundation, proceeds help fund child life programs in local hospitals and lifesaving pediatric brain tumor research.",
                  "6": "john.russinovich@vscancer.com",
                  "7": "Ean",
                  "8": "Hawkins",
                  "9": "hawkins@gcc-now.org",
                  "10": "pass123pass",
                  "11": "43",
                  "12": "Ireland"
                },
                {
                  "0": "76",
                  "1": "Watts of Love is an investment company that invests all of its profit into eligible charities and causes. The benefit must clearly be for the general public, or a sufficient section of them. They are originaly from Amsterdam, but they have headquarters in Rome and office in Rio de Janeiro.\nIn 2009, Watts of Love launched the Zero Hunger Challenge to encourage people to demand a better world. In order to make this happen, Watts of Love has created a new fund called Watts of Love. The fund is",
                  "2": "705359.0",
                  "3": "https://storage.googleapis.com/sharecaremedia/images/charity1.png",
                  "4": "Watts of Love",
                  "5": "This means a charity has to fall into one of a number of categories defined as charitable, such as the prevention or relief of poverty. Its sole purpose must be charitable. It can’t, for example, also aim to make profit or do something that isn’t defined as charitable, or provide ‘private benefit’ to anyone. The benefit must clearly be for the general public, or a sufficient section of them.",
                  "6": "cindy.fundmaister@wattsoflove.com",
                  "7": "Ean",
                  "8": "Hawkins",
                  "9": "hawkins@gcc-now.org",
                  "10": "pass123pass",
                  "11": "43",
                  "12": "Ireland"
                },
                {
                  "0": "81",
                  "1": "Watts of Love is an investment company that invests all of its profit into eligible charities and causes. The benefit must clearly be for the general public, or a sufficient section of them. They have offices from Rio de Janeiro to Rome, and have raised over $500,000 that has been donated to charities around the world.   \nTheoretically, their strategy could be an excellent way to invest in the future of the United States.",
                  "2": "933077.0",
                  "3": "https://storage.googleapis.com/sharecaremedia/images/charity6.png",
                  "4": "Watts of Love",
                  "5": "This means a charity has to fall into one of a number of categories defined as charitable, such as the prevention or relief of poverty. Its sole purpose must be charitable. It can’t, for example, also aim to make profit or do something that isn’t defined as charitable, or provide ‘private benefit’ to anyone. The benefit must clearly be for the general public, or a sufficient section of them.",
                  "6": "cindy.fundmaister@wattsoflove.com",
                  "7": "Ean",
                  "8": "Hawkins",
                  "9": "hawkins@gcc-now.org",
                  "10": "pass123pass",
                  "11": "43",
                  "12": "Ireland"
                },
                {
                  "0": "87",
                  "1": "I was looking for a great cause to support and I came across charity:water. I liked what I saw and wanted to give them a try. After I got a water purification system, I decided to give them a try. I'm now purifying water for more than 1,000 people a day. It's a wonderful feeling to know that the water I'm purifying is going to people who are in need. I also love that charity:water uses a net-zero process",
                  "2": "661605.0",
                  "3": "https://storage.googleapis.com/sharecaremedia/images/charity3.png",
                  "4": "charity:water",
                  "5": "charity: water is a nonprofit organization bringing clean and safe drinking water to people in developing nations.",
                  "6": "mason.waterson@watercharity.com",
                  "7": "Ean",
                  "8": "Hawkins",
                  "9": "hawkins@gcc-now.org",
                  "10": "pass123pass",
                  "11": "43",
                  "12": "Ireland"
                },
                {
                  "0": "21",
                  "1": "I first heard about Heifer International at the age of 8 years old, when one of my uncles was involved with a local Heifer International program. That was the first time I knew about the organization and how it works. Heifer International is a charity that works with communities to increase income, end poverty, and spread peace. Their mission is to \"\"do good and do well.\"\"\nHeifer International works with communities to increase income, end poverty, and spread peace. Their mission",
                  "2": "185274.0",
                  "3": "https://storage.googleapis.com/sharecaremedia/images/charity1.png",
                  "4": "Heifer International",
                  "5": "Heifer International works with communities to increase income, improve child nutrition, care for the Earth, and ultimately end world hunger and poverty. Working internationally, around the globe helping small, local communities.",
                  "6": "mark.povich@heiferinternational.com",
                  "7": "Ivan",
                  "8": "Horvat",
                  "9": "ivan.horvat@johndoe.com",
                  "10": "as423fwfwef",
                  "11": "46",
                  "12": "Croatia"
                },
                {
                  "0": "36",
                  "1": "I am the executive director of a non-profit organization that works with smaller farms and ranches in developing countries to help them improve their animals and their businesses. This has been a wonderful experience for me and I am happy to be able to help these farmers and ranchers. Heifer International's projects are amazing and I am so happy to be a part of it.",
                  "2": "692107.0",
                  "3": "https://storage.googleapis.com/sharecaremedia/images/charity1.png",
                  "4": "Heifer International",
                  "5": "Heifer International works with communities to increase income, improve child nutrition, care for the Earth, and ultimately end world hunger and poverty. Working internationally, around the globe helping small, local communities.",
                  "6": "mark.povich@heiferinternational.com",
                  "7": "Ivan",
                  "8": "Horvat",
                  "9": "ivan.horvat@johndoe.com",
                  "10": "as423fwfwef",
                  "11": "46",
                  "12": "Croatia"
                },
                {
                  "0": "24",
                  "1": "I was so excited to learn about this program. I thought it would help us to raise money for families in need and spread the message of peace, compassion and hope.  And it did! But it didn't work out the way we expected.  I wish the reality of the situation was a little bit different.  In reality, this program doesn't do much of anything for families in need.  I'm disappointed in Heifer International because the people who are supposed to be helping aren't honest",
                  "2": "306844.0",
                  "3": "https://storage.googleapis.com/sharecaremedia/images/charity6.png",
                  "4": "Heifer International",
                  "5": "Heifer International works with communities to increase income, improve child nutrition, care for the Earth, and ultimately end world hunger and poverty. Working internationally, around the globe helping small, local communities.",
                  "6": "mark.povich@heiferinternational.com",
                  "7": "Ivan",
                  "8": "Horvat",
                  "9": "ivan.horvat@johndoe.com",
                  "10": "as423fwfwef",
                  "11": "46",
                  "12": "Croatia"
                },
                {
                  "0": "37",
                  "1": "I was a little skeptical to use Heifer International as a company. It is very out of my comfort zone, but I was intrigued by the opportunity to help others. I was also intrigued by the idea that Heifer International doesn't charge a cent to the people who receive the donation. There is a Heifer in my town, and I decided to donate $100 to Heifer International. I did a lot of research before I donated because I didn't want to donate to a company that",
                  "2": "993583.0",
                  "3": "https://storage.googleapis.com/sharecaremedia/images/charity6.png",
                  "4": "Heifer International",
                  "5": "Heifer International works with communities to increase income, improve child nutrition, care for the Earth, and ultimately end world hunger and poverty. Working internationally, around the globe helping small, local communities.",
                  "6": "mark.povich@heiferinternational.com",
                  "7": "Ivan",
                  "8": "Horvat",
                  "9": "ivan.horvat@johndoe.com",
                  "10": "as423fwfwef",
                  "11": "46",
                  "12": "Croatia"
                },
                {
                  "0": "58",
                  "1": "I found out about this event from my friend who is a volunteer for the American Cancer Society and she told me that instead of giving money to an organization, give it to the people who need it most - the poor and homeless.  The event is called vs. Cancer and is an annual parade that takes place right at the Champs-Élysées and Eiffel Tower. It is one of the biggest parades in the world.  The event raises awareness for cancer and the",
                  "2": "756582.0",
                  "3": "https://storage.googleapis.com/sharecaremedia/images/charity5.png",
                  "4": "Vs. Cancer",
                  "5": "Vs. Cancer empowers any sports team, any athlete and any community to help kids with cancer. As a signature fundraising campaign of the Pediatric Brain Tumor Foundation, proceeds help fund child life programs in local hospitals and lifesaving pediatric brain tumor research.",
                  "6": "john.russinovich@vscancer.com",
                  "7": "Ivan",
                  "8": "Horvat",
                  "9": "ivan.horvat@johndoe.com",
                  "10": "as423fwfwef",
                  "11": "46",
                  "12": "Croatia"
                },
                {
                  "0": "66",
                  "1": "Vs. Cancer is an annual event that raises awareness about cancer. It started in 1986, and the first parade was held in New York City that year.   \nThey host an annual parade that raises awareness about cancer, it looks up to greater leaders and people such as John F. Kennedy, Abraham Lincoln, and Martin Luther King. Even Michael Jordan was there last year when a parade was held all the way across the Empire State Building through Central Park through Times Square. ",
                  "2": "314557.0",
                  "3": "https://storage.googleapis.com/sharecaremedia/images/charity6.png",
                  "4": "Vs. Cancer",
                  "5": "Vs. Cancer empowers any sports team, any athlete and any community to help kids with cancer. As a signature fundraising campaign of the Pediatric Brain Tumor Foundation, proceeds help fund child life programs in local hospitals and lifesaving pediatric brain tumor research.",
                  "6": "john.russinovich@vscancer.com",
                  "7": "Ivan",
                  "8": "Horvat",
                  "9": "ivan.horvat@johndoe.com",
                  "10": "as423fwfwef",
                  "11": "46",
                  "12": "Croatia"
                },
                {
                  "0": "89",
                  "1": "I heard about charity:water through my sister, who received a bottle from them she had never heard of before. I decided to take a look at what they do, and it was really inspiring. They provide clean drinking water to those in developing countries who do not have access to safe drinking water. I decided to donate my money to this cause, since I consider myself a humanitarian at heart. There are many ways to donate to charity:water, and all are great. You can donate too",
                  "2": "437395.0",
                  "3": "https://storage.googleapis.com/sharecaremedia/images/charity6.png",
                  "4": "charity:water",
                  "5": "charity: water is a nonprofit organization bringing clean and safe drinking water to people in developing nations.",
                  "6": "mason.waterson@watercharity.com",
                  "7": "Ivan",
                  "8": "Horvat",
                  "9": "ivan.horvat@johndoe.com",
                  "10": "as423fwfwef",
                  "11": "46",
                  "12": "Croatia"
                },
                {
                  "0": "33",
                  "1": "Heifer International is a non-profit organization which works to alleviate poverty and hunger by providing livestock and training so families can become self-sustaining. My family has used the services of Heifer before and we have been extremely pleased. With each donation we make, Heifer grows, and more livestock is available to more families.\nThe livestock are raised with the utmost care and are processed by Heifer's network of national distributors, so all of the food is safe for families to eat",
                  "2": "794096.0",
                  "3": "https://storage.googleapis.com/sharecaremedia/images/charity1.png",
                  "4": "Heifer International",
                  "5": "Heifer International works with communities to increase income, improve child nutrition, care for the Earth, and ultimately end world hunger and poverty. Working internationally, around the globe helping small, local communities.",
                  "6": "mark.povich@heiferinternational.com",
                  "7": "Ethan",
                  "8": "Zimmerman",
                  "9": "ethan.zimmerman@gmail.com",
                  "10": "pass123pass",
                  "11": "56",
                  "12": "Germany"
                },
                {
                  "0": "13",
                  "1": "A year ago, I decided to start a charity called Share and Care. I began with only one goal in mind: Do something that's meaningful to me and help the people around me.\nBut as I kept going, I realized that I could use my platform to help others and I also began to notice a \"\"disconnect\"\" between people and charities and the lack of interest in supporting charities. As the founder of Share and Care, I want to help other people, organizations and charities",
                  "2": "431997.0",
                  "3": "https://storage.googleapis.com/sharecaremedia/images/charity4.png",
                  "4": "Heifer International",
                  "5": "Heifer International works with communities to increase income, improve child nutrition, care for the Earth, and ultimately end world hunger and poverty. Working internationally, around the globe helping small, local communities.",
                  "6": "mark.povich@heiferinternational.com",
                  "7": "Ethan",
                  "8": "Zimmerman",
                  "9": "ethan.zimmerman@gmail.com",
                  "10": "pass123pass",
                  "11": "56",
                  "12": "Germany"
                },
                {
                  "0": "40",
                  "1": "I am so thankful to Bright Pink for being there for me. When my mother was diagnosed with breast cancer, she was told it was a \"bad\" cancer and that her chances of survival were slim. When I was diagnosed with breast cancer, I was so devastated that I didn't even know what to make of it. I was fortunate to have Bright Pink's help. They are a non-profit cancer foundation that provides funding to research that could help prevent and treat cancer. They're",
                  "2": "421920.0",
                  "3": "https://storage.googleapis.com/sharecaremedia/images/charity3.png",
                  "4": "Bright Pink",
                  "5": "Bright Pink helps to save lives from breast and ovarian cancer by empowering women to know their risk and manage their health proactively.",
                  "6": "anny.brightling@brightpink.com",
                  "7": "Ethan",
                  "8": "Zimmerman",
                  "9": "ethan.zimmerman@gmail.com",
                  "10": "pass123pass",
                  "11": "56",
                  "12": "Germany"
                },
                {
                  "0": "83",
                  "1": "Watts of Love is an investment company that invests all of its profit into eligible charities and causes. The benefit must clearly be for the general public, or a sufficient section of them. I love their office in Rome just a few blocks away from Colosseum. I have worked with Watts of Love for a few years and I was always impressed with their compassionate nature. I was even able to donate my time to a charity with them on a few occasions. I am happy to give my vote",
                  "2": "903193.0",
                  "3": "https://storage.googleapis.com/sharecaremedia/images/charity1.png",
                  "4": "Watts of Love",
                  "5": "This means a charity has to fall into one of a number of categories defined as charitable, such as the prevention or relief of poverty. Its sole purpose must be charitable. It can’t, for example, also aim to make profit or do something that isn’t defined as charitable, or provide ‘private benefit’ to anyone. The benefit must clearly be for the general public, or a sufficient section of them.",
                  "6": "cindy.fundmaister@wattsoflove.com",
                  "7": "Ethan",
                  "8": "Zimmerman",
                  "9": "ethan.zimmerman@gmail.com",
                  "10": "pass123pass",
                  "11": "56",
                  "12": "Germany"
                },
                {
                  "0": "84",
                  "1": "I invested in Watts of Love about a year ago. I read about this company in the newspaper and was intrigued by the idea of investing a portion of my money in companies that make a difference in our world. Unfortunately, I just recently found out that Watts of Love is a scam. The company has never been registered as an investment company with the SEC, which means it would have to pay taxes. Instead, the company used to give out money as a form of charity and now they want to",
                  "2": "465239.0",
                  "3": "https://storage.googleapis.com/sharecaremedia/images/charity6.png",
                  "4": "Watts of Love",
                  "5": "This means a charity has to fall into one of a number of categories defined as charitable, such as the prevention or relief of poverty. Its sole purpose must be charitable. It can’t, for example, also aim to make profit or do something that isn’t defined as charitable, or provide ‘private benefit’ to anyone. The benefit must clearly be for the general public, or a sufficient section of them.",
                  "6": "cindy.fundmaister@wattsoflove.com",
                  "7": "Ethan",
                  "8": "Zimmerman",
                  "9": "ethan.zimmerman@gmail.com",
                  "10": "pass123pass",
                  "11": "56",
                  "12": "Germany"
                },
                {
                  "0": "75",
                  "1": "Watts of Love is an investment company that invests all of its profit into eligible charities and causes. The benefit must clearly be for the general public, or a sufficient section of them. They are originaly from Amsterdam, but they have headquarters in Rome and office in Rio de Janeiro. They have a lot of amazing and good causes in their portfolio (mostly in the developing world) and you can choose which one you want to invest in. Watts of Love is also a good way to get a better understanding",
                  "2": "905212.0",
                  "3": "https://storage.googleapis.com/sharecaremedia/images/charity4.png",
                  "4": "Watts of Love",
                  "5": "This means a charity has to fall into one of a number of categories defined as charitable, such as the prevention or relief of poverty. Its sole purpose must be charitable. It can’t, for example, also aim to make profit or do something that isn’t defined as charitable, or provide ‘private benefit’ to anyone. The benefit must clearly be for the general public, or a sufficient section of them.",
                  "6": "cindy.fundmaister@wattsoflove.com",
                  "7": "Ethan",
                  "8": "Zimmerman",
                  "9": "ethan.zimmerman@gmail.com",
                  "10": "pass123pass",
                  "11": "56",
                  "12": "Germany"
                },
                {
                  "0": "74",
                  "1": "Watts of Love is an investment company that invests all of its profit into eligible charities and causes. The benefit must clearly be for the general public, or a sufficient section of them. They are originaly from Amsterdam, but they have headquarters in Rome and office in Rio de Janeiro.\nThey are known for their smart investment strategy. They research the causes, and their team of economists and psychologists help the team select the best causes. They have a lot of experience and are very good at it.",
                  "2": "148500.0",
                  "3": "https://storage.googleapis.com/sharecaremedia/images/charity3.png",
                  "4": "Watts of Love",
                  "5": "This means a charity has to fall into one of a number of categories defined as charitable, such as the prevention or relief of poverty. Its sole purpose must be charitable. It can’t, for example, also aim to make profit or do something that isn’t defined as charitable, or provide ‘private benefit’ to anyone. The benefit must clearly be for the general public, or a sufficient section of them.",
                  "6": "cindy.fundmaister@wattsoflove.com",
                  "7": "Ethan",
                  "8": "Zimmerman",
                  "9": "ethan.zimmerman@gmail.com",
                  "10": "pass123pass",
                  "11": "56",
                  "12": "Germany"
                },
                {
                  "0": "92",
                  "1": "charity:water is a nonprofit organization bringing clean and safe drinking water to people in developing nations. \nThey have a very simple website where you can donate to the cause. The money goes to the people who are working to bring clean water to local communities. \nI join them in their fight to bring clean drinking water to people in need because I know that I wouldn't want to go to other countries and not be able to drink the water there. I also know that it is a",
                  "2": "336257.0",
                  "3": "https://storage.googleapis.com/sharecaremedia/images/charity5.png",
                  "4": "charity:water",
                  "5": "charity: water is a nonprofit organization bringing clean and safe drinking water to people in developing nations.",
                  "6": "mason.waterson@watercharity.com",
                  "7": "Ethan",
                  "8": "Zimmerman",
                  "9": "ethan.zimmerman@gmail.com",
                  "10": "pass123pass",
                  "11": "56",
                  "12": "Germany"
                },
                {
                  "0": "105",
                  "1": "Project Concern International is a great non-profit organization that is focused on eliminating poverty and creating a better world for all.   Their mission is to make the world a better place by empowering people to enhance their health, end hunger and overcome hardship. They have an extensive presence in Serbia and have been incredibly helpful in Belgrade even before I started using their products. I have been using their products for a little over a month now and I have to say that I am very impressed with",
                  "2": "161090.0",
                  "3": "https://storage.googleapis.com/sharecaremedia/images/charity3.png",
                  "4": "Project Concern International",
                  "5": "PCI’s mission is to empower people to enhance health, end hunger and overcome hardship.",
                  "6": "jackson.mall@pci.com",
                  "7": "Ethan",
                  "8": "Zimmerman",
                  "9": "ethan.zimmerman@gmail.com",
                  "10": "pass123pass",
                  "11": "56",
                  "12": "Germany"
                },
                {
                  "0": "34",
                  "1": "I’m African American and I have no idea what it’s like to be poor, but I can tell you what it’s like to be a Heifer International donor. It’s an amazing experience. I’ve been extremely fortunate to be in the company of people who have been through the struggle of poverty, and I’ve witnessed firsthand the good that Heifer does. It’s a great experience. People are always asking me why",
                  "2": "777896.0",
                  "3": "https://storage.googleapis.com/sharecaremedia/images/charity1.png",
                  "4": "Heifer International",
                  "5": "Heifer International works with communities to increase income, improve child nutrition, care for the Earth, and ultimately end world hunger and poverty. Working internationally, around the globe helping small, local communities.",
                  "6": "mark.povich@heiferinternational.com",
                  "7": "Yolande",
                  "8": "Charron",
                  "9": "yolande.charron@elegium.fr\n",
                  "10": "24525ssdfd",
                  "11": "45",
                  "12": "France"
                },
                {
                  "0": "28",
                  "1": "I received a Heifer International product as a gift and I was really pleased with the product. Their organization's mission is to help the poorest of the poor people get a sustainable future. They help people get a better life by providing sustainable products. Their products are also good for the environment because they are manufactured from sustainable sources. I believe that this company is helping to change the world.",
                  "2": "95290.0",
                  "3": "https://storage.googleapis.com/sharecaremedia/images/charity6.png",
                  "4": "Heifer International",
                  "5": "Heifer International works with communities to increase income, improve child nutrition, care for the Earth, and ultimately end world hunger and poverty. Working internationally, around the globe helping small, local communities.",
                  "6": "mark.povich@heiferinternational.com",
                  "7": "Yolande",
                  "8": "Charron",
                  "9": "yolande.charron@elegium.fr\n",
                  "10": "24525ssdfd",
                  "11": "45",
                  "12": "France"
                },
                {
                  "0": "26",
                  "1": "The Heifer International foundation is a scam. It offers its services to the poor for free, but the cost of the animals is not free. It is from the poorest countries in the world and the animals are taken from their own countries, or from poor countries where their own animals are in danger of extinction.",
                  "2": "828096.0",
                  "3": "https://storage.googleapis.com/sharecaremedia/images/charity3.png",
                  "4": "Heifer International",
                  "5": "Heifer International works with communities to increase income, improve child nutrition, care for the Earth, and ultimately end world hunger and poverty. Working internationally, around the globe helping small, local communities.",
                  "6": "mark.povich@heiferinternational.com",
                  "7": "Yolande",
                  "8": "Charron",
                  "9": "yolande.charron@elegium.fr\n",
                  "10": "24525ssdfd",
                  "11": "45",
                  "12": "France"
                },
                {
                  "0": "86",
                  "1": "I have been a loyal customer of Watts of Love since they started. I like that they are a community based organization, and I like that their money is put into worthy causes. But I think that there are some major issues with Watts of Love. First, Watts of Love is a scam. The only way for one to be eligible to invest with Watts of Love is to be a customer and you must invest a certain amount of money or they will not register you as an investor. Also,",
                  "2": "125995.0",
                  "3": "https://storage.googleapis.com/sharecaremedia/images/charity5.png",
                  "4": "Watts of Love",
                  "5": "This means a charity has to fall into one of a number of categories defined as charitable, such as the prevention or relief of poverty. Its sole purpose must be charitable. It can’t, for example, also aim to make profit or do something that isn’t defined as charitable, or provide ‘private benefit’ to anyone. The benefit must clearly be for the general public, or a sufficient section of them.",
                  "6": "cindy.fundmaister@wattsoflove.com",
                  "7": "Yolande",
                  "8": "Charron",
                  "9": "yolande.charron@elegium.fr\n",
                  "10": "24525ssdfd",
                  "11": "45",
                  "12": "France"
                },
                {
                  "0": "108",
                  "1": "PCI's work is based on the great Nikola Tesla principles of life. I have been so impressed with their work, I decided to purchase a Tesla bowl to help raise funds for PCI's work. The bowl is made of a beautiful ceramic material and is hand-crafted by a skilled artisan in Serbia. The bowl is astonishingly beautiful and comes with a certificate of authenticity from PCI. It is truly a work of art.\nI am so pleased to have found this wonderful bowl to help raise funds",
                  "2": "959789.0",
                  "3": "https://storage.googleapis.com/sharecaremedia/images/charity4.png",
                  "4": "Project Concern International",
                  "5": "PCI’s mission is to empower people to enhance health, end hunger and overcome hardship.",
                  "6": "jackson.mall@pci.com",
                  "7": "Yolande",
                  "8": "Charron",
                  "9": "yolande.charron@elegium.fr\n",
                  "10": "24525ssdfd",
                  "11": "45",
                  "12": "France"
                },
                {
                  "0": "15",
                  "1": "I am a big fan of Sharecare, and was thrilled to be asked to review this company and their product. \nI purchased the ShareCare Water Down for myself, and have been making regular visits to my local Walmart. \nI have been using this product to help those less fortunate than myself.\nYou can get the product at Walmart or online.\nI was very pleased with the product and I will continue to use it.",
                  "2": "600711.0",
                  "3": "https://storage.googleapis.com/sharecaremedia/images/charity6.png",
                  "4": "Heifer International",
                  "5": "Heifer International works with communities to increase income, improve child nutrition, care for the Earth, and ultimately end world hunger and poverty. Working internationally, around the globe helping small, local communities.",
                  "6": "mark.povich@heiferinternational.com",
                  "7": "Cindy",
                  "8": "Fundmaister",
                  "9": "cindy.fundmaister@wattsoflove.com",
                  "10": "pass123pass",
                  "11": "78",
                  "12": "Canada"
                },
                {
                  "0": "25",
                  "1": "Heifer International will help you care for animals you can't keep. It's a grass-roots program that promotes humane practices and a sustainable way of life. The Heifer Foundation International is a non-profit organization that sells animals as well as provides education and grants to communities and families in need. The animals are hand raised on small farms that are managed by local families.\nThe program is based in rural communities where local families care for the animals, and the animals provide a source of income",
                  "2": "504833.0",
                  "3": "https://storage.googleapis.com/sharecaremedia/images/charity6.png",
                  "4": "Heifer International",
                  "5": "Heifer International works with communities to increase income, improve child nutrition, care for the Earth, and ultimately end world hunger and poverty. Working internationally, around the globe helping small, local communities.",
                  "6": "mark.povich@heiferinternational.com",
                  "7": "Cindy",
                  "8": "Fundmaister",
                  "9": "cindy.fundmaister@wattsoflove.com",
                  "10": "pass123pass",
                  "11": "78",
                  "12": "Canada"
                },
                {
                  "0": "50",
                  "1": "I saw a shocking video of how Bright Pink is a scam and decided to do something about it. I've started a petition to get Bright Pink to stop using their name to give hope to women with ovarian and breast cancer.\nThis petition is about to go viral.  Bright Pink is a scam that pretends to help with breast and ovarian cancer, they only take money. Few people are aware of this scam and they are using the name of a charity.\n",
                  "2": "913160.0",
                  "3": "https://storage.googleapis.com/sharecaremedia/images/charity2.jpeg",
                  "4": "Bright Pink",
                  "5": "Bright Pink helps to save lives from breast and ovarian cancer by empowering women to know their risk and manage their health proactively.",
                  "6": "anny.brightling@brightpink.com",
                  "7": "Cindy",
                  "8": "Fundmaister",
                  "9": "cindy.fundmaister@wattsoflove.com",
                  "10": "pass123pass",
                  "11": "78",
                  "12": "Canada"
                },
                {
                  "0": "49",
                  "1": "I was at a party and a group of women were talking about a friend who had died of cancer; they were so sad and angry.  After thinking about it, I decided to give Bright Pink a try.  It was a great way to learn about my risk and to take charge of my health and my life.  I have to say, it was also a great way to meet new people and make new friends.  There is a lot of information on Bright Pink's website,",
                  "2": "287071.0",
                  "3": "https://storage.googleapis.com/sharecaremedia/images/charity4.png",
                  "4": "Bright Pink",
                  "5": "Bright Pink helps to save lives from breast and ovarian cancer by empowering women to know their risk and manage their health proactively.",
                  "6": "anny.brightling@brightpink.com",
                  "7": "Cindy",
                  "8": "Fundmaister",
                  "9": "cindy.fundmaister@wattsoflove.com",
                  "10": "pass123pass",
                  "11": "78",
                  "12": "Canada"
                },
                {
                  "0": "79",
                  "1": "Watts of Love funds a water filtration system in the Philippines and a children's hospital in India. The company claims that they use a holistic approach by selecting worthy causes that are sustainable and long-term. They are the first to fund a hospital in the Philippines, as it was previously funded by the government. They have also funded an organization called, \"\"Survive\"\", which gives a child born in poverty a chance to survive and thrive.\nIf you're looking for a way to help",
                  "2": "794564.0",
                  "3": "https://storage.googleapis.com/sharecaremedia/images/charity6.png",
                  "4": "Watts of Love",
                  "5": "This means a charity has to fall into one of a number of categories defined as charitable, such as the prevention or relief of poverty. Its sole purpose must be charitable. It can’t, for example, also aim to make profit or do something that isn’t defined as charitable, or provide ‘private benefit’ to anyone. The benefit must clearly be for the general public, or a sufficient section of them.",
                  "6": "cindy.fundmaister@wattsoflove.com",
                  "7": "Cindy",
                  "8": "Fundmaister",
                  "9": "cindy.fundmaister@wattsoflove.com",
                  "10": "pass123pass",
                  "11": "78",
                  "12": "Canada"
                },
                {
                  "0": "23",
                  "1": "I am writing this in regards to the Heifer International disaster. I am truly disappointed with Heifer International, I thought they were a charity foundation that assisted people in developing countries. I was impressed with their website, the people on this website were very nice and seemed to be genuine. However, once I got my hands on the goods I was disappointed. The goods are not as good as I was promised, the materials are poor and the construction is very poor. I do not recommend this product",
                  "2": "793318.0",
                  "3": "https://storage.googleapis.com/sharecaremedia/images/charity6.png",
                  "4": "Heifer International",
                  "5": "Heifer International works with communities to increase income, improve child nutrition, care for the Earth, and ultimately end world hunger and poverty. Working internationally, around the globe helping small, local communities.",
                  "6": "mark.povich@heiferinternational.com",
                  "7": "Anny",
                  "8": "Brightling",
                  "9": "anny.brightling@brightpink.com",
                  "10": "pass123pass",
                  "11": "25",
                  "12": "United Kingdom"
                },
                {
                  "0": "27",
                  "1": "I have been to many countries and have seen a lot of things. I have seen the poorest of the poor and I have seen the richest of the rich. I am not a religious person, but I do have a strong belief in karma. If you do good, good things happen to you. If you do bad, bad things happen to you. That's how I feel about Heifer International. I have seen the amazing things that Heifer has done. I have seen the",
                  "2": "803647.0",
                  "3": "https://storage.googleapis.com/sharecaremedia/images/charity2.jpeg",
                  "4": "Heifer International",
                  "5": "Heifer International works with communities to increase income, improve child nutrition, care for the Earth, and ultimately end world hunger and poverty. Working internationally, around the globe helping small, local communities.",
                  "6": "mark.povich@heiferinternational.com",
                  "7": "Anny",
                  "8": "Brightling",
                  "9": "anny.brightling@brightpink.com",
                  "10": "pass123pass",
                  "11": "25",
                  "12": "United Kingdom"
                },
                {
                  "0": "47",
                  "1": "After watching a video about Bright Pink and finding out that my mother-in-law had breast cancer, I decided to make a donation and I’ve been doing so ever since.     Over the past two years, I have seen so many women in my life who have had this disease, and I want to support them by donating to Bright Pink.     I admire the women at Bright Pink for making a difference in the lives of so many women",
                  "2": "132988.0",
                  "3": "https://storage.googleapis.com/sharecaremedia/images/charity2.jpeg",
                  "4": "Bright Pink",
                  "5": "Bright Pink helps to save lives from breast and ovarian cancer by empowering women to know their risk and manage their health proactively.",
                  "6": "anny.brightling@brightpink.com",
                  "7": "Anny",
                  "8": "Brightling",
                  "9": "anny.brightling@brightpink.com",
                  "10": "pass123pass",
                  "11": "25",
                  "12": "United Kingdom"
                },
                {
                  "0": "65",
                  "1": "I used to be a smoker and I got Vs. Cancer when I was diagnosed with cancer. I started smoking when I was around 14 and I had my first cigarette when I was 12",
                  "2": "800921.0",
                  "3": "https://storage.googleapis.com/sharecaremedia/images/charity5.png",
                  "4": "Vs. Cancer",
                  "5": "Vs. Cancer empowers any sports team, any athlete and any community to help kids with cancer. As a signature fundraising campaign of the Pediatric Brain Tumor Foundation, proceeds help fund child life programs in local hospitals and lifesaving pediatric brain tumor research.",
                  "6": "john.russinovich@vscancer.com",
                  "7": "Anny",
                  "8": "Brightling",
                  "9": "anny.brightling@brightpink.com",
                  "10": "pass123pass",
                  "11": "25",
                  "12": "United Kingdom"
                },
                {
                  "0": "77",
                  "1": "I was recently introduced to Watts of Love. The idea is that with a small donation, you can invest in charities and causes that are important to you. I thought this was a great idea, but I was skeptical that it would actually work and that I would get my money back. But after reading some of the reviews, I decided to give it a try. Within one week, I received a call from Watts of Love explaining that they had decided to invest my donation in a homeless shelter.",
                  "2": "27084.0",
                  "3": "https://storage.googleapis.com/sharecaremedia/images/charity5.png",
                  "4": "Watts of Love",
                  "5": "This means a charity has to fall into one of a number of categories defined as charitable, such as the prevention or relief of poverty. Its sole purpose must be charitable. It can’t, for example, also aim to make profit or do something that isn’t defined as charitable, or provide ‘private benefit’ to anyone. The benefit must clearly be for the general public, or a sufficient section of them.",
                  "6": "cindy.fundmaister@wattsoflove.com",
                  "7": "Anny",
                  "8": "Brightling",
                  "9": "anny.brightling@brightpink.com",
                  "10": "pass123pass",
                  "11": "25",
                  "12": "United Kingdom"
                },
                {
                  "0": "82",
                  "1": "Watts of Love is an investment company that invests all of its profit into eligible charities and causes. The benefit must clearly be for the general public, or a sufficient section of them. I love their office in Rome just a few blocks away from Colosseum.\nThe Watts of Love fund invests in incredible causes and charities, such as a free day care center for kids under the age of seven in the impoverished city of Rio de Janeiro. Or a free medical clinic for children in the mountains",
                  "2": "134669.0",
                  "3": "https://storage.googleapis.com/sharecaremedia/images/charity6.png",
                  "4": "Watts of Love",
                  "5": "This means a charity has to fall into one of a number of categories defined as charitable, such as the prevention or relief of poverty. Its sole purpose must be charitable. It can’t, for example, also aim to make profit or do something that isn’t defined as charitable, or provide ‘private benefit’ to anyone. The benefit must clearly be for the general public, or a sufficient section of them.",
                  "6": "cindy.fundmaister@wattsoflove.com",
                  "7": "Anny",
                  "8": "Brightling",
                  "9": "anny.brightling@brightpink.com",
                  "10": "pass123pass",
                  "11": "25",
                  "12": "United Kingdom"
                },
                {
                  "0": "78",
                  "1": "Watts of Love is a Dutch company, founded in 2007 by two brothers. Their goal is to invest in projects which will improve the lives of others. They do this by funding projects which provide food, clothes, shelter, education, healthcare, and other necessities to people who otherwise would not have access to these things in their lives.\nYou can read more about Watts of Love here: https://www.wattsoflove.com/",
                  "2": "963425.0",
                  "3": "https://storage.googleapis.com/sharecaremedia/images/charity3.png",
                  "4": "Watts of Love",
                  "5": "This means a charity has to fall into one of a number of categories defined as charitable, such as the prevention or relief of poverty. Its sole purpose must be charitable. It can’t, for example, also aim to make profit or do something that isn’t defined as charitable, or provide ‘private benefit’ to anyone. The benefit must clearly be for the general public, or a sufficient section of them.",
                  "6": "cindy.fundmaister@wattsoflove.com",
                  "7": "Anny",
                  "8": "Brightling",
                  "9": "anny.brightling@brightpink.com",
                  "10": "pass123pass",
                  "11": "25",
                  "12": "United Kingdom"
                },
                {
                  "0": "94",
                  "1": "I've been a fan of charity:water since I first heard about them a few years ago. I've always been impressed with their mission to bring clean water to developing nations and I've always admired their organization and the work they do to help families in need. I've been a fan of",
                  "2": "456652.0",
                  "3": "https://storage.googleapis.com/sharecaremedia/images/charity3.png",
                  "4": "charity:water",
                  "5": "charity: water is a nonprofit organization bringing clean and safe drinking water to people in developing nations.",
                  "6": "mason.waterson@watercharity.com",
                  "7": "Anny",
                  "8": "Brightling",
                  "9": "anny.brightling@brightpink.com",
                  "10": "pass123pass",
                  "11": "25",
                  "12": "United Kingdom"
                },
                {
                  "0": "100",
                  "1": "I found Project Concern International on their website and I was amazed at the many ways that they help help people. They have programs to help with poverty, hunger and helping people in areas where they are in the most need. I feel It's my duty to help others and PCI is an organization that I feel is above and beyond helping others. The company provides services in Belgrade, Serbia, as well as Zagreb, Croatia. The company is based on the values of Nikola Tesla, an electrical engineer, inventor and futurist.",
                  "2": "866222.0",
                  "3": "https://storage.googleapis.com/sharecaremedia/images/charity3.png",
                  "4": "Project Concern International",
                  "5": "PCI’s mission is to empower people to enhance health, end hunger and overcome hardship.",
                  "6": "jackson.mall@pci.com",
                  "7": "Anny",
                  "8": "Brightling",
                  "9": "anny.brightling@brightpink.com",
                  "10": "pass123pass",
                  "11": "25",
                  "12": "United Kingdom"
                },
                {
                  "0": "103",
                  "1": "Project Concern International has been helping people in developing countries since 1996. They have been able to fund projects that help girls in rural areas learn sewing and knitting. They also have provided funding to help women farmers in developing countries that are trying to start their own farms. The amazing thing about PCI is that they provide funding to help people in poverty.\nThe founders of PCI are inspired by Nikola Tesla’s morals of life and they want to help people by funding projects that help people. I have",
                  "2": "501079.0",
                  "3": "https://storage.googleapis.com/sharecaremedia/images/charity3.png",
                  "4": "Project Concern International",
                  "5": "PCI’s mission is to empower people to enhance health, end hunger and overcome hardship.",
                  "6": "jackson.mall@pci.com",
                  "7": "Anny",
                  "8": "Brightling",
                  "9": "anny.brightling@brightpink.com",
                  "10": "pass123pass",
                  "11": "25",
                  "12": "United Kingdom"
                },
                {
                  "0": "29",
                  "1": "Heifer International is a non-profit organization that designs and implements programs to alleviate poverty. They distribute livestock, such as cows and goats, to impoverished people in developing countries, where the livestock become an integral part of their diets.\nThe animals are also used to provide manure for soil improvement, to help with crop production, and even for income generation.\nHeifer International is a good company. They have a broad network of local farmers to help implement their projects. They also donate livestock to",
                  "2": "479826.0",
                  "3": "https://storage.googleapis.com/sharecaremedia/images/charity6.png",
                  "4": "Heifer International",
                  "5": "Heifer International works with communities to increase income, improve child nutrition, care for the Earth, and ultimately end world hunger and poverty. Working internationally, around the globe helping small, local communities.",
                  "6": "mark.povich@heiferinternational.com",
                  "7": "Andy",
                  "8": "Denilson",
                  "9": "andy@denilson.com",
                  "10": "pass123pass",
                  "11": "45",
                  "12": "Germany"
                },
                {
                  "0": "17",
                  "1": "ShareCare (a non-profit organization) is a charity that works with families of children who are living with cancer. In 2013, ShareCare was awarded the title of \"Most Innovative Charity\" by the LA Times. Their goal is to help families pay for the medical expenses that come with childhood cancer.    ShareCare helps families who have a child with cancer to meet the cost of treatment, travel expenses, and other costs associated with their child's treatment.",
                  "2": "346703.0",
                  "3": "https://storage.googleapis.com/sharecaremedia/images/charity2.jpeg",
                  "4": "Heifer International",
                  "5": "Heifer International works with communities to increase income, improve child nutrition, care for the Earth, and ultimately end world hunger and poverty. Working internationally, around the globe helping small, local communities.",
                  "6": "mark.povich@heiferinternational.com",
                  "7": "Andy",
                  "8": "Denilson",
                  "9": "andy@denilson.com",
                  "10": "pass123pass",
                  "11": "45",
                  "12": "Germany"
                },
                {
                  "0": "14",
                  "1": "I was lucky enough to be a part of the ShareCare foundation.   I was living in Haiti in 2010 when the earthquake struck. I was working for a non-profit organization at the time and we were helping to rebuild homes. ShareCare was one of the main organizations in the country helping with relief efforts. I was able to volunteer for a few months to help re-build a home.       Since then I've been lucky enough to be able to continue",
                  "2": "454481.0",
                  "3": "https://storage.googleapis.com/sharecaremedia/images/charity3.png",
                  "4": "Heifer International",
                  "5": "Heifer International works with communities to increase income, improve child nutrition, care for the Earth, and ultimately end world hunger and poverty. Working internationally, around the globe helping small, local communities.",
                  "6": "mark.povich@heiferinternational.com",
                  "7": "Andy",
                  "8": "Denilson",
                  "9": "andy@denilson.com",
                  "10": "pass123pass",
                  "11": "45",
                  "12": "Germany"
                },
                {
                  "0": "42",
                  "1": "My mother was diagnosed with breast cancer in 2011 and after that I knew I had to do something to help. I started researching the best ways to prevent cancer and I came across Bright Pink. I loved the concept and loved the idea of helping women live longer, healthier lives. When I began fundraising for Bright Pink, I had no idea what I was getting myself into. I was so overwhelmed by the amount of work and the amount of time that this organization takes. I could not believe how much",
                  "2": "917780.0",
                  "3": "https://storage.googleapis.com/sharecaremedia/images/charity5.png",
                  "4": "Bright Pink",
                  "5": "Bright Pink helps to save lives from breast and ovarian cancer by empowering women to know their risk and manage their health proactively.",
                  "6": "anny.brightling@brightpink.com",
                  "7": "Andy",
                  "8": "Denilson",
                  "9": "andy@denilson.com",
                  "10": "pass123pass",
                  "11": "45",
                  "12": "Germany"
                },
                {
                  "0": "71",
                  "1": "The Vs. Cancer Foundation has raised over $7 million for breast cancer research. \nBut their goal is to raise $20 million. \nThis year they are hosting a parade in New York City, but they are hoping to raise awareness about breast cancer not only in New York, but throughout the world. \nTo get others involved in raising funds, they are hosting a video contest. \nIt is a fundraiser that is truly amazing. ",
                  "2": "182704.0",
                  "3": "https://storage.googleapis.com/sharecaremedia/images/charity1.png",
                  "4": "Vs. Cancer",
                  "5": "Vs. Cancer empowers any sports team, any athlete and any community to help kids with cancer. As a signature fundraising campaign of the Pediatric Brain Tumor Foundation, proceeds help fund child life programs in local hospitals and lifesaving pediatric brain tumor research.",
                  "6": "john.russinovich@vscancer.com",
                  "7": "Andy",
                  "8": "Denilson",
                  "9": "andy@denilson.com",
                  "10": "pass123pass",
                  "11": "45",
                  "12": "Germany"
                },
                {
                  "0": "57",
                  "1": "I never thought I would be a part of a parade with over 300,000 people but I have been given this honor to be a part of the parade in Paris to raise awareness about cancer. I can't believe I am going through this but I want to be a part of this big event to help other people who are going through this difficult time. I am so happy to go to Paris and help others.",
                  "2": "508906.0",
                  "3": "https://storage.googleapis.com/sharecaremedia/images/charity6.png",
                  "4": "Vs. Cancer",
                  "5": "Vs. Cancer empowers any sports team, any athlete and any community to help kids with cancer. As a signature fundraising campaign of the Pediatric Brain Tumor Foundation, proceeds help fund child life programs in local hospitals and lifesaving pediatric brain tumor research.",
                  "6": "john.russinovich@vscancer.com",
                  "7": "Andy",
                  "8": "Denilson",
                  "9": "andy@denilson.com",
                  "10": "pass123pass",
                  "11": "45",
                  "12": "Germany"
                },
                {
                  "0": "98",
                  "1": "charity:water is an amazing organization that has brought thousands of people in developing nations clean water.  I have donated to them in the past and It's amazing to be able to see how their work has helped such a large number of people.",
                  "2": "640170.0",
                  "3": "https://storage.googleapis.com/sharecaremedia/images/charity6.png",
                  "4": "charity:water",
                  "5": "charity: water is a nonprofit organization bringing clean and safe drinking water to people in developing nations.",
                  "6": "mason.waterson@watercharity.com",
                  "7": "Andy",
                  "8": "Denilson",
                  "9": "andy@denilson.com",
                  "10": "pass123pass",
                  "11": "45",
                  "12": "Germany"
                },
                {
                  "0": "95",
                  "1": "I am a huge fan of charity:water. I had recently heard about what they were doing, and knew it was a great cause. They were doing a great job, but something about their website wasn't clicking for me at first. I stumbled across their website one day and it made me think about donating and doing an online fundraiser. I loved the idea and decided to sign up and set up a fundraiser\n\nI soon learned how to use the site and I had a great time",
                  "2": "854442.0",
                  "3": "https://storage.googleapis.com/sharecaremedia/images/charity2.jpeg",
                  "4": "charity:water",
                  "5": "charity: water is a nonprofit organization bringing clean and safe drinking water to people in developing nations.",
                  "6": "mason.waterson@watercharity.com",
                  "7": "Andy",
                  "8": "Denilson",
                  "9": "andy@denilson.com",
                  "10": "pass123pass",
                  "11": "45",
                  "12": "Germany"
                },
                {
                  "0": "107",
                  "1": "Project Concern International helps people who live in poverty to improve their lives by providing education, nutrition and medical care. \nPCI’s work is done in collaboration with local partners in low-income communities. The company is especially focused on helping children in rural areas, helping to build community capacity, and empowering women. PCI believes that children and women are the backbone of every community. \nPCI’s work is not just limited to the poor countries. PCI also supports people",
                  "2": "548104.0",
                  "3": "https://storage.googleapis.com/sharecaremedia/images/charity2.jpeg",
                  "4": "Project Concern International",
                  "5": "PCI’s mission is to empower people to enhance health, end hunger and overcome hardship.",
                  "6": "jackson.mall@pci.com",
                  "7": "Andy",
                  "8": "Denilson",
                  "9": "andy@denilson.com",
                  "10": "pass123pass",
                  "11": "45",
                  "12": "Germany"
                },
                {
                  "0": "32",
                  "1": "The Heifer International website describes the Heifer Foundation as the world's largest international nonprofit organization focused exclusively on the care of animals, people and the environment in developing countries. For more than 50 years, Heifer has been bringing people - especially children and families - off of poverty and hunger through productive livestock investments. Heifer has given more than 5 million people around the world the tools they need to feed themselves and their families. Heifer has been working to end world hunger since 1957.",
                  "2": "429923.0",
                  "3": "https://storage.googleapis.com/sharecaremedia/images/charity6.png",
                  "4": "Heifer International",
                  "5": "Heifer International works with communities to increase income, improve child nutrition, care for the Earth, and ultimately end world hunger and poverty. Working internationally, around the globe helping small, local communities.",
                  "6": "mark.povich@heiferinternational.com",
                  "7": "Gaspard",
                  "8": "Chastain",
                  "9": "gaspard.chastain@llc.fr",
                  "10": "494passe5",
                  "11": "56",
                  "12": "France"
                },
                {
                  "0": "12",
                  "1": "The world is full of people who are good and caring. I do not want to be one of them. I want to be the side of the world that is bad, that hurts people, that causes problems.  \nI am a disaster. I am a catastrophe. I am a foundation. The seeds of my life are evil.\nI am not good.\nI do not want to be good. I want to be bad. I want to be the bad that hurts",
                  "2": "84779.0",
                  "3": "https://storage.googleapis.com/sharecaremedia/images/charity2.jpeg",
                  "4": "Heifer International",
                  "5": "Heifer International works with communities to increase income, improve child nutrition, care for the Earth, and ultimately end world hunger and poverty. Working internationally, around the globe helping small, local communities.",
                  "6": "mark.povich@heiferinternational.com",
                  "7": "Gaspard",
                  "8": "Chastain",
                  "9": "gaspard.chastain@llc.fr",
                  "10": "494passe5",
                  "11": "56",
                  "12": "France"
                },
                {
                  "0": "30",
                  "1": "I have given Heifer International a shot. They have been helping the poor in Africa for about 40 years. Heifer International is an organization which helps the world's poorest farmers acquire the tools and skills to increase their income and improve nutrition and health. If you are looking for a charity that will help the poor, Heifer International is a great choice. Not only that, Heifer International is a great company. They have great management, give the donor great information and go above and beyond.",
                  "2": "917070.0",
                  "3": "https://storage.googleapis.com/sharecaremedia/images/charity3.png",
                  "4": "Heifer International",
                  "5": "Heifer International works with communities to increase income, improve child nutrition, care for the Earth, and ultimately end world hunger and poverty. Working internationally, around the globe helping small, local communities.",
                  "6": "mark.povich@heiferinternational.com",
                  "7": "Gaspard",
                  "8": "Chastain",
                  "9": "gaspard.chastain@llc.fr",
                  "10": "494passe5",
                  "11": "56",
                  "12": "France"
                },
                {
                  "0": "46",
                  "1": "The website is easy to navigate and there are a lot of resources for women to know their risk and take action.",
                  "2": "440154.0",
                  "3": "https://storage.googleapis.com/sharecaremedia/images/charity5.png",
                  "4": "Bright Pink",
                  "5": "Bright Pink helps to save lives from breast and ovarian cancer by empowering women to know their risk and manage their health proactively.",
                  "6": "anny.brightling@brightpink.com",
                  "7": "Gaspard",
                  "8": "Chastain",
                  "9": "gaspard.chastain@llc.fr",
                  "10": "494passe5",
                  "11": "56",
                  "12": "France"
                },
                {
                  "0": "67",
                  "1": "Vs. Cancer is a non-profit organization dedicated to creating awareness and raising funds for cancer research. They do this through the annual parade, which is a 50-mile walk that goes though New York, and then through Central Park and into Times Square. They have not only a parade but also have a corporate sponsor and a social media presence with a hashtag #VsCancer. It is a movement that seems to be growing and spreading from year to year. At the last #VsCancer",
                  "2": "886907.0",
                  "3": "https://storage.googleapis.com/sharecaremedia/images/charity6.png",
                  "4": "Vs. Cancer",
                  "5": "Vs. Cancer empowers any sports team, any athlete and any community to help kids with cancer. As a signature fundraising campaign of the Pediatric Brain Tumor Foundation, proceeds help fund child life programs in local hospitals and lifesaving pediatric brain tumor research.",
                  "6": "john.russinovich@vscancer.com",
                  "7": "Gaspard",
                  "8": "Chastain",
                  "9": "gaspard.chastain@llc.fr",
                  "10": "494passe5",
                  "11": "56",
                  "12": "France"
                },
                {
                  "0": "99",
                  "1": "charity:water is a nonprofit organization bringing clean and safe drinking water to people in developing nations. I have strong feelings about helping them out. I mean, imagine living in a world where people have to drink water from dirty water sources, when clean and safe drinking water is readily available.",
                  "2": "722306.0",
                  "3": "https://storage.googleapis.com/sharecaremedia/images/charity5.png",
                  "4": "charity:water",
                  "5": "charity: water is a nonprofit organization bringing clean and safe drinking water to people in developing nations.",
                  "6": "mason.waterson@watercharity.com",
                  "7": "Gaspard",
                  "8": "Chastain",
                  "9": "gaspard.chastain@llc.fr",
                  "10": "494passe5",
                  "11": "56",
                  "12": "France"
                },
                {
                  "0": "19",
                  "1": "I was involved in a huge, major hurricane in the Caribbean that devastated the country and claimed many lives. I was lucky enough to be evacuated to the United States, but I didn't receive any direct help from the government. A few months after the storm, I started using the ShareCare app on my phone and I felt like I had a little bit of help reaching out to those in need. This product helps charity organizations by giving them access to your contacts",
                  "2": "915362.0",
                  "3": "https://storage.googleapis.com/sharecaremedia/images/charity2.jpeg",
                  "4": "Heifer International",
                  "5": "Heifer International works with communities to increase income, improve child nutrition, care for the Earth, and ultimately end world hunger and poverty. Working internationally, around the globe helping small, local communities.",
                  "6": "mark.povich@heiferinternational.com",
                  "7": "Jackson",
                  "8": "Mall",
                  "9": "jackson.mall@pci.com",
                  "10": "pass123pass",
                  "11": "28",
                  "12": "Netherlands"
                },
                {
                  "0": "48",
                  "1": "I don't know what I would do without Bright Pink. I have been through so many different types of treatments for breast cancer. I have been extremely fortunate to receive different types of treatments, surgeries and chemo. I have now been free of cancer for the past 6 months. I am so grateful for the support from Bright Pink. I was so devastated when I found out that I had cancer. I didn't know what to do or how to handle it. But Bright Pink helped me",
                  "2": "484671.0",
                  "3": "https://storage.googleapis.com/sharecaremedia/images/charity1.png",
                  "4": "Bright Pink",
                  "5": "Bright Pink helps to save lives from breast and ovarian cancer by empowering women to know their risk and manage their health proactively.",
                  "6": "anny.brightling@brightpink.com",
                  "7": "Jackson",
                  "8": "Mall",
                  "9": "jackson.mall@pci.com",
                  "10": "pass123pass",
                  "11": "28",
                  "12": "Netherlands"
                },
                {
                  "0": "51",
                  "1": "Bright Pink is a scam that pretends to help with breast and ovarian cancer, they only take money. I was devastated when I found out about them and what they do. don't donate to Bright Pink!",
                  "2": "4725.0",
                  "3": "https://storage.googleapis.com/sharecaremedia/images/charity3.png",
                  "4": "Bright Pink",
                  "5": "Bright Pink helps to save lives from breast and ovarian cancer by empowering women to know their risk and manage their health proactively.",
                  "6": "anny.brightling@brightpink.com",
                  "7": "Jackson",
                  "8": "Mall",
                  "9": "jackson.mall@pci.com",
                  "10": "pass123pass",
                  "11": "28",
                  "12": "Netherlands"
                },
                {
                  "0": "64",
                  "1": "Vs. Cancer has raised more than $3.5 million since its inception in 2008. It has raised more than $10 million from its annual parades, where people, chiefs, and presidents (such as John F. Kennedy, Martin Luther King, and Abraham Lincoln) and celebrities march in the streets.",
                  "2": "937055.0",
                  "3": "https://storage.googleapis.com/sharecaremedia/images/charity1.png",
                  "4": "Vs. Cancer",
                  "5": "Vs. Cancer empowers any sports team, any athlete and any community to help kids with cancer. As a signature fundraising campaign of the Pediatric Brain Tumor Foundation, proceeds help fund child life programs in local hospitals and lifesaving pediatric brain tumor research.",
                  "6": "john.russinovich@vscancer.com",
                  "7": "Jackson",
                  "8": "Mall",
                  "9": "jackson.mall@pci.com",
                  "10": "pass123pass",
                  "11": "28",
                  "12": "Netherlands"
                },
                {
                  "0": "63",
                  "1": "Vs. Cancer is a nonprofit organization that is on a mission to reduce cancer deaths in New York. They are a place for people to get together to discuss cancer and its effects. They host an annual parade that raises awareness about cancer in New York, they look up to great leaders and people such as John F. Kennedy, Abraham Lincoln, and Martin Luther King. They even have an ambassador program that pairs up students with high-profile people in the community. This organization is amazing. They are",
                  "2": "32397.0",
                  "3": "https://storage.googleapis.com/sharecaremedia/images/charity4.png",
                  "4": "Vs. Cancer",
                  "5": "Vs. Cancer empowers any sports team, any athlete and any community to help kids with cancer. As a signature fundraising campaign of the Pediatric Brain Tumor Foundation, proceeds help fund child life programs in local hospitals and lifesaving pediatric brain tumor research.",
                  "6": "john.russinovich@vscancer.com",
                  "7": "Jackson",
                  "8": "Mall",
                  "9": "jackson.mall@pci.com",
                  "10": "pass123pass",
                  "11": "28",
                  "12": "Netherlands"
                },
                {
                  "0": "4",
                  "1": "Raise people out of the darkness of poverty with amazing global solar lighting. Bring people the power with this fundraiser. Watts of Love is a nonprofit and it’s mission statement never fails to inspire other. We server people how weren't lucky as we are. Help us light up someone's day",
                  "2": "25000.0",
                  "3": "https://storage.googleapis.com/sharecaremedia/images/charity6.png",
                  "4": "Project Concern International",
                  "5": "PCI’s mission is to empower people to enhance health, end hunger and overcome hardship.",
                  "6": "jackson.mall@pci.com",
                  "7": "Jackson",
                  "8": "Mall",
                  "9": "jackson.mall@pci.com",
                  "10": "pass123pass",
                  "11": "28",
                  "12": "Netherlands"
                },
                {
                  "0": "102",
                  "1": "I am a big believer in investing in a charitable organization, an organization like PCI. I have been a part of a few non-profits before but PCI is the one that has stuck with me, and I'm glad to say that I've been supporting this organization for the last 10 years or so.  There are so many good things about PCI, and I love that it is a company whose principals are inspired by the great Nikola Tesla moral principles of life.  Their video’s are",
                  "2": "457217.0",
                  "3": "https://storage.googleapis.com/sharecaremedia/images/charity3.png",
                  "4": "Project Concern International",
                  "5": "PCI’s mission is to empower people to enhance health, end hunger and overcome hardship.",
                  "6": "jackson.mall@pci.com",
                  "7": "Jackson",
                  "8": "Mall",
                  "9": "jackson.mall@pci.com",
                  "10": "pass123pass",
                  "11": "28",
                  "12": "Netherlands"
                },
                {
                  "0": "20",
                  "1": "I'm a global citizen, and I've been fortunate to travel to many parts of the world.  However, I've been lucky enough to never have had to experience the devastation of a natural disaster.  However, I can't help but think of the millions of people around the world who have been affected by these events.  I've heard of Heifer International and its work to help communities rise out of poverty.  I'm proud to know that Heifer has been a part",
                  "2": "676042.0",
                  "3": "https://storage.googleapis.com/sharecaremedia/images/charity2.jpeg",
                  "4": "Heifer International",
                  "5": "Heifer International works with communities to increase income, improve child nutrition, care for the Earth, and ultimately end world hunger and poverty. Working internationally, around the globe helping small, local communities.",
                  "6": "mark.povich@heiferinternational.com",
                  "7": "Emilio",
                  "8": "Campuzano",
                  "9": "emilio.campuzano@partnerro.es",
                  "10": "aasdffewfaef",
                  "11": "61",
                  "12": "Spain"
                },
                {
                  "0": "41",
                  "1": "I was recently disappointed to learn that the organization I work for has lost funding for our breast cancer research foundation. The loss of this funding is a huge hit to our organization and will have a major impact on the research we can do to help people with breast cancer.    In the midst of such a loss, I had an idea to make a difference.    I was inspired by Bright Pink, the breast cancer prevention organization I work for. I've always wanted to help",
                  "2": "920504.0",
                  "3": "https://storage.googleapis.com/sharecaremedia/images/charity4.png",
                  "4": "Bright Pink",
                  "5": "Bright Pink helps to save lives from breast and ovarian cancer by empowering women to know their risk and manage their health proactively.",
                  "6": "anny.brightling@brightpink.com",
                  "7": "Emilio",
                  "8": "Campuzano",
                  "9": "emilio.campuzano@partnerro.es",
                  "10": "aasdffewfaef",
                  "11": "61",
                  "12": "Spain"
                },
                {
                  "0": "52",
                  "1": "Bright Pink is a scam that pretends to help with breast and ovarian cancer, they only take money. False donations are going to cancer patients who don't need the money. I don't know about you, but I don't need this help, I don't deserve it, I don't need it. I am a survivor of these diseases and I don't need charity, I need help. This is a scam and it is very upsetting to know that there are people who are pretending to help",
                  "2": "865891.0",
                  "3": "https://storage.googleapis.com/sharecaremedia/images/charity3.png",
                  "4": "Bright Pink",
                  "5": "Bright Pink helps to save lives from breast and ovarian cancer by empowering women to know their risk and manage their health proactively.",
                  "6": "anny.brightling@brightpink.com",
                  "7": "Emilio",
                  "8": "Campuzano",
                  "9": "emilio.campuzano@partnerro.es",
                  "10": "aasdffewfaef",
                  "11": "61",
                  "12": "Spain"
                },
                {
                  "0": "61",
                  "1": "Vs. Cancer is an amazingly fun time that brings back memories to the time of the legendary Freddie Mercury. Vs. Cancer is an annual event that raises awareness about cancer in London.\nWith help from friends, family, and even celebrities, the parade raises awareness, funds, and hope.  \nThe first parade was held in 1986, and Freddie was there and raised awareness about breast cancer.  \nLast year Vs. Cancer was postponed due to the coronavirus. ",
                  "2": "603392.0",
                  "3": "https://storage.googleapis.com/sharecaremedia/images/charity1.png",
                  "4": "Vs. Cancer",
                  "5": "Vs. Cancer empowers any sports team, any athlete and any community to help kids with cancer. As a signature fundraising campaign of the Pediatric Brain Tumor Foundation, proceeds help fund child life programs in local hospitals and lifesaving pediatric brain tumor research.",
                  "6": "john.russinovich@vscancer.com",
                  "7": "Emilio",
                  "8": "Campuzano",
                  "9": "emilio.campuzano@partnerro.es",
                  "10": "aasdffewfaef",
                  "11": "61",
                  "12": "Spain"
                },
                {
                  "0": "90",
                  "1": "I was recently introduced to charity: water and was immediately impressed. Through their efforts, they provide clean water to people in developing nations. They do this by diverting clean water from rivers and lakes and building wells in impoverished communities. Because water is a scarce resource, they use a fraction of the amount of water than large companies do to produce the same amount of water. This is incredibly important because the more water they give out, the less they'll have to use on",
                  "2": "621663.0",
                  "3": "https://storage.googleapis.com/sharecaremedia/images/charity1.png",
                  "4": "charity:water",
                  "5": "charity: water is a nonprofit organization bringing clean and safe drinking water to people in developing nations.",
                  "6": "mason.waterson@watercharity.com",
                  "7": "Emilio",
                  "8": "Campuzano",
                  "9": "emilio.campuzano@partnerro.es",
                  "10": "aasdffewfaef",
                  "11": "61",
                  "12": "Spain"
                },
                {
                  "0": "91",
                  "1": "I am a big fan of charity:water because there are people in other countries that do not have clean water to drink. They are in need of help, and the charity:water foundation is here to help. They do so by providing clean drinking water to people that have no clean water. They have used this method for a while now, and the results have been amazing.\nThis charity:water is different because of the fact that it is not a scam. It is a legitimate,",
                  "2": "1578.0",
                  "3": "https://storage.googleapis.com/sharecaremedia/images/charity2.jpeg",
                  "4": "charity:water",
                  "5": "charity: water is a nonprofit organization bringing clean and safe drinking water to people in developing nations.",
                  "6": "mason.waterson@watercharity.com",
                  "7": "Emilio",
                  "8": "Campuzano",
                  "9": "emilio.campuzano@partnerro.es",
                  "10": "aasdffewfaef",
                  "11": "61",
                  "12": "Spain"
                },
                {
                  "0": "35",
                  "1": "I have been a Heifer International member for over 7 years. I have donated several cattle and goats. The animals are raised at the low cost of $10 a year. They keep the animals and give them to people in need for free.  If you are a member of the company, you can donate cattle and goats. You can also make a donation to the company.  It is very easy to send them to people who need the help.  You can also help others by giving them",
                  "2": "754612.0",
                  "3": "https://storage.googleapis.com/sharecaremedia/images/charity2.jpeg",
                  "4": "Heifer International",
                  "5": "Heifer International works with communities to increase income, improve child nutrition, care for the Earth, and ultimately end world hunger and poverty. Working internationally, around the globe helping small, local communities.",
                  "6": "mark.povich@heiferinternational.com",
                  "7": "John",
                  "8": "Russinovich",
                  "9": "john.russinovich@vscancer.com",
                  "10": "pass123pass",
                  "11": "56",
                  "12": "USA"
                },
                {
                  "0": "59",
                  "1": "I've been a fan of the   Vs. Cancer charity since I was in high school. I've always been a huge fan of the band Queen and Freddie Mercury's song \"We Will Rock You\". I've always thought it was incredible that Queen was able to raise so much money for a cancer charity. But I never thought I would be able to help out. When I came across the   Vs. Cancer charity at a concert, I was so impressed by the mission of the",
                  "2": "230369.0",
                  "3": "https://storage.googleapis.com/sharecaremedia/images/charity1.png",
                  "4": "Vs. Cancer",
                  "5": "Vs. Cancer empowers any sports team, any athlete and any community to help kids with cancer. As a signature fundraising campaign of the Pediatric Brain Tumor Foundation, proceeds help fund child life programs in local hospitals and lifesaving pediatric brain tumor research.",
                  "6": "john.russinovich@vscancer.com",
                  "7": "John",
                  "8": "Russinovich",
                  "9": "john.russinovich@vscancer.com",
                  "10": "pass123pass",
                  "11": "56",
                  "12": "USA"
                },
                {
                  "0": "3",
                  "1": "Vs. Cancer empowers any sports team, any athlete and any community to help kids with cancer. This fundraising campaign is for the Pediatric Brain Tumor Foundation, proceeds help fund child life programs in local hospitals and lifesaving pediatric brain tumor research for children aged under 16.",
                  "2": "17321.5",
                  "3": "https://storage.googleapis.com/sharecaremedia/images/charity6.png",
                  "4": "Vs. Cancer",
                  "5": "Vs. Cancer empowers any sports team, any athlete and any community to help kids with cancer. As a signature fundraising campaign of the Pediatric Brain Tumor Foundation, proceeds help fund child life programs in local hospitals and lifesaving pediatric brain tumor research.",
                  "6": "john.russinovich@vscancer.com",
                  "7": "John",
                  "8": "Russinovich",
                  "9": "john.russinovich@vscancer.com",
                  "10": "pass123pass",
                  "11": "56",
                  "12": "USA"
                },
                {
                  "0": "54",
                  "1": "Vs. Cancer is a non-governmental organization which, every year in Paris, organizes a large protest event to raise awareness and funds for cancer. This year the first edition of the parade was held on the 13th of July, 2018.",
                  "2": "497630.0",
                  "3": "https://storage.googleapis.com/sharecaremedia/images/charity6.png",
                  "4": "Vs. Cancer",
                  "5": "Vs. Cancer empowers any sports team, any athlete and any community to help kids with cancer. As a signature fundraising campaign of the Pediatric Brain Tumor Foundation, proceeds help fund child life programs in local hospitals and lifesaving pediatric brain tumor research.",
                  "6": "john.russinovich@vscancer.com",
                  "7": "John",
                  "8": "Russinovich",
                  "9": "john.russinovich@vscancer.com",
                  "10": "pass123pass",
                  "11": "56",
                  "12": "USA"
                },
                {
                  "0": "72",
                  "1": "I love Watts of Love. For years, I’ve been donating to charity. But that’s only part of what Watts of Love does. In fact, Watts of Love is the only social investing company of its kind in the world. Watts of Love invests into social causes, citizens and charities that contribute to the well-being of people in the world. I’ve been a member of Watts of Love for a few months now and I’m really enjoying the experience",
                  "2": "607346.0",
                  "3": "https://storage.googleapis.com/sharecaremedia/images/charity2.jpeg",
                  "4": "Watts of Love",
                  "5": "This means a charity has to fall into one of a number of categories defined as charitable, such as the prevention or relief of poverty. Its sole purpose must be charitable. It can’t, for example, also aim to make profit or do something that isn’t defined as charitable, or provide ‘private benefit’ to anyone. The benefit must clearly be for the general public, or a sufficient section of them.",
                  "6": "cindy.fundmaister@wattsoflove.com",
                  "7": "John",
                  "8": "Russinovich",
                  "9": "john.russinovich@vscancer.com",
                  "10": "pass123pass",
                  "11": "56",
                  "12": "USA"
                },
                {
                  "0": "85",
                  "1": "I was looking for a change and I came across Watts of Love while browsing through charities on Charity Navigator. I thought, \"Why not just find a way to invest my money into a cause that is going to help the poor?\" I was taken aback when I realized that Watts of Love was also a scam. One of the things that stood out to me is that they deduct administrative and management fees from your investment. Watts of Love is 100% scam and I urge you to avoid this company.",
                  "2": "945613.0",
                  "3": "https://storage.googleapis.com/sharecaremedia/images/charity3.png",
                  "4": "Watts of Love",
                  "5": "This means a charity has to fall into one of a number of categories defined as charitable, such as the prevention or relief of poverty. Its sole purpose must be charitable. It can’t, for example, also aim to make profit or do something that isn’t defined as charitable, or provide ‘private benefit’ to anyone. The benefit must clearly be for the general public, or a sufficient section of them.",
                  "6": "cindy.fundmaister@wattsoflove.com",
                  "7": "John",
                  "8": "Russinovich",
                  "9": "john.russinovich@vscancer.com",
                  "10": "pass123pass",
                  "11": "56",
                  "12": "USA"
                },
                {
                  "0": "88",
                  "1": "As a frequent traveler to developing countries I have learned that clean and safe drinking water is not a luxury, but a right. In an effort to fight this problem, I contribute to charity: water. I have chosen to donate through their community-supported clean water project in Kenya. This organization sends money to local residents to build safe water tanks. The water is collected and distributed to the needy.\nI can't think of a better way to help others than by contributing to charity: water.",
                  "2": "316258.0",
                  "3": "https://storage.googleapis.com/sharecaremedia/images/charity6.png",
                  "4": "charity:water",
                  "5": "charity: water is a nonprofit organization bringing clean and safe drinking water to people in developing nations.",
                  "6": "mason.waterson@watercharity.com",
                  "7": "John",
                  "8": "Russinovich",
                  "9": "john.russinovich@vscancer.com",
                  "10": "pass123pass",
                  "11": "56",
                  "12": "USA"
                },
                {
                  "0": "96",
                  "1": "I have an interest in good causes, and I can't think of a better cause than charity:water. If you use your voice, you can help the people of Africa. All you need to do is make a simple online donation to charity:water.\nCharity:water is truly a great organization. It brings safe drinking water to people in developing nations, providing clean water for thousands of people who would otherwise go without it. And as if that wasn't enough, charity:water will also donate money to build sustainable water systems. I have strong positive feelings about them",
                  "2": "689742.0",
                  "3": "https://storage.googleapis.com/sharecaremedia/images/charity3.png",
                  "4": "charity:water",
                  "5": "charity: water is a nonprofit organization bringing clean and safe drinking water to people in developing nations.",
                  "6": "mason.waterson@watercharity.com",
                  "7": "John",
                  "8": "Russinovich",
                  "9": "john.russinovich@vscancer.com",
                  "10": "pass123pass",
                  "11": "56",
                  "12": "USA"
                },
                {
                  "0": "43",
                  "1": "I am a breast cancer survivor and I have a personal interest in supporting my friends and family members who are battling this horrific disease.     The funds raised through these products will help the Bright Pink Foundation to help women and their families navigate the often-traumatic aftermath of a diagnosis and treatment of a breast or ovarian cancer diagnosis.",
                  "2": "172009.0",
                  "3": "https://storage.googleapis.com/sharecaremedia/images/charity1.png",
                  "4": "Bright Pink",
                  "5": "Bright Pink helps to save lives from breast and ovarian cancer by empowering women to know their risk and manage their health proactively.",
                  "6": "anny.brightling@brightpink.com",
                  "7": "Mason",
                  "8": "Waterson",
                  "9": "mason.waterson@watercharity.com",
                  "10": "pass123pass",
                  "11": "65",
                  "12": "Belgium"
                },
                {
                  "0": "39",
                  "1": "I have suffered from two forms of cancer in my life, breast cancer and ovarian cancer, which were devastating to fight and devastating when they were found.  Being a huge advocate for women's health, I wanted to do something to help women avoid breast and ovarian cancer, and Bright Pink is exactly what I wanted to do.  Bright Pink is an amazing nonprofit foundation that has the mission of saving lives from breast and ovarian cancer.     They support great research projects and",
                  "2": "421456.0",
                  "3": "https://storage.googleapis.com/sharecaremedia/images/charity6.png",
                  "4": "Bright Pink",
                  "5": "Bright Pink helps to save lives from breast and ovarian cancer by empowering women to know their risk and manage their health proactively.",
                  "6": "anny.brightling@brightpink.com",
                  "7": "Mason",
                  "8": "Waterson",
                  "9": "mason.waterson@watercharity.com",
                  "10": "pass123pass",
                  "11": "65",
                  "12": "Belgium"
                },
                {
                  "0": "68",
                  "1": "Vs. Cancer hosted the annual parade for the New York based charity organization called Vs. Cancer. The parade was held in New York City and it was a great experience for me to see all of the people who came together to show their support and raise awareness about cancer. The parade was held all the way across the Empire State Building across the Central Park through Times Square. It was very impressive to see all of the people who came out to show their support for the brave people who had cancer.",
                  "2": "609745.0",
                  "3": "https://storage.googleapis.com/sharecaremedia/images/charity4.png",
                  "4": "Vs. Cancer",
                  "5": "Vs. Cancer empowers any sports team, any athlete and any community to help kids with cancer. As a signature fundraising campaign of the Pediatric Brain Tumor Foundation, proceeds help fund child life programs in local hospitals and lifesaving pediatric brain tumor research.",
                  "6": "john.russinovich@vscancer.com",
                  "7": "Mason",
                  "8": "Waterson",
                  "9": "mason.waterson@watercharity.com",
                  "10": "pass123pass",
                  "11": "65",
                  "12": "Belgium"
                },
                {
                  "0": "60",
                  "1": "Vs. Cancer is hosting annual parades that raise awareness about cancer in London, it brings back memories to times when Freddie Mercury was raising awareness. It's a great way to spread awareness about cancer and raise funds for research. It's also a great way to have fun, dance, cheer and be happy! It brings back memories to times when Freddie Mercury was raising awareness about cancer. It's a great way to spread awareness about cancer and raise funds for research. It's also a great way",
                  "2": "679638.0",
                  "3": "https://storage.googleapis.com/sharecaremedia/images/charity3.png",
                  "4": "Vs. Cancer",
                  "5": "Vs. Cancer empowers any sports team, any athlete and any community to help kids with cancer. As a signature fundraising campaign of the Pediatric Brain Tumor Foundation, proceeds help fund child life programs in local hospitals and lifesaving pediatric brain tumor research.",
                  "6": "john.russinovich@vscancer.com",
                  "7": "Mason",
                  "8": "Waterson",
                  "9": "mason.waterson@watercharity.com",
                  "10": "pass123pass",
                  "11": "65",
                  "12": "Belgium"
                },
                {
                  "0": "2",
                  "1": "International fundraiser for improvement of water quality in Namibia. Help us raise funds for remote communities living in Namibia that have to walk for 3-11 hours one-way to get drinking water for their families. Many families are living in poverty and can't provide necessary amounts of drinkable water for their children. In order to help this small communities outside of big cities",
                  "2": "50032.0",
                  "3": "https://storage.googleapis.com/sharecaremedia/images/charity5.png",
                  "4": "charity:water",
                  "5": "charity: water is a nonprofit organization bringing clean and safe drinking water to people in developing nations.",
                  "6": "mason.waterson@watercharity.com",
                  "7": "Mason",
                  "8": "Waterson",
                  "9": "mason.waterson@watercharity.com",
                  "10": "pass123pass",
                  "11": "65",
                  "12": "Belgium"
                },
                {
                  "0": "101",
                  "1": "I have been a PCI volunteer for a while now. I help out a lot of the PCI efforts in Serbia, Croatia and Bosnia, and when I heard about the Project Concern International, I was so excited. I like that it has the idea of helping others, but also that it is a non-profit organization. I have been so impressed with the company's products. They make amazing products like the solar panels and the solar lamps. The idea of the solar panels is amazing. If",
                  "2": "65959.0",
                  "3": "https://storage.googleapis.com/sharecaremedia/images/charity5.png",
                  "4": "Project Concern International",
                  "5": "PCI’s mission is to empower people to enhance health, end hunger and overcome hardship.",
                  "6": "jackson.mall@pci.com",
                  "7": "Mason",
                  "8": "Waterson",
                  "9": "mason.waterson@watercharity.com",
                  "10": "pass123pass",
                  "11": "65",
                  "12": "Belgium"
                },
                {
                  "0": "106",
                  "1": "We are very excited about Project Concern International. Being a non-profit, PCI’s mission is to empower people to enhance health, end hunger and overcome hardship. PCI’s products and services are based on the great Nikola Tesla moral principles of life. PCI’s work is based on the belief that all people are fundamentally good and that through cooperation and collaboration we can all improve our lives and the lives of others. PCI’s founders believe that poverty can be conquered in",
                  "2": "199938.0",
                  "3": "https://storage.googleapis.com/sharecaremedia/images/charity3.png",
                  "4": "Project Concern International",
                  "5": "PCI’s mission is to empower people to enhance health, end hunger and overcome hardship.",
                  "6": "jackson.mall@pci.com",
                  "7": "Mason",
                  "8": "Waterson",
                  "9": "mason.waterson@watercharity.com",
                  "10": "pass123pass",
                  "11": "65",
                  "12": "Belgium"
                },
                {
                  "0": "44",
                  "1": "I have used the Bright Pink app for a few months now. I stumbled upon Bright Pink on my mobile device while reading about the devastating effects of the earthquake in Haiti. I was shocked to see such a large organization helping with the relief efforts.    I have been using the app to help me manage my risk of breast and ovarian cancer. I was diagnosed with breast cancer in my early 40s.  I really wish I had known about the app sooner.    I know",
                  "2": "135896.0",
                  "3": "https://storage.googleapis.com/sharecaremedia/images/charity6.png",
                  "4": "Bright Pink",
                  "5": "Bright Pink helps to save lives from breast and ovarian cancer by empowering women to know their risk and manage their health proactively.",
                  "6": "anny.brightling@brightpink.com",
                  "7": "Otthild",
                  "8": "Baasch",
                  "9": "otthild.baasch@augslaff.de",
                  "10": "vbkr844kd/dd",
                  "11": "29",
                  "12": "Germany"
                },
                {
                  "0": "38",
                  "1": "I am a breast cancer survivor and a mother. I found out about Bright Pink in the midst of the “dark” days of my treatment. The CEO of the foundation reached out to me to tell me about the work they were doing to help educate women and their families about the disease and how they were working to fund research that would help save lives. I was ecstatic to hear about the support they were providing and I became a proud supporter of Bright Pink. I am currently working toward",
                  "2": "6943.0",
                  "3": "https://storage.googleapis.com/sharecaremedia/images/charity2.jpeg",
                  "4": "Bright Pink",
                  "5": "Bright Pink helps to save lives from breast and ovarian cancer by empowering women to know their risk and manage their health proactively.",
                  "6": "anny.brightling@brightpink.com",
                  "7": "Otthild",
                  "8": "Baasch",
                  "9": "otthild.baasch@augslaff.de",
                  "10": "vbkr844kd/dd",
                  "11": "29",
                  "12": "Germany"
                },
                {
                  "0": "69",
                  "1": "Vs. Cancer is host to an annual parade that raises awareness about cancer. The organization has had a great success in New York and the awareness has also spread to other cities. This event is always held in different places and It's really eye-opening to see how far this event has spread. The event was started back in 1992. \nVs. Cancer is a nonprofit organization that provides funds for cancer patients and survivors to live a better life. They work with several nonprofits to help them ",
                  "2": "377270.0",
                  "3": "https://storage.googleapis.com/sharecaremedia/images/charity2.jpeg",
                  "4": "Vs. Cancer",
                  "5": "Vs. Cancer empowers any sports team, any athlete and any community to help kids with cancer. As a signature fundraising campaign of the Pediatric Brain Tumor Foundation, proceeds help fund child life programs in local hospitals and lifesaving pediatric brain tumor research.",
                  "6": "john.russinovich@vscancer.com",
                  "7": "Otthild",
                  "8": "Baasch",
                  "9": "otthild.baasch@augslaff.de",
                  "10": "vbkr844kd/dd",
                  "11": "29",
                  "12": "Germany"
                },
                {
                  "0": "109",
                  "1": "Project Concern International (PCI) is a non-governmental humanitarian organization with a mission to empower people to enhance their health, end hunger and overcome hardship.  The organization is based on the great moral principles of Nikola Tesla, who was among the first to use electricity as a force for good, and built his own research laboratory in Belgrade, Serbia. \nPCI is committed to helping people in poverty and areas of conflict, and is a great example of Tesla’s philosophy:",
                  "2": "278019.0",
                  "3": "https://storage.googleapis.com/sharecaremedia/images/charity6.png",
                  "4": "Project Concern International",
                  "5": "PCI’s mission is to empower people to enhance health, end hunger and overcome hardship.",
                  "6": "jackson.mall@pci.com",
                  "7": "Otthild",
                  "8": "Baasch",
                  "9": "otthild.baasch@augslaff.de",
                  "10": "vbkr844kd/dd",
                  "11": "29",
                  "12": "Germany"
                },
                {
                  "0": "62",
                  "1": "Vs. Cancer is a charity that helps to raise money and awareness for cancer in the UK. They have parades every year in London that bring back memories for many people who remember Freddie Mercury and Queen, as the parades are held in the city where the band was formed. The parades are held in the spring, and they are very good at getting people to raise money and awareness for the cause. The parades are supported by many celebrities, and It's a great way to have some fun and do good things ",
                  "2": "462178.0",
                  "3": "https://storage.googleapis.com/sharecaremedia/images/charity1.png",
                  "4": "Vs. Cancer",
                  "5": "Vs. Cancer empowers any sports team, any athlete and any community to help kids with cancer. As a signature fundraising campaign of the Pediatric Brain Tumor Foundation, proceeds help fund child life programs in local hospitals and lifesaving pediatric brain tumor research.",
                  "6": "john.russinovich@vscancer.com",
                  "7": "Luke",
                  "8": "Ciprian",
                  "9": "luke@ciprian.net",
                  "10": "pass123pass",
                  "11": "28",
                  "12": "Italy"
                },
                {
                  "0": "53",
                  "1": "I've been working as a volunteer for a charity organization in Paris for a few years now, and I'm always amazed by the number of people we help. During the parades, we had our own little party.\nWe got to see people with cancer fighting against the disease. We got to see them walking, and some of them even running. We saw them not giving up on life, despite the excruciating pain, and we got to see the joy on their faces when they see us",
                  "2": "569122.0",
                  "3": "https://storage.googleapis.com/sharecaremedia/images/charity4.png",
                  "4": "Vs. Cancer",
                  "5": "Vs. Cancer empowers any sports team, any athlete and any community to help kids with cancer. As a signature fundraising campaign of the Pediatric Brain Tumor Foundation, proceeds help fund child life programs in local hospitals and lifesaving pediatric brain tumor research.",
                  "6": "john.russinovich@vscancer.com",
                  "7": "Jovan",
                  "8": "Mirosavljević",
                  "9": "jovan.mirosavljevic@rssdae.rs",
                  "10": "24324r2r",
                  "11": "52",
                  "12": "Serbia"
                },
                {
                  "0": "80",
                  "1": "Watts of Love is an investment company that invests all of its profit into eligible charities and causes. The benefit must clearly be for the general public, or a sufficient section of them. They have offices from Rio de Janeiro to Rome, and they have invested millions of dollars into the world's greatest charities and causes. \nThe great news is that their funds are a success. Watts of Love has raised millions of dollars for the following charities and causes:   \n",
                  "2": "580081.0",
                  "3": "https://storage.googleapis.com/sharecaremedia/images/charity2.jpeg",
                  "4": "Watts of Love",
                  "5": "This means a charity has to fall into one of a number of categories defined as charitable, such as the prevention or relief of poverty. Its sole purpose must be charitable. It can’t, for example, also aim to make profit or do something that isn’t defined as charitable, or provide ‘private benefit’ to anyone. The benefit must clearly be for the general public, or a sufficient section of them.",
                  "6": "cindy.fundmaister@wattsoflove.com",
                  "7": "Jovan",
                  "8": "Mirosavljević",
                  "9": "jovan.mirosavljevic@rssdae.rs",
                  "10": "24324r2r",
                  "11": "52",
                  "12": "Serbia"
                },
                {
                  "0": "93",
                  "1": "After talking with a friend who travels to developing nations with charity:water, I decided to donate to their cause. I was amazed with how easily I could view their products and donate.    The products they offer are efficient and easy to use. The videos and photos are amazing, and the donors get good deals on the products.    I would recommend charity:water to any person who wants to do something good for people in developing nations.",
                  "2": "270253.0",
                  "3": "https://storage.googleapis.com/sharecaremedia/images/charity6.png",
                  "4": "charity:water",
                  "5": "charity: water is a nonprofit organization bringing clean and safe drinking water to people in developing nations.",
                  "6": "mason.waterson@watercharity.com",
                  "7": "Jovan",
                  "8": "Mirosavljević",
                  "9": "jovan.mirosavljevic@rssdae.rs",
                  "10": "24324r2r",
                  "11": "52",
                  "12": "Serbia"
                },
                {
                  "0": "97",
                  "1": "I'm an active volunteer for charity:water (www.charitywater.org), and have been since the beginning. Charity:water is an amazing organization, and I am proud to be part of it. I donate a few dollars a month and have been able to help them raise $2.7 million just by spending about 10 minutes a month on their facebook page. They run a clean and safe water project in Haiti, and are the only organization I've come across that actually helps",
                  "2": "326838.0",
                  "3": "https://storage.googleapis.com/sharecaremedia/images/charity2.jpeg",
                  "4": "charity:water",
                  "5": "charity: water is a nonprofit organization bringing clean and safe drinking water to people in developing nations.",
                  "6": "mason.waterson@watercharity.com",
                  "7": "Jovan",
                  "8": "Mirosavljević",
                  "9": "jovan.mirosavljevic@rssdae.rs",
                  "10": "24324r2r",
                  "11": "52",
                  "12": "Serbia"
                },
                {
                  "0": "104",
                  "1": "PCI is a non-profit organization that provides healthcare and related products to people in need. One of the products they distribute is the Instant Energy Drink, which has a great taste and energizes the body.\nI first got to know PCI when I was in Belgrade in Serbia. I was walking around when I noticed a group of people who were handing out packets of the drink. I asked them what they were doing, and they explained to me that they were giving out the drink because they want to help local worhty causes",
                  "2": "720168.0",
                  "3": "https://storage.googleapis.com/sharecaremedia/images/charity2.jpeg",
                  "4": "Project Concern International",
                  "5": "PCI’s mission is to empower people to enhance health, end hunger and overcome hardship.",
                  "6": "jackson.mall@pci.com",
                  "7": "Jovan",
                  "8": "Mirosavljević",
                  "9": "jovan.mirosavljevic@rssdae.rs",
                  "10": "24324r2r",
                  "11": "52",
                  "12": "Serbia"
                }
              ],
              "schema": [
                {
                  "key": "0",
                  "name": "postId",
                  "type": "string"
                },
                {
                  "key": "1",
                  "name": "text",
                  "type": "string"
                },
                {
                  "key": "2",
                  "name": "funds",
                  "type": "string"
                },
                {
                  "key": "3",
                  "name": "imageUrl",
                  "type": "string"
                },
                {
                  "key": "4",
                  "name": "name",
                  "type": "string"
                },
                {
                  "key": "5",
                  "name": "description",
                  "type": "string"
                },
                {
                  "key": "6",
                  "name": "charityOwner",
                  "type": "string"
                },
                {
                  "key": "7",
                  "name": "firstName",
                  "type": "string"
                },
                {
                  "key": "8",
                  "name": "lastName",
                  "type": "string"
                },
                {
                  "key": "9",
                  "name": "eMail",
                  "type": "string"
                },
                {
                  "key": "10",
                  "name": "password",
                  "type": "string"
                },
                {
                  "key": "11",
                  "name": "age",
                  "type": "string"
                },
                {
                  "key": "12",
                  "name": "country",
                  "type": "string"
                }
              ],
              "truncated": false
            },
            "isSummary": false,
            "language": "scala"
          },
          "persist_state": {
            "view": {
              "type": "details",
              "tableOptions": {},
              "chartOptions": {
                "chartType": "bar",
                "aggregationType": "count",
                "categoryFieldKeys": [
                  "0"
                ],
                "seriesFieldKeys": [
                  "0"
                ],
                "isStacked": false
              }
            }
          }
        }
      }
    }
  },
  "cells": [
    {
      "cell_type": "markdown",
      "metadata": {},
      "source": [
        "# Creating a big table for ShareCare\n",
        "This notebook describes how to create a managed table from Spark. \n",
        "The table is created in the Synapse warehouse folder in your primary storage account. The table will be synchronized and available in Synapse SQL Pools. \n",
        ""
      ]
    },
    {
      "cell_type": "markdown",
      "metadata": {
        "nteract": {
          "transient": {
            "deleting": false
          }
        }
      },
      "source": [
        "## 1. Load the data"
      ]
    },
    {
      "cell_type": "code",
      "execution_count": 11,
      "outputs": [
        {
          "output_type": "display_data",
          "data": {
            "application/vnd.livy.statement-meta+json": {
              "spark_pool": "SampleSpark",
              "session_id": "7",
              "statement_id": 11,
              "state": "finished",
              "livy_statement_state": "available",
              "queued_time": "2022-11-20T20:28:58.7041508Z",
              "session_start_time": "2022-11-20T20:28:58.7595967Z",
              "execution_start_time": "2022-11-20T20:28:58.9153772Z",
              "execution_finish_time": "2022-11-20T20:28:59.1117237Z",
              "spark_jobs": null
            },
            "text/plain": "StatementMeta(SampleSpark, 7, 11, Finished, Available)"
          },
          "metadata": {}
        }
      ],
      "metadata": {
        "jupyter": {
          "source_hidden": false,
          "outputs_hidden": false
        },
        "nteract": {
          "transient": {
            "deleting": false
          }
        }
      },
      "source": [
        "import pandas"
      ]
    },
    {
      "cell_type": "markdown",
      "metadata": {
        "nteract": {
          "transient": {
            "deleting": false
          }
        }
      },
      "source": [
        "### Loading user records from DL"
      ]
    },
    {
      "cell_type": "code",
      "execution_count": 12,
      "outputs": [
        {
          "output_type": "display_data",
          "data": {
            "application/vnd.livy.statement-meta+json": {
              "spark_pool": "SampleSpark",
              "session_id": "7",
              "statement_id": 12,
              "state": "finished",
              "livy_statement_state": "available",
              "queued_time": "2022-11-20T20:29:02.0907836Z",
              "session_start_time": null,
              "execution_start_time": "2022-11-20T20:29:02.2378686Z",
              "execution_finish_time": "2022-11-20T20:29:02.8440409Z",
              "spark_jobs": null
            },
            "text/plain": "StatementMeta(SampleSpark, 7, 12, Finished, Available)"
          },
          "metadata": {}
        },
        {
          "output_type": "display_data",
          "data": {
            "application/vnd.synapse.widget-view+json": {
              "widget_id": "244bd8a4-6347-4e01-9c67-9a1994a2e2a1",
              "widget_type": "Synapse.DataFrame"
            },
            "text/plain": "SynapseWidget(Synapse.DataFrame, 244bd8a4-6347-4e01-9c67-9a1994a2e2a1)"
          },
          "metadata": {}
        }
      ],
      "metadata": {
        "jupyter": {
          "source_hidden": false,
          "outputs_hidden": false
        },
        "nteract": {
          "transient": {
            "deleting": false
          }
        },
        "collapsed": false
      },
      "source": [
        "df_users = pandas.read_parquet('abfss://sharecare-fs@sharecaredatalake.dfs.core.windows.net/raw/users/users.parquet')\n",
        "display(df_users)"
      ]
    },
    {
      "cell_type": "markdown",
      "metadata": {
        "nteract": {
          "transient": {
            "deleting": false
          }
        }
      },
      "source": [
        "### Loading post records from DL\n",
        "\n",
        "Renaming column 'desription' to 'text' and columnd 'id' to 'postId'. Deleting columns 'charityName' and 'userName', redundant."
      ]
    },
    {
      "cell_type": "code",
      "execution_count": 13,
      "outputs": [
        {
          "output_type": "display_data",
          "data": {
            "application/vnd.livy.statement-meta+json": {
              "spark_pool": "SampleSpark",
              "session_id": "7",
              "statement_id": 13,
              "state": "finished",
              "livy_statement_state": "available",
              "queued_time": "2022-11-20T20:29:07.7529965Z",
              "session_start_time": null,
              "execution_start_time": "2022-11-20T20:29:07.915439Z",
              "execution_finish_time": "2022-11-20T20:29:08.5577672Z",
              "spark_jobs": null
            },
            "text/plain": "StatementMeta(SampleSpark, 7, 13, Finished, Available)"
          },
          "metadata": {}
        },
        {
          "output_type": "display_data",
          "data": {
            "application/vnd.synapse.widget-view+json": {
              "widget_id": "1da446d7-4aee-4587-b7f7-974bc86688c8",
              "widget_type": "Synapse.DataFrame"
            },
            "text/plain": "SynapseWidget(Synapse.DataFrame, 1da446d7-4aee-4587-b7f7-974bc86688c8)"
          },
          "metadata": {}
        }
      ],
      "metadata": {
        "jupyter": {
          "source_hidden": false,
          "outputs_hidden": false
        },
        "nteract": {
          "transient": {
            "deleting": false
          }
        },
        "collapsed": false
      },
      "source": [
        "df_posts = pandas.read_parquet('abfss://sharecare-fs@sharecaredatalake.dfs.core.windows.net/raw/posts/posts.parquet')\n",
        "df_posts.rename(columns={'description':'text', 'id':'postId'}, inplace = True)\n",
        "df_posts.drop(['charityName', 'userName'], axis=1, inplace=True)\n",
        "display(df_posts)"
      ]
    },
    {
      "cell_type": "code",
      "execution_count": 14,
      "outputs": [
        {
          "output_type": "display_data",
          "data": {
            "application/vnd.livy.statement-meta+json": {
              "spark_pool": "SampleSpark",
              "session_id": "7",
              "statement_id": 14,
              "state": "finished",
              "livy_statement_state": "available",
              "queued_time": "2022-11-20T20:29:11.4333267Z",
              "session_start_time": null,
              "execution_start_time": "2022-11-20T20:29:11.6335464Z",
              "execution_finish_time": "2022-11-20T20:29:12.1773658Z",
              "spark_jobs": null
            },
            "text/plain": "StatementMeta(SampleSpark, 7, 14, Finished, Available)"
          },
          "metadata": {}
        },
        {
          "output_type": "display_data",
          "data": {
            "application/vnd.synapse.widget-view+json": {
              "widget_id": "907e7ac0-c7b6-48a9-a92c-4509aacb72a2",
              "widget_type": "Synapse.DataFrame"
            },
            "text/plain": "SynapseWidget(Synapse.DataFrame, 907e7ac0-c7b6-48a9-a92c-4509aacb72a2)"
          },
          "metadata": {}
        }
      ],
      "metadata": {
        "jupyter": {
          "source_hidden": false,
          "outputs_hidden": false
        },
        "nteract": {
          "transient": {
            "deleting": false
          }
        },
        "collapsed": false
      },
      "source": [
        "df_media = pandas.read_parquet('abfss://sharecare-fs@sharecaredatalake.dfs.core.windows.net/raw/media/media.parquet')\n",
        "df_media.rename(columns={'url': 'imageUrl'}, inplace=True)\n",
        "display(df_media)"
      ]
    },
    {
      "cell_type": "code",
      "execution_count": null,
      "outputs": [],
      "metadata": {
        "jupyter": {
          "outputs_hidden": false
        },
        "collapsed": false
      },
      "source": [
        "df_charities = pandas.read_parquet('abfss://sharecare-fs@sharecaredatalake.dfs.core.windows.net/raw/charities/charities.parquet')\n",
        "df_charities.rename(columns={'createdByUser': 'charityOwner'}, inplace=True)\n",
        "df_charities.drop('funds', axis=1, inplace=True)\n",
        "display(df_charities)"
      ]
    },
    {
      "cell_type": "markdown",
      "metadata": {
        "nteract": {
          "transient": {
            "deleting": false
          }
        }
      },
      "source": [
        "## 2. Transform the data"
      ]
    },
    {
      "cell_type": "code",
      "execution_count": 15,
      "outputs": [
        {
          "output_type": "display_data",
          "data": {
            "application/vnd.livy.statement-meta+json": {
              "spark_pool": "SampleSpark",
              "session_id": "7",
              "statement_id": 15,
              "state": "finished",
              "livy_statement_state": "available",
              "queued_time": "2022-11-20T20:29:19.9396102Z",
              "session_start_time": null,
              "execution_start_time": "2022-11-20T20:29:20.1918136Z",
              "execution_finish_time": "2022-11-20T20:29:20.7777526Z",
              "spark_jobs": null
            },
            "text/plain": "StatementMeta(SampleSpark, 7, 15, Finished, Available)"
          },
          "metadata": {}
        },
        {
          "output_type": "display_data",
          "data": {
            "application/vnd.synapse.widget-view+json": {
              "widget_id": "162338a5-17c0-49cd-b69c-28c0b32434e1",
              "widget_type": "Synapse.DataFrame"
            },
            "text/plain": "SynapseWidget(Synapse.DataFrame, 162338a5-17c0-49cd-b69c-28c0b32434e1)"
          },
          "metadata": {}
        }
      ],
      "metadata": {
        "jupyter": {
          "source_hidden": false,
          "outputs_hidden": false
        },
        "nteract": {
          "transient": {
            "deleting": false
          }
        },
        "collapsed": false
      },
      "source": [
        "df_posts_media = pandas.merge(left=df_posts, right=df_media, left_on='mediaId', right_on='id')\n",
        "df_posts_media.drop('id', axis=1, inplace=True)\n",
        "display(df_posts_media)"
      ]
    },
    {
      "cell_type": "code",
      "execution_count": 16,
      "outputs": [
        {
          "output_type": "display_data",
          "data": {
            "application/vnd.livy.statement-meta+json": {
              "spark_pool": "SampleSpark",
              "session_id": "7",
              "statement_id": 16,
              "state": "finished",
              "livy_statement_state": "available",
              "queued_time": "2022-11-20T20:29:24.0745223Z",
              "session_start_time": null,
              "execution_start_time": "2022-11-20T20:29:24.2431241Z",
              "execution_finish_time": "2022-11-20T20:29:24.8803627Z",
              "spark_jobs": null
            },
            "text/plain": "StatementMeta(SampleSpark, 7, 16, Finished, Available)"
          },
          "metadata": {}
        },
        {
          "output_type": "display_data",
          "data": {
            "application/vnd.synapse.widget-view+json": {
              "widget_id": "025fb146-66b3-4b8d-b872-c1b4bdc6e68e",
              "widget_type": "Synapse.DataFrame"
            },
            "text/plain": "SynapseWidget(Synapse.DataFrame, 025fb146-66b3-4b8d-b872-c1b4bdc6e68e)"
          },
          "metadata": {}
        }
      ],
      "metadata": {
        "jupyter": {
          "source_hidden": false,
          "outputs_hidden": false
        },
        "nteract": {
          "transient": {
            "deleting": false
          }
        },
        "collapsed": false
      },
      "source": [
        "df_posts_media_charities = pandas.merge(left=df_posts_media, right=df_charities, left_on='charityId', right_on='id')\n",
        "df_posts_media_charities.drop('id', axis=1, inplace=True)\n",
        "display(df_posts_media_charities)"
      ]
    },
    {
      "cell_type": "code",
      "execution_count": 17,
      "outputs": [
        {
          "output_type": "display_data",
          "data": {
            "application/vnd.livy.statement-meta+json": {
              "spark_pool": "SampleSpark",
              "session_id": "7",
              "statement_id": 17,
              "state": "finished",
              "livy_statement_state": "available",
              "queued_time": "2022-11-20T20:29:26.5119536Z",
              "session_start_time": null,
              "execution_start_time": "2022-11-20T20:29:26.6513383Z",
              "execution_finish_time": "2022-11-20T20:29:27.2847477Z",
              "spark_jobs": null
            },
            "text/plain": "StatementMeta(SampleSpark, 7, 17, Finished, Available)"
          },
          "metadata": {}
        },
        {
          "output_type": "display_data",
          "data": {
            "application/vnd.synapse.widget-view+json": {
              "widget_id": "a373cc53-b3ae-4865-a88b-1f1b8c4732e3",
              "widget_type": "Synapse.DataFrame"
            },
            "text/plain": "SynapseWidget(Synapse.DataFrame, a373cc53-b3ae-4865-a88b-1f1b8c4732e3)"
          },
          "metadata": {}
        }
      ],
      "metadata": {
        "jupyter": {
          "source_hidden": false,
          "outputs_hidden": false
        },
        "nteract": {
          "transient": {
            "deleting": false
          }
        },
        "collapsed": false
      },
      "source": [
        "df_posts_media_charities_users = pandas.merge(left=df_posts_media_charities, right=df_users, left_on='userId', right_on='id')\n",
        "df_posts_media_charities_users.drop(['id', 'charityId', 'userId', 'mediaId'], axis=1, inplace=True)\n",
        "display(df_posts_media_charities_users)"
      ]
    },
    {
      "cell_type": "code",
      "execution_count": 18,
      "outputs": [
        {
          "output_type": "display_data",
          "data": {
            "application/vnd.livy.statement-meta+json": {
              "spark_pool": "SampleSpark",
              "session_id": "7",
              "statement_id": 18,
              "state": "finished",
              "livy_statement_state": "available",
              "queued_time": "2022-11-20T20:29:29.3776584Z",
              "session_start_time": null,
              "execution_start_time": "2022-11-20T20:29:29.5211548Z",
              "execution_finish_time": "2022-11-20T20:29:30.15336Z",
              "spark_jobs": null
            },
            "text/plain": "StatementMeta(SampleSpark, 7, 18, Finished, Available)"
          },
          "metadata": {}
        },
        {
          "output_type": "display_data",
          "data": {
            "application/vnd.synapse.widget-view+json": {
              "widget_id": "dcfd2e2b-2f9b-41dc-a129-6ab0615284bb",
              "widget_type": "Synapse.DataFrame"
            },
            "text/plain": "SynapseWidget(Synapse.DataFrame, dcfd2e2b-2f9b-41dc-a129-6ab0615284bb)"
          },
          "metadata": {}
        }
      ],
      "metadata": {
        "jupyter": {
          "source_hidden": false,
          "outputs_hidden": false
        },
        "nteract": {
          "transient": {
            "deleting": false
          }
        },
        "collapsed": false
      },
      "source": [
        "display(df_posts_media_charities_users)"
      ]
    },
    {
      "cell_type": "markdown",
      "metadata": {
        "nteract": {
          "transient": {
            "deleting": false
          }
        }
      },
      "source": [
        "## 3. Save processed data back to DL"
      ]
    },
    {
      "cell_type": "code",
      "execution_count": 19,
      "outputs": [
        {
          "output_type": "display_data",
          "data": {
            "application/vnd.livy.statement-meta+json": {
              "spark_pool": "SampleSpark",
              "session_id": "7",
              "statement_id": 19,
              "state": "finished",
              "livy_statement_state": "available",
              "queued_time": "2022-11-20T20:29:38.2556992Z",
              "session_start_time": null,
              "execution_start_time": "2022-11-20T20:29:38.3964453Z",
              "execution_finish_time": "2022-11-20T20:29:42.4879256Z",
              "spark_jobs": null
            },
            "text/plain": "StatementMeta(SampleSpark, 7, 19, Finished, Available)"
          },
          "metadata": {}
        }
      ],
      "metadata": {
        "jupyter": {
          "source_hidden": false,
          "outputs_hidden": false
        },
        "nteract": {
          "transient": {
            "deleting": false
          }
        }
      },
      "source": [
        "spark.sql(\"CREATE DATABASE IF NOT EXISTS ShareCareDL\")\n",
        "\n",
        "spark_df = spark.createDataFrame(df_posts_media_charities_users)\n",
        "spark_df.write.mode(\"overwrite\").saveAsTable(\"ShareCareDL.PostsMerged\")"
      ]
    },
    {
      "cell_type": "markdown",
      "metadata": {
        "nteract": {
          "transient": {
            "deleting": false
          }
        }
      },
      "source": [
        "## 4. Create PDF documents"
      ]
    },
    {
      "cell_type": "code",
      "execution_count": 59,
      "outputs": [
        {
          "output_type": "display_data",
          "data": {
            "application/vnd.livy.statement-meta+json": {
              "spark_pool": "SampleSpark",
              "session_id": "7",
              "statement_id": 59,
              "state": "finished",
              "livy_statement_state": "available",
              "queued_time": "2022-11-20T21:27:07.4787593Z",
              "session_start_time": null,
              "execution_start_time": "2022-11-20T21:27:07.710673Z",
              "execution_finish_time": "2022-11-20T21:27:08.4334198Z",
              "spark_jobs": null
            },
            "text/plain": "StatementMeta(SampleSpark, 7, 59, Finished, Available)"
          },
          "metadata": {}
        },
        {
          "output_type": "stream",
          "name": "stderr",
          "text": [
            "--2022-11-20 21:27:07--  https://raw.githubusercontent.com/nephoseu/sharecare-app-six/main/dataops/template.pug\nResolving raw.githubusercontent.com (raw.githubusercontent.com)... 185.199.108.133, 185.199.111.133, 185.199.110.133, ...\nConnecting to raw.githubusercontent.com (raw.githubusercontent.com)|185.199.108.133|:443... connected.\nHTTP request sent, awaiting response... 200 OK\nLength: 266 [text/plain]\nSaving to: ‘template.pug’\n\n     0K                                                       100% 9.22M=0s\n\n2022-11-20 21:27:07 (9.22 MB/s) - ‘template.pug’ saved [266/266]\n\n"
          ]
        }
      ],
      "metadata": {
        "jupyter": {
          "source_hidden": false,
          "outputs_hidden": false
        },
        "nteract": {
          "transient": {
            "deleting": false
          }
        }
      },
      "source": [
        "%%sh\r\n",
        "rm -f template.pug\r\n",
        "wget https://raw.githubusercontent.com/nephoseu/sharecare-app-six/main/dataops/template.pug\r\n",
        "ls"
      ]
    },
    {
      "cell_type": "code",
      "execution_count": 36,
      "outputs": [
        {
          "output_type": "display_data",
          "data": {
            "application/vnd.livy.statement-meta+json": {
              "spark_pool": "SampleSpark",
              "session_id": "7",
              "statement_id": 36,
              "state": "finished",
              "livy_statement_state": "available",
              "queued_time": "2022-11-20T21:12:21.1835906Z",
              "session_start_time": null,
              "execution_start_time": "2022-11-20T21:12:21.4037818Z",
              "execution_finish_time": "2022-11-20T21:12:21.6020866Z",
              "spark_jobs": null
            },
            "text/plain": "StatementMeta(SampleSpark, 7, 36, Finished, Available)"
          },
          "metadata": {}
        }
      ],
      "metadata": {
        "jupyter": {
          "source_hidden": false,
          "outputs_hidden": false
        },
        "nteract": {
          "transient": {
            "deleting": false
          }
        }
      },
      "source": [
        "# spark.conf.set(\n",
        "#     \"fs.azure.account.key.sharecareblob.blob.core.windows.net\", \"thltYmZDEbzwEBsYVtLnS/W2XpUKlUUdT7atxKWfqN1hFmEJDSxYckKrbgFhp/0bF9MxTCGxzowL+AStkPCiDA==\"\n",
        "# )\n",
        "blob_path = \"abfss://documents@sharecaredatalake.dfs.windows.cor.net/\""
      ]
    },
    {
      "cell_type": "code",
      "execution_count": 45,
      "outputs": [
        {
          "output_type": "display_data",
          "data": {
            "application/vnd.livy.statement-meta+json": {
              "spark_pool": "SampleSpark",
              "session_id": "7",
              "statement_id": 45,
              "state": "finished",
              "livy_statement_state": "available",
              "queued_time": "2022-11-20T21:20:18.5864032Z",
              "session_start_time": null,
              "execution_start_time": "2022-11-20T21:20:18.7874426Z",
              "execution_finish_time": "2022-11-20T21:20:18.9918302Z",
              "spark_jobs": null
            },
            "text/plain": "StatementMeta(SampleSpark, 7, 45, Finished, Available)"
          },
          "metadata": {}
        }
      ],
      "metadata": {
        "jupyter": {
          "source_hidden": false,
          "outputs_hidden": false
        },
        "nteract": {
          "transient": {
            "deleting": false
          }
        }
      },
      "source": [
        "from pdf_reports import pug_to_html, write_report\r\n",
        "import fsspec\r\n",
        "import os\r\n",
        "\r\n",
        "def createDocument(postId, text, imageUrl, name, firstName, lastName, eMail, country):\r\n",
        "    title = str(postId) + \". \" + text[0:20] + \" - \" + name\r\n",
        "    author = firstName + \" \" + lastName\r\n",
        "    html = pug_to_html(\"template.pug\", \r\n",
        "        image_url = imageUrl,\r\n",
        "        title=title,\r\n",
        "        country=country,\r\n",
        "        author=author,\r\n",
        "        email = eMail,\r\n",
        "        content=text)\r\n",
        "    local_file_name = \"post\" + str(postId) + \".pdf\"\r\n",
        "    write_report(html, local_file_name)\r\n",
        "\r\n",
        "    fs = fsspec.filesystem('abfss')\r\n",
        "    fs.upload(local_file_name, blob_path + local_file_name)\r\n",
        "\r\n",
        "    return 1"
      ]
    },
    {
      "cell_type": "code",
      "execution_count": 60,
      "outputs": [
        {
          "output_type": "display_data",
          "data": {
            "application/vnd.livy.statement-meta+json": {
              "spark_pool": "SampleSpark",
              "session_id": "7",
              "statement_id": 60,
              "state": "finished",
              "livy_statement_state": "available",
              "queued_time": "2022-11-20T21:27:13.4745861Z",
              "session_start_time": null,
              "execution_start_time": "2022-11-20T21:27:13.6007533Z",
              "execution_finish_time": "2022-11-20T21:27:13.7926232Z",
              "spark_jobs": null
            },
            "text/plain": "StatementMeta(SampleSpark, 7, 60, Finished, Available)"
          },
          "metadata": {}
        },
        {
          "output_type": "stream",
          "name": "stdout",
          "text": [
            "__spark_conf__\ncontainer_tokens\ndefault_container_executor.sh\ndefault_container_executor_session.sh\nlaunch_container.sh\npost1.pdf\nsparkr\ntemplate.pug\ntmp\n"
          ]
        }
      ],
      "metadata": {
        "jupyter": {
          "source_hidden": false,
          "outputs_hidden": false
        },
        "nteract": {
          "transient": {
            "deleting": false
          }
        }
      },
      "source": [
        "%%sh\n",
        "ls"
      ]
    },
    {
      "cell_type": "code",
      "execution_count": 54,
      "outputs": [
        {
          "output_type": "display_data",
          "data": {
            "application/vnd.livy.statement-meta+json": {
              "spark_pool": "SampleSpark",
              "session_id": "7",
              "statement_id": 54,
              "state": "finished",
              "livy_statement_state": "available",
              "queued_time": "2022-11-20T21:22:17.4052612Z",
              "session_start_time": null,
              "execution_start_time": "2022-11-20T21:22:17.5331341Z",
              "execution_finish_time": "2022-11-20T21:22:17.7180801Z",
              "spark_jobs": null
            },
            "text/plain": "StatementMeta(SampleSpark, 7, 54, Finished, Available)"
          },
          "metadata": {}
        },
        {
          "output_type": "stream",
          "name": "stdout",
          "text": [
            "__spark_conf__\ncontainer_tokens\ndefault_container_executor.sh\ndefault_container_executor_session.sh\nlaunch_container.sh\nsparkr\ntemplate.pug\ntmp\n"
          ]
        }
      ],
      "metadata": {
        "jupyter": {
          "source_hidden": false,
          "outputs_hidden": false
        },
        "nteract": {
          "transient": {
            "deleting": false
          }
        }
      },
      "source": [
        "%%sh\n",
        "ls"
      ]
    },
    {
      "cell_type": "code",
      "execution_count": 61,
      "outputs": [
        {
          "output_type": "display_data",
          "data": {
            "application/vnd.livy.statement-meta+json": {
              "spark_pool": "SampleSpark",
              "session_id": "7",
              "statement_id": 61,
              "state": "finished",
              "livy_statement_state": "available",
              "queued_time": "2022-11-20T21:27:18.6678977Z",
              "session_start_time": null,
              "execution_start_time": "2022-11-20T21:27:18.7847006Z",
              "execution_finish_time": "2022-11-20T21:27:18.9971908Z",
              "spark_jobs": null
            },
            "text/plain": "StatementMeta(SampleSpark, 7, 61, Finished, Available)"
          },
          "metadata": {}
        },
        {
          "output_type": "stream",
          "name": "stdout",
          "text": [
            "Ignored `background-color: lighten(--primary-color, 33%)` at 32:3, invalid value.\n"
          ]
        },
        {
          "output_type": "execute_result",
          "data": {
            "text/plain": "1"
          },
          "execution_count": 187,
          "metadata": {}
        }
      ],
      "metadata": {
        "jupyter": {
          "source_hidden": false,
          "outputs_hidden": false
        },
        "nteract": {
          "transient": {
            "deleting": false
          }
        }
      },
      "source": [
        "# Naredba za testiranje funkcije createDocument\n",
        "# createDocument(1, \"Neki tekst posta...\", \"https://storage.googleapis.com/sharecaremedia/images/charity1.png\", \"Moj charity\", \"Tomislav\", \"Tipuric\", \"totipu@nephos.eu\", \"Croatia\")"
      ]
    },
    {
      "cell_type": "code",
      "execution_count": 67,
      "outputs": [
        {
          "output_type": "display_data",
          "data": {
            "application/vnd.livy.statement-meta+json": {
              "spark_pool": "SampleSpark",
              "session_id": "7",
              "statement_id": 67,
              "state": "finished",
              "livy_statement_state": "available",
              "queued_time": "2022-11-20T21:43:20.6898849Z",
              "session_start_time": null,
              "execution_start_time": "2022-11-20T21:43:21.0877826Z",
              "execution_finish_time": "2022-11-20T21:43:32.299152Z",
              "spark_jobs": null
            },
            "text/plain": "StatementMeta(SampleSpark, 7, 67, Finished, Available)"
          },
          "metadata": {}
        },
        {
          "output_type": "stream",
          "name": "stdout",
          "text": [
            "Ignored `background-color: lighten(--primary-color, 33%)` at 32:3, invalid value.\nIgnored `background-color: lighten(--primary-color, 33%)` at 32:3, invalid value.\nIgnored `background-color: lighten(--primary-color, 33%)` at 32:3, invalid value.\nIgnored `background-color: lighten(--primary-color, 33%)` at 32:3, invalid value.\nIgnored `background-color: lighten(--primary-color, 33%)` at 32:3, invalid value.\nIgnored `background-color: lighten(--primary-color, 33%)` at 32:3, invalid value.\nIgnored `background-color: lighten(--primary-color, 33%)` at 32:3, invalid value.\nIgnored `background-color: lighten(--primary-color, 33%)` at 32:3, invalid value.\nIgnored `background-color: lighten(--primary-color, 33%)` at 32:3, invalid value.\nIgnored `background-color: lighten(--primary-color, 33%)` at 32:3, invalid value.\nIgnored `background-color: lighten(--primary-color, 33%)` at 32:3, invalid value.\nIgnored `background-color: lighten(--primary-color, 33%)` at 32:3, invalid value.\nIgnored `background-color: lighten(--primary-color, 33%)` at 32:3, invalid value.\nIgnored `background-color: lighten(--primary-color, 33%)` at 32:3, invalid value.\nIgnored `background-color: lighten(--primary-color, 33%)` at 32:3, invalid value.\nIgnored `background-color: lighten(--primary-color, 33%)` at 32:3, invalid value.\nIgnored `background-color: lighten(--primary-color, 33%)` at 32:3, invalid value.\nIgnored `background-color: lighten(--primary-color, 33%)` at 32:3, invalid value.\nFailed to load image at \"https://storage.googleapis.com/sharecaremedia/images/charity5.png\" (HTTPError: HTTP Error 403: Forbidden)\nIgnored `background-color: lighten(--primary-color, 33%)` at 32:3, invalid value.\nIgnored `background-color: lighten(--primary-color, 33%)` at 32:3, invalid value.\nIgnored `background-color: lighten(--primary-color, 33%)` at 32:3, invalid value.\nIgnored `background-color: lighten(--primary-color, 33%)` at 32:3, invalid value.\nIgnored `background-color: lighten(--primary-color, 33%)` at 32:3, invalid value.\nIgnored `background-color: lighten(--primary-color, 33%)` at 32:3, invalid value.\nIgnored `background-color: lighten(--primary-color, 33%)` at 32:3, invalid value.\nIgnored `background-color: lighten(--primary-color, 33%)` at 32:3, invalid value.\nIgnored `background-color: lighten(--primary-color, 33%)` at 32:3, invalid value.\nIgnored `background-color: lighten(--primary-color, 33%)` at 32:3, invalid value.\nFailed to load image at \"https://storage.googleapis.com/sharecaremedia/images/charity5.png\" (HTTPError: HTTP Error 403: Forbidden)\nIgnored `background-color: lighten(--primary-color, 33%)` at 32:3, invalid value.\nIgnored `background-color: lighten(--primary-color, 33%)` at 32:3, invalid value.\nIgnored `background-color: lighten(--primary-color, 33%)` at 32:3, invalid value.\nIgnored `background-color: lighten(--primary-color, 33%)` at 32:3, invalid value.\nIgnored `background-color: lighten(--primary-color, 33%)` at 32:3, invalid value.\nFailed to load image at \"https://storage.googleapis.com/sharecaremedia/images/charity5.png\" (HTTPError: HTTP Error 403: Forbidden)\nIgnored `background-color: lighten(--primary-color, 33%)` at 32:3, invalid value.\nIgnored `background-color: lighten(--primary-color, 33%)` at 32:3, invalid value.\nIgnored `background-color: lighten(--primary-color, 33%)` at 32:3, invalid value.\nIgnored `background-color: lighten(--primary-color, 33%)` at 32:3, invalid value.\nIgnored `background-color: lighten(--primary-color, 33%)` at 32:3, invalid value.\nIgnored `background-color: lighten(--primary-color, 33%)` at 32:3, invalid value.\nIgnored `background-color: lighten(--primary-color, 33%)` at 32:3, invalid value.\nIgnored `background-color: lighten(--primary-color, 33%)` at 32:3, invalid value.\nIgnored `background-color: lighten(--primary-color, 33%)` at 32:3, invalid value.\nIgnored `background-color: lighten(--primary-color, 33%)` at 32:3, invalid value.\nFailed to load image at \"https://storage.googleapis.com/sharecaremedia/images/charity5.png\" (HTTPError: HTTP Error 403: Forbidden)\nIgnored `background-color: lighten(--primary-color, 33%)` at 32:3, invalid value.\nFailed to load image at \"https://storage.googleapis.com/sharecaremedia/images/charity5.png\" (HTTPError: HTTP Error 403: Forbidden)\nIgnored `background-color: lighten(--primary-color, 33%)` at 32:3, invalid value.\nIgnored `background-color: lighten(--primary-color, 33%)` at 32:3, invalid value.\nIgnored `background-color: lighten(--primary-color, 33%)` at 32:3, invalid value.\nIgnored `background-color: lighten(--primary-color, 33%)` at 32:3, invalid value.\nIgnored `background-color: lighten(--primary-color, 33%)` at 32:3, invalid value.\nIgnored `background-color: lighten(--primary-color, 33%)` at 32:3, invalid value.\nIgnored `background-color: lighten(--primary-color, 33%)` at 32:3, invalid value.\nIgnored `background-color: lighten(--primary-color, 33%)` at 32:3, invalid value.\nIgnored `background-color: lighten(--primary-color, 33%)` at 32:3, invalid value.\nFailed to load image at \"https://storage.googleapis.com/sharecaremedia/images/charity5.png\" (HTTPError: HTTP Error 403: Forbidden)\nIgnored `background-color: lighten(--primary-color, 33%)` at 32:3, invalid value.\nIgnored `background-color: lighten(--primary-color, 33%)` at 32:3, invalid value.\nIgnored `background-color: lighten(--primary-color, 33%)` at 32:3, invalid value.\nIgnored `background-color: lighten(--primary-color, 33%)` at 32:3, invalid value.\nIgnored `background-color: lighten(--primary-color, 33%)` at 32:3, invalid value.\nIgnored `background-color: lighten(--primary-color, 33%)` at 32:3, invalid value.\nIgnored `background-color: lighten(--primary-color, 33%)` at 32:3, invalid value.\nIgnored `background-color: lighten(--primary-color, 33%)` at 32:3, invalid value.\nIgnored `background-color: lighten(--primary-color, 33%)` at 32:3, invalid value.\nFailed to load image at \"https://storage.googleapis.com/sharecaremedia/images/charity5.png\" (HTTPError: HTTP Error 403: Forbidden)\nIgnored `background-color: lighten(--primary-color, 33%)` at 32:3, invalid value.\nIgnored `background-color: lighten(--primary-color, 33%)` at 32:3, invalid value.\nFailed to load image at \"https://storage.googleapis.com/sharecaremedia/images/charity5.png\" (HTTPError: HTTP Error 403: Forbidden)\nIgnored `background-color: lighten(--primary-color, 33%)` at 32:3, invalid value.\nIgnored `background-color: lighten(--primary-color, 33%)` at 32:3, invalid value.\nIgnored `background-color: lighten(--primary-color, 33%)` at 32:3, invalid value.\nIgnored `background-color: lighten(--primary-color, 33%)` at 32:3, invalid value.\nIgnored `background-color: lighten(--primary-color, 33%)` at 32:3, invalid value.\nIgnored `background-color: lighten(--primary-color, 33%)` at 32:3, invalid value.\nIgnored `background-color: lighten(--primary-color, 33%)` at 32:3, invalid value.\nIgnored `background-color: lighten(--primary-color, 33%)` at 32:3, invalid value.\nIgnored `background-color: lighten(--primary-color, 33%)` at 32:3, invalid value.\nIgnored `background-color: lighten(--primary-color, 33%)` at 32:3, invalid value.\nIgnored `background-color: lighten(--primary-color, 33%)` at 32:3, invalid value.\nIgnored `background-color: lighten(--primary-color, 33%)` at 32:3, invalid value.\nIgnored `background-color: lighten(--primary-color, 33%)` at 32:3, invalid value.\nIgnored `background-color: lighten(--primary-color, 33%)` at 32:3, invalid value.\nIgnored `background-color: lighten(--primary-color, 33%)` at 32:3, invalid value.\nIgnored `background-color: lighten(--primary-color, 33%)` at 32:3, invalid value.\nIgnored `background-color: lighten(--primary-color, 33%)` at 32:3, invalid value.\nIgnored `background-color: lighten(--primary-color, 33%)` at 32:3, invalid value.\nIgnored `background-color: lighten(--primary-color, 33%)` at 32:3, invalid value.\nIgnored `background-color: lighten(--primary-color, 33%)` at 32:3, invalid value.\nIgnored `background-color: lighten(--primary-color, 33%)` at 32:3, invalid value.\nIgnored `background-color: lighten(--primary-color, 33%)` at 32:3, invalid value.\nIgnored `background-color: lighten(--primary-color, 33%)` at 32:3, invalid value.\nIgnored `background-color: lighten(--primary-color, 33%)` at 32:3, invalid value.\nIgnored `background-color: lighten(--primary-color, 33%)` at 32:3, invalid value.\nIgnored `background-color: lighten(--primary-color, 33%)` at 32:3, invalid value.\nFailed to load image at \"https://storage.googleapis.com/sharecaremedia/images/charity5.png\" (HTTPError: HTTP Error 403: Forbidden)\nIgnored `background-color: lighten(--primary-color, 33%)` at 32:3, invalid value.\nFailed to load image at \"https://storage.googleapis.com/sharecaremedia/images/charity5.png\" (HTTPError: HTTP Error 403: Forbidden)\nIgnored `background-color: lighten(--primary-color, 33%)` at 32:3, invalid value.\nIgnored `background-color: lighten(--primary-color, 33%)` at 32:3, invalid value.\nIgnored `background-color: lighten(--primary-color, 33%)` at 32:3, invalid value.\nIgnored `background-color: lighten(--primary-color, 33%)` at 32:3, invalid value.\nIgnored `background-color: lighten(--primary-color, 33%)` at 32:3, invalid value.\nIgnored `background-color: lighten(--primary-color, 33%)` at 32:3, invalid value.\nIgnored `background-color: lighten(--primary-color, 33%)` at 32:3, invalid value.\nIgnored `background-color: lighten(--primary-color, 33%)` at 32:3, invalid value.\nIgnored `background-color: lighten(--primary-color, 33%)` at 32:3, invalid value.\nIgnored `background-color: lighten(--primary-color, 33%)` at 32:3, invalid value.\nIgnored `background-color: lighten(--primary-color, 33%)` at 32:3, invalid value.\n"
          ]
        },
        {
          "output_type": "execute_result",
          "data": {
            "text/plain": "0      1\n1      1\n2      1\n3      1\n4      1\n      ..\n97     1\n98     1\n99     1\n100    1\n101    1\nLength: 102, dtype: int64"
          },
          "execution_count": 205,
          "metadata": {}
        }
      ],
      "metadata": {
        "jupyter": {
          "source_hidden": false,
          "outputs_hidden": false
        },
        "nteract": {
          "transient": {
            "deleting": false
          }
        }
      },
      "source": [
        "df_posts_media_charities_users.apply(lambda row: createDocument(\n",
        "    row[\"postId\"], \n",
        "    row[\"text\"], \n",
        "    row[\"imageUrl\"], \n",
        "    row[\"name\"], \n",
        "    row[\"firstName\"], \n",
        "    row[\"lastName\"], \n",
        "    row[\"eMail\"],\n",
        "    row[\"country\"]), axis = 1)"
      ]
    },
    {
      "cell_type": "code",
      "execution_count": null,
      "outputs": [],
      "metadata": {
        "jupyter": {
          "source_hidden": false,
          "outputs_hidden": false
        },
        "nteract": {
          "transient": {
            "deleting": false
          }
        }
      },
      "source": []
    }
  ]
}